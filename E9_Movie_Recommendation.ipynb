{
 "cells": [
  {
   "cell_type": "markdown",
   "id": "sonic-society",
   "metadata": {},
   "source": [
    "# LMS Exploration | 9. Movie_Recommendation_System\n",
    "\n",
    "---\n",
    "\n",
    "**[Introduce]**  \n",
    "\n",
    "우리가 좋아할 만한 영화를 추천받아봅시다!\n",
    "\n",
    "MovieLens Dataset을 implicit 데이터로 간주하고 MF모델을 구성하고,\n",
    "implicit 패키지의 AlternatingLeastSquares 모델으로 학습해봅니다. \n",
    "\n",
    "\n",
    "**[Data]**  \n",
    "\n",
    "* 추천시스템의 MNIST,  [Movielens 데이터](https://files.grouplens.org/datasets/movielens/ml-1m-README.txt)\n",
    "* 유저가 영화에 대해 평점을 매긴 데이터 중 MovieLens 1M Dataset 사용합니다.\n",
    "\n",
    "\n",
    "    These files contain 1,000,209 anonymous ratings of approximately 3,900 movies   \n",
    "    made by 6,040 MovieLens users who joined MovieLens in 2000.  \n",
    "\n",
    "\n",
    "* 별점 데이터는 대표적 explicit 데이터이지만 implicit 데이터로 간주하고 테스트 해보겠습니다.\n",
    "* 별점을 시청횟수로 해석합니다.\n",
    "* 유저가 3점 미만으로 준 데이터는 선호하지 않는다고 가정하고 제외합니다.\n",
    "\n",
    "**[Preparation]**\n",
    "\n",
    "심볼릭 링크로 연결\n",
    "```python\n",
    "$ mkdir -p ~/aiffel/recommendata_iu/data/ml-1m\n",
    "$ ln -s ~/data/ml-1m/* ~/aiffel/recommendata_iu/data/ml-1m\n",
    "```"
   ]
  },
  {
   "cell_type": "markdown",
   "id": "italian-thirty",
   "metadata": {},
   "source": [
    "# 1. 데이터 준비와 전처리\n",
    "    1-0. 데이터 불러오기\n",
    "    1-1. 유저가 3점 미만으로 준 데이터는 선호하지 않는다고 가정하고 제외\n",
    "    1-2. 별점을 시청횟수로 해석\n",
    "    1-3. 영화 제목이 담긴 메타 데이터 읽어오기\n"
   ]
  },
  {
   "cell_type": "markdown",
   "id": "compatible-theorem",
   "metadata": {},
   "source": [
    "## 1-0. 데이터 불러오기\n",
    "사용자 아이디, 영화 아이디, 평점, 타임스탬프로 구성된 rating.dat 데이터를 확인해보겠습니다.  \n",
    "Movielens 데이터는 rating.dat 안에 이미 인덱싱까지 완료된 사용자-영화-평점 데이터가 깔끔히 정리되어 있습니다. ^__^  \n",
    "아래는 Movielens 데이터 구성에 대한 설명글입니다 "
   ]
  },
  {
   "cell_type": "markdown",
   "id": "changed-turning",
   "metadata": {},
   "source": [
    "    Ratings file Description\n",
    "    All ratings are contained in the file \"ratings.dat\" and are in the\n",
    "    following format:\n",
    "\n",
    "    UserID::MovieID::Rating::Timestamp\n",
    "\n",
    "    - UserIDs range between 1 and 6040 \n",
    "    - MovieIDs range between 1 and 3952\n",
    "    - Ratings are made on a 5-star scale (whole-star ratings only)\n",
    "    - Timestamp is represented in seconds since the epoch as returned by time(2)\n",
    "    - Each user has at least 20 ratings"
   ]
  },
  {
   "cell_type": "code",
   "execution_count": 1,
   "id": "artificial-period",
   "metadata": {},
   "outputs": [],
   "source": [
    "import os \n",
    "import pandas as pd"
   ]
  },
  {
   "cell_type": "code",
   "execution_count": 2,
   "id": "legal-expense",
   "metadata": {},
   "outputs": [
    {
     "data": {
      "text/html": [
       "<div>\n",
       "<style scoped>\n",
       "    .dataframe tbody tr th:only-of-type {\n",
       "        vertical-align: middle;\n",
       "    }\n",
       "\n",
       "    .dataframe tbody tr th {\n",
       "        vertical-align: top;\n",
       "    }\n",
       "\n",
       "    .dataframe thead th {\n",
       "        text-align: right;\n",
       "    }\n",
       "</style>\n",
       "<table border=\"1\" class=\"dataframe\">\n",
       "  <thead>\n",
       "    <tr style=\"text-align: right;\">\n",
       "      <th></th>\n",
       "      <th>user_id</th>\n",
       "      <th>movie_id</th>\n",
       "      <th>rating</th>\n",
       "      <th>timestamp</th>\n",
       "    </tr>\n",
       "  </thead>\n",
       "  <tbody>\n",
       "    <tr>\n",
       "      <th>0</th>\n",
       "      <td>1</td>\n",
       "      <td>1193</td>\n",
       "      <td>5</td>\n",
       "      <td>978300760</td>\n",
       "    </tr>\n",
       "    <tr>\n",
       "      <th>1</th>\n",
       "      <td>1</td>\n",
       "      <td>661</td>\n",
       "      <td>3</td>\n",
       "      <td>978302109</td>\n",
       "    </tr>\n",
       "    <tr>\n",
       "      <th>2</th>\n",
       "      <td>1</td>\n",
       "      <td>914</td>\n",
       "      <td>3</td>\n",
       "      <td>978301968</td>\n",
       "    </tr>\n",
       "    <tr>\n",
       "      <th>3</th>\n",
       "      <td>1</td>\n",
       "      <td>3408</td>\n",
       "      <td>4</td>\n",
       "      <td>978300275</td>\n",
       "    </tr>\n",
       "    <tr>\n",
       "      <th>4</th>\n",
       "      <td>1</td>\n",
       "      <td>2355</td>\n",
       "      <td>5</td>\n",
       "      <td>978824291</td>\n",
       "    </tr>\n",
       "  </tbody>\n",
       "</table>\n",
       "</div>"
      ],
      "text/plain": [
       "   user_id  movie_id  rating  timestamp\n",
       "0        1      1193       5  978300760\n",
       "1        1       661       3  978302109\n",
       "2        1       914       3  978301968\n",
       "3        1      3408       4  978300275\n",
       "4        1      2355       5  978824291"
      ]
     },
     "execution_count": 2,
     "metadata": {},
     "output_type": "execute_result"
    }
   ],
   "source": [
    "rating_file_path = os.getenv('HOME') + '/aiffel/recommendata_iu/data/ml-1m/ratings.dat'\n",
    "ratings_cols = ['user_id', 'movie_id', 'rating', 'timestamp']\n",
    "ratings = pd.read_csv(rating_file_path, sep='::', names=ratings_cols, engine='python', encoding=\"ISO-8859-1\")\n",
    "original_data_size = len(ratings)\n",
    "ratings.head()"
   ]
  },
  {
   "cell_type": "markdown",
   "id": "fantastic-prime",
   "metadata": {},
   "source": [
    "[pandas.read_csv](https://pandas.pydata.org/pandas-docs/stable/reference/api/pandas.read_csv.html)\n",
    "```\n",
    "engine : {‘c’, ‘python’}, optional\n",
    "Parser engine to use. The C engine is faster while the python engine is currently more feature-complete.\n",
    "\n",
    "encoding : str, optional\n",
    "Encoding to use for UTF when reading/writing (ex. ‘utf-8’). \n",
    "\n",
    "-UTF-8은 모든 유니 코드 문자를 나타낼 수있는 멀티 바이트 인코딩인 반면, ISO 8859-1은 첫 256 개의 유니 코드 문자를 나타낼 수있는 1 바이트 인코딩이다. 둘 다 ASCII를 정확히 같은 방식으로 인코딩한다.\n",
    "\n",
    "ISO-8859-1 : 8 비트. 256 개의 코드 포인트.\n",
    "UTF-8 : 8-32 비트 (1-4 바이트). 코드 포인트 1,112,064 개\n",
    "\n",
    "```"
   ]
  },
  {
   "cell_type": "markdown",
   "id": "aquatic-minister",
   "metadata": {},
   "source": [
    "## 1-1. 유저가 3점 미만으로 준 데이터는 선호하지 않는다고 가정하고 제외"
   ]
  },
  {
   "cell_type": "code",
   "execution_count": 3,
   "id": "purple-catch",
   "metadata": {},
   "outputs": [
    {
     "name": "stdout",
     "output_type": "stream",
     "text": [
      "original_data_size: 1000209, filtered_data_size: 836478\n",
      "Ratio of Remaining Data is 83.63%\n"
     ]
    }
   ],
   "source": [
    "#- 3점 이상만 남기기\n",
    "\n",
    "ratings = ratings[ratings['rating']>=3]\n",
    "filtered_data_size = len(ratings)\n",
    "\n",
    "print(f'original_data_size: {original_data_size}, filtered_data_size: {filtered_data_size}')\n",
    "print(f'Ratio of Remaining Data is {filtered_data_size / original_data_size:.2%}')"
   ]
  },
  {
   "cell_type": "markdown",
   "id": "capable-original",
   "metadata": {},
   "source": [
    "## 1-2. 별점을 시청횟수로 해석"
   ]
  },
  {
   "cell_type": "code",
   "execution_count": 4,
   "id": "broken-independence",
   "metadata": {},
   "outputs": [],
   "source": [
    "#- rating 컬럼의 이름을 count로 바꾸기\n",
    "\n",
    "ratings.rename(columns={'rating':'count'}, inplace=True)"
   ]
  },
  {
   "cell_type": "markdown",
   "id": "acting-article",
   "metadata": {},
   "source": [
    "## 1-3. 영화 제목이 담긴 메타 데이터 읽어오기\n",
    "메타데이터란 데이터에 관한 구조화된 데이터로, 다른 데이터를 설명해 주는 데이터입니다.  \n",
    "영화 아이디에 대응하는 영화제목과 장르로 구성된 Movies.dat 파일을 확인해보겠습니다.   \n",
    "아래는 Movies 데이터 구성에 대한 설명글입니다.   \n",
    "\n",
    "    MOVIES FILE DESCRIPTION\n",
    "    Movie information is in the file \"movies.dat\" and is in the following\n",
    "    format:\n",
    "\n",
    "    MovieID::Title::Genres\n",
    "\n",
    "    - Titles are identical to titles provided by the IMDB (including\n",
    "    year of release)\n",
    "    - Genres are pipe-separated and are selected from the following genres:\n",
    "\n",
    "        * Action\n",
    "        * Adventure\n",
    "        * Animation\n",
    "        * Children's\n",
    "        * Comedy\n",
    "        * Crime\n",
    "        * Documentary\n",
    "        * Drama\n",
    "        * Fantasy\n",
    "        * Film-Noir\n",
    "        * Horror\n",
    "        * Musical\n",
    "        * Mystery\n",
    "        * Romance\n",
    "        * Sci-Fi\n",
    "        * Thriller\n",
    "        * War\n",
    "        * Western\n",
    "\n",
    "    - Some MovieIDs do not correspond to a movie due to accidental duplicate\n",
    "    entries and/or test entries\n",
    "    - Movies are mostly entered by hand, so errors and inconsistencies may exist\n"
   ]
  },
  {
   "cell_type": "code",
   "execution_count": 5,
   "id": "weighted-botswana",
   "metadata": {},
   "outputs": [
    {
     "data": {
      "text/html": [
       "<div>\n",
       "<style scoped>\n",
       "    .dataframe tbody tr th:only-of-type {\n",
       "        vertical-align: middle;\n",
       "    }\n",
       "\n",
       "    .dataframe tbody tr th {\n",
       "        vertical-align: top;\n",
       "    }\n",
       "\n",
       "    .dataframe thead th {\n",
       "        text-align: right;\n",
       "    }\n",
       "</style>\n",
       "<table border=\"1\" class=\"dataframe\">\n",
       "  <thead>\n",
       "    <tr style=\"text-align: right;\">\n",
       "      <th></th>\n",
       "      <th>movie_id</th>\n",
       "      <th>title</th>\n",
       "      <th>genre</th>\n",
       "    </tr>\n",
       "  </thead>\n",
       "  <tbody>\n",
       "    <tr>\n",
       "      <th>0</th>\n",
       "      <td>1</td>\n",
       "      <td>Toy Story (1995)</td>\n",
       "      <td>Animation|Children's|Comedy</td>\n",
       "    </tr>\n",
       "    <tr>\n",
       "      <th>1</th>\n",
       "      <td>2</td>\n",
       "      <td>Jumanji (1995)</td>\n",
       "      <td>Adventure|Children's|Fantasy</td>\n",
       "    </tr>\n",
       "    <tr>\n",
       "      <th>2</th>\n",
       "      <td>3</td>\n",
       "      <td>Grumpier Old Men (1995)</td>\n",
       "      <td>Comedy|Romance</td>\n",
       "    </tr>\n",
       "    <tr>\n",
       "      <th>3</th>\n",
       "      <td>4</td>\n",
       "      <td>Waiting to Exhale (1995)</td>\n",
       "      <td>Comedy|Drama</td>\n",
       "    </tr>\n",
       "    <tr>\n",
       "      <th>4</th>\n",
       "      <td>5</td>\n",
       "      <td>Father of the Bride Part II (1995)</td>\n",
       "      <td>Comedy</td>\n",
       "    </tr>\n",
       "  </tbody>\n",
       "</table>\n",
       "</div>"
      ],
      "text/plain": [
       "   movie_id                               title                         genre\n",
       "0         1                    Toy Story (1995)   Animation|Children's|Comedy\n",
       "1         2                      Jumanji (1995)  Adventure|Children's|Fantasy\n",
       "2         3             Grumpier Old Men (1995)                Comedy|Romance\n",
       "3         4            Waiting to Exhale (1995)                  Comedy|Drama\n",
       "4         5  Father of the Bride Part II (1995)                        Comedy"
      ]
     },
     "execution_count": 5,
     "metadata": {},
     "output_type": "execute_result"
    }
   ],
   "source": [
    "movie_file_path = os.getenv('HOME') + '/aiffel/recommendata_iu/data/ml-1m/movies.dat'\n",
    "cols = ['movie_id', 'title', 'genre']\n",
    "movies = pd.read_csv(movie_file_path, sep='::', names=cols, engine='python', encoding='ISO-8859-1')\n",
    "movies.head()"
   ]
  },
  {
   "cell_type": "code",
   "execution_count": 40,
   "id": "bearing-hypothetical",
   "metadata": {},
   "outputs": [
    {
     "data": {
      "text/plain": [
       "(3883, 3)"
      ]
     },
     "execution_count": 40,
     "metadata": {},
     "output_type": "execute_result"
    }
   ],
   "source": [
    "movies.shape #- movies 데이터의 영화는 3883 개가 입니다. "
   ]
  },
  {
   "cell_type": "code",
   "execution_count": 6,
   "id": "congressional-benchmark",
   "metadata": {},
   "outputs": [
    {
     "data": {
      "text/plain": [
       "array([\"Animation|Children's|Comedy\", \"Adventure|Children's|Fantasy\",\n",
       "       'Comedy|Romance', 'Comedy|Drama', 'Comedy',\n",
       "       'Action|Crime|Thriller', \"Adventure|Children's\", 'Action',\n",
       "       'Action|Adventure|Thriller', 'Comedy|Drama|Romance'], dtype=object)"
      ]
     },
     "execution_count": 6,
     "metadata": {},
     "output_type": "execute_result"
    }
   ],
   "source": [
    "movies['genre'].unique()[:10]"
   ]
  },
  {
   "cell_type": "markdown",
   "id": "designed-setup",
   "metadata": {},
   "source": [
    "각 영화가 단순히 하나의 장르로 표현되는 것이 아니라 다양한 장르의 조합으로 표현됨을 알 수 있습니다.\n"
   ]
  },
  {
   "cell_type": "markdown",
   "id": "accepting-spain",
   "metadata": {},
   "source": [
    "# 2. MF(Matrix Factorization) 모델 구성\n",
    "\n",
    "- MF의 목적은 Matrix Complement 로, 아직 평가를 내리지 않은 user-item의 빈 공간을 Model-based Learning으로 채워넣는 것입니다.\n",
    "- 유저간, 혹은 아이템간 유사도를 이용하는 Memory-based 방법과 달리, MF는 행렬 인수 분해라는 수학적 방법으로 접근합니다. \n",
    "- 행렬은 두개의 하위 행렬로 분해가 가능하며, 다시 곱해져서 원래 행렬과 동일한 크기의 단일 행렬이 될 수 있다는 성질을 이용하는 것입니다.\n",
    "- 행렬 인수 분해의 원칙은 비평가 항목을 채우기 위함입니다.\n",
    " \n",
    " \n",
    "    1-0. 사전만들기\n",
    "    1-1. 내가 선호하는 영화 6가지를 골라 rating에 추가하기\n",
    "    1-2. CSR matrix 만들기\n",
    "    "
   ]
  },
  {
   "cell_type": "markdown",
   "id": "noted-sampling",
   "metadata": {},
   "source": [
    "참고 : [efficient way to create a dictionary of two pandas Dataframe columns](https://stackoverflow.com/questions/17426292/what-is-the-most-efficient-way-to-create-a-dictionary-of-two-pandas-dataframe-co)"
   ]
  },
  {
   "cell_type": "markdown",
   "id": "soviet-benefit",
   "metadata": {},
   "source": [
    "## 1-0. 사전만들기\n",
    "\n",
    "이후 데이터프레임으로 보기좋게 출력하기 위해서 미리 사전을 만들었습니다.\n",
    "\n",
    "    movie_id : genre  \n",
    "    movie_name : movie_id  \n",
    "    movie_id : movie_name  \n"
   ]
  },
  {
   "cell_type": "code",
   "execution_count": 7,
   "id": "cutting-maldives",
   "metadata": {},
   "outputs": [
    {
     "data": {
      "text/plain": [
       "1     Animation|Children's|Comedy\n",
       "2    Adventure|Children's|Fantasy\n",
       "3                  Comedy|Romance\n",
       "4                    Comedy|Drama\n",
       "5                          Comedy\n",
       "dtype: object"
      ]
     },
     "execution_count": 7,
     "metadata": {},
     "output_type": "execute_result"
    }
   ],
   "source": [
    "movie_id_to_genre = pd.Series(movies.genre.values, index=movies.movie_id).to_dict()\n",
    "movie_id_to_genre_show = pd.Series(movie_id_to_genre)\n",
    "movie_id_to_genre_show.head(5)"
   ]
  },
  {
   "cell_type": "code",
   "execution_count": 8,
   "id": "worst-apparel",
   "metadata": {},
   "outputs": [
    {
     "data": {
      "text/plain": [
       "Toy Story (1995)                      1\n",
       "Jumanji (1995)                        2\n",
       "Grumpier Old Men (1995)               3\n",
       "Waiting to Exhale (1995)              4\n",
       "Father of the Bride Part II (1995)    5\n",
       "dtype: int64"
      ]
     },
     "execution_count": 8,
     "metadata": {},
     "output_type": "execute_result"
    }
   ],
   "source": [
    "movie_to_idx = pd.Series(movies.movie_id.values,index=movies.title).to_dict()\n",
    "\n",
    "movie_id_idx_show = pd.Series(movie_to_idx)\n",
    "movie_id_idx_show.head(5)"
   ]
  },
  {
   "cell_type": "code",
   "execution_count": 9,
   "id": "british-environment",
   "metadata": {},
   "outputs": [
    {
     "data": {
      "text/plain": [
       "1                      Toy Story (1995)\n",
       "2                        Jumanji (1995)\n",
       "3               Grumpier Old Men (1995)\n",
       "4              Waiting to Exhale (1995)\n",
       "5    Father of the Bride Part II (1995)\n",
       "dtype: object"
      ]
     },
     "execution_count": 9,
     "metadata": {},
     "output_type": "execute_result"
    }
   ],
   "source": [
    "idx_to_movie = {v:k for k,v in movie_to_idx.items()}\n",
    "\n",
    "idx_to_movie_show = pd.Series(idx_to_movie)\n",
    "idx_to_movie_show.head(5)"
   ]
  },
  {
   "cell_type": "markdown",
   "id": "tough-personality",
   "metadata": {},
   "source": [
    "## 1-1. 내가 선호하는 영화 6가지를 골라 rating에 추가하기\n",
    "\n",
    "이후 학습된 모델에게 영화를 추천받기 위해서 '내가 좋아하는 영화' 정보를 추가해줍니다.  \n",
    "저는 아이디 '61616' 으로 해서 6가지 영화를 추가했습니다.   \n",
    "저는 어떤 영화를 추가했을까요??\n",
    "\n",
    "\n",
    "\n",
    "제가 좋아하는 영화를 추가하기 앞서서 데이터에 어떤 영화가 있는지, 사용자는 몇 명이나 있는지 확인해보겠습니다.  "
   ]
  },
  {
   "cell_type": "markdown",
   "id": "opening-tumor",
   "metadata": {},
   "source": [
    "* ratings에 있는 유니크한 영화 개수 : 3628\n",
    "* ratingS에 있는 유니크한 사용자 수 : 6039\n",
    "* 가장 인기 있는 영화 30개(인기순)"
   ]
  },
  {
   "cell_type": "code",
   "execution_count": 10,
   "id": "vertical-adobe",
   "metadata": {},
   "outputs": [
    {
     "name": "stdout",
     "output_type": "stream",
     "text": [
      "number of unique users: 6039, number of unique movies: 3628\n"
     ]
    }
   ],
   "source": [
    "#- ratings 데이터에서 유니크한 영화 개수 & 유니크한 사용자 수\n",
    "num_user = ratings['user_id'].nunique()\n",
    "num_movie = ratings['movie_id'].nunique()\n",
    "print(f'number of unique users: {num_user}, number of unique movies: {num_movie}')"
   ]
  },
  {
   "cell_type": "code",
   "execution_count": 11,
   "id": "about-balance",
   "metadata": {},
   "outputs": [
    {
     "data": {
      "text/plain": [
       "movie_id\n",
       "American Beauty (1999)                                   3211\n",
       "Star Wars: Episode IV - A New Hope (1977)                2910\n",
       "Star Wars: Episode V - The Empire Strikes Back (1980)    2885\n",
       "Star Wars: Episode VI - Return of the Jedi (1983)        2716\n",
       "Saving Private Ryan (1998)                               2561\n",
       "Terminator 2: Judgment Day (1991)                        2509\n",
       "Silence of the Lambs, The (1991)                         2498\n",
       "Raiders of the Lost Ark (1981)                           2473\n",
       "Back to the Future (1985)                                2460\n",
       "Matrix, The (1999)                                       2434\n",
       "Jurassic Park (1993)                                     2413\n",
       "Sixth Sense, The (1999)                                  2385\n",
       "Fargo (1996)                                             2371\n",
       "Braveheart (1995)                                        2314\n",
       "Men in Black (1997)                                      2297\n",
       "Schindler's List (1993)                                  2257\n",
       "Princess Bride, The (1987)                               2252\n",
       "Shakespeare in Love (1998)                               2213\n",
       "L.A. Confidential (1997)                                 2210\n",
       "Shawshank Redemption, The (1994)                         2194\n",
       "Godfather, The (1972)                                    2167\n",
       "Groundhog Day (1993)                                     2121\n",
       "E.T. the Extra-Terrestrial (1982)                        2102\n",
       "Being John Malkovich (1999)                              2066\n",
       "Ghostbusters (1984)                                      2051\n",
       "Pulp Fiction (1994)                                      2030\n",
       "Forrest Gump (1994)                                      2022\n",
       "Terminator, The (1984)                                   2019\n",
       "Toy Story (1995)                                         2000\n",
       "Fugitive, The (1993)                                     1941\n",
       "Name: user_id, dtype: int64"
      ]
     },
     "execution_count": 11,
     "metadata": {},
     "output_type": "execute_result"
    }
   ],
   "source": [
    "#- 가장 인기 있는 영화 30선 \n",
    "\n",
    "temp_movie_data = ratings['movie_id'].map(idx_to_movie.get)\n",
    "\n",
    "movie_name_ratings = ratings.copy() #- movie_id 를 영화 이름으로 변환할 df 생성\n",
    "movie_name_ratings['movie_id'] = temp_movie_data\n",
    "movie_count = movie_name_ratings.groupby('movie_id')['user_id'].count()\n",
    "movie_count.sort_values(ascending=False).head(30)"
   ]
  },
  {
   "cell_type": "markdown",
   "id": "lasting-oklahoma",
   "metadata": {},
   "source": [
    "### 내가 좋아하는 영화 추가하기\n",
    "\n",
    "예전에는 리틀포레스트 같은 잔잔한 drama 장르나 animation 을 좋아했는데,  \n",
    "지금은 좋아하는 장르가 확장됐습니다. SF, 액션도 재밌더라구요.  \n",
    "\n",
    "저는 공포만 아니면 좋아요 ^__^  "
   ]
  },
  {
   "cell_type": "code",
   "execution_count": 12,
   "id": "partial-treatment",
   "metadata": {},
   "outputs": [
    {
     "data": {
      "text/plain": [
       "[589, 2571, 1, 1580, 1704, 593]"
      ]
     },
     "execution_count": 12,
     "metadata": {},
     "output_type": "execute_result"
    }
   ],
   "source": [
    "my_favorite_movie = [ 'Terminator 2: Judgment Day (1991)', 'Matrix, The (1999)', 'Toy Story (1995)', 'Men in Black (1997)', 'Good Will Hunting (1997)','Silence of the Lambs, The (1991)']\n",
    "my_favorite = list(map(movie_to_idx.get, my_favorite_movie))\n",
    "my_favorite"
   ]
  },
  {
   "cell_type": "code",
   "execution_count": 13,
   "id": "disciplinary-resident",
   "metadata": {
    "scrolled": true
   },
   "outputs": [
    {
     "data": {
      "text/html": [
       "<div>\n",
       "<style scoped>\n",
       "    .dataframe tbody tr th:only-of-type {\n",
       "        vertical-align: middle;\n",
       "    }\n",
       "\n",
       "    .dataframe tbody tr th {\n",
       "        vertical-align: top;\n",
       "    }\n",
       "\n",
       "    .dataframe thead th {\n",
       "        text-align: right;\n",
       "    }\n",
       "</style>\n",
       "<table border=\"1\" class=\"dataframe\">\n",
       "  <thead>\n",
       "    <tr style=\"text-align: right;\">\n",
       "      <th></th>\n",
       "      <th>영화 이름</th>\n",
       "      <th>영화 장르</th>\n",
       "    </tr>\n",
       "    <tr>\n",
       "      <th>영화 ID</th>\n",
       "      <th></th>\n",
       "      <th></th>\n",
       "    </tr>\n",
       "  </thead>\n",
       "  <tbody>\n",
       "    <tr>\n",
       "      <th>589</th>\n",
       "      <td>Terminator 2: Judgment Day (1991)</td>\n",
       "      <td>Action|Sci-Fi|Thriller</td>\n",
       "    </tr>\n",
       "    <tr>\n",
       "      <th>2571</th>\n",
       "      <td>Matrix, The (1999)</td>\n",
       "      <td>Action|Sci-Fi|Thriller</td>\n",
       "    </tr>\n",
       "    <tr>\n",
       "      <th>1</th>\n",
       "      <td>Toy Story (1995)</td>\n",
       "      <td>Animation|Children's|Comedy</td>\n",
       "    </tr>\n",
       "    <tr>\n",
       "      <th>1580</th>\n",
       "      <td>Men in Black (1997)</td>\n",
       "      <td>Action|Adventure|Comedy|Sci-Fi</td>\n",
       "    </tr>\n",
       "    <tr>\n",
       "      <th>1704</th>\n",
       "      <td>Good Will Hunting (1997)</td>\n",
       "      <td>Drama</td>\n",
       "    </tr>\n",
       "    <tr>\n",
       "      <th>593</th>\n",
       "      <td>Silence of the Lambs, The (1991)</td>\n",
       "      <td>Drama|Thriller</td>\n",
       "    </tr>\n",
       "  </tbody>\n",
       "</table>\n",
       "</div>"
      ],
      "text/plain": [
       "                                   영화 이름                           영화 장르\n",
       "영화 ID                                                                   \n",
       "589    Terminator 2: Judgment Day (1991)          Action|Sci-Fi|Thriller\n",
       "2571                  Matrix, The (1999)          Action|Sci-Fi|Thriller\n",
       "1                       Toy Story (1995)     Animation|Children's|Comedy\n",
       "1580                 Men in Black (1997)  Action|Adventure|Comedy|Sci-Fi\n",
       "1704            Good Will Hunting (1997)                           Drama\n",
       "593     Silence of the Lambs, The (1991)                  Drama|Thriller"
      ]
     },
     "execution_count": 13,
     "metadata": {},
     "output_type": "execute_result"
    }
   ],
   "source": [
    "#- 제가 좋아하는 영화입니다.\n",
    "\n",
    "my_favorite_genre = map(movie_id_to_genre.get, my_favorite)\n",
    "my_favorite_movie_show = pd.DataFrame(data = list(zip(my_favorite, my_favorite_movie, my_favorite_genre )),columns = ['영화 ID','영화 이름', '영화 장르'])\n",
    "my_favorite_movie_show.set_index('영화 ID', inplace = True)\n",
    "my_favorite_movie_show"
   ]
  },
  {
   "cell_type": "markdown",
   "id": "different-capacity",
   "metadata": {},
   "source": [
    "유저 아이디를 '61616'로 설정했습니다.  \n",
    "ratings dataset 마지막에 잘 추가됐네요~  "
   ]
  },
  {
   "cell_type": "code",
   "execution_count": 14,
   "id": "weird-death",
   "metadata": {},
   "outputs": [],
   "source": [
    "my_movielist = pd.DataFrame({'user_id' : ['61616']*6, 'movie_id': my_favorite, 'count':[5]*6, 'timestamp':[0]*6 })"
   ]
  },
  {
   "cell_type": "code",
   "execution_count": 15,
   "id": "loving-hundred",
   "metadata": {},
   "outputs": [
    {
     "data": {
      "text/html": [
       "<div>\n",
       "<style scoped>\n",
       "    .dataframe tbody tr th:only-of-type {\n",
       "        vertical-align: middle;\n",
       "    }\n",
       "\n",
       "    .dataframe tbody tr th {\n",
       "        vertical-align: top;\n",
       "    }\n",
       "\n",
       "    .dataframe thead th {\n",
       "        text-align: right;\n",
       "    }\n",
       "</style>\n",
       "<table border=\"1\" class=\"dataframe\">\n",
       "  <thead>\n",
       "    <tr style=\"text-align: right;\">\n",
       "      <th></th>\n",
       "      <th>user_id</th>\n",
       "      <th>movie_id</th>\n",
       "      <th>count</th>\n",
       "      <th>timestamp</th>\n",
       "    </tr>\n",
       "  </thead>\n",
       "  <tbody>\n",
       "    <tr>\n",
       "      <th>1000205</th>\n",
       "      <td>6040</td>\n",
       "      <td>1094</td>\n",
       "      <td>5</td>\n",
       "      <td>956704887</td>\n",
       "    </tr>\n",
       "    <tr>\n",
       "      <th>1000206</th>\n",
       "      <td>6040</td>\n",
       "      <td>562</td>\n",
       "      <td>5</td>\n",
       "      <td>956704746</td>\n",
       "    </tr>\n",
       "    <tr>\n",
       "      <th>1000207</th>\n",
       "      <td>6040</td>\n",
       "      <td>1096</td>\n",
       "      <td>4</td>\n",
       "      <td>956715648</td>\n",
       "    </tr>\n",
       "    <tr>\n",
       "      <th>1000208</th>\n",
       "      <td>6040</td>\n",
       "      <td>1097</td>\n",
       "      <td>4</td>\n",
       "      <td>956715569</td>\n",
       "    </tr>\n",
       "    <tr>\n",
       "      <th>0</th>\n",
       "      <td>61616</td>\n",
       "      <td>589</td>\n",
       "      <td>5</td>\n",
       "      <td>0</td>\n",
       "    </tr>\n",
       "    <tr>\n",
       "      <th>1</th>\n",
       "      <td>61616</td>\n",
       "      <td>2571</td>\n",
       "      <td>5</td>\n",
       "      <td>0</td>\n",
       "    </tr>\n",
       "    <tr>\n",
       "      <th>2</th>\n",
       "      <td>61616</td>\n",
       "      <td>1</td>\n",
       "      <td>5</td>\n",
       "      <td>0</td>\n",
       "    </tr>\n",
       "    <tr>\n",
       "      <th>3</th>\n",
       "      <td>61616</td>\n",
       "      <td>1580</td>\n",
       "      <td>5</td>\n",
       "      <td>0</td>\n",
       "    </tr>\n",
       "    <tr>\n",
       "      <th>4</th>\n",
       "      <td>61616</td>\n",
       "      <td>1704</td>\n",
       "      <td>5</td>\n",
       "      <td>0</td>\n",
       "    </tr>\n",
       "    <tr>\n",
       "      <th>5</th>\n",
       "      <td>61616</td>\n",
       "      <td>593</td>\n",
       "      <td>5</td>\n",
       "      <td>0</td>\n",
       "    </tr>\n",
       "  </tbody>\n",
       "</table>\n",
       "</div>"
      ],
      "text/plain": [
       "        user_id  movie_id  count  timestamp\n",
       "1000205    6040      1094      5  956704887\n",
       "1000206    6040       562      5  956704746\n",
       "1000207    6040      1096      4  956715648\n",
       "1000208    6040      1097      4  956715569\n",
       "0         61616       589      5          0\n",
       "1         61616      2571      5          0\n",
       "2         61616         1      5          0\n",
       "3         61616      1580      5          0\n",
       "4         61616      1704      5          0\n",
       "5         61616       593      5          0"
      ]
     },
     "execution_count": 15,
     "metadata": {},
     "output_type": "execute_result"
    }
   ],
   "source": [
    "if not ratings.isin({'user_id':['61616']})['user_id'].any(): \n",
    "    ratings = ratings.append(my_movielist)\n",
    "ratings.tail(10)"
   ]
  },
  {
   "cell_type": "markdown",
   "id": "following-jesus",
   "metadata": {},
   "source": [
    "아래는 각 유저가 몇 개의 (Movies.dat에 있는) 영화를 봤는지 scatterplot으로 나타낸 것입니다.    \n",
    "전체 영화종류가 약 3900개 일때, 약6000명의 각 유저는 1000개 이하의 영화를 봤습니다.   \n",
    "유저 수 X 영화 수 로 구성된 평가행렬을 만들 경우 수많은 0 값이 생길 것을 예상할 수 있습니다.  "
   ]
  },
  {
   "cell_type": "code",
   "execution_count": 16,
   "id": "duplicate-gospel",
   "metadata": {},
   "outputs": [
    {
     "name": "stdout",
     "output_type": "stream",
     "text": [
      "<class 'pandas.core.series.Series'>\n"
     ]
    },
    {
     "data": {
      "text/plain": [
       "Text(59000, 500, 'my ID')"
      ]
     },
     "execution_count": 16,
     "metadata": {},
     "output_type": "execute_result"
    },
    {
     "data": {
      "image/png": "[encoded data removed]",
      "text/plain": [
       "<Figure size 432x288 with 1 Axes>"
      ]
     },
     "metadata": {
      "needs_background": "light"
     },
     "output_type": "display_data"
    }
   ],
   "source": [
    "import matplotlib.pyplot as plt\n",
    "freq = ratings['user_id'].value_counts()\n",
    "print(type(freq))\n",
    "plt.scatter(freq.index, freq.values)\n",
    "plt.annotate('my ID', xy=(61000, 50), xytext=(59000,500),\n",
    "            fontsize=14, ha='center',\n",
    "            arrowprops=dict(facecolor='black', width=1, shrink=0.1))"
   ]
  },
  {
   "cell_type": "markdown",
   "id": "relevant-invite",
   "metadata": {},
   "source": [
    "## 1-2. CSR matrix 만들기\n",
    "평가행렬에는 유저 수 X 영화 수 만큼의 정보가 포함되어, 유저가 본 적이 없는 영화에 대한 정보까지도 모두 행렬에 포함되어 계산되게 됩니다. 약 3900 개의 영화 중에서 유저가 본 적이 없는 영화는 절반 이상일 것이고, 수많은 값이 0 으로 채워질 것입니다. 이러한 행렬을 Sparse Matrix라고 합니다. \n",
    "\n",
    "이때 발생하는 메모리 낭비를 최소화하기 위해서는 유저가 시청한 영화에 대해서만 정보만을 저장하면서 전체 행렬 형태를 유추할 수 있는 데이터 구조가 필요합니다.\n",
    "\n",
    "**CSR Matrix**는 Sparse한 matrix에서 0이 아닌 유효한 데이터로 채워지는 데이터의 값과 좌표 정보만으로 구성하여 메모리 사용량을 최소화하면서도 Sparse한 matrix와 동일한 행렬을 표현할 수 있도록 하는 데이터 구조입니다.  \n"
   ]
  },
  {
   "cell_type": "code",
   "execution_count": 17,
   "id": "manufactured-staff",
   "metadata": {},
   "outputs": [
    {
     "data": {
      "text/plain": [
       "user_id      object\n",
       "movie_id      int64\n",
       "count         int64\n",
       "timestamp     int64\n",
       "dtype: object"
      ]
     },
     "execution_count": 17,
     "metadata": {},
     "output_type": "execute_result"
    }
   ],
   "source": [
    "ratings.dtypes"
   ]
  },
  {
   "cell_type": "markdown",
   "id": "charged-hierarchy",
   "metadata": {},
   "source": [
    "user_id 를 추가해주었기 때문에 user_id의 dtype이 object로 나타납니다. ratings의 dtype을 int64로 변환해줍니다."
   ]
  },
  {
   "cell_type": "code",
   "execution_count": 18,
   "id": "rocky-advertiser",
   "metadata": {},
   "outputs": [
    {
     "data": {
      "text/plain": [
       "user_id      int64\n",
       "movie_id     int64\n",
       "count        int64\n",
       "timestamp    int64\n",
       "dtype: object"
      ]
     },
     "execution_count": 18,
     "metadata": {},
     "output_type": "execute_result"
    }
   ],
   "source": [
    "ratings=ratings.astype('int64')\n",
    "ratings.dtypes"
   ]
  },
  {
   "cell_type": "code",
   "execution_count": 19,
   "id": "filled-patient",
   "metadata": {},
   "outputs": [
    {
     "name": "stdout",
     "output_type": "stream",
     "text": [
      "(836484, 4)\n",
      "6039 3628\n"
     ]
    }
   ],
   "source": [
    "print(ratings.shape)\n",
    "print(num_user, num_movie)"
   ]
  },
  {
   "cell_type": "code",
   "execution_count": 20,
   "id": "accomplished-topic",
   "metadata": {},
   "outputs": [
    {
     "data": {
      "text/plain": [
       "<61617x3953 sparse matrix of type '<class 'numpy.longlong'>'\n",
       "\twith 836484 stored elements in Compressed Sparse Row format>"
      ]
     },
     "execution_count": 20,
     "metadata": {},
     "output_type": "execute_result"
    }
   ],
   "source": [
    "from scipy.sparse import csr_matrix\n",
    "\n",
    "num_user = ratings['user_id'].nunique()\n",
    "num_movie = ratings['movie_id'].nunique()\n",
    "\n",
    "csr_data = csr_matrix((ratings['count'], (ratings.user_id, ratings.movie_id)))\n",
    "csr_data"
   ]
  },
  {
   "cell_type": "markdown",
   "id": "gentle-final",
   "metadata": {},
   "source": [
    "# 3. 학습 | Alternating Least Squares \n",
    "- implicit 패키지는 이전 스텝에서 설명한 암묵적(implicit) dataset을 사용하는 다양한 모델을 굉장히 빠르게 학습할 수 있는 패키지입니다.\n",
    "- 이 패키지에 구현된 als(AlternatingLeastSquares) 모델을 사용해보겠습니다.\n",
    "- **Matrix Factorization**에서 쪼개진 두 Feature Matrix를 한꺼번에 훈련하는 것은 잘 수렴하지 않기 때문에, 한쪽을 고정시키고 다른 쪽을 학습하는 방식을 번갈아 수행하는 AlternatingLeastSquares 방식이 효과적인 것으로 알려져 있습니다.\n",
    "\n",
    "---\n",
    "\n",
    "[AlternatingLeastSquares ](https://implicit.readthedocs.io/en/stable/als.html)\n",
    "```\n",
    "A Recommendation Model based of the algorithms described in the paper ‘Collaborative Filtering for Implicit Feedback Datasets’ with performance optimizations described in ‘Applications of the Conjugate Gradient Method for Implicit Feedback Collaborative Filtering.’  \n",
    "\n",
    "\n",
    "AlternatingLeastSquares 클래스의 __init__ 파라미터\n",
    "\n",
    "1. factors : 유저와 아이템의 벡터를 몇 차원으로 할 것인지 \n",
    "2. regularization : 과적합을 방지하기 위해 정규화 값을 얼마나 사용할 것인지 \n",
    "3. use_gpu : GPU를 사용할 것인지\n",
    "4. iterations : epochs와 같은 의미\n",
    "\n",
    "\n",
    "위 1,4를 늘릴수록 학습데이터를 잘 학습하게 되지만 과적합의 우려가 있습니다. \n",
    "```"
   ]
  },
  {
   "cell_type": "code",
   "execution_count": 21,
   "id": "subjective-kruger",
   "metadata": {},
   "outputs": [],
   "source": [
    "from implicit.als import AlternatingLeastSquares\n",
    "import numpy as np\n",
    "\n",
    "#- implicit 라이브러리에서 권장하는 부분\n",
    "os.environ['OPENBLAS_NUM_THREADS']='1'\n",
    "os.environ['KMP_DUPLICATE_LIB_OK']='True'\n",
    "os.environ['MKL_NUM_THREADS']='1'"
   ]
  },
  {
   "cell_type": "code",
   "execution_count": 22,
   "id": "utility-estimate",
   "metadata": {},
   "outputs": [],
   "source": [
    "#- Implicit AlternatingLeatSquares 모델의 선언\n",
    "\n",
    "als_model = AlternatingLeastSquares(factors=100, regularization=0.01, use_gpu=False, iterations=15, dtype=np.float32)"
   ]
  },
  {
   "cell_type": "code",
   "execution_count": 23,
   "id": "exact-employment",
   "metadata": {},
   "outputs": [
    {
     "data": {
      "text/plain": [
       "<3953x61617 sparse matrix of type '<class 'numpy.longlong'>'\n",
       "\twith 836484 stored elements in Compressed Sparse Column format>"
      ]
     },
     "execution_count": 23,
     "metadata": {},
     "output_type": "execute_result"
    }
   ],
   "source": [
    "#- als 모델은 input으로 item X user 꼴의 matrix를 받기 때문에 Transpose 해줘야 합니다.\n",
    "\n",
    "csr_data_transpose = csr_data.T\n",
    "csr_data_transpose"
   ]
  },
  {
   "cell_type": "code",
   "execution_count": 24,
   "id": "pediatric-nightmare",
   "metadata": {},
   "outputs": [
    {
     "data": {
      "application/vnd.jupyter.widget-view+json": {
       "model_id": "ad104e44a14f4bf7b8e3c830d294dc23",
       "version_major": 2,
       "version_minor": 0
      },
      "text/plain": [
       "  0%|          | 0/15 [00:00<?, ?it/s]"
      ]
     },
     "metadata": {},
     "output_type": "display_data"
    }
   ],
   "source": [
    "#- 모델 훈련\n",
    "\n",
    "als_model.fit(csr_data_transpose)"
   ]
  },
  {
   "cell_type": "markdown",
   "id": "formal-hungarian",
   "metadata": {},
   "source": [
    "# 4. 모델학습 후 추론\n",
    "\n",
    "훈련된 모델이 예측한 나의 선호도 알아봅시다. \n",
    "내가 선호하는 6가지 영화와 그 외의 영화의 선호도를 비교해보겠습니다.\n",
    "\n",
    "4-1. 유사한 영화 추출하기"
   ]
  },
  {
   "cell_type": "code",
   "execution_count": 25,
   "id": "controlled-herald",
   "metadata": {},
   "outputs": [
    {
     "data": {
      "text/html": [
       "<div>\n",
       "<style scoped>\n",
       "    .dataframe tbody tr th:only-of-type {\n",
       "        vertical-align: middle;\n",
       "    }\n",
       "\n",
       "    .dataframe tbody tr th {\n",
       "        vertical-align: top;\n",
       "    }\n",
       "\n",
       "    .dataframe thead th {\n",
       "        text-align: right;\n",
       "    }\n",
       "</style>\n",
       "<table border=\"1\" class=\"dataframe\">\n",
       "  <thead>\n",
       "    <tr style=\"text-align: right;\">\n",
       "      <th></th>\n",
       "      <th>영화 이름</th>\n",
       "      <th>영화 장르</th>\n",
       "      <th>선호도</th>\n",
       "    </tr>\n",
       "    <tr>\n",
       "      <th>영화 ID</th>\n",
       "      <th></th>\n",
       "      <th></th>\n",
       "      <th></th>\n",
       "    </tr>\n",
       "  </thead>\n",
       "  <tbody>\n",
       "    <tr>\n",
       "      <th>589</th>\n",
       "      <td>Terminator 2: Judgment Day (1991)</td>\n",
       "      <td>Action|Sci-Fi|Thriller</td>\n",
       "      <td>0.970676</td>\n",
       "    </tr>\n",
       "    <tr>\n",
       "      <th>1580</th>\n",
       "      <td>Men in Black (1997)</td>\n",
       "      <td>Action|Adventure|Comedy|Sci-Fi</td>\n",
       "      <td>0.808194</td>\n",
       "    </tr>\n",
       "    <tr>\n",
       "      <th>2571</th>\n",
       "      <td>Matrix, The (1999)</td>\n",
       "      <td>Action|Sci-Fi|Thriller</td>\n",
       "      <td>0.407001</td>\n",
       "    </tr>\n",
       "    <tr>\n",
       "      <th>593</th>\n",
       "      <td>Silence of the Lambs, The (1991)</td>\n",
       "      <td>Drama|Thriller</td>\n",
       "      <td>0.077962</td>\n",
       "    </tr>\n",
       "    <tr>\n",
       "      <th>1</th>\n",
       "      <td>Toy Story (1995)</td>\n",
       "      <td>Animation|Children's|Comedy</td>\n",
       "      <td>-0.009396</td>\n",
       "    </tr>\n",
       "    <tr>\n",
       "      <th>1704</th>\n",
       "      <td>Good Will Hunting (1997)</td>\n",
       "      <td>Drama</td>\n",
       "      <td>-0.139395</td>\n",
       "    </tr>\n",
       "  </tbody>\n",
       "</table>\n",
       "</div>"
      ],
      "text/plain": [
       "                                   영화 이름                           영화 장르  \\\n",
       "영화 ID                                                                      \n",
       "589    Terminator 2: Judgment Day (1991)          Action|Sci-Fi|Thriller   \n",
       "1580                 Men in Black (1997)  Action|Adventure|Comedy|Sci-Fi   \n",
       "2571                  Matrix, The (1999)          Action|Sci-Fi|Thriller   \n",
       "593     Silence of the Lambs, The (1991)                  Drama|Thriller   \n",
       "1                       Toy Story (1995)     Animation|Children's|Comedy   \n",
       "1704            Good Will Hunting (1997)                           Drama   \n",
       "\n",
       "            선호도  \n",
       "영화 ID            \n",
       "589    0.970676  \n",
       "1580   0.808194  \n",
       "2571   0.407001  \n",
       "593    0.077962  \n",
       "1     -0.009396  \n",
       "1704  -0.139395  "
      ]
     },
     "execution_count": 25,
     "metadata": {},
     "output_type": "execute_result"
    }
   ],
   "source": [
    "my_favorite_ratings = {}\n",
    "for movie_id in my_favorite:\n",
    "    name_vector, movie_vector = als_model.user_factors[616], als_model.item_factors[movie_id]\n",
    "    my_favorite_ratings[idx_to_movie[movie_id]] = np.dot(name_vector, movie_vector)\n",
    "\n",
    "my_favorite_movie_show['선호도']=my_favorite_ratings.values()\n",
    "my_favorite_movie_show.sort_values(by=[\"선호도\"], ascending=False, inplace=True) \n",
    "my_favorite_movie_show"
   ]
  },
  {
   "cell_type": "code",
   "execution_count": 26,
   "id": "rotary-southeast",
   "metadata": {},
   "outputs": [
    {
     "data": {
      "text/html": [
       "<div>\n",
       "<style scoped>\n",
       "    .dataframe tbody tr th:only-of-type {\n",
       "        vertical-align: middle;\n",
       "    }\n",
       "\n",
       "    .dataframe tbody tr th {\n",
       "        vertical-align: top;\n",
       "    }\n",
       "\n",
       "    .dataframe thead th {\n",
       "        text-align: right;\n",
       "    }\n",
       "</style>\n",
       "<table border=\"1\" class=\"dataframe\">\n",
       "  <thead>\n",
       "    <tr style=\"text-align: right;\">\n",
       "      <th></th>\n",
       "      <th>영화 이름</th>\n",
       "      <th>영화 장르</th>\n",
       "      <th>선호도</th>\n",
       "    </tr>\n",
       "    <tr>\n",
       "      <th>영화 ID</th>\n",
       "      <th></th>\n",
       "      <th></th>\n",
       "      <th></th>\n",
       "    </tr>\n",
       "  </thead>\n",
       "  <tbody>\n",
       "    <tr>\n",
       "      <th>110</th>\n",
       "      <td>Braveheart (1995)</td>\n",
       "      <td>Action|Drama|War</td>\n",
       "      <td>0.995268</td>\n",
       "    </tr>\n",
       "    <tr>\n",
       "      <th>480</th>\n",
       "      <td>Jurassic Park (1993)</td>\n",
       "      <td>Action|Adventure|Sci-Fi</td>\n",
       "      <td>0.976785</td>\n",
       "    </tr>\n",
       "    <tr>\n",
       "      <th>2858</th>\n",
       "      <td>American Beauty (1999)</td>\n",
       "      <td>Comedy|Drama</td>\n",
       "      <td>0.970412</td>\n",
       "    </tr>\n",
       "    <tr>\n",
       "      <th>260</th>\n",
       "      <td>Star Wars: Episode IV - A New Hope (1977)</td>\n",
       "      <td>Action|Adventure|Fantasy|Sci-Fi</td>\n",
       "      <td>0.894078</td>\n",
       "    </tr>\n",
       "    <tr>\n",
       "      <th>1196</th>\n",
       "      <td>Star Wars: Episode V - The Empire Strikes Back...</td>\n",
       "      <td>Action|Adventure|Drama|Sci-Fi|War</td>\n",
       "      <td>0.846114</td>\n",
       "    </tr>\n",
       "    <tr>\n",
       "      <th>1210</th>\n",
       "      <td>Star Wars: Episode VI - Return of the Jedi (1983)</td>\n",
       "      <td>Action|Adventure|Romance|Sci-Fi|War</td>\n",
       "      <td>0.707275</td>\n",
       "    </tr>\n",
       "    <tr>\n",
       "      <th>1198</th>\n",
       "      <td>Raiders of the Lost Ark (1981)</td>\n",
       "      <td>Action|Adventure</td>\n",
       "      <td>0.619077</td>\n",
       "    </tr>\n",
       "    <tr>\n",
       "      <th>1270</th>\n",
       "      <td>Back to the Future (1985)</td>\n",
       "      <td>Comedy|Sci-Fi</td>\n",
       "      <td>0.406946</td>\n",
       "    </tr>\n",
       "    <tr>\n",
       "      <th>1617</th>\n",
       "      <td>L.A. Confidential (1997)</td>\n",
       "      <td>Crime|Film-Noir|Mystery|Thriller</td>\n",
       "      <td>0.250041</td>\n",
       "    </tr>\n",
       "    <tr>\n",
       "      <th>608</th>\n",
       "      <td>Fargo (1996)</td>\n",
       "      <td>Crime|Drama|Thriller</td>\n",
       "      <td>0.246568</td>\n",
       "    </tr>\n",
       "    <tr>\n",
       "      <th>2028</th>\n",
       "      <td>Saving Private Ryan (1998)</td>\n",
       "      <td>Action|Drama|War</td>\n",
       "      <td>0.240980</td>\n",
       "    </tr>\n",
       "    <tr>\n",
       "      <th>527</th>\n",
       "      <td>Schindler's List (1993)</td>\n",
       "      <td>Drama|War</td>\n",
       "      <td>0.233273</td>\n",
       "    </tr>\n",
       "    <tr>\n",
       "      <th>1197</th>\n",
       "      <td>Princess Bride, The (1987)</td>\n",
       "      <td>Action|Adventure|Comedy|Romance</td>\n",
       "      <td>0.152839</td>\n",
       "    </tr>\n",
       "    <tr>\n",
       "      <th>2396</th>\n",
       "      <td>Shakespeare in Love (1998)</td>\n",
       "      <td>Comedy|Romance</td>\n",
       "      <td>-0.004239</td>\n",
       "    </tr>\n",
       "    <tr>\n",
       "      <th>318</th>\n",
       "      <td>Shawshank Redemption, The (1994)</td>\n",
       "      <td>Drama</td>\n",
       "      <td>-0.010852</td>\n",
       "    </tr>\n",
       "    <tr>\n",
       "      <th>2762</th>\n",
       "      <td>Sixth Sense, The (1999)</td>\n",
       "      <td>Thriller</td>\n",
       "      <td>-0.106285</td>\n",
       "    </tr>\n",
       "  </tbody>\n",
       "</table>\n",
       "</div>"
      ],
      "text/plain": [
       "                                                   영화 이름  \\\n",
       "영화 ID                                                      \n",
       "110                                    Braveheart (1995)   \n",
       "480                                 Jurassic Park (1993)   \n",
       "2858                              American Beauty (1999)   \n",
       "260            Star Wars: Episode IV - A New Hope (1977)   \n",
       "1196   Star Wars: Episode V - The Empire Strikes Back...   \n",
       "1210   Star Wars: Episode VI - Return of the Jedi (1983)   \n",
       "1198                      Raiders of the Lost Ark (1981)   \n",
       "1270                           Back to the Future (1985)   \n",
       "1617                            L.A. Confidential (1997)   \n",
       "608                                         Fargo (1996)   \n",
       "2028                          Saving Private Ryan (1998)   \n",
       "527                              Schindler's List (1993)   \n",
       "1197                          Princess Bride, The (1987)   \n",
       "2396                          Shakespeare in Love (1998)   \n",
       "318                     Shawshank Redemption, The (1994)   \n",
       "2762                             Sixth Sense, The (1999)   \n",
       "\n",
       "                                     영화 장르       선호도  \n",
       "영화 ID                                                 \n",
       "110                       Action|Drama|War  0.995268  \n",
       "480                Action|Adventure|Sci-Fi  0.976785  \n",
       "2858                          Comedy|Drama  0.970412  \n",
       "260        Action|Adventure|Fantasy|Sci-Fi  0.894078  \n",
       "1196     Action|Adventure|Drama|Sci-Fi|War  0.846114  \n",
       "1210   Action|Adventure|Romance|Sci-Fi|War  0.707275  \n",
       "1198                      Action|Adventure  0.619077  \n",
       "1270                         Comedy|Sci-Fi  0.406946  \n",
       "1617      Crime|Film-Noir|Mystery|Thriller  0.250041  \n",
       "608                   Crime|Drama|Thriller  0.246568  \n",
       "2028                      Action|Drama|War  0.240980  \n",
       "527                              Drama|War  0.233273  \n",
       "1197       Action|Adventure|Comedy|Romance  0.152839  \n",
       "2396                        Comedy|Romance -0.004239  \n",
       "318                                  Drama -0.010852  \n",
       "2762                              Thriller -0.106285  "
      ]
     },
     "execution_count": 26,
     "metadata": {},
     "output_type": "execute_result"
    }
   ],
   "source": [
    "popular_movie_count = movie_count.sort_values(ascending=False)[:20]\n",
    "popular_movie_count\n",
    "my_ratings = {}\n",
    "for movie in popular_movie_count.index:\n",
    "    if movie in my_favorite_movie:\n",
    "        continue\n",
    "    \n",
    "    name_vector, movie_vector = als_model.user_factors[616], als_model.item_factors[movie_to_idx[movie]]\n",
    "    my_ratings[movie] = np.dot(name_vector, movie_vector)\n",
    "\n",
    "popular_movie_name =list(my_ratings.keys())\n",
    "popular_movie_id = list(map(movie_to_idx.get, popular_movie_name))\n",
    "popular_movie_genre = list(map(movie_id_to_genre.get, popular_movie_id))\n",
    "popular_movie_rating = list(my_ratings.values())\n",
    "\n",
    "my_ratings = pd.DataFrame(data = zip(popular_movie_id,popular_movie_name,popular_movie_genre,popular_movie_rating), columns=['영화 ID','영화 이름','영화 장르','선호도'])\n",
    "my_ratings.set_index('영화 ID', inplace = True)\n",
    "my_ratings.sort_values(by=[\"선호도\"], ascending=False, inplace=True) \n",
    "my_ratings"
   ]
  },
  {
   "cell_type": "markdown",
   "id": "great-venue",
   "metadata": {},
   "source": [
    "## 4-1. 유사한 영화 추출하기\n",
    "제가 좋아하는 영화로 추가했던 Matrix, The (1999) 와 유사한 영화를 추출해보겠습니다.\n",
    "\n",
    "\n",
    "학습에 사용한 CSR data는 유저아이디, 영화아이디, 시청한 횟수(implicit으로 간주)정보만 들어있었는데,  \n",
    "비슷한 장르의 영화들을 잘 추출해내는 것을 보니 학습이 잘 된 것 같습니다   "
   ]
  },
  {
   "cell_type": "code",
   "execution_count": 41,
   "id": "collectible-fitness",
   "metadata": {},
   "outputs": [
    {
     "data": {
      "text/plain": [
       "[(2571, 1.0000001),\n",
       " (589, 0.7510936),\n",
       " (2916, 0.6367025),\n",
       " (457, 0.5822002),\n",
       " (1240, 0.55028695),\n",
       " (480, 0.5137215),\n",
       " (1527, 0.513271),\n",
       " (1573, 0.5016243),\n",
       " (1580, 0.48548228),\n",
       " (32, 0.4547885)]"
      ]
     },
     "execution_count": 41,
     "metadata": {},
     "output_type": "execute_result"
    }
   ],
   "source": [
    "similar_movie = als_model.similar_items(2571, N=10) #- 2571 Matrix, The (1999)\n",
    "similar_movie"
   ]
  },
  {
   "cell_type": "markdown",
   "id": "historic-attitude",
   "metadata": {},
   "source": [
    "아래 결과를 살펴보면, Matrix와 같은 장르인 Action|Sci-Fi|Thriller 에 속하는 영화들이 추출되었음을 알 수 있습니다.  "
   ]
  },
  {
   "cell_type": "code",
   "execution_count": 42,
   "id": "greatest-contribution",
   "metadata": {},
   "outputs": [
    {
     "data": {
      "text/html": [
       "<div>\n",
       "<style scoped>\n",
       "    .dataframe tbody tr th:only-of-type {\n",
       "        vertical-align: middle;\n",
       "    }\n",
       "\n",
       "    .dataframe tbody tr th {\n",
       "        vertical-align: top;\n",
       "    }\n",
       "\n",
       "    .dataframe thead th {\n",
       "        text-align: right;\n",
       "    }\n",
       "</style>\n",
       "<table border=\"1\" class=\"dataframe\">\n",
       "  <thead>\n",
       "    <tr style=\"text-align: right;\">\n",
       "      <th></th>\n",
       "      <th>similar_movie</th>\n",
       "      <th>genre</th>\n",
       "      <th>similarity</th>\n",
       "    </tr>\n",
       "    <tr>\n",
       "      <th>movie_id</th>\n",
       "      <th></th>\n",
       "      <th></th>\n",
       "      <th></th>\n",
       "    </tr>\n",
       "  </thead>\n",
       "  <tbody>\n",
       "    <tr>\n",
       "      <th>2571</th>\n",
       "      <td>Matrix, The (1999)</td>\n",
       "      <td>Action|Sci-Fi|Thriller</td>\n",
       "      <td>1.000000</td>\n",
       "    </tr>\n",
       "    <tr>\n",
       "      <th>589</th>\n",
       "      <td>Terminator 2: Judgment Day (1991)</td>\n",
       "      <td>Action|Sci-Fi|Thriller</td>\n",
       "      <td>0.751094</td>\n",
       "    </tr>\n",
       "    <tr>\n",
       "      <th>2916</th>\n",
       "      <td>Total Recall (1990)</td>\n",
       "      <td>Action|Adventure|Sci-Fi|Thriller</td>\n",
       "      <td>0.636702</td>\n",
       "    </tr>\n",
       "    <tr>\n",
       "      <th>457</th>\n",
       "      <td>Fugitive, The (1993)</td>\n",
       "      <td>Action|Thriller</td>\n",
       "      <td>0.582200</td>\n",
       "    </tr>\n",
       "    <tr>\n",
       "      <th>1240</th>\n",
       "      <td>Terminator, The (1984)</td>\n",
       "      <td>Action|Sci-Fi|Thriller</td>\n",
       "      <td>0.550287</td>\n",
       "    </tr>\n",
       "    <tr>\n",
       "      <th>480</th>\n",
       "      <td>Jurassic Park (1993)</td>\n",
       "      <td>Action|Adventure|Sci-Fi</td>\n",
       "      <td>0.513722</td>\n",
       "    </tr>\n",
       "    <tr>\n",
       "      <th>1527</th>\n",
       "      <td>Fifth Element, The (1997)</td>\n",
       "      <td>Action|Sci-Fi</td>\n",
       "      <td>0.513271</td>\n",
       "    </tr>\n",
       "    <tr>\n",
       "      <th>1573</th>\n",
       "      <td>Face/Off (1997)</td>\n",
       "      <td>Action|Sci-Fi|Thriller</td>\n",
       "      <td>0.501624</td>\n",
       "    </tr>\n",
       "    <tr>\n",
       "      <th>1580</th>\n",
       "      <td>Men in Black (1997)</td>\n",
       "      <td>Action|Adventure|Comedy|Sci-Fi</td>\n",
       "      <td>0.485482</td>\n",
       "    </tr>\n",
       "    <tr>\n",
       "      <th>32</th>\n",
       "      <td>Twelve Monkeys (1995)</td>\n",
       "      <td>Drama|Sci-Fi</td>\n",
       "      <td>0.454789</td>\n",
       "    </tr>\n",
       "  </tbody>\n",
       "</table>\n",
       "</div>"
      ],
      "text/plain": [
       "                              similar_movie                             genre  \\\n",
       "movie_id                                                                        \n",
       "2571                     Matrix, The (1999)            Action|Sci-Fi|Thriller   \n",
       "589       Terminator 2: Judgment Day (1991)            Action|Sci-Fi|Thriller   \n",
       "2916                    Total Recall (1990)  Action|Adventure|Sci-Fi|Thriller   \n",
       "457                    Fugitive, The (1993)                   Action|Thriller   \n",
       "1240                 Terminator, The (1984)            Action|Sci-Fi|Thriller   \n",
       "480                    Jurassic Park (1993)           Action|Adventure|Sci-Fi   \n",
       "1527              Fifth Element, The (1997)                     Action|Sci-Fi   \n",
       "1573                        Face/Off (1997)            Action|Sci-Fi|Thriller   \n",
       "1580                    Men in Black (1997)    Action|Adventure|Comedy|Sci-Fi   \n",
       "32                    Twelve Monkeys (1995)                      Drama|Sci-Fi   \n",
       "\n",
       "          similarity  \n",
       "movie_id              \n",
       "2571        1.000000  \n",
       "589         0.751094  \n",
       "2916        0.636702  \n",
       "457         0.582200  \n",
       "1240        0.550287  \n",
       "480         0.513722  \n",
       "1527        0.513271  \n",
       "1573        0.501624  \n",
       "1580        0.485482  \n",
       "32          0.454789  "
      ]
     },
     "execution_count": 42,
     "metadata": {},
     "output_type": "execute_result"
    }
   ],
   "source": [
    "similar_movie_name = [idx_to_movie[i[0]] for i in similar_movie]\n",
    "similar_movie_id = [i[0] for i in similar_movie]\n",
    "similar_movie_genre = [movie_id_to_genre[i[0]] for i in similar_movie]\n",
    "similarity = [i[1] for i in similar_movie]\n",
    "similar_movie_df = pd.DataFrame(data=zip(similar_movie_id,similar_movie_name,similar_movie_genre,similarity), columns = ['movie_id','similar_movie','genre','similarity'])\n",
    "similar_movie_df.set_index('movie_id', inplace = True)\n",
    "similar_movie_df"
   ]
  },
  {
   "cell_type": "code",
   "execution_count": 43,
   "id": "liquid-porcelain",
   "metadata": {},
   "outputs": [],
   "source": [
    "def get_similar_movie(movie_name: str, N=10):\n",
    "    movie_id = movie_to_idx[movie_name]\n",
    "    similar_movie = als_model.similar_items(movie_id, N)\n",
    "    similar_movie = [idx_to_movie[i[0]] for i in similar_movie]\n",
    "    return similar_movie"
   ]
  },
  {
   "cell_type": "code",
   "execution_count": 44,
   "id": "greatest-frost",
   "metadata": {},
   "outputs": [],
   "source": [
    "def get_similar_movie_df(movie_name: str, N=10):\n",
    "    movie_id = movie_to_idx[movie_name]\n",
    "    similar_movie = als_model.similar_items(movie_id, N)\n",
    "    similar_movie_name = [idx_to_movie[i[0]] for i in similar_movie]\n",
    "    similar_movie_id = [i[0] for i in similar_movie]\n",
    "    similar_movie_genre = [movie_id_to_genre[i[0]] for i in similar_movie]\n",
    "    similarity = [i[1] for i in similar_movie]\n",
    "    similar_movie_df = pd.DataFrame(data=zip(similar_movie_id,similar_movie_name,similar_movie_genre,similarity), columns = ['movie_id','similar_movie','genre','similarity'])\n",
    "    similar_movie_df.set_index('movie_id', inplace = True)\n",
    "    return similar_movie_df"
   ]
  },
  {
   "cell_type": "code",
   "execution_count": 45,
   "id": "metallic-iceland",
   "metadata": {},
   "outputs": [
    {
     "data": {
      "text/html": [
       "<div>\n",
       "<style scoped>\n",
       "    .dataframe tbody tr th:only-of-type {\n",
       "        vertical-align: middle;\n",
       "    }\n",
       "\n",
       "    .dataframe tbody tr th {\n",
       "        vertical-align: top;\n",
       "    }\n",
       "\n",
       "    .dataframe thead th {\n",
       "        text-align: right;\n",
       "    }\n",
       "</style>\n",
       "<table border=\"1\" class=\"dataframe\">\n",
       "  <thead>\n",
       "    <tr style=\"text-align: right;\">\n",
       "      <th></th>\n",
       "      <th>similar_movie</th>\n",
       "      <th>genre</th>\n",
       "      <th>similarity</th>\n",
       "    </tr>\n",
       "    <tr>\n",
       "      <th>movie_id</th>\n",
       "      <th></th>\n",
       "      <th></th>\n",
       "      <th></th>\n",
       "    </tr>\n",
       "  </thead>\n",
       "  <tbody>\n",
       "    <tr>\n",
       "      <th>3114</th>\n",
       "      <td>Toy Story 2 (1999)</td>\n",
       "      <td>Animation|Children's|Comedy</td>\n",
       "      <td>1.000000</td>\n",
       "    </tr>\n",
       "    <tr>\n",
       "      <th>1</th>\n",
       "      <td>Toy Story (1995)</td>\n",
       "      <td>Animation|Children's|Comedy</td>\n",
       "      <td>0.809293</td>\n",
       "    </tr>\n",
       "    <tr>\n",
       "      <th>2355</th>\n",
       "      <td>Bug's Life, A (1998)</td>\n",
       "      <td>Animation|Children's|Comedy</td>\n",
       "      <td>0.643636</td>\n",
       "    </tr>\n",
       "    <tr>\n",
       "      <th>3157</th>\n",
       "      <td>Stuart Little (1999)</td>\n",
       "      <td>Children's|Comedy</td>\n",
       "      <td>0.405639</td>\n",
       "    </tr>\n",
       "    <tr>\n",
       "      <th>588</th>\n",
       "      <td>Aladdin (1992)</td>\n",
       "      <td>Animation|Children's|Comedy|Musical</td>\n",
       "      <td>0.403483</td>\n",
       "    </tr>\n",
       "    <tr>\n",
       "      <th>34</th>\n",
       "      <td>Babe (1995)</td>\n",
       "      <td>Children's|Comedy|Drama</td>\n",
       "      <td>0.401081</td>\n",
       "    </tr>\n",
       "    <tr>\n",
       "      <th>2761</th>\n",
       "      <td>Iron Giant, The (1999)</td>\n",
       "      <td>Animation|Children's</td>\n",
       "      <td>0.397564</td>\n",
       "    </tr>\n",
       "    <tr>\n",
       "      <th>2396</th>\n",
       "      <td>Shakespeare in Love (1998)</td>\n",
       "      <td>Comedy|Romance</td>\n",
       "      <td>0.350097</td>\n",
       "    </tr>\n",
       "    <tr>\n",
       "      <th>2687</th>\n",
       "      <td>Tarzan (1999)</td>\n",
       "      <td>Animation|Children's</td>\n",
       "      <td>0.336711</td>\n",
       "    </tr>\n",
       "    <tr>\n",
       "      <th>2384</th>\n",
       "      <td>Babe: Pig in the City (1998)</td>\n",
       "      <td>Children's|Comedy</td>\n",
       "      <td>0.324185</td>\n",
       "    </tr>\n",
       "  </tbody>\n",
       "</table>\n",
       "</div>"
      ],
      "text/plain": [
       "                         similar_movie                                genre  \\\n",
       "movie_id                                                                      \n",
       "3114                Toy Story 2 (1999)          Animation|Children's|Comedy   \n",
       "1                     Toy Story (1995)          Animation|Children's|Comedy   \n",
       "2355              Bug's Life, A (1998)          Animation|Children's|Comedy   \n",
       "3157              Stuart Little (1999)                    Children's|Comedy   \n",
       "588                     Aladdin (1992)  Animation|Children's|Comedy|Musical   \n",
       "34                         Babe (1995)              Children's|Comedy|Drama   \n",
       "2761            Iron Giant, The (1999)                 Animation|Children's   \n",
       "2396        Shakespeare in Love (1998)                       Comedy|Romance   \n",
       "2687                     Tarzan (1999)                 Animation|Children's   \n",
       "2384      Babe: Pig in the City (1998)                    Children's|Comedy   \n",
       "\n",
       "          similarity  \n",
       "movie_id              \n",
       "3114        1.000000  \n",
       "1           0.809293  \n",
       "2355        0.643636  \n",
       "3157        0.405639  \n",
       "588         0.403483  \n",
       "34          0.401081  \n",
       "2761        0.397564  \n",
       "2396        0.350097  \n",
       "2687        0.336711  \n",
       "2384        0.324185  "
      ]
     },
     "execution_count": 45,
     "metadata": {},
     "output_type": "execute_result"
    }
   ],
   "source": [
    "get_similar_movie_df('Toy Story 2 (1999)')"
   ]
  },
  {
   "cell_type": "code",
   "execution_count": 32,
   "id": "reliable-billy",
   "metadata": {},
   "outputs": [
    {
     "data": {
      "text/html": [
       "<div>\n",
       "<style scoped>\n",
       "    .dataframe tbody tr th:only-of-type {\n",
       "        vertical-align: middle;\n",
       "    }\n",
       "\n",
       "    .dataframe tbody tr th {\n",
       "        vertical-align: top;\n",
       "    }\n",
       "\n",
       "    .dataframe thead th {\n",
       "        text-align: right;\n",
       "    }\n",
       "</style>\n",
       "<table border=\"1\" class=\"dataframe\">\n",
       "  <thead>\n",
       "    <tr style=\"text-align: right;\">\n",
       "      <th></th>\n",
       "      <th>similar_movie</th>\n",
       "      <th>genre</th>\n",
       "      <th>similarity</th>\n",
       "    </tr>\n",
       "    <tr>\n",
       "      <th>movie_id</th>\n",
       "      <th></th>\n",
       "      <th></th>\n",
       "      <th></th>\n",
       "    </tr>\n",
       "  </thead>\n",
       "  <tbody>\n",
       "    <tr>\n",
       "      <th>593</th>\n",
       "      <td>Silence of the Lambs, The (1991)</td>\n",
       "      <td>Drama|Thriller</td>\n",
       "      <td>1.000000</td>\n",
       "    </tr>\n",
       "    <tr>\n",
       "      <th>318</th>\n",
       "      <td>Shawshank Redemption, The (1994)</td>\n",
       "      <td>Drama</td>\n",
       "      <td>0.762379</td>\n",
       "    </tr>\n",
       "    <tr>\n",
       "      <th>608</th>\n",
       "      <td>Fargo (1996)</td>\n",
       "      <td>Crime|Drama|Thriller</td>\n",
       "      <td>0.748150</td>\n",
       "    </tr>\n",
       "    <tr>\n",
       "      <th>296</th>\n",
       "      <td>Pulp Fiction (1994)</td>\n",
       "      <td>Crime|Drama</td>\n",
       "      <td>0.647199</td>\n",
       "    </tr>\n",
       "    <tr>\n",
       "      <th>50</th>\n",
       "      <td>Usual Suspects, The (1995)</td>\n",
       "      <td>Crime|Thriller</td>\n",
       "      <td>0.528101</td>\n",
       "    </tr>\n",
       "    <tr>\n",
       "      <th>527</th>\n",
       "      <td>Schindler's List (1993)</td>\n",
       "      <td>Drama|War</td>\n",
       "      <td>0.525350</td>\n",
       "    </tr>\n",
       "    <tr>\n",
       "      <th>1213</th>\n",
       "      <td>GoodFellas (1990)</td>\n",
       "      <td>Crime|Drama</td>\n",
       "      <td>0.512818</td>\n",
       "    </tr>\n",
       "    <tr>\n",
       "      <th>1704</th>\n",
       "      <td>Good Will Hunting (1997)</td>\n",
       "      <td>Drama</td>\n",
       "      <td>0.489894</td>\n",
       "    </tr>\n",
       "    <tr>\n",
       "      <th>2762</th>\n",
       "      <td>Sixth Sense, The (1999)</td>\n",
       "      <td>Thriller</td>\n",
       "      <td>0.464684</td>\n",
       "    </tr>\n",
       "    <tr>\n",
       "      <th>1617</th>\n",
       "      <td>L.A. Confidential (1997)</td>\n",
       "      <td>Crime|Film-Noir|Mystery|Thriller</td>\n",
       "      <td>0.437060</td>\n",
       "    </tr>\n",
       "  </tbody>\n",
       "</table>\n",
       "</div>"
      ],
      "text/plain": [
       "                             similar_movie                             genre  \\\n",
       "movie_id                                                                       \n",
       "593       Silence of the Lambs, The (1991)                    Drama|Thriller   \n",
       "318       Shawshank Redemption, The (1994)                             Drama   \n",
       "608                           Fargo (1996)              Crime|Drama|Thriller   \n",
       "296                    Pulp Fiction (1994)                       Crime|Drama   \n",
       "50              Usual Suspects, The (1995)                    Crime|Thriller   \n",
       "527                Schindler's List (1993)                         Drama|War   \n",
       "1213                     GoodFellas (1990)                       Crime|Drama   \n",
       "1704              Good Will Hunting (1997)                             Drama   \n",
       "2762               Sixth Sense, The (1999)                          Thriller   \n",
       "1617              L.A. Confidential (1997)  Crime|Film-Noir|Mystery|Thriller   \n",
       "\n",
       "          similarity  \n",
       "movie_id              \n",
       "593         1.000000  \n",
       "318         0.762379  \n",
       "608         0.748150  \n",
       "296         0.647199  \n",
       "50          0.528101  \n",
       "527         0.525350  \n",
       "1213        0.512818  \n",
       "1704        0.489894  \n",
       "2762        0.464684  \n",
       "1617        0.437060  "
      ]
     },
     "execution_count": 32,
     "metadata": {},
     "output_type": "execute_result"
    }
   ],
   "source": [
    "get_similar_movie_df('Silence of the Lambs, The (1991)')"
   ]
  },
  {
   "cell_type": "markdown",
   "id": "significant-compatibility",
   "metadata": {},
   "source": [
    "## 4-2.내가 좋아할만한 영화 추천받기\n",
    "드디어 !!    \n",
    "✧*.◟(ˊᗨˋ)◞.*✧  \n",
    "  \n",
    "제가 좋아할만한 영화를 20개 추천받아보겠습니다."
   ]
  },
  {
   "cell_type": "code",
   "execution_count": 33,
   "id": "complex-kazakhstan",
   "metadata": {},
   "outputs": [
    {
     "data": {
      "text/plain": [
       "[(480, 0.5526022),\n",
       " (318, 0.47674063),\n",
       " (2916, 0.46952188),\n",
       " (608, 0.43124473),\n",
       " (457, 0.42992675),\n",
       " (3114, 0.38861728),\n",
       " (2762, 0.38201505),\n",
       " (2028, 0.36644766),\n",
       " (527, 0.35968703),\n",
       " (110, 0.34861717),\n",
       " (296, 0.3374632),\n",
       " (1240, 0.31850922),\n",
       " (32, 0.29674768),\n",
       " (34, 0.29004714),\n",
       " (50, 0.28929237),\n",
       " (356, 0.27508992),\n",
       " (1617, 0.27435392),\n",
       " (2355, 0.26943994),\n",
       " (1265, 0.26384237),\n",
       " (1270, 0.26253468)]"
      ]
     },
     "execution_count": 33,
     "metadata": {},
     "output_type": "execute_result"
    }
   ],
   "source": [
    "movie_recommended = als_model.recommend(61616, csr_data, N=20, filter_already_liked_items=True)\n",
    "movie_recommended"
   ]
  },
  {
   "cell_type": "code",
   "execution_count": 34,
   "id": "collected-davis",
   "metadata": {},
   "outputs": [],
   "source": [
    "def get_recommended_movie_df(user_id, N=20):\n",
    "    '''parameter N is number of recommendation'''\n",
    "    movie_recommended = als_model.recommend(user_id, csr_data, N=N, filter_already_liked_items=True)\n",
    "    recommended_movie_name = [idx_to_movie[i[0]] for i in movie_recommended]\n",
    "    recommended_movie_id = [i[0] for i in movie_recommended]\n",
    "    recommended_movie_genre = [movie_id_to_genre[i[0]] for i in movie_recommended]\n",
    "    recommendation = [i[1] for i in movie_recommended]\n",
    "    recommended_movie_df = pd.DataFrame(data=zip(recommended_movie_id,recommended_movie_name,recommended_movie_genre,recommendation), columns = ['movie_id','recommended_movie','genre','recommendation'])\n",
    "    recommended_movie_df.set_index('movie_id', inplace = True)\n",
    "    return recommended_movie_df"
   ]
  },
  {
   "cell_type": "markdown",
   "id": "secondary-bubble",
   "metadata": {},
   "source": [
    "결과를 보니 다행히 호러 영화는 없군요 (^▽^)/ ʸᵉᔆᵎ\n",
    "  \n",
    "추천해주신 영화를 한번 보고 모델 평가하도록 하겠습니다. ㅎㅎㅎ"
   ]
  },
  {
   "cell_type": "code",
   "execution_count": 35,
   "id": "nearby-calibration",
   "metadata": {},
   "outputs": [
    {
     "data": {
      "text/html": [
       "<div>\n",
       "<style scoped>\n",
       "    .dataframe tbody tr th:only-of-type {\n",
       "        vertical-align: middle;\n",
       "    }\n",
       "\n",
       "    .dataframe tbody tr th {\n",
       "        vertical-align: top;\n",
       "    }\n",
       "\n",
       "    .dataframe thead th {\n",
       "        text-align: right;\n",
       "    }\n",
       "</style>\n",
       "<table border=\"1\" class=\"dataframe\">\n",
       "  <thead>\n",
       "    <tr style=\"text-align: right;\">\n",
       "      <th></th>\n",
       "      <th>recommended_movie</th>\n",
       "      <th>genre</th>\n",
       "      <th>recommendation</th>\n",
       "    </tr>\n",
       "    <tr>\n",
       "      <th>movie_id</th>\n",
       "      <th></th>\n",
       "      <th></th>\n",
       "      <th></th>\n",
       "    </tr>\n",
       "  </thead>\n",
       "  <tbody>\n",
       "    <tr>\n",
       "      <th>480</th>\n",
       "      <td>Jurassic Park (1993)</td>\n",
       "      <td>Action|Adventure|Sci-Fi</td>\n",
       "      <td>0.552602</td>\n",
       "    </tr>\n",
       "    <tr>\n",
       "      <th>318</th>\n",
       "      <td>Shawshank Redemption, The (1994)</td>\n",
       "      <td>Drama</td>\n",
       "      <td>0.476741</td>\n",
       "    </tr>\n",
       "    <tr>\n",
       "      <th>2916</th>\n",
       "      <td>Total Recall (1990)</td>\n",
       "      <td>Action|Adventure|Sci-Fi|Thriller</td>\n",
       "      <td>0.469522</td>\n",
       "    </tr>\n",
       "    <tr>\n",
       "      <th>608</th>\n",
       "      <td>Fargo (1996)</td>\n",
       "      <td>Crime|Drama|Thriller</td>\n",
       "      <td>0.431245</td>\n",
       "    </tr>\n",
       "    <tr>\n",
       "      <th>457</th>\n",
       "      <td>Fugitive, The (1993)</td>\n",
       "      <td>Action|Thriller</td>\n",
       "      <td>0.429927</td>\n",
       "    </tr>\n",
       "    <tr>\n",
       "      <th>3114</th>\n",
       "      <td>Toy Story 2 (1999)</td>\n",
       "      <td>Animation|Children's|Comedy</td>\n",
       "      <td>0.388617</td>\n",
       "    </tr>\n",
       "    <tr>\n",
       "      <th>2762</th>\n",
       "      <td>Sixth Sense, The (1999)</td>\n",
       "      <td>Thriller</td>\n",
       "      <td>0.382015</td>\n",
       "    </tr>\n",
       "    <tr>\n",
       "      <th>2028</th>\n",
       "      <td>Saving Private Ryan (1998)</td>\n",
       "      <td>Action|Drama|War</td>\n",
       "      <td>0.366448</td>\n",
       "    </tr>\n",
       "    <tr>\n",
       "      <th>527</th>\n",
       "      <td>Schindler's List (1993)</td>\n",
       "      <td>Drama|War</td>\n",
       "      <td>0.359687</td>\n",
       "    </tr>\n",
       "    <tr>\n",
       "      <th>110</th>\n",
       "      <td>Braveheart (1995)</td>\n",
       "      <td>Action|Drama|War</td>\n",
       "      <td>0.348617</td>\n",
       "    </tr>\n",
       "    <tr>\n",
       "      <th>296</th>\n",
       "      <td>Pulp Fiction (1994)</td>\n",
       "      <td>Crime|Drama</td>\n",
       "      <td>0.337463</td>\n",
       "    </tr>\n",
       "    <tr>\n",
       "      <th>1240</th>\n",
       "      <td>Terminator, The (1984)</td>\n",
       "      <td>Action|Sci-Fi|Thriller</td>\n",
       "      <td>0.318509</td>\n",
       "    </tr>\n",
       "    <tr>\n",
       "      <th>32</th>\n",
       "      <td>Twelve Monkeys (1995)</td>\n",
       "      <td>Drama|Sci-Fi</td>\n",
       "      <td>0.296748</td>\n",
       "    </tr>\n",
       "    <tr>\n",
       "      <th>34</th>\n",
       "      <td>Babe (1995)</td>\n",
       "      <td>Children's|Comedy|Drama</td>\n",
       "      <td>0.290047</td>\n",
       "    </tr>\n",
       "    <tr>\n",
       "      <th>50</th>\n",
       "      <td>Usual Suspects, The (1995)</td>\n",
       "      <td>Crime|Thriller</td>\n",
       "      <td>0.289292</td>\n",
       "    </tr>\n",
       "    <tr>\n",
       "      <th>356</th>\n",
       "      <td>Forrest Gump (1994)</td>\n",
       "      <td>Comedy|Romance|War</td>\n",
       "      <td>0.275090</td>\n",
       "    </tr>\n",
       "    <tr>\n",
       "      <th>1617</th>\n",
       "      <td>L.A. Confidential (1997)</td>\n",
       "      <td>Crime|Film-Noir|Mystery|Thriller</td>\n",
       "      <td>0.274354</td>\n",
       "    </tr>\n",
       "    <tr>\n",
       "      <th>2355</th>\n",
       "      <td>Bug's Life, A (1998)</td>\n",
       "      <td>Animation|Children's|Comedy</td>\n",
       "      <td>0.269440</td>\n",
       "    </tr>\n",
       "    <tr>\n",
       "      <th>1265</th>\n",
       "      <td>Groundhog Day (1993)</td>\n",
       "      <td>Comedy|Romance</td>\n",
       "      <td>0.263842</td>\n",
       "    </tr>\n",
       "    <tr>\n",
       "      <th>1270</th>\n",
       "      <td>Back to the Future (1985)</td>\n",
       "      <td>Comedy|Sci-Fi</td>\n",
       "      <td>0.262535</td>\n",
       "    </tr>\n",
       "  </tbody>\n",
       "</table>\n",
       "</div>"
      ],
      "text/plain": [
       "                         recommended_movie                             genre  \\\n",
       "movie_id                                                                       \n",
       "480                   Jurassic Park (1993)           Action|Adventure|Sci-Fi   \n",
       "318       Shawshank Redemption, The (1994)                             Drama   \n",
       "2916                   Total Recall (1990)  Action|Adventure|Sci-Fi|Thriller   \n",
       "608                           Fargo (1996)              Crime|Drama|Thriller   \n",
       "457                   Fugitive, The (1993)                   Action|Thriller   \n",
       "3114                    Toy Story 2 (1999)       Animation|Children's|Comedy   \n",
       "2762               Sixth Sense, The (1999)                          Thriller   \n",
       "2028            Saving Private Ryan (1998)                  Action|Drama|War   \n",
       "527                Schindler's List (1993)                         Drama|War   \n",
       "110                      Braveheart (1995)                  Action|Drama|War   \n",
       "296                    Pulp Fiction (1994)                       Crime|Drama   \n",
       "1240                Terminator, The (1984)            Action|Sci-Fi|Thriller   \n",
       "32                   Twelve Monkeys (1995)                      Drama|Sci-Fi   \n",
       "34                             Babe (1995)           Children's|Comedy|Drama   \n",
       "50              Usual Suspects, The (1995)                    Crime|Thriller   \n",
       "356                    Forrest Gump (1994)                Comedy|Romance|War   \n",
       "1617              L.A. Confidential (1997)  Crime|Film-Noir|Mystery|Thriller   \n",
       "2355                  Bug's Life, A (1998)       Animation|Children's|Comedy   \n",
       "1265                  Groundhog Day (1993)                    Comedy|Romance   \n",
       "1270             Back to the Future (1985)                     Comedy|Sci-Fi   \n",
       "\n",
       "          recommendation  \n",
       "movie_id                  \n",
       "480             0.552602  \n",
       "318             0.476741  \n",
       "2916            0.469522  \n",
       "608             0.431245  \n",
       "457             0.429927  \n",
       "3114            0.388617  \n",
       "2762            0.382015  \n",
       "2028            0.366448  \n",
       "527             0.359687  \n",
       "110             0.348617  \n",
       "296             0.337463  \n",
       "1240            0.318509  \n",
       "32              0.296748  \n",
       "34              0.290047  \n",
       "50              0.289292  \n",
       "356             0.275090  \n",
       "1617            0.274354  \n",
       "2355            0.269440  \n",
       "1265            0.263842  \n",
       "1270            0.262535  "
      ]
     },
     "execution_count": 35,
     "metadata": {},
     "output_type": "execute_result"
    }
   ],
   "source": [
    "my_recommendation = get_recommended_movie_df(61616, 20)\n",
    "my_recommendation"
   ]
  },
  {
   "cell_type": "markdown",
   "id": "instructional-respondent",
   "metadata": {},
   "source": [
    "## 4-3. 추천 기여도 살펴보기\n",
    "\n",
    "\n",
    "    추천시스템이 어떤 근거로 저런 영화들을 추천해줬는지 궁금하네요 ~    \n",
    "    제가 좋아해서 5번씩 봤던 영화들의 기여도를 한번 살펴보겠습니다.        "
   ]
  },
  {
   "cell_type": "code",
   "execution_count": 59,
   "id": "close-tampa",
   "metadata": {},
   "outputs": [],
   "source": [
    "def explain_recommendation_df(user_id, recommended_movie_id):\n",
    "    explain = als_model.explain(user_id, csr_data, itemid=recommended_movie_id)\n",
    "    explain_movie_name = [idx_to_movie[i[0]] for i in explain[1]]\n",
    "    explain_movie_id = [movie_to_idx[i] for i in explain_movie_name]\n",
    "    explain_movie_genre = [movie_id_to_genre[i] for i in explain_movie_id]\n",
    "    explainatory = [i[1] for i in explain[1]]\n",
    "    explain_recommendation_df = pd.DataFrame(data=zip(explain_movie_id,explain_movie_name,explain_movie_genre,explainatory), columns = ['movie_id','movie','genre','explanatory'])\n",
    "    explain_recommendation_df.set_index('movie_id', inplace = True)\n",
    "    print('ಇ( ˵ᐛ ˵)ಇ')\n",
    "    print(f'은서 : 저에게 [{idx_to_movie[recommended_movie_id]}]가 추천된 이유를 설명해주세요~')\n",
    "    print(f'AI : 휴먼~ 간단하다구')\n",
    "    return explain_recommendation_df"
   ]
  },
  {
   "cell_type": "code",
   "execution_count": 60,
   "id": "saved-farming",
   "metadata": {},
   "outputs": [
    {
     "name": "stdout",
     "output_type": "stream",
     "text": [
      "ಇ( ˵ᐛ ˵)ಇ\n",
      "은서 : 저에게 [Jurassic Park (1993)]가 추천된 이유를 설명해주세요~\n",
      "AI : 휴먼~ 간단하다구\n"
     ]
    },
    {
     "data": {
      "text/html": [
       "<div>\n",
       "<style scoped>\n",
       "    .dataframe tbody tr th:only-of-type {\n",
       "        vertical-align: middle;\n",
       "    }\n",
       "\n",
       "    .dataframe tbody tr th {\n",
       "        vertical-align: top;\n",
       "    }\n",
       "\n",
       "    .dataframe thead th {\n",
       "        text-align: right;\n",
       "    }\n",
       "</style>\n",
       "<table border=\"1\" class=\"dataframe\">\n",
       "  <thead>\n",
       "    <tr style=\"text-align: right;\">\n",
       "      <th></th>\n",
       "      <th>movie</th>\n",
       "      <th>genre</th>\n",
       "      <th>explanatory</th>\n",
       "    </tr>\n",
       "    <tr>\n",
       "      <th>movie_id</th>\n",
       "      <th></th>\n",
       "      <th></th>\n",
       "      <th></th>\n",
       "    </tr>\n",
       "  </thead>\n",
       "  <tbody>\n",
       "    <tr>\n",
       "      <th>1580</th>\n",
       "      <td>Men in Black (1997)</td>\n",
       "      <td>Action|Adventure|Comedy|Sci-Fi</td>\n",
       "      <td>0.298393</td>\n",
       "    </tr>\n",
       "    <tr>\n",
       "      <th>589</th>\n",
       "      <td>Terminator 2: Judgment Day (1991)</td>\n",
       "      <td>Action|Sci-Fi|Thriller</td>\n",
       "      <td>0.195392</td>\n",
       "    </tr>\n",
       "    <tr>\n",
       "      <th>2571</th>\n",
       "      <td>Matrix, The (1999)</td>\n",
       "      <td>Action|Sci-Fi|Thriller</td>\n",
       "      <td>0.101992</td>\n",
       "    </tr>\n",
       "    <tr>\n",
       "      <th>593</th>\n",
       "      <td>Silence of the Lambs, The (1991)</td>\n",
       "      <td>Drama|Thriller</td>\n",
       "      <td>-0.003495</td>\n",
       "    </tr>\n",
       "    <tr>\n",
       "      <th>1704</th>\n",
       "      <td>Good Will Hunting (1997)</td>\n",
       "      <td>Drama</td>\n",
       "      <td>-0.008159</td>\n",
       "    </tr>\n",
       "    <tr>\n",
       "      <th>1</th>\n",
       "      <td>Toy Story (1995)</td>\n",
       "      <td>Animation|Children's|Comedy</td>\n",
       "      <td>-0.039845</td>\n",
       "    </tr>\n",
       "  </tbody>\n",
       "</table>\n",
       "</div>"
      ],
      "text/plain": [
       "                                      movie                           genre  \\\n",
       "movie_id                                                                      \n",
       "1580                    Men in Black (1997)  Action|Adventure|Comedy|Sci-Fi   \n",
       "589       Terminator 2: Judgment Day (1991)          Action|Sci-Fi|Thriller   \n",
       "2571                     Matrix, The (1999)          Action|Sci-Fi|Thriller   \n",
       "593        Silence of the Lambs, The (1991)                  Drama|Thriller   \n",
       "1704               Good Will Hunting (1997)                           Drama   \n",
       "1                          Toy Story (1995)     Animation|Children's|Comedy   \n",
       "\n",
       "          explanatory  \n",
       "movie_id               \n",
       "1580         0.298393  \n",
       "589          0.195392  \n",
       "2571         0.101992  \n",
       "593         -0.003495  \n",
       "1704        -0.008159  \n",
       "1           -0.039845  "
      ]
     },
     "execution_count": 60,
     "metadata": {},
     "output_type": "execute_result"
    }
   ],
   "source": [
    "explain_my_recommendation = explain_recommendation_df(61616, 480)\n",
    "explain_my_recommendation "
   ]
  },
  {
   "cell_type": "code",
   "execution_count": 61,
   "id": "handmade-tournament",
   "metadata": {},
   "outputs": [
    {
     "name": "stdout",
     "output_type": "stream",
     "text": [
      "ಇ( ˵ᐛ ˵)ಇ\n",
      "은서 : 저에게 [Shawshank Redemption, The (1994)]가 추천된 이유를 설명해주세요~\n",
      "AI : 휴먼~ 간단하다구\n"
     ]
    },
    {
     "data": {
      "text/html": [
       "<div>\n",
       "<style scoped>\n",
       "    .dataframe tbody tr th:only-of-type {\n",
       "        vertical-align: middle;\n",
       "    }\n",
       "\n",
       "    .dataframe tbody tr th {\n",
       "        vertical-align: top;\n",
       "    }\n",
       "\n",
       "    .dataframe thead th {\n",
       "        text-align: right;\n",
       "    }\n",
       "</style>\n",
       "<table border=\"1\" class=\"dataframe\">\n",
       "  <thead>\n",
       "    <tr style=\"text-align: right;\">\n",
       "      <th></th>\n",
       "      <th>movie</th>\n",
       "      <th>genre</th>\n",
       "      <th>explanatory</th>\n",
       "    </tr>\n",
       "    <tr>\n",
       "      <th>movie_id</th>\n",
       "      <th></th>\n",
       "      <th></th>\n",
       "      <th></th>\n",
       "    </tr>\n",
       "  </thead>\n",
       "  <tbody>\n",
       "    <tr>\n",
       "      <th>593</th>\n",
       "      <td>Silence of the Lambs, The (1991)</td>\n",
       "      <td>Drama|Thriller</td>\n",
       "      <td>0.260335</td>\n",
       "    </tr>\n",
       "    <tr>\n",
       "      <th>1704</th>\n",
       "      <td>Good Will Hunting (1997)</td>\n",
       "      <td>Drama</td>\n",
       "      <td>0.195182</td>\n",
       "    </tr>\n",
       "    <tr>\n",
       "      <th>1</th>\n",
       "      <td>Toy Story (1995)</td>\n",
       "      <td>Animation|Children's|Comedy</td>\n",
       "      <td>0.033358</td>\n",
       "    </tr>\n",
       "    <tr>\n",
       "      <th>589</th>\n",
       "      <td>Terminator 2: Judgment Day (1991)</td>\n",
       "      <td>Action|Sci-Fi|Thriller</td>\n",
       "      <td>0.004805</td>\n",
       "    </tr>\n",
       "    <tr>\n",
       "      <th>1580</th>\n",
       "      <td>Men in Black (1997)</td>\n",
       "      <td>Action|Adventure|Comedy|Sci-Fi</td>\n",
       "      <td>-0.010894</td>\n",
       "    </tr>\n",
       "    <tr>\n",
       "      <th>2571</th>\n",
       "      <td>Matrix, The (1999)</td>\n",
       "      <td>Action|Sci-Fi|Thriller</td>\n",
       "      <td>-0.011750</td>\n",
       "    </tr>\n",
       "  </tbody>\n",
       "</table>\n",
       "</div>"
      ],
      "text/plain": [
       "                                      movie                           genre  \\\n",
       "movie_id                                                                      \n",
       "593        Silence of the Lambs, The (1991)                  Drama|Thriller   \n",
       "1704               Good Will Hunting (1997)                           Drama   \n",
       "1                          Toy Story (1995)     Animation|Children's|Comedy   \n",
       "589       Terminator 2: Judgment Day (1991)          Action|Sci-Fi|Thriller   \n",
       "1580                    Men in Black (1997)  Action|Adventure|Comedy|Sci-Fi   \n",
       "2571                     Matrix, The (1999)          Action|Sci-Fi|Thriller   \n",
       "\n",
       "          explanatory  \n",
       "movie_id               \n",
       "593          0.260335  \n",
       "1704         0.195182  \n",
       "1            0.033358  \n",
       "589          0.004805  \n",
       "1580        -0.010894  \n",
       "2571        -0.011750  "
      ]
     },
     "execution_count": 61,
     "metadata": {},
     "output_type": "execute_result"
    }
   ],
   "source": [
    "explain_my_recommendation = explain_recommendation_df(61616, 318)\n",
    "explain_my_recommendation "
   ]
  },
  {
   "cell_type": "markdown",
   "id": "selective-priest",
   "metadata": {},
   "source": [
    "# 5. 추천시스템 평가하기 | Mean Average Precision(MAP)\n",
    "Mean Average Precision(MAP)은 \n",
    "* 정보를 순서를 지정하여(Ranked) 반환하는 경우에 사용하는 평가방법입니다.\n",
    "* 예를들어 구글과 같은 검색엔진에서 검색결과가 검색의도와 관련도가 높은 순으로 잘 나열되어있는지를 평가하는 방법입니다.\n",
    "\n",
    "* 추천시스템은 수많은 아이템 중에 사용자가 관심을 보일만한 아이템들을 보여준며 가장 자신있는 것을 첫 번째로 보여준다는 점에서 검색엔진과 의미가 동일하며 따라서 MAP은 추천시스템의 평가방법으로도 유용합니다.\n",
    "\n",
    "평가 지표중 하나인 precision 및 recall 값은 순서를 고려하지 않지만, MAP은 순서를 고려하기 위해 K값을 설정합니다. \n",
    "\n",
    "    Precision : 우리가 추천한 아이템 중에 사용자가 정말 관심있어하는 아이템의 비율  \n",
    "    Recall : 실제로 사용자가 관심있어하는 아이템 중에 우리가 추천한 아이템의 비율  \n",
    "\n",
    "\n",
    "---\n",
    "\n",
    "실제로 구현해보고 싶었으나, 시간적 여유가 없었다. 이후에 다시 해봐야겠다.  "
   ]
  },
  {
   "cell_type": "markdown",
   "id": "japanese-permission",
   "metadata": {},
   "source": [
    "# 6. 자기평가 \n",
    "CSR matrix를 통해, 평가행렬을 두개의 행렬의 곱으로 표현할 수 있다는 간단한 아이디어로 메모리 문제를 해결하고 0값을 새로운 값으로 채워넣어 성능을 향상시켰다는 점이 흥미로웠다.   \n",
    "쉬워보이지만 촌철살인과 같은 아이디어를 내기 위해서는 탄탄한 이론적 기반과 남다른 창의성이 필요할 것이라 생각한다.    \n",
    "멋지다.    \n",
    "\n",
    "복잡해보이는 문제의 실마리를 잘 찾으면 후루룩 풀어지는 문제가 있는 것이다.   \n",
    "내이름의 서(緖)자가 실마리 서(緖)인데, 실마리를 잘 찾아가는 삶을 살아야겠다.   \n",
    "\n",
    "♪(*´θ｀)ノ"
   ]
  }
 ],
 "metadata": {
  "kernelspec": {
   "display_name": "Python 3",
   "language": "python",
   "name": "python3"
  },
  "language_info": {
   "codemirror_mode": {
    "name": "ipython",
    "version": 3
   },
   "file_extension": ".py",
   "mimetype": "text/x-python",
   "name": "python",
   "nbconvert_exporter": "python",
   "pygments_lexer": "ipython3",
   "version": "3.7.9"
  }
 },
 "nbformat": 4,
 "nbformat_minor": 5
}
