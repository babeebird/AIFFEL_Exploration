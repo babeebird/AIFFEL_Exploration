{
 "cells": [
  {
   "cell_type": "markdown",
   "id": "hourly-obligation",
   "metadata": {},
   "source": [
    "# LMS Exploration | 7. Sentimental_NLP\n",
    "\n",
    "---\n",
    "\n",
    "\n",
    "```\n",
    "오늘은 불금.\n",
    "일주일 내내 개미처럼 일만 했으니, 오늘은 나에게 포상을 줘야겠다.\n",
    "시원달달한 수박을 먹으면서 영화 한편을 보고 싶은데, \n",
    "어떤 영화를 볼지 고민이 된다.\n",
    "\n",
    "아..? 리뷰 댓글이 가장 많이 달린 영화가 마침 평점기능에 에러가 났다..\n",
    "너무너무 재밌어서 평점이 폭발해버린걸까?\n",
    "리뷰 댓글을 하나하나 읽기엔 리뷰가 너무 많고,\n",
    "궁금한건 못참겠다.\n",
    "나에게 왜 이런 시련과 고난이 닥친걸까..\n",
    "\n",
    "안되겠다.\n",
    "\n",
    "이 영화의 리뷰댓글을 분석해서 평점을 추측할 수 있도록 \n",
    "감정분석 모델을 만들어야겠다.\n",
    "```\n",
    "---\n",
    "\n",
    "**[Introduce]**  \n",
    "다양한 딥러닝 모델을 활용하여 영화리뷰댓글의 감정분석을 해보자.  \n",
    "이후 Word2Vec을 이용하여 성능향상을 시도해보자\n",
    "\n",
    "\n",
    "**[[Data](https://github.com/e9t/nsmc)]**\n",
    "* [네이버 영화](https://movie.naver.com/movie/point/af/list.naver)의 댓글을 모아 구성된 Naver Sentiment Movie Corpus (NSMC)\n",
    "\n",
    "\n",
    "* NSMC는 150000개의 훈련데이터셋, 50000개의 테스트데이터셋으로 구성된다. \n",
    "\n",
    "\n",
    "* NSMC 데이터셋은 전혀 가공되지 않은 텍스트 파일로 이뤄진다.\n",
    "\n",
    "\n",
    "* 훈련데이터셋의 컬럼은 id, document, label이다.  \n",
    "\n",
    "\n",
    "    -id : 댓글 작성자의 고유번호 (the review id)  \n",
    "    -document : 감정분석의 대상인 리뷰 텍스트 (the actual review)  \n",
    "    -label : 각각의 문장에 대응하는 감정을 원핫인코딩한 것으로, 긍정일 경우 1, 부정 경우 0으로 표현됨. (the sentiment class of the review-> 0:negative, 1:positive)  \n",
    "\n",
    "* 모든 리뷰는 140자 미만이다.\n",
    "* 각 sentiment class (0:negatice, 1:positive)의 비율은 동등하게 구성했다.\n",
    "\n",
    "    -100K negative reviews (reviews of rating 1-4)  \n",
    "    -100K positive review (reviews of rating 9-10)  \n",
    "    -Neutral review ( reveiws of rating 5-8)은 제외했음  "
   ]
  },
  {
   "cell_type": "markdown",
   "id": "equivalent-albania",
   "metadata": {},
   "source": [
    "**[Preparation]**\n",
    "\n",
    "* NSMC 파일 업로드\n",
    "* genism 버전 다운그레이드 - Word2Vec을 사용하려면 다운그레이드가 필요함. \n",
    "```\n",
    "gensim 4.0.1 -> genisim 3.8.3\n",
    "```"
   ]
  },
  {
   "cell_type": "code",
   "execution_count": 1,
   "id": "coordinated-clerk",
   "metadata": {},
   "outputs": [
    {
     "name": "stdout",
     "output_type": "stream",
     "text": [
      "ln: failed to create symbolic link '/aiffel/aiffel/sentiment_classification/data/ratings_test.txt': File exists\r\n",
      "ln: failed to create symbolic link '/aiffel/aiffel/sentiment_classification/data/ratings_train.txt': File exists\r\n"
     ]
    }
   ],
   "source": [
    "! ln -s ~/data/*.txt ~/aiffel/sentiment_classification/data"
   ]
  },
  {
   "cell_type": "markdown",
   "id": "infinite-promotion",
   "metadata": {},
   "source": [
    "```\n",
    "#- gensim downgrade\n",
    "\n",
    "root@w3wkht8atotw0zzxqge0w24qf-6f78dfd478-tf8bl:~# pip install --upgrade gensim==3.8.3\n",
    "```"
   ]
  },
  {
   "cell_type": "markdown",
   "id": "liberal-teacher",
   "metadata": {},
   "source": [
    "---\n",
    "\n",
    "\n",
    "\n",
    "# 0. Import Library, Package"
   ]
  },
  {
   "cell_type": "code",
   "execution_count": 2,
   "id": "excited-contact",
   "metadata": {
    "scrolled": true
   },
   "outputs": [
    {
     "name": "stdout",
     "output_type": "stream",
     "text": [
      "CPU times: user 2.67 s, sys: 717 ms, total: 3.39 s\n",
      "Wall time: 2.45 s\n"
     ]
    }
   ],
   "source": [
    "%%time\n",
    "import os\n",
    "import urllib.request\n",
    "import re\n",
    "\n",
    "import pandas as pd\n",
    "import numpy as np\n",
    "import seaborn as sns\n",
    "import matplotlib.pyplot as plt\n",
    "%matplotlib inline\n",
    "\n",
    "from konlpy.tag import Okt\n",
    "\n",
    "import tensorflow as tf\n",
    "from tensorflow import keras\n",
    "from tensorflow.keras.preprocessing.text import Tokenizer\n",
    "from tensorflow.keras.preprocessing.sequence import pad_sequences\n",
    "from tensorflow.keras.initializers import Constant\n",
    "\n",
    "from keras.layers import Bidirectional, LSTM, GRU, Dense, Conv1D\n",
    "from keras.layers import Embedding, MaxPooling1D, GlobalMaxPooling1D\n",
    "from keras.layers import Dropout\n",
    "from keras.callbacks import EarlyStopping\n",
    "\n",
    "from gensim.models import KeyedVectors\n",
    "import gensim\n",
    "from sklearn.model_selection import train_test_split\n",
    "\n",
    "from collections import Counter\n",
    "\n"
   ]
  },
  {
   "cell_type": "markdown",
   "id": "sexual-honduras",
   "metadata": {},
   "source": [
    "# 1. 데이터 준비와 확인"
   ]
  },
  {
   "cell_type": "code",
   "execution_count": 3,
   "id": "ruled-knock",
   "metadata": {},
   "outputs": [],
   "source": [
    "#- 데이터 읽어오기\n",
    "\n",
    "train_data = pd.read_table('~/aiffel/sentiment_classification/data/ratings_train.txt')\n",
    "test_data = pd.read_table('~/aiffel/sentiment_classification/data/ratings_test.txt')"
   ]
  },
  {
   "cell_type": "code",
   "execution_count": 4,
   "id": "attended-julian",
   "metadata": {},
   "outputs": [
    {
     "name": "stdout",
     "output_type": "stream",
     "text": [
      "150000 50000\n"
     ]
    },
    {
     "data": {
      "text/plain": [
       "Index(['id', 'document', 'label'], dtype='object')"
      ]
     },
     "execution_count": 4,
     "metadata": {},
     "output_type": "execute_result"
    }
   ],
   "source": [
    "#- 데이터 개수 확인하기\n",
    "\n",
    "print(len(train_data),len(test_data))\n",
    "train_data.columns"
   ]
  },
  {
   "cell_type": "code",
   "execution_count": 5,
   "id": "middle-cylinder",
   "metadata": {},
   "outputs": [
    {
     "data": {
      "text/html": [
       "<div>\n",
       "<style scoped>\n",
       "    .dataframe tbody tr th:only-of-type {\n",
       "        vertical-align: middle;\n",
       "    }\n",
       "\n",
       "    .dataframe tbody tr th {\n",
       "        vertical-align: top;\n",
       "    }\n",
       "\n",
       "    .dataframe thead th {\n",
       "        text-align: right;\n",
       "    }\n",
       "</style>\n",
       "<table border=\"1\" class=\"dataframe\">\n",
       "  <thead>\n",
       "    <tr style=\"text-align: right;\">\n",
       "      <th></th>\n",
       "      <th>id</th>\n",
       "      <th>document</th>\n",
       "      <th>label</th>\n",
       "    </tr>\n",
       "  </thead>\n",
       "  <tbody>\n",
       "    <tr>\n",
       "      <th>0</th>\n",
       "      <td>9976970</td>\n",
       "      <td>아 더빙.. 진짜 짜증나네요 목소리</td>\n",
       "      <td>0</td>\n",
       "    </tr>\n",
       "    <tr>\n",
       "      <th>1</th>\n",
       "      <td>3819312</td>\n",
       "      <td>흠...포스터보고 초딩영화줄....오버연기조차 가볍지 않구나</td>\n",
       "      <td>1</td>\n",
       "    </tr>\n",
       "    <tr>\n",
       "      <th>2</th>\n",
       "      <td>10265843</td>\n",
       "      <td>너무재밓었다그래서보는것을추천한다</td>\n",
       "      <td>0</td>\n",
       "    </tr>\n",
       "    <tr>\n",
       "      <th>3</th>\n",
       "      <td>9045019</td>\n",
       "      <td>교도소 이야기구먼 ..솔직히 재미는 없다..평점 조정</td>\n",
       "      <td>0</td>\n",
       "    </tr>\n",
       "    <tr>\n",
       "      <th>4</th>\n",
       "      <td>6483659</td>\n",
       "      <td>사이몬페그의 익살스런 연기가 돋보였던 영화!스파이더맨에서 늙어보이기만 했던 커스틴 ...</td>\n",
       "      <td>1</td>\n",
       "    </tr>\n",
       "  </tbody>\n",
       "</table>\n",
       "</div>"
      ],
      "text/plain": [
       "         id                                           document  label\n",
       "0   9976970                                아 더빙.. 진짜 짜증나네요 목소리      0\n",
       "1   3819312                  흠...포스터보고 초딩영화줄....오버연기조차 가볍지 않구나      1\n",
       "2  10265843                                  너무재밓었다그래서보는것을추천한다      0\n",
       "3   9045019                      교도소 이야기구먼 ..솔직히 재미는 없다..평점 조정      0\n",
       "4   6483659  사이몬페그의 익살스런 연기가 돋보였던 영화!스파이더맨에서 늙어보이기만 했던 커스틴 ...      1"
      ]
     },
     "execution_count": 5,
     "metadata": {},
     "output_type": "execute_result"
    }
   ],
   "source": [
    "#- 데이터 확인하기\n",
    "\n",
    "train_data.head() "
   ]
  },
  {
   "cell_type": "markdown",
   "id": "legitimate-camel",
   "metadata": {},
   "source": [
    "```\n",
    "train_data.head() 데이터 확인 결과,. \n",
    "\n",
    "* 흠...포스터보고 초딩영화줄....오버연기조차 가볍지 않구나 -> 1(긍정)\n",
    "* 너무재밓었다그래서보는것을추천한다 -> 0(부정)\n",
    "\n",
    "위 두 문장의 라벨링을 보고 공감이 되지 않아서 데이터에 대한 의문이 생겼다.\n",
    "'너무'가 과거엔 부정적 의미로 해석되었기 때문일까? '너무' 단어를 가진 문장 뽑아서 살펴봐야겠다.\n",
    "```\n",
    "\n",
    "---\n",
    "```\n",
    "잘못 라벨링되었다고 판단하여 변경하려 했지만, NSMC 의 라벨링 방법을 살펴보니, originally reviews of ratings 즉 평점으로 라벨링한다고 하여, 본래 라벨링을 따르기로 했다. \n",
    "문장의 반어적 표현, 애매한 표현에 대한 감정 평가는 평점으로 판단하는 것이 적절할 것이다.\n",
    "```"
   ]
  },
  {
   "cell_type": "markdown",
   "id": "molecular-locator",
   "metadata": {},
   "source": [
    "\n",
    "```python\n",
    "#- 라벨 변경\n",
    "\n",
    "train_data.iloc[1,2]=0\n",
    "train_data.iloc[2,2]=1\n",
    "\n",
    "train_data.head()\n",
    "\n",
    "#- '너무'가 포함된 문장 추출\n",
    "\n",
    "neomu = []\n",
    "\n",
    "for i, j in enumerate(X_train):\n",
    "    if 24 in j:\n",
    "        neomu.append(j)\n",
    "\n",
    "neomu = get_decoded_sentences(neomu, index_to_word)\n",
    "neomu\n",
    "```"
   ]
  },
  {
   "cell_type": "markdown",
   "id": "gorgeous-morris",
   "metadata": {},
   "source": [
    "# 2. 데이터로더 구성\n",
    "```\n",
    "- 데이터의 중복 제거\n",
    "- NaN 결측치 제거\n",
    "- 한국어 토크나이저로 토큰화\n",
    "- 불용어(Stopwords) 제거\n",
    "- 사전`word_to_index` 구성\n",
    "- 텍스트 스트링을 사전 인덱스 스트링으로 변환\n",
    "- `X_train`, `y_train`, `X_test`, `y_test`, `word_to_index` 리턴\n",
    "```\n",
    "\n",
    "---"
   ]
  },
  {
   "cell_type": "markdown",
   "id": "burning-immune",
   "metadata": {},
   "source": [
    "\n",
    "* [drop_duplicates](https://pandas.pydata.org/docs/reference/api/pandas.DataFrame.drop_duplicates.html)\n",
    "```\n",
    "Return DataFrame with duplicate rows removed.\n",
    "subset : column label or sequence of labels, optional\n",
    "    Only consider certain columns for identifying duplicates, by default use all of the columns.\n",
    "```    \n",
    "* [train_data.dropna](https://pandas.pydata.org/pandas-docs/version/0.20/generated/pandas.DataFrame.dropna.html)\n",
    "```\n",
    "how : {‘any’, ‘all’}\n",
    "    any : if any NA values are present, drop that label\n",
    "    all : if all values are NA, drop that label\n",
    "```\n"
   ]
  },
  {
   "cell_type": "markdown",
   "id": "infinite-quantity",
   "metadata": {},
   "source": [
    "* [mecab-ko-dic](https://konlpy-ko.readthedocs.io/ko/v0.4.3/api/konlpy.tag/)  \n",
    "``` \n",
    "mecab-ko-dic은 오픈 소스 형태소 분석 엔진인 MeCab을 사용하여, 한국어 형태소 분석을 하기 위한 프로젝트임. 말뭉치 학습과 사전 목록은 모두 21세기 세종계획의 성과물을 사용함.   \n",
    "```"
   ]
  },
  {
   "cell_type": "markdown",
   "id": "failing-board",
   "metadata": {},
   "source": [
    "* [konlpy.tag](https://konlpy-ko.readthedocs.io/ko/v0.4.3/api/konlpy.tag/)\n",
    "```\n",
    "morphs(phrase)\n",
    "    Parse phrase to morphemes.\n",
    "nouns(phrase)\n",
    "    Noun extractor.\n",
    "pos(phrase, flatten=True)\n",
    "    POS tagger.\n",
    "```"
   ]
  },
  {
   "cell_type": "markdown",
   "id": "developing-border",
   "metadata": {},
   "source": [
    "* [collections.Counter](https://docs.python.org/3/library/collections.html#collections.Counter)\n",
    "```\n",
    "A Counter is a dict subclass for counting hashable objects. It is a collection where elements are stored as dictionary keys and their counts are stored as dictionary values.\n",
    "```\n",
    "```python\n",
    "most_common([n])\n",
    "Return a list of the n most common elements and their counts from the most common to the least. \n",
    "```"
   ]
  },
  {
   "cell_type": "code",
   "execution_count": 6,
   "id": "grand-torture",
   "metadata": {},
   "outputs": [],
   "source": [
    "from konlpy.tag import Mecab\n",
    "tokenizer = Mecab()\n",
    "stopwords = ['의','가','이','은','들','는','좀','잘','걍','과','도','를','으로','자','에','와','한','하다']\n",
    "\n",
    "def load_data(train_data, test_data, num_words=10000):\n",
    "    #- 데이터의 중복 제거, NaN 결측치 제거\n",
    "    train_data.drop_duplicates(subset=['document'], inplace=True)\n",
    "    train_data = train_data.dropna(how = 'any') \n",
    "    test_data.drop_duplicates(subset=['document'], inplace=True)\n",
    "    test_data = test_data.dropna(how = 'any') \n",
    "    \n",
    "    #- 토큰화, 불용어 제거\n",
    "    X_train = []\n",
    "    for sentence in train_data['document']:\n",
    "        temp_X = tokenizer.morphs(sentence)\n",
    "        temp_X = [word for word in temp_X if not word in stopwords]\n",
    "        X_train.append(temp_X)\n",
    "\n",
    "    X_test = []\n",
    "    for sentence in test_data['document']:\n",
    "        temp_X = tokenizer.morphs(sentence) \n",
    "        temp_X = [word for word in temp_X if not word in stopwords] \n",
    "        X_test.append(temp_X)\n",
    "    \n",
    "    words = np.concatenate(X_train).tolist()\n",
    "    counter = Counter(words)\n",
    "    counter = counter.most_common(10000-5) #- 데이터 개수가 많은 순으로 정렬된 배열 리턴\n",
    "    vocab = ['', '', '', '', ''] + [key for key, _ in counter]\n",
    "    word_to_index = {word:index for index, word in enumerate(vocab)} #- word : index 사전\n",
    "        \n",
    "    def wordlist_to_indexlist(wordlist):\n",
    "        return [word_to_index[word] if word in word_to_index else word_to_index[''] for word in wordlist]\n",
    "        \n",
    "    X_train = list(map(wordlist_to_indexlist, X_train))\n",
    "    X_test = list(map(wordlist_to_indexlist, X_test))\n",
    "        \n",
    "    return X_train, np.array(list(train_data['label'])), X_test, np.array(list(test_data['label'])), word_to_index "
   ]
  },
  {
   "cell_type": "code",
   "execution_count": 7,
   "id": "primary-confusion",
   "metadata": {},
   "outputs": [],
   "source": [
    "X_train, y_train, X_test, y_test, word_to_index = load_data(train_data, test_data)"
   ]
  },
  {
   "cell_type": "code",
   "execution_count": 8,
   "id": "cosmetic-imperial",
   "metadata": {},
   "outputs": [
    {
     "name": "stdout",
     "output_type": "stream",
     "text": [
      "데이터 중복, 결측치, 불용어 제거의 결과,\n",
      "훈련 샘플 개수: 146182, 테스트 개수: 49157\n",
      "\n"
     ]
    }
   ],
   "source": [
    "print(\"데이터 중복, 결측치, 불용어 제거의 결과,\\n훈련 샘플 개수: {}, 테스트 개수: {}\\n\".format(len(X_train), len(X_test)))"
   ]
  },
  {
   "cell_type": "code",
   "execution_count": 9,
   "id": "powerful-uganda",
   "metadata": {
    "scrolled": true
   },
   "outputs": [
    {
     "name": "stdout",
     "output_type": "stream",
     "text": [
      "[0번째 리뷰 문장]\n",
      "[33, 75, 920, 5, 5, 40, 229, 21, 34, 749]\n",
      "길이 : 10\n",
      "라벨 : 0\n",
      "\n",
      "[1번째 리뷰 문장]\n",
      "[1029, 5, 12, 520, 550, 688, 6, 121, 5, 71, 1640, 53, 926, 1007, 16, 45, 392]\n",
      "길이 : 17\n",
      "라벨 : 1\n",
      "\n",
      "[2번째 리뷰 문장]\n",
      "[25, 206, 4]\n",
      "길이 : 3\n",
      "라벨 : 0\n",
      "\n",
      "[3번째 리뷰 문장]\n",
      "[8410, 159, 3926, 5, 5, 299, 95, 18, 7, 5, 5, 59, 3480]\n",
      "길이 : 13\n",
      "라벨 : 0\n",
      "\n",
      "[4번째 리뷰 문장]\n",
      "[4, 8895, 1109, 53, 2833, 61, 6, 15, 2759, 42, 1189, 36, 352, 43, 23, 41, 61, 4, 4, 428, 3103, 1767, 7]\n",
      "길이 : 23\n",
      "라벨 : 1\n",
      "\n"
     ]
    }
   ],
   "source": [
    "for i in range(5):\n",
    "    print(f'[{i}번째 리뷰 문장]\\n{X_train[i]}\\n길이 : {len(X_train[i])}\\n라벨 : {y_train[i]}\\n')"
   ]
  },
  {
   "cell_type": "markdown",
   "id": "utility-variable",
   "metadata": {},
   "source": [
    "텍스트 데이터가 숫자로 encoding이 잘 되었음을 확인할 수 있음!\n",
    "\n",
    "[pprint](https://docs.python.org/ko/3/library/pprint.html)를 이용해서 word_to_index 단어사전에 어떤 단어들이 포함되어있는지 보기 좋게 출력하여 살펴보자. \n",
    "(특수문자-영어-한글(가나다 순)으로 정렬)"
   ]
  },
  {
   "cell_type": "markdown",
   "id": "decreased-database",
   "metadata": {},
   "source": [
    "```python\n",
    "import pprint\n",
    "\n",
    "pp = pprint.PrettyPrinter(indent=4)\n",
    "pp.pprint(word_to_index)\n",
    "```"
   ]
  },
  {
   "cell_type": "markdown",
   "id": "norwegian-young",
   "metadata": {},
   "source": [
    "특수문자의 경우, 감정을 드러내는 중요한 의미를 담고 있을 수 있기 때문에, 제거하지 않았다. 다만 숫자의 경우 검토해볼 필요가 있다.   \n",
    "불금이 지나가고 있으므로 일단 skip~"
   ]
  },
  {
   "cell_type": "markdown",
   "id": "artistic-integrity",
   "metadata": {},
   "source": [
    "```python\n",
    "number = re.compile('[0-9]+')\n",
    "number_dict = {}\n",
    "for i,j in word_to_index.items():\n",
    "    if number.match(i):\n",
    "        number_dict[i]=j\n",
    "\n",
    "number_dict\n",
    "```"
   ]
  },
  {
   "cell_type": "markdown",
   "id": "plain-storm",
   "metadata": {},
   "source": [
    "**[Special_tokens]**   \n",
    "언어모델의 범용성을 위해 Dummy token인 UNK, UNUSED를 여러개 설정해줘야 한다. 또한 BOS(문장시작), EOS(문장 끝)도 추가한다.\n",
    "\n",
    "이번 NSMC 학습에서는 PAD, BOS, UNK, UNUSED를 각 하나씩 단어사전에 더해주었다."
   ]
  },
  {
   "cell_type": "code",
   "execution_count": 11,
   "id": "chubby-mainland",
   "metadata": {},
   "outputs": [],
   "source": [
    "word_to_index[\"<PAD>\"] = 0\n",
    "word_to_index[\"<BOS>\"] = 1\n",
    "word_to_index[\"<UNK>\"] = 2\n",
    "word_to_index[\"<UNUSED>\"] = 3"
   ]
  },
  {
   "cell_type": "code",
   "execution_count": 12,
   "id": "tropical-alignment",
   "metadata": {},
   "outputs": [],
   "source": [
    "#- word_to_index를 index_to_word로 변환\n",
    "index_to_word = {index:word for word, index in word_to_index.items()}"
   ]
  },
  {
   "cell_type": "markdown",
   "id": "aging-transcript",
   "metadata": {},
   "source": [
    "### 문장 인코더, 디코더"
   ]
  },
  {
   "cell_type": "code",
   "execution_count": 13,
   "id": "loaded-puzzle",
   "metadata": {},
   "outputs": [],
   "source": [
    "# 문장 1개를 활용할 딕셔너리와 함께 주면, 단어 인덱스 리스트 벡터로 변환해 주는 함수\n",
    "def get_encoded_sentence(sentence, word_to_index):\n",
    "    return [word_to_index['<BOS>']]+[word_to_index[word] if word in word_to_index else word_to_index['<UNK>'] for word in sentence.split()]\n",
    "\n",
    "# 여러 개의 문장 리스트를 한꺼번에 단어 인덱스 리스트 벡터로 encode해 주는 함수 \n",
    "def get_encoded_sentences(sentences, word_to_index):\n",
    "    return [get_encoded_sentence(sentence, word_to_index) for sentence in sentences]\n",
    "\n",
    "# 숫자 벡터로 encode된 문장을 원래대로 decode하는 함수입\n",
    "def get_decoded_sentence(encoded_sentence, index_to_word):\n",
    "    return ' '.join(index_to_word[index] if index in index_to_word else '<UNK>' for index in encoded_sentence[1:]) \n",
    "# 여러 개의 숫자 벡터로 encode된 문장을 한꺼번에 원래대로 decode하는 함수 \n",
    "def get_decoded_sentences(encoded_sentences, index_to_word):\n",
    "    return [get_decoded_sentence(encoded_sentence, index_to_word) for encoded_sentence in encoded_sentences]"
   ]
  },
  {
   "cell_type": "markdown",
   "id": "liquid-contrary",
   "metadata": {},
   "source": [
    "# 3. 모델구성을 위한 데이터 분석 및 가공\n",
    "\n",
    "자연어처리(NLP)분야에서 **임베딩(Embedding)** 은 사람이 쓰는 자연어를 기계가 이해할 수 있는 숫자형태인 vector로 바꾼 결과 혹은 그 일련의 과정 전체를 의미한다. 가장 간단한 형태의 임베딩은 단어의 빈도를 그대로 벡터로 사용하는 것이다.  \n",
    "\n",
    "앞선 encoding 작업을 통해 텍스트가 숫자로 변환되어 인공지능 모델의 입력으로 사용할 수 있게 되었지만, 이것으로는 충분치 않다! 단어와 숫자의 의미없는 대응이기 때문이다.\n",
    "\n",
    "**우리의 목적은, 단어와 그 단어의 의미를 나타내는 벡터를 짝짓는 것!** 으로, 단어의 의미를 나타내는 벡터를 훈련 가능한 파라미터로 놓고, 이를 딥러닝을 통해 최적화해야 한다. 비슷한 분포를 가진 단어의 주변 단어들도 비슷한 의미를 가진다는 아이디어를 기반으로 하는 단어임베딩을 수행해보자.\n",
    " \n",
    "\n",
    "이때, embedding을 위해서는 pad_sequences를 통해 데이터셋 상의 문장의 길이를 통일해야 한다. 문장 최대 길이 maxlen의 값 설정도 전체 모델 성능에 영향을 미치게되므로,\n",
    "전체 데이터셋 내의 문장 길이의 분포를 파악하여 적절한 최대 문장 길이를 지정해야 한다.\n",
    "\n",
    " * 데이터셋 내 문장 길이 분포\n",
    " * 적절한 최대 문장 길이 지정\n",
    " * keras.preprocessing.sequence.pad_sequences 을 활용한 패딩 추가"
   ]
  },
  {
   "cell_type": "code",
   "execution_count": 14,
   "id": "educational-thanks",
   "metadata": {},
   "outputs": [
    {
     "name": "stdout",
     "output_type": "stream",
     "text": [
      "문장길이 평균 :  15.96940191154864\n",
      "문장길이 최대 :  116\n",
      "문장길이 표준편차 :  12.843571191092\n",
      "pad_sequences maxlen :  41\n",
      "전체 문장의 0.9342988343341575%가 maxlen 설정값 이내에 포함됩니다. \n"
     ]
    }
   ],
   "source": [
    "total_data_text = list(X_train) + list(X_test)\n",
    "\n",
    "num_tokens = [len(tokens) for tokens in total_data_text]\n",
    "num_tokens = np.array(num_tokens)\n",
    "\n",
    "print('문장길이 평균 : ', np.mean(num_tokens))\n",
    "print('문장길이 최대 : ', np.max(num_tokens))\n",
    "print('문장길이 표준편차 : ', np.std(num_tokens))\n",
    "\n",
    "max_tokens = np.mean(num_tokens) + 2 * np.std(num_tokens)\n",
    "maxlen = int(max_tokens)\n",
    "print('pad_sequences maxlen : ', maxlen)\n",
    "print('전체 문장의 {}%가 maxlen 설정값 이내에 포함됩니다. '.format(np.sum(num_tokens < max_tokens) / len(num_tokens)))"
   ]
  },
  {
   "cell_type": "markdown",
   "id": "african-merchandise",
   "metadata": {},
   "source": [
    "## Padding\n",
    "한글은 문장 뒷부분에 핵심 내용이 포함되기 때문에 padding의 위치를 'pre'로 설정했다.    \n",
    "(한국말은 끝까지 들으라는 유명한 말 있잖아요~) "
   ]
  },
  {
   "cell_type": "code",
   "execution_count": 15,
   "id": "supreme-matthew",
   "metadata": {},
   "outputs": [
    {
     "name": "stdout",
     "output_type": "stream",
     "text": [
      "(146182, 41)\n",
      "(49157, 41)\n"
     ]
    }
   ],
   "source": [
    "x_train = pad_sequences(X_train,\n",
    "                        value=word_to_index[\"<PAD>\"],\n",
    "                        padding='pre', # 혹은 'post'\n",
    "                        maxlen=maxlen)\n",
    "\n",
    "x_test = pad_sequences(X_test,\n",
    "                       value=word_to_index[\"<PAD>\"],\n",
    "                       padding='pre', # 혹은 'post'\n",
    "                       maxlen=maxlen)\n",
    "\n",
    "print(x_train.shape)\n",
    "print(x_test.shape)"
   ]
  },
  {
   "cell_type": "markdown",
   "id": "referenced-evaluation",
   "metadata": {},
   "source": [
    "# 4. 모델구성 및 validation set 구성\n",
    "모델은 3가지 이상 다양하게 구성하여 실험\n",
    "\n"
   ]
  },
  {
   "cell_type": "markdown",
   "id": "acting-invite",
   "metadata": {},
   "source": [
    "## validation set 구성"
   ]
  },
  {
   "cell_type": "code",
   "execution_count": 16,
   "id": "wrong-court",
   "metadata": {},
   "outputs": [],
   "source": [
    "partial_x_train, x_val, partial_y_train, y_val = train_test_split(x_train, y_train, test_size=0.20, random_state=814)"
   ]
  },
  {
   "cell_type": "code",
   "execution_count": 17,
   "id": "planned-asian",
   "metadata": {},
   "outputs": [
    {
     "name": "stdout",
     "output_type": "stream",
     "text": [
      "(116945, 41) (29237, 41) (116945,) (29237,)\n"
     ]
    }
   ],
   "source": [
    "print(partial_x_train.shape, x_val.shape, partial_y_train.shape, y_val.shape)"
   ]
  },
  {
   "cell_type": "markdown",
   "id": "hundred-bridal",
   "metadata": {},
   "source": [
    "## embedding hyperparameter"
   ]
  },
  {
   "cell_type": "markdown",
   "id": "valid-crystal",
   "metadata": {},
   "source": [
    "```python\n",
    "tf.keras.layers.Embedding(\n",
    "    input_dim, output_dim, embeddings_initializer='uniform',\n",
    "    embeddings_regularizer=None, activity_regularizer=None,\n",
    "    embeddings_constraint=None, mask_zero=False, input_length=None, **kwargs\n",
    ")\n",
    "```"
   ]
  },
  {
   "cell_type": "code",
   "execution_count": 18,
   "id": "meaning-hepatitis",
   "metadata": {},
   "outputs": [
    {
     "name": "stdout",
     "output_type": "stream",
     "text": [
      "10000 256\n"
     ]
    }
   ],
   "source": [
    "vocab_size = len(word_to_index) #- 어휘 사전의 크기\n",
    "word_vector_dim = 256 #- 단어 하나를 표현하는 임베딩 벡터의 차원 수\n",
    "\n",
    "print(vocab_size, word_vector_dim)"
   ]
  },
  {
   "cell_type": "markdown",
   "id": "disturbed-drill",
   "metadata": {},
   "source": [
    "## Model \n",
    "```\n",
    "4가지 모델을 이용하여 성능 비교\n",
    "    1. LSTM\n",
    "    2. Bidirectional LSTM\n",
    "    3. GRU\n",
    "    4. CNN\n",
    "```"
   ]
  },
  {
   "cell_type": "markdown",
   "id": "retired-observer",
   "metadata": {},
   "source": [
    "### 1. LSTM(Long Short Term Memory)\n",
    "\n",
    "```\n",
    "Epoch 00005: early stopping\n",
    "1537/1537 - 5s - loss: 0.4041 - accuracy: 0.8494\n",
    "[0.40407708287239075, 0.8494212627410889]\n",
    "```"
   ]
  },
  {
   "cell_type": "code",
   "execution_count": 19,
   "id": "arranged-medium",
   "metadata": {},
   "outputs": [
    {
     "name": "stdout",
     "output_type": "stream",
     "text": [
      "Model: \"sequential\"\n",
      "_________________________________________________________________\n",
      "Layer (type)                 Output Shape              Param #   \n",
      "=================================================================\n",
      "embedding (Embedding)        (None, None, 256)         2560000   \n",
      "_________________________________________________________________\n",
      "lstm (LSTM)                  (None, 32)                36992     \n",
      "_________________________________________________________________\n",
      "dense (Dense)                (None, 8)                 264       \n",
      "_________________________________________________________________\n",
      "dense_1 (Dense)              (None, 1)                 9         \n",
      "=================================================================\n",
      "Total params: 2,597,265\n",
      "Trainable params: 2,597,265\n",
      "Non-trainable params: 0\n",
      "_________________________________________________________________\n"
     ]
    }
   ],
   "source": [
    "model_lstm = keras.Sequential()\n",
    "model_lstm.add(keras.layers.Embedding(vocab_size, word_vector_dim, input_shape=(None,)))\n",
    "model_lstm.add(keras.layers.LSTM(32))   \n",
    "model_lstm.add(keras.layers.Dense(8, activation='relu'))\n",
    "model_lstm.add(keras.layers.Dense(1, activation='sigmoid')) \n",
    "\n",
    "model_lstm.summary()"
   ]
  },
  {
   "cell_type": "markdown",
   "id": "southeast-beijing",
   "metadata": {},
   "source": [
    "### 2. Bidirectional LSTM "
   ]
  },
  {
   "cell_type": "code",
   "execution_count": 21,
   "id": "cloudy-indication",
   "metadata": {},
   "outputs": [
    {
     "name": "stdout",
     "output_type": "stream",
     "text": [
      "Model: \"sequential_2\"\n",
      "_________________________________________________________________\n",
      "Layer (type)                 Output Shape              Param #   \n",
      "=================================================================\n",
      "embedding_2 (Embedding)      (None, None, 256)         2560000   \n",
      "_________________________________________________________________\n",
      "dropout_3 (Dropout)          (None, None, 256)         0         \n",
      "_________________________________________________________________\n",
      "lstm_3 (LSTM)                (None, None, 256)         525312    \n",
      "_________________________________________________________________\n",
      "dropout_4 (Dropout)          (None, None, 256)         0         \n",
      "_________________________________________________________________\n",
      "bidirectional_1 (Bidirection (None, None, 512)         1050624   \n",
      "_________________________________________________________________\n",
      "dropout_5 (Dropout)          (None, None, 512)         0         \n",
      "_________________________________________________________________\n",
      "dense_3 (Dense)              (None, None, 1)           513       \n",
      "=================================================================\n",
      "Total params: 4,136,449\n",
      "Trainable params: 4,136,449\n",
      "Non-trainable params: 0\n",
      "_________________________________________________________________\n"
     ]
    }
   ],
   "source": [
    "model_blstm = keras.Sequential()\n",
    "model_blstm.add(Embedding(vocab_size, word_vector_dim, input_shape=(None,)))\n",
    "model_blstm.add(Dropout(0.5))\n",
    "model_blstm.add(LSTM(256, return_sequences=True))\n",
    "model_blstm.add(Dropout(0.5))\n",
    "model_blstm.add(Bidirectional(LSTM(256, return_sequences=True)))\n",
    "model_blstm.add(Dropout(0.5))\n",
    "model_blstm.add(Dense(1, activation='sigmoid'))\n",
    "          \n",
    "model_blstm.summary()"
   ]
  },
  {
   "cell_type": "markdown",
   "id": "pacific-concert",
   "metadata": {},
   "source": [
    "### 3. GRU\n",
    "\n"
   ]
  },
  {
   "cell_type": "code",
   "execution_count": 23,
   "id": "northern-serial",
   "metadata": {},
   "outputs": [
    {
     "name": "stdout",
     "output_type": "stream",
     "text": [
      "WARNING:tensorflow:Layer gru will not use cuDNN kernel since it doesn't meet the cuDNN kernel criteria. It will use generic GPU kernel as fallback when running on GPU\n",
      "Model: \"sequential_4\"\n",
      "_________________________________________________________________\n",
      "Layer (type)                 Output Shape              Param #   \n",
      "=================================================================\n",
      "embedding_3 (Embedding)      (None, None, 256)         2560000   \n",
      "_________________________________________________________________\n",
      "gru (GRU)                    (None, 256)               394752    \n",
      "_________________________________________________________________\n",
      "dropout_6 (Dropout)          (None, 256)               0         \n",
      "_________________________________________________________________\n",
      "dense_4 (Dense)              (None, 1)                 257       \n",
      "=================================================================\n",
      "Total params: 2,955,009\n",
      "Trainable params: 2,955,009\n",
      "Non-trainable params: 0\n",
      "_________________________________________________________________\n"
     ]
    }
   ],
   "source": [
    "model_gru = keras.Sequential()\n",
    "model_gru.add(Embedding(vocab_size, word_vector_dim, input_shape=(None,)))\n",
    "model_gru.add(GRU(256, activation='relu'))\n",
    "model_gru.add(Dropout(0.5))\n",
    "model_gru.add(Dense(1, activation='sigmoid'))\n",
    "\n",
    "model_gru.summary()"
   ]
  },
  {
   "cell_type": "markdown",
   "id": "disciplinary-poultry",
   "metadata": {},
   "source": [
    "### 4. CNN\n"
   ]
  },
  {
   "cell_type": "code",
   "execution_count": 24,
   "id": "durable-broadcast",
   "metadata": {},
   "outputs": [
    {
     "name": "stdout",
     "output_type": "stream",
     "text": [
      "Model: \"sequential_5\"\n",
      "_________________________________________________________________\n",
      "Layer (type)                 Output Shape              Param #   \n",
      "=================================================================\n",
      "embedding_4 (Embedding)      (None, None, 256)         2560000   \n",
      "_________________________________________________________________\n",
      "conv1d (Conv1D)              (None, None, 16)          28688     \n",
      "_________________________________________________________________\n",
      "max_pooling1d (MaxPooling1D) (None, None, 16)          0         \n",
      "_________________________________________________________________\n",
      "conv1d_1 (Conv1D)            (None, None, 16)          1808      \n",
      "_________________________________________________________________\n",
      "global_max_pooling1d (Global (None, 16)                0         \n",
      "_________________________________________________________________\n",
      "dense_5 (Dense)              (None, 8)                 136       \n",
      "_________________________________________________________________\n",
      "dense_6 (Dense)              (None, 1)                 9         \n",
      "=================================================================\n",
      "Total params: 2,590,641\n",
      "Trainable params: 2,590,641\n",
      "Non-trainable params: 0\n",
      "_________________________________________________________________\n"
     ]
    }
   ],
   "source": [
    "model_cnn = keras.Sequential()\n",
    "model_cnn.add(keras.layers.Embedding(vocab_size, word_vector_dim, input_shape=(None,)))\n",
    "model_cnn.add(keras.layers.Conv1D(16, 7, activation='relu'))\n",
    "model_cnn.add(keras.layers.MaxPooling1D(5))\n",
    "model_cnn.add(keras.layers.Conv1D(16, 7, activation='relu'))\n",
    "model_cnn.add(keras.layers.GlobalMaxPooling1D())\n",
    "model_cnn.add(keras.layers.Dense(8, activation='relu'))\n",
    "model_cnn.add(keras.layers.Dense(1, activation='sigmoid'))  # 최종 출력은 긍정/부정을 나타내는 1dim 입니다.\n",
    "\n",
    "model_cnn.summary()"
   ]
  },
  {
   "cell_type": "markdown",
   "id": "facial-poetry",
   "metadata": {},
   "source": [
    "# 5. 모델 훈련"
   ]
  },
  {
   "cell_type": "code",
   "execution_count": 26,
   "id": "human-bones",
   "metadata": {},
   "outputs": [
    {
     "name": "stdout",
     "output_type": "stream",
     "text": [
      "Epoch 1/15\n",
      "914/914 [==============================] - 21s 21ms/step - loss: 0.5376 - accuracy: 0.7561 - val_loss: 0.4110 - val_accuracy: 0.8474\n",
      "Epoch 2/15\n",
      "914/914 [==============================] - 18s 20ms/step - loss: 0.3665 - accuracy: 0.8714 - val_loss: 0.3593 - val_accuracy: 0.8571\n",
      "Epoch 3/15\n",
      "914/914 [==============================] - 18s 19ms/step - loss: 0.2889 - accuracy: 0.8996 - val_loss: 0.3482 - val_accuracy: 0.8576\n",
      "Epoch 4/15\n",
      "914/914 [==============================] - 18s 19ms/step - loss: 0.2405 - accuracy: 0.9170 - val_loss: 0.3624 - val_accuracy: 0.8585\n",
      "Epoch 5/15\n",
      "914/914 [==============================] - 18s 19ms/step - loss: 0.2014 - accuracy: 0.9319 - val_loss: 0.3931 - val_accuracy: 0.8535\n",
      "Epoch 6/15\n",
      "914/914 [==============================] - 17s 19ms/step - loss: 0.1697 - accuracy: 0.9440 - val_loss: 0.4108 - val_accuracy: 0.8522\n",
      "Epoch 00006: early stopping\n",
      "LSTM\n",
      "Epoch 1/15\n",
      "914/914 [==============================] - 90s 94ms/step - loss: 0.4750 - accuracy: 0.7578 - val_loss: 0.3325 - val_accuracy: 0.8567\n",
      "Epoch 2/15\n",
      "914/914 [==============================] - 83s 90ms/step - loss: 0.3028 - accuracy: 0.8733 - val_loss: 0.3225 - val_accuracy: 0.8614\n",
      "Epoch 3/15\n",
      "914/914 [==============================] - 82s 89ms/step - loss: 0.2662 - accuracy: 0.8896 - val_loss: 0.3300 - val_accuracy: 0.8618\n",
      "Epoch 4/15\n",
      "914/914 [==============================] - 80s 88ms/step - loss: 0.2400 - accuracy: 0.9031 - val_loss: 0.3394 - val_accuracy: 0.8623\n",
      "Epoch 5/15\n",
      "914/914 [==============================] - 80s 87ms/step - loss: 0.2126 - accuracy: 0.9151 - val_loss: 0.3617 - val_accuracy: 0.8600\n",
      "Epoch 00005: early stopping\n",
      "Bidirectional LSTM\n",
      "Epoch 1/15\n",
      "914/914 [==============================] - 86s 93ms/step - loss: 0.4783 - accuracy: 0.7688 - val_loss: 0.3372 - val_accuracy: 0.8512\n",
      "Epoch 2/15\n",
      "914/914 [==============================] - 84s 92ms/step - loss: 0.2986 - accuracy: 0.8747 - val_loss: 0.3278 - val_accuracy: 0.8597\n",
      "Epoch 3/15\n",
      "914/914 [==============================] - 84s 92ms/step - loss: 0.2533 - accuracy: 0.8960 - val_loss: 0.3312 - val_accuracy: 0.8633\n",
      "Epoch 4/15\n",
      "914/914 [==============================] - 84s 92ms/step - loss: 0.2170 - accuracy: 0.9113 - val_loss: 0.3367 - val_accuracy: 0.8601\n",
      "Epoch 5/15\n",
      "914/914 [==============================] - 84s 92ms/step - loss: 0.1853 - accuracy: 0.9247 - val_loss: 0.3756 - val_accuracy: 0.8568\n",
      "Epoch 00005: early stopping\n",
      "GRU\n",
      "Epoch 1/15\n",
      "914/914 [==============================] - 19s 19ms/step - loss: 0.4706 - accuracy: 0.7565 - val_loss: 0.3322 - val_accuracy: 0.8570\n",
      "Epoch 2/15\n",
      "914/914 [==============================] - 15s 16ms/step - loss: 0.2583 - accuracy: 0.8958 - val_loss: 0.3385 - val_accuracy: 0.8541\n",
      "Epoch 3/15\n",
      "914/914 [==============================] - 15s 16ms/step - loss: 0.1581 - accuracy: 0.9422 - val_loss: 0.4053 - val_accuracy: 0.8426\n",
      "Epoch 4/15\n",
      "914/914 [==============================] - 15s 16ms/step - loss: 0.0936 - accuracy: 0.9681 - val_loss: 0.5260 - val_accuracy: 0.8427\n",
      "Epoch 00004: early stopping\n",
      "CNN\n"
     ]
    }
   ],
   "source": [
    "early_stopping = EarlyStopping(monitor = 'val_loss', mode = 'min', verbose = 1, patience = 3)\n",
    "\n",
    "model_lstm.compile(optimizer='adam',\n",
    "              loss='binary_crossentropy',\n",
    "              metrics=['accuracy'])\n",
    "model_blstm.compile(optimizer='adam',\n",
    "              loss='binary_crossentropy',\n",
    "              metrics=['accuracy'])\n",
    "model_gru.compile(optimizer='adam',\n",
    "              loss='binary_crossentropy',\n",
    "              metrics=['accuracy'])\n",
    "model_cnn.compile(optimizer='adam',\n",
    "              loss='binary_crossentropy',\n",
    "              metrics=['accuracy'])\n",
    "              \n",
    "history_lstm = model_lstm.fit(partial_x_train,\n",
    "                    partial_y_train,\n",
    "                    epochs=15,\n",
    "                    batch_size=128,\n",
    "                    validation_data=(x_val, y_val),\n",
    "                    callbacks=[early_stopping],\n",
    "                    verbose=1)\n",
    "print('LSTM')\n",
    "history_blstm = model_blstm.fit(partial_x_train,\n",
    "                    partial_y_train,\n",
    "                    epochs=15,\n",
    "                    batch_size=128,\n",
    "                    validation_data=(x_val, y_val),\n",
    "                    callbacks=[early_stopping],\n",
    "                    verbose=1)\n",
    "print('Bidirectional LSTM')\n",
    "history_gru = model_gru.fit(partial_x_train,\n",
    "                    partial_y_train,\n",
    "                    epochs=15,\n",
    "                    batch_size=128,\n",
    "                    validation_data=(x_val, y_val),\n",
    "                    callbacks=[early_stopping],\n",
    "                    verbose=1)\n",
    "print('GRU')\n",
    "history_cnn = model_cnn.fit(partial_x_train,\n",
    "                    partial_y_train,\n",
    "                    epochs=15,\n",
    "                    batch_size=128,\n",
    "                    validation_data=(x_val, y_val),\n",
    "                    callbacks=[early_stopping],\n",
    "                    verbose=1)\n",
    "print('CNN')\n"
   ]
  },
  {
   "cell_type": "markdown",
   "id": "presidential-wheat",
   "metadata": {},
   "source": [
    "# 6. Loss, Accuracy 그래프 시각화"
   ]
  },
  {
   "cell_type": "code",
   "execution_count": 31,
   "id": "empirical-dialogue",
   "metadata": {},
   "outputs": [
    {
     "data": {
      "image/png": "[encoded data removed]",
      "text/plain": [
       "<Figure size 1008x1008 with 4 Axes>"
      ]
     },
     "metadata": {
      "needs_background": "light"
     },
     "output_type": "display_data"
    }
   ],
   "source": [
    "def plot_history(history_dict):\n",
    "    train_acc = history_dict['accuracy']\n",
    "    train_loss = history_dict['loss']\n",
    "    val_acc = history_dict['val_accuracy']\n",
    "    val_loss = history_dict['val_loss']\n",
    "    \n",
    "    epochs = range(1, len(train_acc) + 1)\n",
    "    plt.plot(epochs, train_loss)\n",
    "    plt.plot(epochs, train_acc)\n",
    "    plt.plot(epochs, val_loss)\n",
    "    plt.plot(epochs, val_acc)\n",
    "    plt.legend(['train_loss', 'train_accuracy', 'val_loss', 'val_accuracy'],loc='center right')\n",
    "    \n",
    "\n",
    "history_lstm_dict = history_lstm.history\n",
    "history_blstm_dict = history_blstm.history\n",
    "history_gru_dict = history_gru.history\n",
    "history_cnn_dict = history_cnn.history\n",
    "\n",
    "plt.figure(figsize=(14,14))\n",
    "\n",
    "plt.subplot(2,2,1)\n",
    "plot_history(history_lstm_dict)\n",
    "plt.title('LSTM')\n",
    "\n",
    "plt.subplot(2,2,2)\n",
    "plot_history(history_blstm_dict)\n",
    "plt.title('Bidirectional LSTM')\n",
    "\n",
    "plt.subplot(2,2,3) \n",
    "plot_history(history_gru_dict)\n",
    "plt.title('GRU')\n",
    "\n",
    "plt.subplot(2,2,4) \n",
    "plot_history(history_cnn_dict)\n",
    "plt.title('CNN')\n",
    "\n",
    "plt.tight_layout()\n",
    "plt.show()"
   ]
  },
  {
   "cell_type": "markdown",
   "id": "outdoor-bridge",
   "metadata": {},
   "source": [
    "# 7. 학습된 Embedding 레이어 분석"
   ]
  },
  {
   "cell_type": "code",
   "execution_count": 34,
   "id": "previous-norman",
   "metadata": {},
   "outputs": [
    {
     "name": "stdout",
     "output_type": "stream",
     "text": [
      "1537/1537 - 5s - loss: 0.4146 - accuracy: 0.8512\n",
      "1537/1537 - 21s - loss: 0.3631 - accuracy: 0.8598\n",
      "1537/1537 - 13s - loss: 0.3794 - accuracy: 0.8536\n",
      "1537/1537 - 3s - loss: 0.5263 - accuracy: 0.8407\n"
     ]
    }
   ],
   "source": [
    "lstm_loss, lstm_acc = model_lstm.evaluate(x_test, y_test, verbose=2)\n",
    "blstm_loss, blstm_acc = model_blstm.evaluate(x_test, y_test, verbose=2)\n",
    "gru_loss, gru_acc = model_gru.evaluate(x_test, y_test, verbose=2)\n",
    "cnn_loss, cnn_acc = model_cnn.evaluate(x_test, y_test, verbose=2)"
   ]
  },
  {
   "cell_type": "code",
   "execution_count": 36,
   "id": "failing-sleeping",
   "metadata": {},
   "outputs": [],
   "source": [
    "df_loss = pd.DataFrame({'Model' : ['LSTM', 'Bi_LSTM','GRU', 'CNN'], \n",
    "                        'Loss' : [lstm_loss, blstm_loss, gru_loss, cnn_loss]})\n",
    "df_acc = pd.DataFrame({'Model' : ['LSTM', 'Bi_LSTM', 'GRU', 'CNN'], \n",
    "                        'Accuracy' : [lstm_acc, blstm_acc, gru_acc, cnn_acc]})"
   ]
  },
  {
   "cell_type": "code",
   "execution_count": 38,
   "id": "assured-enforcement",
   "metadata": {},
   "outputs": [
    {
     "data": {
      "image/png": "[encoded data removed]",
      "text/plain": [
       "<Figure size 432x288 with 1 Axes>"
      ]
     },
     "metadata": {
      "needs_background": "light"
     },
     "output_type": "display_data"
    }
   ],
   "source": [
    "loss_plot= sns.lineplot(x='Model', y='Loss', data=df_loss)"
   ]
  },
  {
   "cell_type": "code",
   "execution_count": 37,
   "id": "molecular-beverage",
   "metadata": {},
   "outputs": [
    {
     "data": {
      "image/png": "[encoded data removed]",
      "text/plain": [
       "<Figure size 432x288 with 1 Axes>"
      ]
     },
     "metadata": {
      "needs_background": "light"
     },
     "output_type": "display_data"
    }
   ],
   "source": [
    "acc_plot= sns.lineplot(x='Model', y='Accuracy', data=df_acc)"
   ]
  },
  {
   "cell_type": "markdown",
   "id": "quick-processing",
   "metadata": {},
   "source": [
    "```\n",
    "Bidirectional LSTM이 4가지 모델 중에서 가장 좋은 성능을 보인다. \n",
    "loss: 0.3631 \n",
    "accuracy: 0.8598\n",
    "\n",
    "한국어 Word2Vec pretrained 모델을 사용하지 않았음에도 정확도 0.85를 넘었다. \n",
    "하지만 6.loss, accuracy 시각화 그래프를 살펴보면, 4가지 모델 모두 epoch 2 에서부터 train_loss는 감소하지만 val_loss는 증가하는 것이 보인다. 1 epoch에서부터 비교적 높은 train, val accuracy(약 0.8)를 보이고, train_accuracy는 점차 0.9에 다다르지만, val_accuracy는 증가하지 않는다. 이는 overfitting으로 인한 현상으로 보인다.    \n",
    "\n",
    "```"
   ]
  },
  {
   "cell_type": "markdown",
   "id": "religious-doctor",
   "metadata": {},
   "source": []
  },
  {
   "cell_type": "markdown",
   "id": "independent-trainer",
   "metadata": {},
   "source": [
    "# 8. 한국어 Word2Vec 임베딩 활용하여 성능개선\n",
    "\n",
    "[한국어Word2Vec](https://github.com/Kyubyong/wordvectors)을 활용하여 영화리뷰 감정분석모델의 성능을 향상시켜보자 :-)\n",
    "\n",
    "모델비교에서 성능이 가장 좋았던 **Bidirectional LSTM 모델**로 학습해보고,  \n",
    "한국어 Word2Vec 사용 전후 결과를 비교해보자!\n",
    "\n",
    "---\n",
    "```\n",
    "Word2Vec은 구글에서 제공하는 사전학습된(pretrained)워드 임베딩 모델으로,\n",
    "무려 1억 개의 단어로 구성된 Google News dataset을 바탕으로 학습되었다.\n",
    "기존의 원핫인코딩이나 TF-IDF의 경우 단어의 의미를 고려하지 못하는 단점을 해결한 방법으로, \n",
    "중심 단어와 주변 단어 간의 관계를 통해서 임베딩 하는 기법을 사용한다.\n",
    "\n",
    "특정 문제를 풀기 위해 학습한 모델을 다른 문제 해결에 재사용하는 기법을 전이학습이라고 한다. \n",
    "광범위한 데이터를 통해 미리 학습해 놓은 임베딩 속에 녹아 있는 의미, 문법 등의 부가적 정보를 \n",
    "내가 만들려는 모델이 활용할 수 있는 피처로 활용한다면 더욱 빠르고 정확하게 학습할 수 있다.\n",
    "```\n",
    "    \n",
    "   \n",
    "\n"
   ]
  },
  {
   "cell_type": "code",
   "execution_count": 40,
   "id": "absolute-nudist",
   "metadata": {},
   "outputs": [
    {
     "data": {
      "text/plain": [
       "Language           korean\n",
       "ISO 639-1              ko\n",
       "Vector_Size           200\n",
       "Corpus Size          339M\n",
       "Vocabulary Size     30185\n",
       "dtype: object"
      ]
     },
     "execution_count": 40,
     "metadata": {},
     "output_type": "execute_result"
    }
   ],
   "source": [
    "#- 한국어 Word2Vec의 정보\n",
    "\n",
    "ko_Word2Vec = {'Language':'korean', 'ISO 639-1':'ko','Vector_Size':'200', 'Corpus Size':'339M','Vocabulary Size':'30185'}\n",
    "\n",
    "ko_Word2Vec = pd.Series(ko_Word2Vec)\n",
    "ko_Word2Vec"
   ]
  },
  {
   "cell_type": "code",
   "execution_count": 42,
   "id": "rough-depression",
   "metadata": {},
   "outputs": [],
   "source": [
    "#- 사전학습된 Word2Vec 불러오기\n",
    "\n",
    "word2vec_path = os.getenv('HOME')+'/aiffel/sentiment_classification/data/ko.bin'\n",
    "word2vec = gensim.models.Word2Vec.load(word2vec_path)"
   ]
  },
  {
   "cell_type": "code",
   "execution_count": 43,
   "id": "disciplinary-wales",
   "metadata": {},
   "outputs": [
    {
     "name": "stderr",
     "output_type": "stream",
     "text": [
      "/opt/conda/lib/python3.7/site-packages/ipykernel_launcher.py:9: DeprecationWarning: Call to deprecated `__contains__` (Method will be removed in 4.0.0, use self.wv.__contains__() instead).\n",
      "  if __name__ == '__main__':\n",
      "/opt/conda/lib/python3.7/site-packages/ipykernel_launcher.py:10: DeprecationWarning: Call to deprecated `__getitem__` (Method will be removed in 4.0.0, use self.wv.__getitem__() instead).\n",
      "  # Remove the CWD from sys.path while we load stuff.\n"
     ]
    }
   ],
   "source": [
    "#- Word2Vec으로 Embedding Matrix 만들기\n",
    "\n",
    "vocab_size = 10000    # 어휘 사전의 크기\n",
    "word_vector_dim = 200  # 워드 벡터의 차원수 (변경가능한 하이퍼파라미터)\n",
    "\n",
    "embedding_matrix = np.random.rand(vocab_size, word_vector_dim)\n",
    "\n",
    "for i in range(4,vocab_size):\n",
    "    if index_to_word[i] in word2vec:\n",
    "        embedding_matrix[i] = word2vec[index_to_word[i]]"
   ]
  },
  {
   "cell_type": "code",
   "execution_count": 46,
   "id": "ordinary-confusion",
   "metadata": {},
   "outputs": [],
   "source": [
    "#- 모델 구성\n",
    "#- 위에서 가장 성능이 좋았던 Bidirectional LSTM 사용!\n",
    "\n",
    "model= keras.Sequential()\n",
    "model.add(keras.layers.Embedding(vocab_size, \n",
    "                                 word_vector_dim, \n",
    "                                 embeddings_initializer=Constant(embedding_matrix), \n",
    "                                 input_length=maxlen, \n",
    "                                 trainable=True)) \n",
    "model.add(Dropout(0.5))\n",
    "model.add(LSTM(256, return_sequences=True))\n",
    "model.add(Dropout(0.5))\n",
    "model.add(Bidirectional(LSTM(256, return_sequences=True)))\n",
    "model.add(Dropout(0.5))\n",
    "model.add(Dense(1, activation='sigmoid'))"
   ]
  },
  {
   "cell_type": "code",
   "execution_count": 47,
   "id": "better-passport",
   "metadata": {},
   "outputs": [
    {
     "name": "stdout",
     "output_type": "stream",
     "text": [
      "Epoch 1/15\n",
      "914/914 [==============================] - 87s 91ms/step - loss: 0.5724 - accuracy: 0.6870 - val_loss: 0.3584 - val_accuracy: 0.8419\n",
      "Epoch 2/15\n",
      "914/914 [==============================] - 83s 90ms/step - loss: 0.3818 - accuracy: 0.8296 - val_loss: 0.3246 - val_accuracy: 0.8598\n",
      "Epoch 3/15\n",
      "914/914 [==============================] - 80s 87ms/step - loss: 0.3359 - accuracy: 0.8524 - val_loss: 0.3167 - val_accuracy: 0.8652\n",
      "Epoch 4/15\n",
      "914/914 [==============================] - 79s 86ms/step - loss: 0.3104 - accuracy: 0.8668 - val_loss: 0.3110 - val_accuracy: 0.8664\n",
      "Epoch 5/15\n",
      "914/914 [==============================] - 78s 85ms/step - loss: 0.2940 - accuracy: 0.8753 - val_loss: 0.3028 - val_accuracy: 0.8716\n",
      "Epoch 6/15\n",
      "914/914 [==============================] - 79s 87ms/step - loss: 0.2800 - accuracy: 0.8807 - val_loss: 0.3106 - val_accuracy: 0.8695\n",
      "Epoch 7/15\n",
      "914/914 [==============================] - 75s 82ms/step - loss: 0.2689 - accuracy: 0.8870 - val_loss: 0.3215 - val_accuracy: 0.8737\n",
      "Epoch 8/15\n",
      "914/914 [==============================] - 78s 85ms/step - loss: 0.2571 - accuracy: 0.8915 - val_loss: 0.3017 - val_accuracy: 0.8748\n",
      "Epoch 9/15\n",
      "914/914 [==============================] - 77s 85ms/step - loss: 0.2522 - accuracy: 0.8938 - val_loss: 0.3085 - val_accuracy: 0.8738\n",
      "Epoch 10/15\n",
      "914/914 [==============================] - 78s 85ms/step - loss: 0.2410 - accuracy: 0.9000 - val_loss: 0.3156 - val_accuracy: 0.8719\n",
      "Epoch 11/15\n",
      "914/914 [==============================] - 76s 83ms/step - loss: 0.2348 - accuracy: 0.9022 - val_loss: 0.3078 - val_accuracy: 0.8758\n",
      "Epoch 12/15\n",
      "914/914 [==============================] - 78s 85ms/step - loss: 0.2263 - accuracy: 0.9060 - val_loss: 0.3278 - val_accuracy: 0.8720\n",
      "Epoch 13/15\n",
      "914/914 [==============================] - 77s 85ms/step - loss: 0.2224 - accuracy: 0.9082 - val_loss: 0.3317 - val_accuracy: 0.8730\n",
      "Epoch 14/15\n",
      "914/914 [==============================] - 76s 83ms/step - loss: 0.2149 - accuracy: 0.9097 - val_loss: 0.3375 - val_accuracy: 0.8756\n",
      "Epoch 15/15\n",
      "914/914 [==============================] - 78s 85ms/step - loss: 0.2078 - accuracy: 0.9133 - val_loss: 0.3310 - val_accuracy: 0.8733\n"
     ]
    }
   ],
   "source": [
    "#- 모델 훈련\n",
    "\n",
    "partial_x_train, x_val, partial_y_train, y_val = train_test_split(x_train, y_train, test_size=0.20, random_state=814)\n",
    "\n",
    "model.compile(optimizer='adam',\n",
    "              loss='binary_crossentropy',\n",
    "              metrics=['accuracy'])\n",
    "              \n",
    "epochs=15   \n",
    "\n",
    "history = model.fit(partial_x_train,\n",
    "                    partial_y_train,\n",
    "                    epochs=epochs,\n",
    "                    batch_size=128,\n",
    "                    validation_data=(x_val, y_val),\n",
    "                    verbose=1)"
   ]
  },
  {
   "cell_type": "code",
   "execution_count": 48,
   "id": "dried-hanging",
   "metadata": {},
   "outputs": [
    {
     "name": "stdout",
     "output_type": "stream",
     "text": [
      "Epoch 1/15\n",
      "914/914 [==============================] - 77s 85ms/step - loss: 0.2082 - accuracy: 0.9150 - val_loss: 0.3436 - val_accuracy: 0.8734\n",
      "Epoch 2/15\n",
      "914/914 [==============================] - 77s 84ms/step - loss: 0.2045 - accuracy: 0.9156 - val_loss: 0.3468 - val_accuracy: 0.8732\n",
      "Epoch 3/15\n",
      "914/914 [==============================] - 77s 85ms/step - loss: 0.1996 - accuracy: 0.9178 - val_loss: 0.3453 - val_accuracy: 0.8717\n",
      "Epoch 4/15\n",
      "914/914 [==============================] - 77s 84ms/step - loss: 0.1946 - accuracy: 0.9200 - val_loss: 0.3655 - val_accuracy: 0.8729\n",
      "Epoch 00004: early stopping\n"
     ]
    }
   ],
   "source": [
    "#- 모델 훈련 (callbacks=[early_stopping])\n",
    "\n",
    "history_cb = model.fit(partial_x_train,\n",
    "                    partial_y_train,\n",
    "                    epochs=epochs,\n",
    "                    batch_size=128,\n",
    "                    validation_data=(x_val, y_val),\n",
    "                    callbacks=[early_stopping],\n",
    "                    verbose=1)"
   ]
  },
  {
   "cell_type": "code",
   "execution_count": 49,
   "id": "instrumental-venezuela",
   "metadata": {},
   "outputs": [
    {
     "data": {
      "image/png": "[encoded data removed]",
      "text/plain": [
       "<Figure size 1008x1008 with 3 Axes>"
      ]
     },
     "metadata": {
      "needs_background": "light"
     },
     "output_type": "display_data"
    }
   ],
   "source": [
    "history_dict = history.history\n",
    "history_cb_dict = history_cb.history\n",
    "history_blstm_dict = history_blstm.history\n",
    "plt.figure(figsize=(14,14))\n",
    "\n",
    "plt.subplot(131)\n",
    "plot_history(history_blstm_dict)\n",
    "plt.title('Bi_LSTM')\n",
    "\n",
    "plt.subplot(132)\n",
    "plot_history(history_dict)\n",
    "plt.title('pretrained_Bi_LSTM')\n",
    "\n",
    "plt.subplot(133) \n",
    "plot_history(history_cb_dict)\n",
    "plt.title('pretrained_Bi_LSTMG(earlystopped)')\n",
    "\n",
    "\n",
    "plt.tight_layout()\n",
    "plt.show()"
   ]
  },
  {
   "cell_type": "code",
   "execution_count": 50,
   "id": "uniform-diagram",
   "metadata": {},
   "outputs": [
    {
     "name": "stdout",
     "output_type": "stream",
     "text": [
      "1537/1537 - 21s - loss: 0.3624 - accuracy: 0.8727\n"
     ]
    }
   ],
   "source": [
    "loss, acc = model.evaluate(x_test, y_test, verbose=2)"
   ]
  },
  {
   "cell_type": "code",
   "execution_count": 51,
   "id": "automotive-tissue",
   "metadata": {},
   "outputs": [],
   "source": [
    "df_loss = pd.DataFrame({'Model' : ['Bi_LSTM','pretrained_Bi_LSTM'], \n",
    "                        'Loss' : [blstm_loss, loss]})\n",
    "df_acc = pd.DataFrame({'Model' : ['Bi_LSTM','pretrained_Bi_LSTM'], \n",
    "                        'Accuracy' : [blstm_acc, acc]})"
   ]
  },
  {
   "cell_type": "code",
   "execution_count": 52,
   "id": "valued-detroit",
   "metadata": {},
   "outputs": [
    {
     "data": {
      "image/png": "[encoded data removed]",
      "text/plain": [
       "<Figure size 432x288 with 1 Axes>"
      ]
     },
     "metadata": {
      "needs_background": "light"
     },
     "output_type": "display_data"
    }
   ],
   "source": [
    "loss_plot= sns.lineplot(x='Model', y='Loss', data=df_loss)"
   ]
  },
  {
   "cell_type": "code",
   "execution_count": 53,
   "id": "correct-wednesday",
   "metadata": {},
   "outputs": [
    {
     "data": {
      "image/png": "[encoded data removed]",
      "text/plain": [
       "<Figure size 432x288 with 1 Axes>"
      ]
     },
     "metadata": {
      "needs_background": "light"
     },
     "output_type": "display_data"
    }
   ],
   "source": [
    "acc_plot= sns.lineplot(x='Model', y='Accuracy', data=df_acc)"
   ]
  },
  {
   "cell_type": "markdown",
   "id": "unauthorized-ecuador",
   "metadata": {},
   "source": [
    "## Embedding 모델 학습 결과 비교"
   ]
  },
  {
   "cell_type": "markdown",
   "id": "perceived-point",
   "metadata": {},
   "source": [
    "```\n",
    "pretrained 한국어Word2Vec 모델을 사용하지 않았던 Bi_LSTM 모델, earlystopping 인자를 설정한 pretrained_BI_LSTM 을 비교했을 때,  \n",
    "훈련과정에서 train_loss, train_acc 가 단시간에 매우 좋은 결과를 보였지만, \n",
    "val_loss, val_acc 는 기존모델과 큰 차이가 없었다.\n",
    "\n",
    "하지만 결과적으로 Pretrained 된 한국어 Word2Vec 임베딩모델을 활용했을 때 성능이 약간 향상됐다.  \n",
    "\n",
    "test_loss: 0.3624 (기존 0.3631)\n",
    "test_accuracy: 0.8727 (기존 0.8598)\n",
    "\n",
    "```"
   ]
  },
  {
   "cell_type": "markdown",
   "id": "turkish-chest",
   "metadata": {},
   "source": [
    "---\n",
    "\n",
    "```\n",
    "영화리뷰 감정분석기의 이 정도 성능이면, 평점 없이도 영화가 볼만한지 어느정도는 예측할 수 있을 것 같다. \n",
    "과연 이 영화는 인기때문에 평점이 폭발했던 것일까?\n",
    "\n",
    "\n",
    "다음번에는 영화 추천 모델을 만들어볼까?\n",
    "```"
   ]
  }
 ],
 "metadata": {
  "kernelspec": {
   "display_name": "Python 3",
   "language": "python",
   "name": "python3"
  },
  "language_info": {
   "codemirror_mode": {
    "name": "ipython",
    "version": 3
   },
   "file_extension": ".py",
   "mimetype": "text/x-python",
   "name": "python",
   "nbconvert_exporter": "python",
   "pygments_lexer": "ipython3",
   "version": "3.7.9"
  }
 },
 "nbformat": 4,
 "nbformat_minor": 5
}
