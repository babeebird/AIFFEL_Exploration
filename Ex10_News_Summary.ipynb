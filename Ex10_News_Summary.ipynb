{
 "cells": [
  {
   "cell_type": "markdown",
   "id": "automatic-bridal",
   "metadata": {},
   "source": [
    "# LMS Exploration | 10. News_Summary_NLP\n",
    "\n",
    "---\n",
    "\n",
    "**[Introduce]**  \n",
    "\n",
    "뉴스 내용을 읽고 헤드라인 기사를 생성주는 모델을 만들어보겠습니다.  \n",
    "Text Summarization(텍스트 요약) 기법 중 Abstractive Summarization(추상적 요약) 접근법을 먼저 사용해보고,    \n",
    "이후 Extractive Summarization(추출적 요약) 접근법을 사용해서 비교해보겠습니다.   \n",
    "* 추상적 요약은 원문으로부터 내용이 요약된 새로운 문장을 생성해내는 것으로 자연어 생성(Natural Language Generation, NLG)의 영역입니다.\n",
    "* 추출적 요약은 단어 그대로 원문에서 문장들을 추출해서 요약하는 방식으로 문장 분류(Text Classification) 문제로 볼 수 있습니다. \n",
    "\n",
    "**[Data]**  \n",
    "\n",
    "* 98401개의 뉴스기사데이터를 사용합니다.  [News Summary Dataset](https://github.com/sunnysai12345/News_Summary)\n",
    "* news_summary_more Dataset에는 총 98401개의 사례가 있는데, text와 headlines 의 정보를 포함합니다.\n",
    "* text 열의 내용을 요약한 것이 headlines 입니다. \n",
    "* 추상적 요약을 하는 경우에는 text를 본문으로, headlines를 이미 요약된 데이터로 삼아서 모델을 학습합니다.\n",
    "* 반면 추출적 요약을 하는 경우에는 오직 text열만을 사용합니다. \n",
    "\n"
   ]
  },
  {
   "cell_type": "markdown",
   "id": "intense-consultation",
   "metadata": {},
   "source": [
    "## 라이브러리와 패키지 불러오기 \n",
    "* 데이터 전처리 과정에서 NLTK의 불용어(stopwords)를 사용하여 불용어 제거 작업을 진행하기위해 nltk를 불러옵니다. \n",
    "* [NLTK](https://www.nltk.org/)는 Natural Language Toolkit의 축약어로 영어 기호, 통계, 자연어 처리를 위한 라이브러리입니다.\n",
    "* NLTK에는 I, my, me, over, 조사, 접미사와 같이 문장에는 자주 등장하지만, 의미를 분석하고 요약하는 데는 거의 의미가 없는 100여개의 불용어가 미리 정리되어 있습니다. "
   ]
  },
  {
   "cell_type": "code",
   "execution_count": 1,
   "id": "juvenile-active",
   "metadata": {},
   "outputs": [],
   "source": [
    "import numpy as np\n",
    "import pandas as pd\n",
    "import os\n",
    "import re\n",
    "import matplotlib.pyplot as plt\n",
    "from nltk.corpus import stopwords\n",
    "from bs4 import BeautifulSoup\n",
    "\n",
    "from tensorflow.keras.preprocessing.text import Tokenizer\n",
    "from tensorflow.keras.preprocessing.sequence import pad_sequences\n",
    "\n",
    "import urllib.request"
   ]
  },
  {
   "cell_type": "code",
   "execution_count": 2,
   "id": "experienced-society",
   "metadata": {},
   "outputs": [
    {
     "name": "stderr",
     "output_type": "stream",
     "text": [
      "[nltk_data] Downloading package stopwords to /aiffel/nltk_data...\n",
      "[nltk_data]   Package stopwords is already up-to-date!\n"
     ]
    },
    {
     "data": {
      "text/plain": [
       "True"
      ]
     },
     "execution_count": 2,
     "metadata": {},
     "output_type": "execute_result"
    }
   ],
   "source": [
    "import nltk\n",
    "nltk.download('stopwords')"
   ]
  },
  {
   "cell_type": "markdown",
   "id": "sublime-mirror",
   "metadata": {},
   "source": [
    "## 데이터 불러오기"
   ]
  },
  {
   "cell_type": "code",
   "execution_count": 3,
   "id": "apart-banking",
   "metadata": {},
   "outputs": [],
   "source": [
    "import urllib.request\n",
    "urllib.request.urlretrieve(\"https://raw.githubusercontent.com/sunnysai12345/News_Summary/master/news_summary_more.csv\", filename=\"news_summary_more.csv\")\n",
    "data = pd.read_csv('news_summary_more.csv', encoding='iso-8859-1')"
   ]
  },
  {
   "cell_type": "code",
   "execution_count": 4,
   "id": "small-nurse",
   "metadata": {},
   "outputs": [
    {
     "name": "stdout",
     "output_type": "stream",
     "text": [
      "98401\n"
     ]
    }
   ],
   "source": [
    "#- 랜덤한 샘플 10개 출력\n",
    "data.sample(10)\n",
    "print(len(data))"
   ]
  },
  {
   "cell_type": "markdown",
   "id": "interstate-remains",
   "metadata": {},
   "source": [
    "# 1. 추상적 요약\n",
    "\n",
    "* text 시퀀스를 입력받으면, headlines 시퀀스를 예측하도록 인공신경망을 훈련시키고자 합니다. \n",
    "\n",
    "# 1-1. 데이터 전처리\n",
    "\n",
    "* null 데이터 제거\n",
    "* 중복 데이터 제거\n",
    "* 텍스트 정규화\n",
    "* 불용어 제거\n",
    "* 훈련데이터와 테스트데이터 나누기\n",
    "* 단어 집합(vocabulary) 만들기 및 정수 인코딩"
   ]
  },
  {
   "cell_type": "code",
   "execution_count": 5,
   "id": "international-packet",
   "metadata": {},
   "outputs": [
    {
     "name": "stdout",
     "output_type": "stream",
     "text": [
      "text 열에서 중복을 배제한 유일한 샘플의 수 : 98360\n",
      "headlines 열에서 중복을 배제한 유일한 샘플의 수 : 98280\n"
     ]
    }
   ],
   "source": [
    "print('text 열에서 중복을 배제한 유일한 샘플의 수 :', data['text'].nunique())\n",
    "print('headlines 열에서 중복을 배제한 유일한 샘플의 수 :', data['headlines'].nunique())"
   ]
  },
  {
   "cell_type": "code",
   "execution_count": 6,
   "id": "reasonable-dance",
   "metadata": {},
   "outputs": [
    {
     "data": {
      "text/html": [
       "<div>\n",
       "<style scoped>\n",
       "    .dataframe tbody tr th:only-of-type {\n",
       "        vertical-align: middle;\n",
       "    }\n",
       "\n",
       "    .dataframe tbody tr th {\n",
       "        vertical-align: top;\n",
       "    }\n",
       "\n",
       "    .dataframe thead th {\n",
       "        text-align: right;\n",
       "    }\n",
       "</style>\n",
       "<table border=\"1\" class=\"dataframe\">\n",
       "  <thead>\n",
       "    <tr style=\"text-align: right;\">\n",
       "      <th></th>\n",
       "      <th>headlines</th>\n",
       "      <th>text</th>\n",
       "    </tr>\n",
       "  </thead>\n",
       "  <tbody>\n",
       "    <tr>\n",
       "      <th>20754</th>\n",
       "      <td>Aegon Life iTerm offers long-term care with en...</td>\n",
       "      <td>Safeguard yourself against life's unpleasant s...</td>\n",
       "    </tr>\n",
       "    <tr>\n",
       "      <th>44594</th>\n",
       "      <td>Berger introduces T20 of painting with Express...</td>\n",
       "      <td>Berger Paints has launched Berger Express Pain...</td>\n",
       "    </tr>\n",
       "    <tr>\n",
       "      <th>51012</th>\n",
       "      <td>Longest Test innings was longer than 10 footba...</td>\n",
       "      <td>Former Pakistani cricketer Hanif Mohammad batt...</td>\n",
       "    </tr>\n",
       "    <tr>\n",
       "      <th>52021</th>\n",
       "      <td>Aus bowler took hat-trick in his 3rd ODI, neve...</td>\n",
       "      <td>Australia's Anthony Stuart took a hat-trick in...</td>\n",
       "    </tr>\n",
       "    <tr>\n",
       "      <th>53578</th>\n",
       "      <td>Lara named daughter after Sydney where he hit ...</td>\n",
       "      <td>Former Windies' captain Brian Lara named his f...</td>\n",
       "    </tr>\n",
       "  </tbody>\n",
       "</table>\n",
       "</div>"
      ],
      "text/plain": [
       "                                               headlines  \\\n",
       "20754  Aegon Life iTerm offers long-term care with en...   \n",
       "44594  Berger introduces T20 of painting with Express...   \n",
       "51012  Longest Test innings was longer than 10 footba...   \n",
       "52021  Aus bowler took hat-trick in his 3rd ODI, neve...   \n",
       "53578  Lara named daughter after Sydney where he hit ...   \n",
       "\n",
       "                                                    text  \n",
       "20754  Safeguard yourself against life's unpleasant s...  \n",
       "44594  Berger Paints has launched Berger Express Pain...  \n",
       "51012  Former Pakistani cricketer Hanif Mohammad batt...  \n",
       "52021  Australia's Anthony Stuart took a hat-trick in...  \n",
       "53578  Former Windies' captain Brian Lara named his f...  "
      ]
     },
     "execution_count": 6,
     "metadata": {},
     "output_type": "execute_result"
    }
   ],
   "source": [
    "data[data['text'].duplicated()].head()"
   ]
  },
  {
   "cell_type": "markdown",
   "id": "coordinated-rubber",
   "metadata": {},
   "source": [
    "* headlines 는 간단한 요약들이 많아서  text 가 달라도 headlines 는 동일할 수 있습니다.\n",
    "* 그러나 text 자체가 중복된 경우엔 중복 샘플이므로 제거해야 합니다.         "
   ]
  },
  {
   "cell_type": "code",
   "execution_count": 7,
   "id": "attempted-dress",
   "metadata": {},
   "outputs": [
    {
     "name": "stdout",
     "output_type": "stream",
     "text": [
      "전체 샘플수: 98360\n"
     ]
    }
   ],
   "source": [
    "data.drop_duplicates(subset=['text'], inplace=True) #- inplace=True 를 설정하면 DataFrame 타입 값을 return 하지 않고 data 내부를 직접적으로 바꿉니다\n",
    "print('전체 샘플수:', (len(data)))"
   ]
  },
  {
   "cell_type": "markdown",
   "id": "shared-partition",
   "metadata": {},
   "source": [
    "중복이 제거되면서 샘플의 수가 98360 개로 줄었지만, 여전히 Null 값을 가지는 데이터는 남아있을 수 있습니다."
   ]
  },
  {
   "cell_type": "code",
   "execution_count": 8,
   "id": "located-scheduling",
   "metadata": {},
   "outputs": [
    {
     "name": "stdout",
     "output_type": "stream",
     "text": [
      "headlines    0\n",
      "text         0\n",
      "dtype: int64\n"
     ]
    }
   ],
   "source": [
    "print(data.isnull().sum())"
   ]
  },
  {
   "cell_type": "markdown",
   "id": "adjacent-rhythm",
   "metadata": {},
   "source": [
    "확인해보니 null 값은 없습니다. \n",
    "98401 개의 전체 데이터에서 약 41개의 데이터가 제거되었습니다."
   ]
  },
  {
   "cell_type": "markdown",
   "id": "speaking-judges",
   "metadata": {},
   "source": [
    "## 텍스트 정규화 (text normalization)\n",
    "98360개의 단어중에는 같은 의미인데도 다른 표현으로 쓰여 다른 단어로 간주되는 경우가 있습니다.   \n",
    "이러한 경우, 기계학습 전에 미리 같은 표현으로 통일시켜주어 기계의 연산량을 줄여줄 수 있습니다.   "
   ]
  },
  {
   "cell_type": "code",
   "execution_count": 9,
   "id": "arabic-auditor",
   "metadata": {},
   "outputs": [
    {
     "name": "stdout",
     "output_type": "stream",
     "text": [
      "정규화 사전의 수:  120\n"
     ]
    }
   ],
   "source": [
    "contractions = {\"ain't\": \"is not\", \"aren't\": \"are not\",\"can't\": \"cannot\", \"'cause\": \"because\", \"could've\": \"could have\", \"couldn't\": \"could not\",\n",
    "                           \"didn't\": \"did not\",  \"doesn't\": \"does not\", \"don't\": \"do not\", \"hadn't\": \"had not\", \"hasn't\": \"has not\", \"haven't\": \"have not\",\n",
    "                           \"he'd\": \"he would\",\"he'll\": \"he will\", \"he's\": \"he is\", \"how'd\": \"how did\", \"how'd'y\": \"how do you\", \"how'll\": \"how will\", \"how's\": \"how is\",\n",
    "                           \"I'd\": \"I would\", \"I'd've\": \"I would have\", \"I'll\": \"I will\", \"I'll've\": \"I will have\",\"I'm\": \"I am\", \"I've\": \"I have\", \"i'd\": \"i would\",\n",
    "                           \"i'd've\": \"i would have\", \"i'll\": \"i will\",  \"i'll've\": \"i will have\",\"i'm\": \"i am\", \"i've\": \"i have\", \"isn't\": \"is not\", \"it'd\": \"it would\",\n",
    "                           \"it'd've\": \"it would have\", \"it'll\": \"it will\", \"it'll've\": \"it will have\",\"it's\": \"it is\", \"let's\": \"let us\", \"ma'am\": \"madam\",\n",
    "                           \"mayn't\": \"may not\", \"might've\": \"might have\",\"mightn't\": \"might not\",\"mightn't've\": \"might not have\", \"must've\": \"must have\",\n",
    "                           \"mustn't\": \"must not\", \"mustn't've\": \"must not have\", \"needn't\": \"need not\", \"needn't've\": \"need not have\",\"o'clock\": \"of the clock\",\n",
    "                           \"oughtn't\": \"ought not\", \"oughtn't've\": \"ought not have\", \"shan't\": \"shall not\", \"sha'n't\": \"shall not\", \"shan't've\": \"shall not have\",\n",
    "                           \"she'd\": \"she would\", \"she'd've\": \"she would have\", \"she'll\": \"she will\", \"she'll've\": \"she will have\", \"she's\": \"she is\",\n",
    "                           \"should've\": \"should have\", \"shouldn't\": \"should not\", \"shouldn't've\": \"should not have\", \"so've\": \"so have\",\"so's\": \"so as\",\n",
    "                           \"this's\": \"this is\",\"that'd\": \"that would\", \"that'd've\": \"that would have\", \"that's\": \"that is\", \"there'd\": \"there would\",\n",
    "                           \"there'd've\": \"there would have\", \"there's\": \"there is\", \"here's\": \"here is\",\"they'd\": \"they would\", \"they'd've\": \"they would have\",\n",
    "                           \"they'll\": \"they will\", \"they'll've\": \"they will have\", \"they're\": \"they are\", \"they've\": \"they have\", \"to've\": \"to have\",\n",
    "                           \"wasn't\": \"was not\", \"we'd\": \"we would\", \"we'd've\": \"we would have\", \"we'll\": \"we will\", \"we'll've\": \"we will have\", \"we're\": \"we are\",\n",
    "                           \"we've\": \"we have\", \"weren't\": \"were not\", \"what'll\": \"what will\", \"what'll've\": \"what will have\", \"what're\": \"what are\",\n",
    "                           \"what's\": \"what is\", \"what've\": \"what have\", \"when's\": \"when is\", \"when've\": \"when have\", \"where'd\": \"where did\", \"where's\": \"where is\",\n",
    "                           \"where've\": \"where have\", \"who'll\": \"who will\", \"who'll've\": \"who will have\", \"who's\": \"who is\", \"who've\": \"who have\",\n",
    "                           \"why's\": \"why is\", \"why've\": \"why have\", \"will've\": \"will have\", \"won't\": \"will not\", \"won't've\": \"will not have\",\n",
    "                           \"would've\": \"would have\", \"wouldn't\": \"would not\", \"wouldn't've\": \"would not have\", \"y'all\": \"you all\",\n",
    "                           \"y'all'd\": \"you all would\",\"y'all'd've\": \"you all would have\",\"y'all're\": \"you all are\",\"y'all've\": \"you all have\",\n",
    "                           \"you'd\": \"you would\", \"you'd've\": \"you would have\", \"you'll\": \"you will\", \"you'll've\": \"you will have\",\n",
    "                           \"you're\": \"you are\", \"you've\": \"you have\"}\n",
    "\n",
    "print(\"정규화 사전의 수: \", len(contractions))"
   ]
  },
  {
   "cell_type": "markdown",
   "id": "turned-hostel",
   "metadata": {},
   "source": [
    "## 불용어(stopwords)\n",
    "일반적으로 텍스트에는 자주 등장하지만 자연어 처리를 할 때 실질적으로 도움이 되지 않는 단어들이 존재합니다.  \n",
    "NLRK에서 제공하는 불용어 리스트를 참조해 샘플에서 불용어를 제거하겠습니다.  \n",
    "  \n",
    "NLTK에서 미리 정의하여 제공하고 있는 불용어는 총 179개 입니다. 이 외에도\n",
    "* 모든 영어문자 소문자로 만들기\n",
    "* 섞여 있는 hrml 태그 제거\n",
    "* 정규표현식으로 각종 특수문자 제거하기 \n",
    "등의 과정으로 필요한 내용만 학습시킬 수 있도록 데이터를 정제하겠습니다. \n",
    "\n",
    "**이때, text의 불용어는 제거하되, 기사의 짧은 헤드라인이 자연스러운 문장이 되기 위해서는 headlines에는 불용어를 남기는 것이 적절하다고 판단했습니다.** "
   ]
  },
  {
   "cell_type": "code",
   "execution_count": 10,
   "id": "signed-jamaica",
   "metadata": {},
   "outputs": [
    {
     "name": "stdout",
     "output_type": "stream",
     "text": [
      "불용어 개수 : 179\n",
      "['i', 'me', 'my', 'myself', 'we', 'our', 'ours', 'ourselves', 'you', \"you're\", \"you've\", \"you'll\", \"you'd\", 'your', 'yours', 'yourself', 'yourselves', 'he', 'him', 'his', 'himself', 'she', \"she's\", 'her', 'hers', 'herself', 'it', \"it's\", 'its', 'itself', 'they', 'them', 'their', 'theirs', 'themselves', 'what', 'which', 'who', 'whom', 'this', 'that', \"that'll\", 'these', 'those', 'am', 'is', 'are', 'was', 'were', 'be', 'been', 'being', 'have', 'has', 'had', 'having', 'do', 'does', 'did', 'doing', 'a', 'an', 'the', 'and', 'but', 'if', 'or', 'because', 'as', 'until', 'while', 'of', 'at', 'by', 'for', 'with', 'about', 'against', 'between', 'into', 'through', 'during', 'before', 'after', 'above', 'below', 'to', 'from', 'up', 'down', 'in', 'out', 'on', 'off', 'over', 'under', 'again', 'further', 'then', 'once', 'here', 'there', 'when', 'where', 'why', 'how', 'all', 'any', 'both', 'each', 'few', 'more', 'most', 'other', 'some', 'such', 'no', 'nor', 'not', 'only', 'own', 'same', 'so', 'than', 'too', 'very', 's', 't', 'can', 'will', 'just', 'don', \"don't\", 'should', \"should've\", 'now', 'd', 'll', 'm', 'o', 're', 've', 'y', 'ain', 'aren', \"aren't\", 'couldn', \"couldn't\", 'didn', \"didn't\", 'doesn', \"doesn't\", 'hadn', \"hadn't\", 'hasn', \"hasn't\", 'haven', \"haven't\", 'isn', \"isn't\", 'ma', 'mightn', \"mightn't\", 'mustn', \"mustn't\", 'needn', \"needn't\", 'shan', \"shan't\", 'shouldn', \"shouldn't\", 'wasn', \"wasn't\", 'weren', \"weren't\", 'won', \"won't\", 'wouldn', \"wouldn't\"]\n"
     ]
    }
   ],
   "source": [
    "print('불용어 개수 :', len(stopwords.words('english') ))\n",
    "print(stopwords.words('english'))"
   ]
  },
  {
   "cell_type": "code",
   "execution_count": 11,
   "id": "educated-motivation",
   "metadata": {},
   "outputs": [],
   "source": [
    "#- 데이터 전처리 함수\n",
    "\n",
    "def preprocess_sentence(sentence, remove_stopwords=True):\n",
    "    sentence = sentence.lower() # 텍스트 소문자화\n",
    "    sentence = BeautifulSoup(sentence, \"lxml\").text # <br />, <a href = ...> 등의 html 태그 제거\n",
    "    sentence = re.sub(r'\\([^)]*\\)', '', sentence) # 괄호로 닫힌 문자열 (...) 제거 Ex) my husband (and myself!) for => my husband for\n",
    "    sentence = re.sub('\"','', sentence) # 쌍따옴표 \" 제거\n",
    "    sentence = ' '.join([contractions[t] if t in contractions else t for t in sentence.split(\" \")]) # 약어 정규화\n",
    "    sentence = re.sub(r\"'s\\b\",\"\", sentence) # 소유격 제거. Ex) roland's -> roland\n",
    "    sentence = re.sub(\"[^a-zA-Z]\", \" \", sentence) # 영어 외 문자(숫자, 특수문자 등) 공백으로 변환\n",
    "    sentence = re.sub('[m]{2,}', 'mm', sentence) # m이 3개 이상이면 2개로 변경. Ex) ummmmmmm yeah -> umm yeah\n",
    "    \n",
    "    #- 불용어 제거 (Text)\n",
    "    if remove_stopwords:\n",
    "        tokens = ' '.join(word for word in sentence.split() if not word in stopwords.words('english') if len(word) >1)\n",
    "    else:\n",
    "        tokens = ' '.join(word for word in sentence.split() if len(word) > 1)\n",
    "    return tokens   "
   ]
  },
  {
   "cell_type": "markdown",
   "id": "durable-tumor",
   "metadata": {},
   "source": [
    "## 훈련 데이터 전체에 대한 전처리\n",
    "* text 는 불용어를 제거하고, headlines는 불용어를 제거하지 않을 것이므로 따로 호출해서 진행하겠습니다. \n",
    "* 멀티프로세싱을 활용하여 별도의 프로세스를 생성하여 병렬처리하면 CPU 수에 비례하여 획기적으로 소요시간을 줄일 수 있습니다."
   ]
  },
  {
   "cell_type": "code",
   "execution_count": 12,
   "id": "corresponding-billion",
   "metadata": {},
   "outputs": [
    {
     "name": "stdout",
     "output_type": "stream",
     "text": [
      "184.33993268013  seconds\n",
      "['saurav kant alumnus upgrad iiit pg program machine learning artificial intelligence sr systems engineer infosys almost years work experience program upgrad degree career support helped transition data scientist tech mahindra salary hike upgrad online power learning powered lakh careers'\n",
      " 'kunal shah credit card bill payment platform cred gave users chance win free food swiggy one year pranav kaushik delhi techie bagged reward spending cred coins users get one cred coin per rupee bill paid used avail rewards brands like ixigo bookmyshow ubereats cult fit'\n",
      " 'new zealand defeated india wickets fourth odi hamilton thursday win first match five match odi series india lost international match rohit sharma captaincy consecutive victories dating back march match witnessed india getting seventh lowest total odi cricket history'\n",
      " ...\n",
      " 'according reports new version science fiction film matrix development michael jordan reportedly play lead role film screenwriter zak penn talks write script film reports added actor keanu reeves starred original film followed two sequels'\n",
      " 'new music video shows rapper snoop dogg aiming toy gun clown character parodying us president donald trump video also shows tv airing news conference headline ronald klump wants deport doggs airing live clown house video remixed version song lavender'\n",
      " 'madhesi morcha alliance seven political parties withdrawn support pm pushpa kamal dahal led nepal government failed meet seven day ultimatum fulfil demands including endorsement revised constitution amendment bill morcha seats parliament despite withdrawal support immediate threat government']\n",
      "5.7809834480285645  seconds\n",
      "['upgrad learner switches to career in ml al with salary hike'\n",
      " 'delhi techie wins free food from swiggy for one year on cred'\n",
      " 'new zealand end rohit sharma led india match winning streak' ...\n",
      " 'the matrix film to get reboot reports'\n",
      " 'snoop dogg aims gun at clown dressed as trump in new video'\n",
      " 'madhesi morcha withdraws support to nepalese government']\n"
     ]
    }
   ],
   "source": [
    "import multiprocessing as mp   # 멀티 프로세싱으로 전처리 속도를 획기적으로 줄여봅시다\n",
    "from multiprocessing import Pool\n",
    "import numpy as np\n",
    "import time\n",
    "from functools import partial  # map을 할 때 함수에 여러 인자를 넣어줄 수 있도록 합니다\n",
    "\n",
    "start = time.time()\n",
    "\n",
    "# num_cores 만큼 쪼개진 데이터를 전처리하여 반환합니다\n",
    "def appendTexts(sentences, remove_stopwords):\n",
    "    texts = []\n",
    "    for s in sentences:\n",
    "        texts += preprocess_sentence(s, remove_stopwords),\n",
    "    return texts\n",
    "\n",
    "def preprocess_data(data, remove_stopwords=True):\n",
    "    start_time = time.time()\n",
    "    num_cores = mp.cpu_count()  # 컴퓨터의 코어 수를 구합니다\n",
    "\n",
    "    text_data_split = np.array_split(data, num_cores)  # 코어 수만큼 데이터를 배분하여 병렬적으로 처리할 수 있게 합니다\n",
    "    pool = Pool(num_cores)\n",
    "\n",
    "    processed_data = np.concatenate(pool.map(partial(appendTexts, remove_stopwords=remove_stopwords), text_data_split))  # 각자 작업한 데이터를 하나로 합쳐줍니다\n",
    "    pool.close()\n",
    "    pool.join()\n",
    "    print(time.time() - start_time, \" seconds\")\n",
    "    return processed_data\n",
    "\n",
    "clean_text = preprocess_data(data['text'])  # 클라우드 기준으로 3~4분 정도 소요 됩니다\n",
    "print(clean_text)\n",
    "\n",
    "clean_headlines = preprocess_data(data['headlines'], remove_stopwords=False) # 클라우드 기준 1분정도 소요됩니다.\n",
    "print(clean_headlines)"
   ]
  },
  {
   "cell_type": "markdown",
   "id": "finished-alberta",
   "metadata": {},
   "source": [
    "* headlines에 전처리 함수 호출 시, 불용어 제거를 수행하지 않는다는 의미에서 두번째 인자로 False를 넣어주었습니다."
   ]
  },
  {
   "cell_type": "code",
   "execution_count": 13,
   "id": "rubber-junior",
   "metadata": {},
   "outputs": [],
   "source": [
    "data['text'] = clean_text\n",
    "data['headlines'] = clean_headlines\n",
    "\n",
    "#- 빈 값을 Null 값으로 반환\n",
    "\n",
    "data.replace('', np.nan, inplace=True)"
   ]
  },
  {
   "cell_type": "code",
   "execution_count": 14,
   "id": "logical-independence",
   "metadata": {},
   "outputs": [
    {
     "data": {
      "text/plain": [
       "headlines    0\n",
       "text         0\n",
       "dtype: int64"
      ]
     },
     "execution_count": 14,
     "metadata": {},
     "output_type": "execute_result"
    }
   ],
   "source": [
    "data.isnull().sum()"
   ]
  },
  {
   "cell_type": "markdown",
   "id": "advance-button",
   "metadata": {},
   "source": [
    "* 정제과정에서 모든 단어가 제거되어 빈 샘플이 생길 수 있기 때문에 확인해야 합니다. \n",
    "* NULL 값이 없음을 확인했습니다. \n",
    "* 아래는 만약 Null 값이 있는 경우, Null 값을 제거하는 코드입니다. "
   ]
  },
  {
   "cell_type": "markdown",
   "id": "narrative-dutch",
   "metadata": {},
   "source": [
    "data.dropna(axis=0, inplace=True)\n",
    "print('전체 샘플수 :', (len(data)))"
   ]
  },
  {
   "cell_type": "markdown",
   "id": "requested-design",
   "metadata": {},
   "source": [
    "## 훈련데이터와 테스트데이터 나누기\n",
    "학습을 진행하기 위해서는 학습에 사용할 데이터의 크기를 결정하고, 문장의 시작과 끝을 표시해 줘야합니다.  \n",
    "샘플의 최대 길이를 정하기 위해, text와 headlines의 최소, 최대, 평균 길이를 구하고 길이분포를 시각화해보겠습니다.  "
   ]
  },
  {
   "cell_type": "code",
   "execution_count": 15,
   "id": "straight-closing",
   "metadata": {},
   "outputs": [
    {
     "name": "stdout",
     "output_type": "stream",
     "text": [
      "텍스트의 최소 길이 : 1\n",
      "텍스트의 최대 길이 : 60\n",
      "텍스트의 평균 길이 : 35.09968483123221\n",
      "헤드라인의 최소 길이 : 1\n",
      "헤드라인의 최대 길이 : 16\n",
      "헤드라인의 평균 길이 : 9.299532330215534\n"
     ]
    },
    {
     "data": {
      "image/png": "[encoded data removed]",
      "text/plain": [
       "<Figure size 432x288 with 2 Axes>"
      ]
     },
     "metadata": {
      "needs_background": "light"
     },
     "output_type": "display_data"
    },
    {
     "data": {
      "image/png": "[encoded data removed]",
      "text/plain": [
       "<Figure size 432x288 with 1 Axes>"
      ]
     },
     "metadata": {
      "needs_background": "light"
     },
     "output_type": "display_data"
    },
    {
     "data": {
      "image/png": "[encoded data removed]",
      "text/plain": [
       "<Figure size 432x288 with 1 Axes>"
      ]
     },
     "metadata": {
      "needs_background": "light"
     },
     "output_type": "display_data"
    }
   ],
   "source": [
    "import matplotlib.pyplot as plt\n",
    "\n",
    "text_len = [len(s.split()) for s in data['text']]\n",
    "headlines_len = [len(s.split()) for s in data['headlines']]\n",
    "\n",
    "print('텍스트의 최소 길이 : {}'.format(np.min(text_len)))\n",
    "print('텍스트의 최대 길이 : {}'.format(np.max(text_len)))\n",
    "print('텍스트의 평균 길이 : {}'.format(np.mean(text_len)))\n",
    "print('헤드라인의 최소 길이 : {}'.format(np.min(headlines_len)))\n",
    "print('헤드라인의 최대 길이 : {}'.format(np.max(headlines_len)))\n",
    "print('헤드라인의 평균 길이 : {}'.format(np.mean(headlines_len)))\n",
    "\n",
    "plt.subplot(1,2,1)\n",
    "plt.boxplot(headlines_len)\n",
    "plt.title('headlines')\n",
    "plt.subplot(1,2,2)\n",
    "plt.boxplot(text_len)\n",
    "plt.title('Text')\n",
    "plt.tight_layout()\n",
    "plt.show()\n",
    "\n",
    "plt.title('headlines')\n",
    "plt.hist(headlines_len, bins = 40)\n",
    "plt.xlabel('length of samples')\n",
    "plt.ylabel('number of samples')\n",
    "plt.show()\n",
    "\n",
    "plt.title('Text')\n",
    "plt.hist(text_len, bins = 40)\n",
    "plt.xlabel('length of samples')\n",
    "plt.ylabel('number of samples')\n",
    "plt.show()"
   ]
  },
  {
   "cell_type": "markdown",
   "id": "marine-british",
   "metadata": {},
   "source": [
    "* 위에서부터 차례대로 그래프는 각각 요약과 실제 텍스트의 길이 분포, 요약본 샘플 길이별 개수, 실제 텍스트 셈플 길이별 개수를 나타냅니다. \n",
    "* text의 경우 최소 길이가 1, 최대 길이가 60 로 차이가 큰 편이지만, 평균 길이는 35로 시각화된 그래프로 봤을 땐 대체적으로 35 내외의 길이를 가진다는 것을 확인할 수 있습니다.\n",
    "* headlines의 경우 최소 길이가 1, 최대 길이가 16, 평균 길이가 9로 text 에 비해 상대적으로 길이가 매우 짧습니다. 그래프로 봤을 때에도 대체적으로 9 내외의 길이를 가집니다.\n",
    "\n",
    "* **위 정보로부터 text의 최대 길이와 headlines의 적절한 최대 길이를 임의로 각각 38, 10으로 정했습니다.** "
   ]
  },
  {
   "cell_type": "code",
   "execution_count": 16,
   "id": "blank-rebound",
   "metadata": {},
   "outputs": [],
   "source": [
    "text_max_len = 38\n",
    "headlines_max_len = 10"
   ]
  },
  {
   "cell_type": "code",
   "execution_count": 17,
   "id": "animal-basket",
   "metadata": {},
   "outputs": [],
   "source": [
    "def below_threshold_len(max_len, nested_list):\n",
    "  cnt = 0\n",
    "  for s in nested_list:\n",
    "    if(len(s.split()) <= max_len):\n",
    "        cnt = cnt + 1\n",
    "  print('전체 샘플 중 길이가 %s 이하인 샘플의 비율: %s'%(max_len, (cnt / len(nested_list))))"
   ]
  },
  {
   "cell_type": "code",
   "execution_count": 18,
   "id": "gentle-berry",
   "metadata": {},
   "outputs": [
    {
     "name": "stdout",
     "output_type": "stream",
     "text": [
      "전체 샘플 중 길이가 38 이하인 샘플의 비율: 0.8163379422529483\n",
      "전체 샘플 중 길이가 10 이하인 샘플의 비율: 0.8162972753151687\n"
     ]
    }
   ],
   "source": [
    "below_threshold_len(text_max_len, data['text'])\n",
    "below_threshold_len(headlines_max_len,  data['headlines'])"
   ]
  },
  {
   "cell_type": "code",
   "execution_count": 19,
   "id": "naked-recommendation",
   "metadata": {},
   "outputs": [
    {
     "name": "stdout",
     "output_type": "stream",
     "text": [
      "전체 샘플수 : 65295\n"
     ]
    }
   ],
   "source": [
    "data = data[data['text'].apply(lambda x: len(x.split()) <= text_max_len)]\n",
    "data = data[data['headlines'].apply(lambda x: len(x.split()) <= headlines_max_len)]\n",
    "print('전체 샘플수 :', (len(data)))"
   ]
  },
  {
   "cell_type": "markdown",
   "id": "broadband-george",
   "metadata": {},
   "source": [
    "## 시작 토큰과 종료 토큰 추가하기\n",
    "* 디코더는 시작 토큰을 입력받아 문장을 생성하기 시작하고, 종료 토큰을 예측한 순간에 문장 생성을 멈추는 것입니다.\n",
    "* seq2seq 훈련을 위해서는 디코더의 입력과 레이블에 시작 토큰과 종료 토큰을 추가해야 합니다.\n",
    "* 시작 토큰은 sostoken, 종료 토큰은 eostoken이라 임의로 명명하고 앞뒤로 추가하겠습니다. \n",
    "* 디코더의 입력에 해당하면서 시작 토큰이 맨 앞에 있는 문장의 이름을 decoder_input, 디코더의 출력 또는 레이블에 해당되면서 종료 토큰이 맨 뒤에 붙는 문장의 이름을 decoder_target이라 이름을 정하겠습니다. "
   ]
  },
  {
   "cell_type": "code",
   "execution_count": 20,
   "id": "foreign-broadcasting",
   "metadata": {
    "scrolled": true
   },
   "outputs": [
    {
     "data": {
      "text/html": [
       "<div>\n",
       "<style scoped>\n",
       "    .dataframe tbody tr th:only-of-type {\n",
       "        vertical-align: middle;\n",
       "    }\n",
       "\n",
       "    .dataframe tbody tr th {\n",
       "        vertical-align: top;\n",
       "    }\n",
       "\n",
       "    .dataframe thead th {\n",
       "        text-align: right;\n",
       "    }\n",
       "</style>\n",
       "<table border=\"1\" class=\"dataframe\">\n",
       "  <thead>\n",
       "    <tr style=\"text-align: right;\">\n",
       "      <th></th>\n",
       "      <th>headlines</th>\n",
       "      <th>text</th>\n",
       "      <th>decoder_input</th>\n",
       "      <th>decoder_target</th>\n",
       "    </tr>\n",
       "  </thead>\n",
       "  <tbody>\n",
       "    <tr>\n",
       "      <th>2</th>\n",
       "      <td>new zealand end rohit sharma led india match w...</td>\n",
       "      <td>new zealand defeated india wickets fourth odi ...</td>\n",
       "      <td>sostoken new zealand end rohit sharma led indi...</td>\n",
       "      <td>new zealand end rohit sharma led india match w...</td>\n",
       "    </tr>\n",
       "    <tr>\n",
       "      <th>3</th>\n",
       "      <td>aegon life iterm insurance plan helps customer...</td>\n",
       "      <td>aegon life iterm insurance plan customers enjo...</td>\n",
       "      <td>sostoken aegon life iterm insurance plan helps...</td>\n",
       "      <td>aegon life iterm insurance plan helps customer...</td>\n",
       "    </tr>\n",
       "    <tr>\n",
       "      <th>5</th>\n",
       "      <td>rahat fateh ali khan denies getting notice for...</td>\n",
       "      <td>pakistani singer rahat fateh ali khan denied r...</td>\n",
       "      <td>sostoken rahat fateh ali khan denies getting n...</td>\n",
       "      <td>rahat fateh ali khan denies getting notice for...</td>\n",
       "    </tr>\n",
       "    <tr>\n",
       "      <th>9</th>\n",
       "      <td>cong wins ramgarh bypoll in rajasthan takes to...</td>\n",
       "      <td>congress candidate shafia zubair ramgarh assem...</td>\n",
       "      <td>sostoken cong wins ramgarh bypoll in rajasthan...</td>\n",
       "      <td>cong wins ramgarh bypoll in rajasthan takes to...</td>\n",
       "    </tr>\n",
       "    <tr>\n",
       "      <th>10</th>\n",
       "      <td>up cousins fed human excreta for friendship wi...</td>\n",
       "      <td>two minor cousins uttar pradesh gorakhpur alle...</td>\n",
       "      <td>sostoken up cousins fed human excreta for frie...</td>\n",
       "      <td>up cousins fed human excreta for friendship wi...</td>\n",
       "    </tr>\n",
       "  </tbody>\n",
       "</table>\n",
       "</div>"
      ],
      "text/plain": [
       "                                            headlines  \\\n",
       "2   new zealand end rohit sharma led india match w...   \n",
       "3   aegon life iterm insurance plan helps customer...   \n",
       "5   rahat fateh ali khan denies getting notice for...   \n",
       "9   cong wins ramgarh bypoll in rajasthan takes to...   \n",
       "10  up cousins fed human excreta for friendship wi...   \n",
       "\n",
       "                                                 text  \\\n",
       "2   new zealand defeated india wickets fourth odi ...   \n",
       "3   aegon life iterm insurance plan customers enjo...   \n",
       "5   pakistani singer rahat fateh ali khan denied r...   \n",
       "9   congress candidate shafia zubair ramgarh assem...   \n",
       "10  two minor cousins uttar pradesh gorakhpur alle...   \n",
       "\n",
       "                                        decoder_input  \\\n",
       "2   sostoken new zealand end rohit sharma led indi...   \n",
       "3   sostoken aegon life iterm insurance plan helps...   \n",
       "5   sostoken rahat fateh ali khan denies getting n...   \n",
       "9   sostoken cong wins ramgarh bypoll in rajasthan...   \n",
       "10  sostoken up cousins fed human excreta for frie...   \n",
       "\n",
       "                                       decoder_target  \n",
       "2   new zealand end rohit sharma led india match w...  \n",
       "3   aegon life iterm insurance plan helps customer...  \n",
       "5   rahat fateh ali khan denies getting notice for...  \n",
       "9   cong wins ramgarh bypoll in rajasthan takes to...  \n",
       "10  up cousins fed human excreta for friendship wi...  "
      ]
     },
     "execution_count": 20,
     "metadata": {},
     "output_type": "execute_result"
    }
   ],
   "source": [
    "data['decoder_input'] = data['headlines'].apply(lambda x : 'sostoken ' + x)\n",
    "data['decoder_target'] = data['headlines'].apply(lambda x : x + ' eostoken')\n",
    "data.head()"
   ]
  },
  {
   "cell_type": "markdown",
   "id": "pressed-barcelona",
   "metadata": {},
   "source": [
    "인코더의 입력, 디코더의 입력과 레이블을 각각 Numpy 타입으로 저장하겠습니다."
   ]
  },
  {
   "cell_type": "code",
   "execution_count": 21,
   "id": "reverse-illness",
   "metadata": {},
   "outputs": [],
   "source": [
    "encoder_input = np.array(data['text']) #- 인코더의 입력\n",
    "decoder_input = np.array(data['decoder_input']) #- 디코더의 입력\n",
    "decoder_target = np.array(data['decoder_target']) #-디코더의 레이블"
   ]
  },
  {
   "cell_type": "markdown",
   "id": "endangered-airline",
   "metadata": {},
   "source": [
    "훈련 데이터와 테스트 데이터를 직접 분리하겠습니다.   \n",
    "아래 랜덤한 정수 시퀀스를 이용해서 데이터의 샘플 순서를 정의해주면 잘 섞인 샘플이 될 것입니다.   \n",
    "잘 섞인 데이터를 8:2의 비율로 훈련 데이터와 테스트 데이터로 분리하겠습니다.  "
   ]
  },
  {
   "cell_type": "code",
   "execution_count": 22,
   "id": "amber-virginia",
   "metadata": {},
   "outputs": [
    {
     "name": "stdout",
     "output_type": "stream",
     "text": [
      "[18115 10309 39214 ... 35104 58166 52801]\n"
     ]
    }
   ],
   "source": [
    "indices = np.arange(encoder_input.shape[0])\n",
    "np.random.shuffle(indices)\n",
    "print(indices)"
   ]
  },
  {
   "cell_type": "code",
   "execution_count": 23,
   "id": "neural-turner",
   "metadata": {},
   "outputs": [],
   "source": [
    "encoder_input = encoder_input[indices]\n",
    "decoder_input = decoder_input[indices]\n",
    "decoder_target = decoder_target[indices]"
   ]
  },
  {
   "cell_type": "code",
   "execution_count": 24,
   "id": "extra-house",
   "metadata": {},
   "outputs": [
    {
     "name": "stdout",
     "output_type": "stream",
     "text": [
      "테스트 데이터의 수 : 13059\n"
     ]
    }
   ],
   "source": [
    "n_of_val = int(len(encoder_input)*0.2)\n",
    "print('테스트 데이터의 수 :', n_of_val)"
   ]
  },
  {
   "cell_type": "code",
   "execution_count": 25,
   "id": "dressed-organizer",
   "metadata": {},
   "outputs": [
    {
     "name": "stdout",
     "output_type": "stream",
     "text": [
      "훈련 데이터의 개수 : 52236\n",
      "훈련 레이블의 개수 : 52236\n",
      "테스트 데이터의 개수 : 13059\n",
      "테스트 레이블의 개수 : 13059\n"
     ]
    }
   ],
   "source": [
    "encoder_input_train = encoder_input[:-n_of_val]\n",
    "decoder_input_train = decoder_input[:-n_of_val]\n",
    "decoder_target_train = decoder_target[:-n_of_val]\n",
    "\n",
    "encoder_input_test = encoder_input[-n_of_val:]\n",
    "decoder_input_test = decoder_input[-n_of_val:]\n",
    "decoder_target_test = decoder_target[-n_of_val:]\n",
    "\n",
    "print('훈련 데이터의 개수 :', len(encoder_input_train))\n",
    "print('훈련 레이블의 개수 :', len(decoder_input_train))\n",
    "print('테스트 데이터의 개수 :', len(encoder_input_test))\n",
    "print('테스트 레이블의 개수 :', len(decoder_input_test))"
   ]
  },
  {
   "cell_type": "code",
   "execution_count": 26,
   "id": "curious-transcription",
   "metadata": {},
   "outputs": [
    {
     "data": {
      "text/plain": [
       "array(['sostoken oneplus announces exciting oneplus launch offers starting may',\n",
       "       'sostoken veteran actor dilip kumar diagnosed with pneumonia',\n",
       "       'sostoken centre slams un expert who criticised swachh bharat mission',\n",
       "       ...,\n",
       "       'sostoken us has lost mediator role in middle east turkish prez',\n",
       "       'sostoken chose computer science over becoming mayor twitter ceo',\n",
       "       'sostoken yr old computer built by steve jobs sells for crore'],\n",
       "      dtype=object)"
      ]
     },
     "execution_count": 26,
     "metadata": {},
     "output_type": "execute_result"
    }
   ],
   "source": [
    "decoder_input_train"
   ]
  },
  {
   "cell_type": "markdown",
   "id": "automatic-tract",
   "metadata": {},
   "source": [
    "## 정수 인코딩 \n",
    "단어 집합(vocabulary) 만들기 및 정수 인코딩의 작업을 하겠습니다.   \n",
    "기계가 텍스트를 숫자로 처리할 수 있도록 훈련 데이터와 테스트 데이터의 단어들을 모두 정수로 바꾸어 주어야 합니다.   \n",
    "\n",
    "각 단어에 고유한 정수를 맵핑하는 작업이 필요한데,이 과정을 단어집합(Vocabulary)를 만든다고 표현합니다. \n",
    "\n",
    "* 훈련 데이터에 대한 단어집합을 만들어보겠습니다.  \n",
    "* 우선적으로 원문에 해당하는 encoder_input_train에 대한 단어 집합을 만들겠습니다. \n",
    "* Keras의 토크나이저를 사용하면, 입력된 훈련 데이터로부터 단어 집합을 만들 수 있습니다. \n",
    "\n",
    "### encoder_input_train 단어집합"
   ]
  },
  {
   "cell_type": "code",
   "execution_count": 27,
   "id": "regular-croatia",
   "metadata": {},
   "outputs": [],
   "source": [
    "src_tokenizer = Tokenizer() #- 토크나이저 정의\n",
    "src_tokenizer.fit_on_texts(encoder_input_train) #- 입력된 데이터로부터 단어 집합 생성"
   ]
  },
  {
   "cell_type": "markdown",
   "id": "connected-specific",
   "metadata": {},
   "source": [
    "단어 집합이 생성되는 동시에 각 단어에 고유한 정수가 부여되었습니다.  \n",
    "현재 생성된 단어 집합은 src_tokenizer.word_index에 저장되어 있습니다.   \n",
    "그런데 우리는 단어 집합에 있느 모든 단어를 사용하는 것이 아니라, 빈도수가 낮은 단어들을 훈련 데이터에서 제외하고 진행하려고 합니다. \n",
    "  \n",
    "* 등장 빈도수가 7회 미만은 단어들이 이 데이터에서 얼마만큼의 비중을 차지하는지 확인해보겠습니다.   \n",
    "* src_tokenizer.word_counts.items()에는 단어와 각 단어의 등장 빈도수가 저장돼 있는데, 이를 통해서 통계적인 정보를 얻을 수 있습니다.   "
   ]
  },
  {
   "cell_type": "code",
   "execution_count": 28,
   "id": "considerable-multiple",
   "metadata": {},
   "outputs": [
    {
     "name": "stdout",
     "output_type": "stream",
     "text": [
      "단어 집합(vocabulary)의 크기 : 57367\n",
      "등장 빈도가 6번 이하인 희귀 단어의 수: 39449\n",
      "단어 집합에서 희귀 단어를 제외시킬 경우의 단어 집합의 크기 17918\n",
      "단어 집합에서 희귀 단어의 비율: 68.76601530496626\n",
      "전체 등장 빈도에서 희귀 단어 등장 빈도 비율: 4.537751485166954\n"
     ]
    }
   ],
   "source": [
    "threshold = 7\n",
    "total_cnt = len(src_tokenizer.word_index) #- 단어의 수\n",
    "rare_cnt = 0 #- 등장 빈도수가 threshold보다 작은 단어의 개수를 카운트\n",
    "total_freq = 0 #- 훈련 데이터의 전체 단어 빈도수의 총 합 \n",
    "rare_freq = 0 #- 등장 빈도수가 threshold 보다 작은 단어의 등장 빈도수의 합 \n",
    "\n",
    "#- 단어와 빈도수의 쌍(pair)를 key와 value로 받는다\n",
    "\n",
    "for key, value in src_tokenizer.word_counts.items():\n",
    "    total_freq = total_freq + value\n",
    "    \n",
    "    #- 단어의 등장 빈도수가 threshold보다 작으면\n",
    "    if (value < threshold):\n",
    "        rare_cnt = rare_cnt + 1\n",
    "        rare_freq = rare_freq + value\n",
    "        \n",
    "print('단어 집합(vocabulary)의 크기 :', total_cnt)\n",
    "print('등장 빈도가 %s번 이하인 희귀 단어의 수: %s'%(threshold - 1, rare_cnt))\n",
    "print('단어 집합에서 희귀 단어를 제외시킬 경우의 단어 집합의 크기 %s'%(total_cnt - rare_cnt))\n",
    "print(\"단어 집합에서 희귀 단어의 비율:\", (rare_cnt / total_cnt)*100)\n",
    "print(\"전체 등장 빈도에서 희귀 단어 등장 빈도 비율:\", (rare_freq / total_freq)*100)        "
   ]
  },
  {
   "cell_type": "markdown",
   "id": "automated-crawford",
   "metadata": {},
   "source": [
    "* encoder_input_train에는 약 5만7천개의 단어가 있습니다.\n",
    "* 등장 빈도가 threshold 값은 7회 미만, 즉 6회 이하인 단어들은 단어 집합에서 70% 에 육박합니다. \n",
    "* 하지만 실제로 훈련 데이터에서 등장 빈도로 차지하는 비중은 상대적으로 적은 수치인 4.54% 밖에 되지 않습니다. \n",
    "* 이러한 단어들은 훈련에 큰 영향을 주지 않으면서 연산량을 차지하기 때문에, 등장 빈도가 6회 이하인 단어들은 정수 인코딩 과정에서 빼고, 훈련 데이터에서 제거하겠습니다. \n",
    "* 위에서 이를 제외한 단어 집합의 크기를 17863개로 계산했는데 이와 비슷한 값으로 어림잡아 1만7천으로 제한해보겠습니다. \n",
    "* 토크나이저 정의 시 num_words 값을 정해주면, 단어 집합의 크기를 제한할 수 있습니다.\n"
   ]
  },
  {
   "cell_type": "code",
   "execution_count": 29,
   "id": "endangered-offense",
   "metadata": {},
   "outputs": [],
   "source": [
    "src_vocab = 17000\n",
    "src_tokenizer = Tokenizer(num_words=src_vocab) # 단어 집합의 크기를 17,000으로 제한\n",
    "src_tokenizer.fit_on_texts(encoder_input_train) # 단어 집합 재생성."
   ]
  },
  {
   "cell_type": "markdown",
   "id": "moved-wales",
   "metadata": {},
   "source": [
    "* texts_to_sequences()는 생성된 단어 집합에 기반하여 입력으로 주어진 텍스트 데이터의 단어들을 모두 정수로 변환하는 정수 인코딩을 수행합니다.\n",
    "\n",
    "* 현재 단어 집합의 크기를 17,000으로 제한했으니까 이제 17,000이 넘는 숫자들은 정수 인코딩 후에는 데이터에 존재하지 않습니다."
   ]
  },
  {
   "cell_type": "code",
   "execution_count": 30,
   "id": "cubic-section",
   "metadata": {},
   "outputs": [
    {
     "name": "stdout",
     "output_type": "stream",
     "text": [
      "[[1991, 79, 1464, 5396, 1751, 583, 1991, 3913, 116, 4402, 4265, 4786, 1981, 1441, 11, 171, 260, 526, 199, 914, 1902, 1346, 4849, 5, 1309, 2611, 1051, 520, 191, 662, 7688, 520, 16650], [1843, 48, 4719, 206, 578, 72, 13229, 130, 8024, 3125, 14655, 10352, 185, 12581, 15557, 1, 66, 663, 441, 25, 156, 849, 7054, 10352, 1457, 3826, 825, 819, 1, 2, 14, 48, 185], [192, 392, 525, 3950, 12066, 361, 4556, 1287, 1134, 10007, 14656, 314, 508, 2221, 1, 30, 1956, 7373, 161, 4557, 3711, 1134, 314, 508, 7373, 9, 1, 2352, 689, 1752, 507, 254, 549]]\n"
     ]
    }
   ],
   "source": [
    "# 텍스트 시퀀스를 정수 시퀀스로 변환\n",
    "encoder_input_train = src_tokenizer.texts_to_sequences(encoder_input_train) \n",
    "encoder_input_test = src_tokenizer.texts_to_sequences(encoder_input_test)\n",
    "\n",
    "# 잘 진행되었는지 샘플 출력\n",
    "print(encoder_input_train[:3])"
   ]
  },
  {
   "cell_type": "markdown",
   "id": "other-withdrawal",
   "metadata": {},
   "source": [
    "### decoder_input_train 단어집합\n",
    "* Summary 데이터에 대해서도 동일한 작업을 수행합니다.\n",
    "* 케라스의 토크나이저를 사용하여 decoder_input_train을 입력으로 전체 단어 집합과 각 단어에 대한 빈도수를 계산하겠습니다."
   ]
  },
  {
   "cell_type": "code",
   "execution_count": 31,
   "id": "ideal-adapter",
   "metadata": {},
   "outputs": [],
   "source": [
    "tar_tokenizer = Tokenizer()\n",
    "tar_tokenizer.fit_on_texts(decoder_input_train)"
   ]
  },
  {
   "cell_type": "code",
   "execution_count": 32,
   "id": "dressed-fashion",
   "metadata": {},
   "outputs": [
    {
     "name": "stdout",
     "output_type": "stream",
     "text": [
      "단어 집합(vocabulary)의 크기 : 25873\n",
      "등장 빈도가 6번 이하인 희귀 단어의 수: 18325\n",
      "단어 집합에서 희귀 단어를 제외시킬 경우의 단어 집합의 크기 7548\n",
      "단어 집합에서 희귀 단어의 비율: 70.82673056854635\n",
      "전체 등장 빈도에서 희귀 단어 등장 빈도 비율: 7.492913293784155\n"
     ]
    }
   ],
   "source": [
    "threshold = 7\n",
    "total_cnt = len(tar_tokenizer.word_index) # 단어의 수\n",
    "rare_cnt = 0 # 등장 빈도수가 threshold보다 작은 단어의 개수를 카운트\n",
    "total_freq = 0 # 훈련 데이터의 전체 단어 빈도수 총 합\n",
    "rare_freq = 0 # 등장 빈도수가 threshold보다 작은 단어의 등장 빈도수의 총 합\n",
    "\n",
    "# 단어와 빈도수의 쌍(pair)을 key와 value로 받는다.\n",
    "for key, value in tar_tokenizer.word_counts.items():\n",
    "    total_freq = total_freq + value\n",
    "\n",
    "    # 단어의 등장 빈도수가 threshold보다 작으면\n",
    "    if(value < threshold):\n",
    "        rare_cnt = rare_cnt + 1\n",
    "        rare_freq = rare_freq + value\n",
    "\n",
    "print('단어 집합(vocabulary)의 크기 :', total_cnt)\n",
    "print('등장 빈도가 %s번 이하인 희귀 단어의 수: %s'%(threshold - 1, rare_cnt))\n",
    "print('단어 집합에서 희귀 단어를 제외시킬 경우의 단어 집합의 크기 %s'%(total_cnt - rare_cnt))\n",
    "print(\"단어 집합에서 희귀 단어의 비율:\", (rare_cnt / total_cnt)*100)\n",
    "print(\"전체 등장 빈도에서 희귀 단어 등장 빈도 비율:\", (rare_freq / total_freq)*100)"
   ]
  },
  {
   "cell_type": "markdown",
   "id": "compound-baking",
   "metadata": {},
   "source": [
    "* 등장 빈도가 6회 이하인 단어들은 단어 집합에서 약 71%를 차지합니다.  \n",
    "* 이하는 encoder_input_train의 단어집합 생성 과정과 동일합니다.\n",
    "* 단어집합의 크기는 7000으로 정했습니다. "
   ]
  },
  {
   "cell_type": "code",
   "execution_count": 33,
   "id": "armed-chicago",
   "metadata": {},
   "outputs": [
    {
     "name": "stdout",
     "output_type": "stream",
     "text": [
      "input\n",
      "input  [[1, 1201, 298, 6403, 1201, 224, 340, 3220, 97], [1, 2200, 184, 3112, 373, 3923, 9], [1, 198, 200, 207, 4935, 50, 2257, 3630, 823, 1155], [1, 2379, 3221, 1857, 747, 30, 4, 2755], [1, 3924, 1003, 142, 13, 140, 414, 768]]\n",
      "target\n",
      "decoder  [[1201, 298, 6403, 1201, 224, 340, 3220, 97, 2], [2200, 184, 3112, 373, 3923, 9, 2], [198, 200, 207, 4935, 50, 2257, 3630, 823, 1155, 2], [2379, 3221, 1857, 747, 30, 4, 2755, 2], [3924, 1003, 142, 13, 140, 414, 768, 2]]\n"
     ]
    }
   ],
   "source": [
    "tar_vocab = 7000\n",
    "tar_tokenizer = Tokenizer(num_words=tar_vocab) \n",
    "tar_tokenizer.fit_on_texts(decoder_input_train)\n",
    "tar_tokenizer.fit_on_texts(decoder_target_train)\n",
    "\n",
    "# 텍스트 시퀀스를 정수 시퀀스로 변환\n",
    "decoder_input_train = tar_tokenizer.texts_to_sequences(decoder_input_train) \n",
    "decoder_target_train = tar_tokenizer.texts_to_sequences(decoder_target_train)\n",
    "decoder_input_test = tar_tokenizer.texts_to_sequences(decoder_input_test)\n",
    "decoder_target_test = tar_tokenizer.texts_to_sequences(decoder_target_test)\n",
    "\n",
    "# 잘 변환되었는지 확인\n",
    "print('input')\n",
    "print('input ',decoder_input_train[:5])\n",
    "print('target')\n",
    "print('decoder ',decoder_target_train[:5])"
   ]
  },
  {
   "cell_type": "markdown",
   "id": "determined-league",
   "metadata": {},
   "source": [
    "* 전체 데이터에서 빈도수가 낮은 단어가 삭제되었다는 것은 빈도수가 낮은 단어만으로 구성되었던 샘플들은 이제 빈(empty) 샘플이 되었을 가능성이 있습니다.\n",
    "* 이 현상은 길이가 상대적으로 길었던 원문(Text)의 경우에는 문제가 별로 없겠지만, 애초에 평균 길이가 4밖에 되지 않았던 요약문(Summary)의 경우에는 이 현상이 굉장히 두드러졌을 가능성이 높습니다.\n",
    "* 요약문인 decoder_input에는 sostoken 또는 decoder_target에는 eostoken이 추가된 상태이고, 이 두 토큰은 모든 샘플에서 등장하므로 빈도수가 샘플 수와 동일하게 매우 높으므로 단어 집합 제한에도 삭제되지 않습니다. 그래서 이제 길이가 0이 된 요약문의 실제 길이는 1로 나올 것이라는 것을 주의해야 합니다. \n",
    "* 훈련 데이터와 테스트 데이터에 대해서 요약문의 길이가 1인 경우의 인덱스를 각각 drop_train과 drop_test에 라는 변수에 저장해보겠습니다."
   ]
  },
  {
   "cell_type": "code",
   "execution_count": 34,
   "id": "baking-agenda",
   "metadata": {},
   "outputs": [
    {
     "name": "stdout",
     "output_type": "stream",
     "text": [
      "삭제할 훈련 데이터의 개수 : 1\n",
      "삭제할 테스트 데이터의 개수 : 0\n",
      "훈련 데이터의 개수 : 52235\n",
      "훈련 레이블의 개수 : 52235\n",
      "테스트 데이터의 개수 : 13059\n",
      "테스트 레이블의 개수 : 13059\n"
     ]
    },
    {
     "name": "stderr",
     "output_type": "stream",
     "text": [
      "/opt/conda/lib/python3.7/site-packages/numpy/core/_asarray.py:83: VisibleDeprecationWarning: Creating an ndarray from ragged nested sequences (which is a list-or-tuple of lists-or-tuples-or ndarrays with different lengths or shapes) is deprecated. If you meant to do this, you must specify 'dtype=object' when creating the ndarray\n",
      "  return array(a, dtype, copy=False, order=order)\n"
     ]
    }
   ],
   "source": [
    "drop_train = [index for index, sentence in enumerate(decoder_input_train) if len(sentence) == 1]\n",
    "drop_test = [index for index, sentence in enumerate(decoder_input_test) if len(sentence) == 1]\n",
    "\n",
    "print('삭제할 훈련 데이터의 개수 :', len(drop_train))\n",
    "print('삭제할 테스트 데이터의 개수 :', len(drop_test))\n",
    "\n",
    "encoder_input_train = np.delete(encoder_input_train, drop_train, axis=0)\n",
    "decoder_input_train = np.delete(decoder_input_train, drop_train, axis=0)\n",
    "decoder_target_train = np.delete(decoder_target_train, drop_train, axis=0)\n",
    "\n",
    "encoder_input_test = np.delete(encoder_input_test, drop_test, axis=0)\n",
    "decoder_input_test = np.delete(decoder_input_test, drop_test, axis=0)\n",
    "decoder_target_test = np.delete(decoder_target_test, drop_test, axis=0)\n",
    "\n",
    "print('훈련 데이터의 개수 :', len(encoder_input_train))\n",
    "print('훈련 레이블의 개수 :', len(decoder_input_train))\n",
    "print('테스트 데이터의 개수 :', len(encoder_input_test))\n",
    "print('테스트 레이블의 개수 :', len(decoder_input_test))"
   ]
  },
  {
   "cell_type": "markdown",
   "id": "organized-copyright",
   "metadata": {},
   "source": [
    "## 패딩하기 \n",
    "패딩작업은 서로 다른 길이의 샘플들을 병렬 처리하기 위해 같은 길이로 맞춰줍니다."
   ]
  },
  {
   "cell_type": "code",
   "execution_count": 35,
   "id": "cooked-tuning",
   "metadata": {},
   "outputs": [],
   "source": [
    "encoder_input_train = pad_sequences(encoder_input_train, maxlen=text_max_len, padding='post')\n",
    "encoder_input_test = pad_sequences(encoder_input_test, maxlen=text_max_len, padding='post')\n",
    "decoder_input_train = pad_sequences(decoder_input_train, maxlen=headlines_max_len, padding='post')\n",
    "decoder_target_train = pad_sequences(decoder_target_train, maxlen=headlines_max_len, padding='post')\n",
    "decoder_input_test = pad_sequences(decoder_input_test, maxlen=headlines_max_len, padding='post')\n",
    "decoder_target_test = pad_sequences(decoder_target_test, maxlen=headlines_max_len, padding='post')"
   ]
  },
  {
   "cell_type": "markdown",
   "id": "corresponding-reward",
   "metadata": {},
   "source": [
    "# 1-2. 모델 설계하기\n",
    "함수형 API를 이용해서 인코더를 설계합니다."
   ]
  },
  {
   "cell_type": "code",
   "execution_count": 36,
   "id": "split-eclipse",
   "metadata": {},
   "outputs": [
    {
     "name": "stdout",
     "output_type": "stream",
     "text": [
      "WARNING:tensorflow:Layer lstm will not use cuDNN kernel since it doesn't meet the cuDNN kernel criteria. It will use generic GPU kernel as fallback when running on GPU\n",
      "WARNING:tensorflow:Layer lstm_1 will not use cuDNN kernel since it doesn't meet the cuDNN kernel criteria. It will use generic GPU kernel as fallback when running on GPU\n",
      "WARNING:tensorflow:Layer lstm_2 will not use cuDNN kernel since it doesn't meet the cuDNN kernel criteria. It will use generic GPU kernel as fallback when running on GPU\n"
     ]
    }
   ],
   "source": [
    "from tensorflow.keras.layers import Input, LSTM, Embedding, Dense, Concatenate\n",
    "from tensorflow.keras.models import Model\n",
    "from tensorflow.keras.callbacks import EarlyStopping, ModelCheckpoint\n",
    "\n",
    "\n",
    "# 인코더 설계 시작\n",
    "embedding_dim = 128\n",
    "hidden_size = 256\n",
    "\n",
    "# 인코더\n",
    "encoder_inputs = Input(shape=(text_max_len,))\n",
    "\n",
    "# 인코더의 임베딩 층\n",
    "enc_emb = Embedding(src_vocab, embedding_dim)(encoder_inputs)\n",
    "\n",
    "# 인코더의 LSTM 1\n",
    "encoder_lstm1 = LSTM(hidden_size, return_sequences=True, return_state=True ,dropout = 0.4, recurrent_dropout = 0.4)\n",
    "encoder_output1, state_h1, state_c1 = encoder_lstm1(enc_emb)\n",
    "\n",
    "# 인코더의 LSTM 2\n",
    "encoder_lstm2 = LSTM(hidden_size, return_sequences=True, return_state=True, dropout=0.4, recurrent_dropout=0.4)\n",
    "encoder_output2, state_h2, state_c2 = encoder_lstm2(encoder_output1)\n",
    "\n",
    "# 인코더의 LSTM 3\n",
    "encoder_lstm3 = LSTM(hidden_size, return_state=True, return_sequences=True, dropout=0.4, recurrent_dropout=0.4)\n",
    "encoder_outputs, state_h, state_c= encoder_lstm3(encoder_output2)"
   ]
  },
  {
   "cell_type": "markdown",
   "id": "numerical-discount",
   "metadata": {},
   "source": [
    "* 임베딩 벡터의 차원은 128로 정의하고, hidden state의 크기를 256으로 정의했습니다."
   ]
  },
  {
   "cell_type": "code",
   "execution_count": 37,
   "id": "north-ethiopia",
   "metadata": {},
   "outputs": [
    {
     "name": "stdout",
     "output_type": "stream",
     "text": [
      "WARNING:tensorflow:Layer lstm_3 will not use cuDNN kernel since it doesn't meet the cuDNN kernel criteria. It will use generic GPU kernel as fallback when running on GPU\n"
     ]
    }
   ],
   "source": [
    "# 디코더 설계\n",
    "decoder_inputs = Input(shape=(None,))\n",
    "\n",
    "# 디코더의 임베딩 층\n",
    "dec_emb_layer = Embedding(tar_vocab, embedding_dim)\n",
    "dec_emb = dec_emb_layer(decoder_inputs)\n",
    "\n",
    "# 디코더의 LSTM\n",
    "decoder_lstm = LSTM(hidden_size, return_sequences=True, return_state=True, dropout=0.4, recurrent_dropout=0.2)\n",
    "decoder_outputs, _, _ = decoder_lstm(dec_emb, initial_state=[state_h, state_c])"
   ]
  },
  {
   "cell_type": "markdown",
   "id": "effective-worry",
   "metadata": {},
   "source": [
    "* 디코더의 임베딩 층과 LSTM을 설계하는 것은 인코더와 거의 동일하지만 LSTM의 입력을 정의할 때, initial_state의 인자값으로 인코더의 hidden state와 cell state의 값을 넣어줘야합니다."
   ]
  },
  {
   "cell_type": "code",
   "execution_count": 38,
   "id": "static-pottery",
   "metadata": {},
   "outputs": [
    {
     "name": "stdout",
     "output_type": "stream",
     "text": [
      "Model: \"model\"\n",
      "__________________________________________________________________________________________________\n",
      "Layer (type)                    Output Shape         Param #     Connected to                     \n",
      "==================================================================================================\n",
      "input_1 (InputLayer)            [(None, 38)]         0                                            \n",
      "__________________________________________________________________________________________________\n",
      "embedding (Embedding)           (None, 38, 128)      2176000     input_1[0][0]                    \n",
      "__________________________________________________________________________________________________\n",
      "lstm (LSTM)                     [(None, 38, 256), (N 394240      embedding[0][0]                  \n",
      "__________________________________________________________________________________________________\n",
      "input_2 (InputLayer)            [(None, None)]       0                                            \n",
      "__________________________________________________________________________________________________\n",
      "lstm_1 (LSTM)                   [(None, 38, 256), (N 525312      lstm[0][0]                       \n",
      "__________________________________________________________________________________________________\n",
      "embedding_1 (Embedding)         (None, None, 128)    896000      input_2[0][0]                    \n",
      "__________________________________________________________________________________________________\n",
      "lstm_2 (LSTM)                   [(None, 38, 256), (N 525312      lstm_1[0][0]                     \n",
      "__________________________________________________________________________________________________\n",
      "lstm_3 (LSTM)                   [(None, None, 256),  394240      embedding_1[0][0]                \n",
      "                                                                 lstm_2[0][1]                     \n",
      "                                                                 lstm_2[0][2]                     \n",
      "__________________________________________________________________________________________________\n",
      "dense (Dense)                   (None, None, 7000)   1799000     lstm_3[0][0]                     \n",
      "==================================================================================================\n",
      "Total params: 6,710,104\n",
      "Trainable params: 6,710,104\n",
      "Non-trainable params: 0\n",
      "__________________________________________________________________________________________________\n"
     ]
    }
   ],
   "source": [
    "# 디코더의 출력층\n",
    "decoder_softmax_layer = Dense(tar_vocab, activation='softmax')\n",
    "decoder_softmax_outputs = decoder_softmax_layer(decoder_outputs) \n",
    "\n",
    "# 모델 정의\n",
    "model = Model([encoder_inputs, decoder_inputs], decoder_softmax_outputs)\n",
    "model.summary()"
   ]
  },
  {
   "cell_type": "markdown",
   "id": "plastic-analyst",
   "metadata": {},
   "source": [
    "# 어텐션 메커니즘\n",
    "일반적인 seq2seq보다는 어텐션 메커니즘을 사용한 seq2seq를 사용하는 것이 더 나은 성능을 얻을 수 있습니다."
   ]
  },
  {
   "cell_type": "code",
   "execution_count": 39,
   "id": "clinical-patrick",
   "metadata": {},
   "outputs": [],
   "source": [
    "urllib.request.urlretrieve(\"https://raw.githubusercontent.com/thushv89/attention_keras/master/src/layers/attention.py\", filename=\"attention.py\")\n",
    "from attention import AttentionLayer"
   ]
  },
  {
   "cell_type": "code",
   "execution_count": 40,
   "id": "pediatric-clerk",
   "metadata": {},
   "outputs": [
    {
     "name": "stdout",
     "output_type": "stream",
     "text": [
      "Model: \"model_1\"\n",
      "__________________________________________________________________________________________________\n",
      "Layer (type)                    Output Shape         Param #     Connected to                     \n",
      "==================================================================================================\n",
      "input_1 (InputLayer)            [(None, 38)]         0                                            \n",
      "__________________________________________________________________________________________________\n",
      "embedding (Embedding)           (None, 38, 128)      2176000     input_1[0][0]                    \n",
      "__________________________________________________________________________________________________\n",
      "lstm (LSTM)                     [(None, 38, 256), (N 394240      embedding[0][0]                  \n",
      "__________________________________________________________________________________________________\n",
      "input_2 (InputLayer)            [(None, None)]       0                                            \n",
      "__________________________________________________________________________________________________\n",
      "lstm_1 (LSTM)                   [(None, 38, 256), (N 525312      lstm[0][0]                       \n",
      "__________________________________________________________________________________________________\n",
      "embedding_1 (Embedding)         (None, None, 128)    896000      input_2[0][0]                    \n",
      "__________________________________________________________________________________________________\n",
      "lstm_2 (LSTM)                   [(None, 38, 256), (N 525312      lstm_1[0][0]                     \n",
      "__________________________________________________________________________________________________\n",
      "lstm_3 (LSTM)                   [(None, None, 256),  394240      embedding_1[0][0]                \n",
      "                                                                 lstm_2[0][1]                     \n",
      "                                                                 lstm_2[0][2]                     \n",
      "__________________________________________________________________________________________________\n",
      "attention_layer (AttentionLayer ((None, None, 256),  131328      lstm_2[0][0]                     \n",
      "                                                                 lstm_3[0][0]                     \n",
      "__________________________________________________________________________________________________\n",
      "concat_layer (Concatenate)      (None, None, 512)    0           lstm_3[0][0]                     \n",
      "                                                                 attention_layer[0][0]            \n",
      "__________________________________________________________________________________________________\n",
      "dense_1 (Dense)                 (None, None, 7000)   3591000     concat_layer[0][0]               \n",
      "==================================================================================================\n",
      "Total params: 8,633,432\n",
      "Trainable params: 8,633,432\n",
      "Non-trainable params: 0\n",
      "__________________________________________________________________________________________________\n"
     ]
    }
   ],
   "source": [
    "# 어텐션 층(어텐션 함수)\n",
    "attn_layer = AttentionLayer(name='attention_layer')\n",
    "# 인코더와 디코더의 모든 time step의 hidden state를 어텐션 층에 전달하고 결과를 리턴\n",
    "attn_out, attn_states = attn_layer([encoder_outputs, decoder_outputs])\n",
    "\n",
    "# 어텐션의 결과와 디코더의 hidden state들을 연결\n",
    "decoder_concat_input = Concatenate(axis=-1, name='concat_layer')([decoder_outputs, attn_out])\n",
    "\n",
    "# 디코더의 출력층\n",
    "decoder_softmax_layer = Dense(tar_vocab, activation='softmax')\n",
    "decoder_softmax_outputs = decoder_softmax_layer(decoder_concat_input)\n",
    "\n",
    "# 모델 정의\n",
    "model = Model([encoder_inputs, decoder_inputs], decoder_softmax_outputs)\n",
    "model.summary()"
   ]
  },
  {
   "cell_type": "markdown",
   "id": "outside-candy",
   "metadata": {},
   "source": [
    "* 인코더의 hidden state들과 디코더의 hidden state들을 어텐션 함수의 입력으로 사용하고, 어텐션 함수가 리턴한 값을 예측 시에 디코더의 hidden state와 함께 활용하는 형태로 작동합니다."
   ]
  },
  {
   "cell_type": "markdown",
   "id": "nonprofit-porter",
   "metadata": {},
   "source": [
    "## 모델 훈련"
   ]
  },
  {
   "cell_type": "code",
   "execution_count": 41,
   "id": "extraordinary-interim",
   "metadata": {},
   "outputs": [
    {
     "name": "stdout",
     "output_type": "stream",
     "text": [
      "Epoch 1/50\n",
      "205/205 [==============================] - 141s 632ms/step - loss: 6.4488 - val_loss: 5.7010\n",
      "Epoch 2/50\n",
      "205/205 [==============================] - 129s 628ms/step - loss: 5.6636 - val_loss: 5.4542\n",
      "Epoch 3/50\n",
      "205/205 [==============================] - 130s 632ms/step - loss: 5.3396 - val_loss: 5.2073\n",
      "Epoch 4/50\n",
      "205/205 [==============================] - 130s 635ms/step - loss: 5.0555 - val_loss: 5.0543\n",
      "Epoch 5/50\n",
      "205/205 [==============================] - 130s 633ms/step - loss: 4.8236 - val_loss: 4.8468\n",
      "Epoch 6/50\n",
      "205/205 [==============================] - 130s 636ms/step - loss: 4.6128 - val_loss: 4.6914\n",
      "Epoch 7/50\n",
      "205/205 [==============================] - 129s 631ms/step - loss: 4.4403 - val_loss: 4.6074\n",
      "Epoch 8/50\n",
      "205/205 [==============================] - 129s 631ms/step - loss: 4.2881 - val_loss: 4.5496\n",
      "Epoch 9/50\n",
      "205/205 [==============================] - 130s 633ms/step - loss: 4.1489 - val_loss: 4.4463\n",
      "Epoch 10/50\n",
      "205/205 [==============================] - 129s 629ms/step - loss: 4.0221 - val_loss: 4.3559\n",
      "Epoch 11/50\n",
      "205/205 [==============================] - 130s 633ms/step - loss: 3.9021 - val_loss: 4.3272\n",
      "Epoch 12/50\n",
      "205/205 [==============================] - 129s 628ms/step - loss: 3.7926 - val_loss: 4.2653\n",
      "Epoch 13/50\n",
      "205/205 [==============================] - 128s 627ms/step - loss: 3.6962 - val_loss: 4.2212\n",
      "Epoch 14/50\n",
      "205/205 [==============================] - 127s 620ms/step - loss: 3.5977 - val_loss: 4.1939\n",
      "Epoch 15/50\n",
      "205/205 [==============================] - 126s 615ms/step - loss: 3.5241 - val_loss: 4.2207\n",
      "Epoch 16/50\n",
      "205/205 [==============================] - 127s 618ms/step - loss: 3.4358 - val_loss: 4.1570\n",
      "Epoch 17/50\n",
      "205/205 [==============================] - 125s 609ms/step - loss: 3.3589 - val_loss: 4.1523\n",
      "Epoch 18/50\n",
      "205/205 [==============================] - 126s 615ms/step - loss: 3.2988 - val_loss: 4.1417\n",
      "Epoch 19/50\n",
      "205/205 [==============================] - 125s 610ms/step - loss: 3.2266 - val_loss: 4.1329\n",
      "Epoch 20/50\n",
      "205/205 [==============================] - 126s 615ms/step - loss: 3.1541 - val_loss: 4.1267\n",
      "Epoch 21/50\n",
      "205/205 [==============================] - 126s 614ms/step - loss: 3.1006 - val_loss: 4.0924\n",
      "Epoch 22/50\n",
      "205/205 [==============================] - 125s 609ms/step - loss: 3.0465 - val_loss: 4.0880\n",
      "Epoch 23/50\n",
      "205/205 [==============================] - 127s 618ms/step - loss: 3.0003 - val_loss: 4.0778\n",
      "Epoch 24/50\n",
      "205/205 [==============================] - 127s 619ms/step - loss: 2.9413 - val_loss: 4.0828\n",
      "Epoch 25/50\n",
      "205/205 [==============================] - 126s 613ms/step - loss: 2.8883 - val_loss: 4.0875\n",
      "Epoch 00025: early stopping\n"
     ]
    }
   ],
   "source": [
    "model.compile(optimizer='rmsprop', loss='sparse_categorical_crossentropy')\n",
    "es = EarlyStopping(monitor='val_loss', patience=2, verbose=1)\n",
    "history = model.fit(x=[encoder_input_train, decoder_input_train], y=decoder_target_train, \\\n",
    "          validation_data=([encoder_input_test, decoder_input_test], decoder_target_test), \\\n",
    "          batch_size=256, callbacks=[es], epochs=50)"
   ]
  },
  {
   "cell_type": "code",
   "execution_count": 42,
   "id": "modular-chain",
   "metadata": {},
   "outputs": [
    {
     "data": {
      "image/png": "[encoded data removed]",
      "text/plain": [
       "<Figure size 432x288 with 1 Axes>"
      ]
     },
     "metadata": {
      "needs_background": "light"
     },
     "output_type": "display_data"
    }
   ],
   "source": [
    "plt.plot(history.history['loss'], label='train')\n",
    "plt.plot(history.history['val_loss'], label='test')\n",
    "plt.legend()\n",
    "plt.show()"
   ]
  },
  {
   "cell_type": "markdown",
   "id": "subtle-patient",
   "metadata": {},
   "source": [
    "train loss : 2.8883  \n",
    "val loss : 4.0875  "
   ]
  },
  {
   "cell_type": "markdown",
   "id": "dated-potential",
   "metadata": {},
   "source": [
    "* 테스트 단계에서는 정수 인덱스 행렬로 존재하던 텍스트 데이터를 실제 데이터로 복원해야 하므로, 필요한 3개의 사전을 아래와 같이 미리 준비합니다."
   ]
  },
  {
   "cell_type": "code",
   "execution_count": 43,
   "id": "internal-crown",
   "metadata": {},
   "outputs": [],
   "source": [
    "src_index_to_word = src_tokenizer.index_word # 원문 단어 집합에서 정수 -> 단어를 얻음\n",
    "tar_word_to_index = tar_tokenizer.word_index # 요약 단어 집합에서 단어 -> 정수를 얻음\n",
    "tar_index_to_word = tar_tokenizer.index_word # 요약 단어 집합에서 정수 -> 단어를 얻음"
   ]
  },
  {
   "cell_type": "code",
   "execution_count": 44,
   "id": "micro-sacrifice",
   "metadata": {},
   "outputs": [
    {
     "data": {
      "text/plain": [
       "1"
      ]
     },
     "execution_count": 44,
     "metadata": {},
     "output_type": "execute_result"
    }
   ],
   "source": [
    "tar_word_to_index['sostoken']"
   ]
  },
  {
   "cell_type": "markdown",
   "id": "phantom-isolation",
   "metadata": {},
   "source": [
    "* seq2seq는 훈련할 때와 실제 동작할 때(인퍼런스 단계)의 방식이 다르므로 그에 맞게 모델 설계를 별개로 진행해야 합니다. \n",
    "* 훈련 단계에서는 디코더의 입력부에 정답이 되는 문장 전체를 한꺼번에 넣고 디코더의 출력과 한 번에 비교할 수 있으므로, 인코더와 디코더를 엮은 모델 하나만 준비합니다. "
   ]
  },
  {
   "cell_type": "code",
   "execution_count": 45,
   "id": "collect-arizona",
   "metadata": {},
   "outputs": [],
   "source": [
    "# 인코더 설계\n",
    "encoder_model = Model(inputs=encoder_inputs, outputs=[encoder_outputs, state_h, state_c])\n",
    "\n",
    "# 이전 시점의 상태들을 저장하는 텐서\n",
    "decoder_state_input_h = Input(shape=(hidden_size,))\n",
    "decoder_state_input_c = Input(shape=(hidden_size,))\n",
    "\n",
    "dec_emb2 = dec_emb_layer(decoder_inputs)\n",
    "\n",
    "# 문장의 다음 단어를 예측하기 위해서 초기 상태(initial_state)를 이전 시점의 상태로 사용. 이는 뒤의 함수 decode_sequence()에 구현\n",
    "# 훈련 과정에서와 달리 LSTM의 리턴하는 은닉 상태와 셀 상태인 state_h와 state_c를 버리지 않음.\n",
    "decoder_outputs2, state_h2, state_c2 = decoder_lstm(dec_emb2, initial_state=[decoder_state_input_h, decoder_state_input_c])"
   ]
  },
  {
   "cell_type": "code",
   "execution_count": 46,
   "id": "korean-pursuit",
   "metadata": {},
   "outputs": [],
   "source": [
    "# 어텐션 함수\n",
    "decoder_hidden_state_input = Input(shape=(text_max_len, hidden_size))\n",
    "attn_out_inf, attn_states_inf = attn_layer([decoder_hidden_state_input, decoder_outputs2])\n",
    "decoder_inf_concat = Concatenate(axis=-1, name='concat')([decoder_outputs2, attn_out_inf])\n",
    "\n",
    "# 디코더의 출력층\n",
    "decoder_outputs2 = decoder_softmax_layer(decoder_inf_concat) \n",
    "\n",
    "# 최종 디코더 모델\n",
    "decoder_model = Model(\n",
    "    [decoder_inputs] + [decoder_hidden_state_input,decoder_state_input_h, decoder_state_input_c],\n",
    "    [decoder_outputs2] + [state_h2, state_c2])"
   ]
  },
  {
   "cell_type": "code",
   "execution_count": 47,
   "id": "moderate-huntington",
   "metadata": {},
   "outputs": [],
   "source": [
    "def decode_sequence(input_seq):\n",
    "    # 입력으로부터 인코더의 상태를 얻음\n",
    "    e_out, e_h, e_c = encoder_model.predict(input_seq)\n",
    "\n",
    "     # <SOS>에 해당하는 토큰 생성\n",
    "    target_seq = np.zeros((1,1))\n",
    "    target_seq[0, 0] = tar_word_to_index['sostoken']\n",
    "\n",
    "    stop_condition = False\n",
    "    decoded_sentence = ''\n",
    "    while not stop_condition: # stop_condition이 True가 될 때까지 루프 반복\n",
    "\n",
    "        output_tokens, h, c = decoder_model.predict([target_seq] + [e_out, e_h, e_c])\n",
    "        sampled_token_index = np.argmax(output_tokens[0, -1, :])\n",
    "        sampled_token = tar_index_to_word[sampled_token_index]\n",
    "\n",
    "        if (sampled_token!='eostoken'):\n",
    "            decoded_sentence += ' '+sampled_token\n",
    "\n",
    "        #  <eos>에 도달하거나 최대 길이를 넘으면 중단.\n",
    "        if (sampled_token == 'eostoken'  or len(decoded_sentence.split()) >= (headlines_max_len-1)):\n",
    "            stop_condition = True\n",
    "\n",
    "        # 길이가 1인 타겟 시퀀스를 업데이트\n",
    "        target_seq = np.zeros((1,1))\n",
    "        target_seq[0, 0] = sampled_token_index\n",
    "\n",
    "        # 상태를 업데이트 합니다.\n",
    "        e_h, e_c = h, c\n",
    "\n",
    "    return decoded_sentence"
   ]
  },
  {
   "cell_type": "markdown",
   "id": "established-waste",
   "metadata": {},
   "source": [
    "## 실제 결과와 요약문 비교\n",
    "* 원래의 요약문(headlines 열)과 학습을 통해 얻은 추상적 요약의 결과를 비교합니다. \n",
    "* 아래는 주어진 정수 시퀀스를 텍스트 시퀀스로 변환하는 함수입니다. \n",
    "* Text의 정수 시퀀스에서는 패딩을 위해 사용되는 숫자 0을 제외하고   \n",
    "  Summary의 정수 시퀀스에서는 숫자 0, 시작 토큰의 인덱스, 종료 토큰의 인덱스를 출력에서 제외하도록 합니다. "
   ]
  },
  {
   "cell_type": "code",
   "execution_count": 48,
   "id": "tired-shift",
   "metadata": {},
   "outputs": [],
   "source": [
    "# 원문의 정수 시퀀스를 텍스트 시퀀스로 변환\n",
    "def seq2text(input_seq):\n",
    "    temp=''\n",
    "    for i in input_seq:\n",
    "        if (i!=0):\n",
    "            temp = temp + src_index_to_word[i]+' '\n",
    "    return temp\n",
    "\n",
    "# 요약문의 정수 시퀀스를 텍스트 시퀀스로 변환\n",
    "def seq2summary(input_seq):\n",
    "    temp=''\n",
    "    for i in input_seq:\n",
    "        if ((i!=0 and i!=tar_word_to_index['sostoken']) and i!=tar_word_to_index['eostoken']):\n",
    "            temp = temp + tar_index_to_word[i] + ' '\n",
    "    return temp"
   ]
  },
  {
   "cell_type": "code",
   "execution_count": 49,
   "id": "photographic-hours",
   "metadata": {},
   "outputs": [
    {
     "name": "stdout",
     "output_type": "stream",
     "text": [
      "원문 : wake billion fraud surfaced punjab national bank week reserve bank india said take appropriate action added assessment control systems pnb already undertaken rbi however denied reports pnb asked assume liabilities fraud \n",
      "실제 요약 : rbi to take action against fraud hit pnb \n",
      "예측 요약 :  bn pnb fraud case against iran\n",
      "\n",
      "\n",
      "원문 : tata motors reportedly plan produce sports car showcased geneva motor show according report cost project evaluated crore considered company announced tata motors new sub brand car expected launched \n",
      "실제 요약 : tata motors kills plan to launch own sports car reports \n",
      "예측 요약 :  tata motors unveils electric cars in india\n",
      "\n",
      "\n",
      "원문 : year old girl raped murdered year old neighbour saturday jharkhand dhanbad incident took place accused took victim marriage parents permission returned hour later without accused arrested sunday girl body recovered confessed crime interrogation \n",
      "실제 요약 : year old raped murdered by neighbour in jharkhand \n",
      "예측 요약 :  year old raped by girlfriend in uttar pradesh\n",
      "\n",
      "\n",
      "원문 : team india registered two victories tests played lord last years tests india lost four matches ended draw india first test victory lord came second ishant sharma took seven wickets innings \n",
      "실제 요약 : india have played tests at lord in years won only \n",
      "예측 요약 :  india first ever test championship came in years\n",
      "\n",
      "\n",
      "원문 : burning body woman found locals forest jharkhand tuesday reports said police doused woman body reaching spot suspect gangraped murdered set fire cover crime upper portion victim body completely burnt \n",
      "실제 요약 : suspected rape victim burning body found in khand forest \n",
      "예측 요약 :  woman found hanging from home in noida\n",
      "\n",
      "\n",
      "원문 : international group researchers developed generate electricity stretched made carbon times thinner human hair researchers powered small led lit every stretch yarn could used harvesting energy motion waves temperature said researchers \n",
      "실제 요약 : that electricity on made \n",
      "예측 요약 :  device that can be made from study\n",
      "\n",
      "\n",
      "원문 : reliance industries chairman mukesh ambani said us big boys afford losses long consumer gains country moves forward ambani said profits losses risks businesses take reliance want best world said adding sorry appears competitive \n",
      "실제 요약 : we big boys can losses for consumers gain ambani \n",
      "예측 요약 :  mukesh ambani mukesh ambani calls india business for\n",
      "\n",
      "\n",
      "원문 : russians paid nearly attend president vladimir putin rally held part election campaign reports said opposition websites social media posts claimed several people also forced attend rally reports claimed display meant create impression broad support putin ahead polls \n",
      "실제 요약 : russians were paid to attend putin election rally reports \n",
      "예측 요약 :  trump rally on russian presidential election rally\n",
      "\n",
      "\n",
      "원문 : two flights wings toronto international airport canada saturday passengers hurt air canada flight passengers collided lot polish airlines flight following latter cancelled passengers boarding lot polish airlines flight incident occurred \n",
      "실제 요약 : flights clip wings while passengers board aircraft \n",
      "예측 요약 :  flights stranded in delhi airport after flight\n",
      "\n",
      "\n",
      "원문 : actor amitabh bachchan shared look tests upcoming film talking film said multi starrer multi faced entertaining high drama extended hilarious ride bizarre music bachchan last seen film sarkar \n",
      "실제 요약 : amitabh bachchan shares his look tests from upcoming film \n",
      "예측 요약 :  big look from film unveiled\n",
      "\n",
      "\n",
      "원문 : government begun search process next chairperson competition commission india dk sikri tenure ends july chairperson paid consolidated monthly salary lakh would entitled house car corporate affairs ministry invited applications need submitted july \n",
      "실제 요약 : govt begins search for next competition commission chief \n",
      "예측 요약 :  govt to set up govt for months\n",
      "\n",
      "\n",
      "원문 : year old man uttar pradesh allegedly beheaded wife took severed head police station surrender couple reportedly fought family matter alleged crime happened man ram brutally killed wife beheaded police official said \n",
      "실제 요약 : up man wife takes her head to police station \n",
      "예측 요약 :  man kills wife for not giving him to\n",
      "\n",
      "\n",
      "원문 : many bodies newborn babies various stages found wrapped plastic bags empty plot kolkata sunday bodies recovered labourers cleaning programme area abortion racket operating nearby could behind senior kolkata police officer told news agency \n",
      "실제 요약 : bodies of newborn babies found in plastic bags in kolkata \n",
      "예측 요약 :  bodies found in patients found in\n",
      "\n",
      "\n",
      "원문 : restaurant united states boston meals prepared robotic restaurant customers place orders via touchscreen opened four mit students use magnetic induction heat food several human workers cut ingredients deliver food \n",
      "실제 요약 : robotic make food at restaurant opened by mit students \n",
      "예측 요약 :  eatery slammed for using robot to track\n",
      "\n",
      "\n",
      "원문 : photo sharing app snapchat said testing change puts users friends stories discover section along content brands celebrities snapchat earlier redesigned app separating media social communications company faced criticism redesign users complained app became confusing \n",
      "실제 요약 : snapchat tests back its after criticism \n",
      "예측 요약 :  facebook to shut down app for messenger\n",
      "\n",
      "\n",
      "원문 : bees northeastern france produced honey shades blue green colour believed induced containers candy processed nearby plant infused honey deemed provisions later made change waste storage plant \n",
      "실제 요약 : bees in france once produced honey due to \n",
      "예측 요약 :  why is the new of the\n",
      "\n",
      "\n",
      "원문 : ford developed prototype noise cancelling shelter dogs protect noise fireworks microphones inside shelter detect sound fireworks built audio system emits opposing frequencies reduce noise significantly ford said first series initiatives applies automotive know help solve everyday problems \n",
      "실제 요약 : ford develops dog shelter that cancels out fireworks noise \n",
      "예측 요약 :  mit develops robot to detect eating eating\n",
      "\n",
      "\n",
      "원문 : malayalam actress priya prakash varrier revealed wanted part ranveer singh starrer simmba lots rumours part simmba wish true great fan ranveer added priya gained fame clips song seen winking went viral \n",
      "실제 요약 : wanted to become part of simmba priya prakash \n",
      "예측 요약 :  ranveer singh is an actor on simmba ranveer\n",
      "\n",
      "\n",
      "원문 : mit engineers come rubber like film stick highly regions body like knee elbow maintain hold even bending cycles researchers made cuts film similar paper cutting art form known films could used medical wearable electronics \n",
      "실제 요약 : mit develops inspired by paper cutting art \n",
      "예측 요약 :  mit makes to take back to\n",
      "\n",
      "\n",
      "원문 : kolkata land football make sport city vibrant asian paints st art india started campaign bringing fifa world cup fever street art asked people kolkata donate exterior wall homes street artists gave tribute soccer legends \n",
      "실제 요약 : asian paints celebrates spirit of fifa world cup \n",
      "예측 요약 :  guests to host olympics championship\n",
      "\n",
      "\n",
      "원문 : scientists studying bird flu virus killed people china revealed three genetic changes virus could make lethal changes enhanced virus human cell binding ability could trigger global outbreak scientists found comes sanctions obama administration controversial lab experiments lifted \n",
      "실제 요약 : gene bird flu virus could fuel human study \n",
      "예측 요약 :  indonesia killed in south africa sea\n",
      "\n",
      "\n",
      "원문 : amazon confirmed issue digital assistant alexa enabled smart speaker randomly made laughing noises amazon said dropping phrase alexa laugh changing alexa laugh less likely false company added alexa also acknowledge users request asking sure laugh laughing \n",
      "실제 요약 : amazon confirms smart speaker issue \n",
      "예측 요약 :  amazon launches speaker for copying screen screen\n",
      "\n",
      "\n",
      "원문 : haryana court awarded life sentence parents elder sister two uncles year old girl murdered honour girl family allegedly beaten death running away boy belonging different caste thrown body burning store cow dung \n",
      "실제 요약 : parents sister sentenced to life for murdering minor girl \n",
      "예측 요약 :  hc gets death penalty for killing daughter killing\n",
      "\n",
      "\n",
      "원문 : uttar pradesh assembly friday passed bill award death penalty life imprisonment lakh fine dealing illicit liquor consumption leads death also provides imprisonment years less six years case disability caused consumption illicit liquor \n",
      "실제 요약 : up passes bill for death penalty for liquor trade \n",
      "예측 요약 :  up minister jailed for yrs for stealing\n",
      "\n",
      "\n",
      "원문 : mumbai police arrested bmc sweeper would pose maharashtra housing area development authority official night people illegally sanctioning flats accused claimed would give keys flat soon would say waiting auspicious day whenever victim called ask officer said \n",
      "실제 요약 : held for posing as mumbai housing official by night \n",
      "예측 요약 :  held for duping people who stopped people in mumbai\n",
      "\n",
      "\n",
      "원문 : security forces sunday killed three militants involved abduction murder police constable kulgam militants part joint group militant outfits lashkar taiba hizbul mujahideen trapped cordon search operation army police crpf constable tortured militants director general police sp vaid said \n",
      "실제 요약 : security forces gun down militants who abducted killed cop \n",
      "예측 요약 :  let killed in militant attack attack\n",
      "\n",
      "\n",
      "원문 : commentator harsha bhogle announced making return english commentary box india tour west indies beginning june last international event bhogle icc world took place welcome back harsha commentary box poorer absence go well tweeted fellow commentator chopra \n",
      "실제 요약 : to return to for india west indies tour \n",
      "예측 요약 :  aus to host new international trophy after years\n",
      "\n",
      "\n",
      "원문 : deputy jail superintendent suspended indiscipline chhattisgarh government facebook post support cpi claimed wrote content citing tribals maoists jail authorities maintained government staff must desist making remarks without basis \n",
      "실제 요약 : suspended after fb post seen as supporting maoists \n",
      "예측 요약 :  muslim youth suspended for violence in telangana\n",
      "\n",
      "\n",
      "원문 : defamation case filed actress tanushree dutta comments maharashtra navnirman sena chief raj thackeray case filed mns district unit president alleged dutta party chief dutta recently said raj thackeray wanted succeed late bal thackeray sena chief could \n",
      "실제 요약 : defamation case against tanushree for comments on thackeray \n",
      "예측 요약 :  nana patekar nana patekar thackeray\n",
      "\n",
      "\n",
      "원문 : mark th anniversary country founding north korea staged military parade featuring balloons flowers missiles theme celebrations year korean peninsula divided since korean war notably north korea carried nuclear tests mark day \n",
      "실제 요약 : korea parade features balloons flowers no missiles \n",
      "예측 요약 :  un to korean war with korean korean korean soldiers\n",
      "\n",
      "\n",
      "원문 : us president donald trump offered three years deportation protections immigrants exchange billion border wall funding bid end partial government shutdown trump proposal also includes millions dollars humanitarian aid drug detection technology however democrats rejected called trump open government \n",
      "실제 요약 : trump offers protection for immigrants in exchange for border wall \n",
      "예측 요약 :  trump approves billion for wall wall\n",
      "\n",
      "\n",
      "원문 : two telangana men set fire outside lawmaker office give time meet duo reportedly first went village revenue office claim land scheme underprivileged farmers official asked bribe notably two rescued rushed nearby hospital \n",
      "실제 요약 : gana men set themselves ablaze outside office \n",
      "예측 요약 :  over people killed in assam floods\n",
      "\n",
      "\n",
      "원문 : year old boy us suffering severe brain trauma accident regained consciousness day doctors going end life support system parents already signed organ donation papers five kids matched needed organs three brain surgeries ongoing recovery \n",
      "실제 요약 : brain dead boy wakes up after parents approve donation \n",
      "예측 요약 :  year old boy dies after heart attack on\n",
      "\n",
      "\n",
      "원문 : former nfl player aaron found dead prison cell facility massachusetts wednesday serving life prison convicted murder hanged using bed sheet attached cell window facility statement said tried blocking cell door inside \n",
      "실제 요약 : player serving life sentence kills himself in prison \n",
      "예측 요약 :  footballer who survived racial abuse found dead\n",
      "\n",
      "\n",
      "원문 : bjp mp hema malini friday blamed rising population mumbai fire restaurant kamala mills compound killed people city limit population allowed let go another city said added authorities introduce restrictions control population \n",
      "실제 요약 : bjp mp hema malini blames rising population for mumbai fire \n",
      "예측 요약 :  hardik patel on fire in mumbai\n",
      "\n",
      "\n",
      "원문 : year old woman allegedly groped molested man also masturbated front terrace lutyens delhi thursday snatched woman mobile phone escaped another terrace screamed help police filed case scanning cctv footage adjacent buildings identify accused nn \n",
      "실제 요약 : woman claims man in front of her in delhi \n",
      "예측 요약 :  woman gangraped by delhi woman for not stopping\n",
      "\n",
      "\n",
      "원문 : president nepal devi bhandari wednesday conferred honorary rank general nepalese army indian army chief general bipin rawat ongoing visit neighbouring country nepal india long tradition titles chiefs armies since close military military ties \n",
      "실제 요약 : army chief conferred honorary title of nepal army general \n",
      "예측 요약 :  turkey to build indian army chief after years\n",
      "\n",
      "\n",
      "원문 : self styled critic kamaal khan took dig malayalam actor mohanlal set play role mahabharata responding fans actor slammed twitter comment mohanlal acting talent ever received five national awards like read comment \n",
      "실제 요약 : you look like krk to \n",
      "예측 요약 :  will not sing for national anthem on sridevi debut\n",
      "\n",
      "\n",
      "원문 : kings xi punjab karnataka batsman mayank agarwal tied knot long time girlfriend sood year old scored plus runs last domestic season proposed december london eye kings xi punjab opener kl rahul among attendees wedding \n",
      "실제 요약 : kxip ties the with girlfriend \n",
      "예측 요약 :  kerala player dedicates rishabh pant gayle to ranji ton\n",
      "\n",
      "\n",
      "원문 : microsoft windows vulnerability exploited hackers behind wannacry ransomware used least two cyber attacks unlike wannacry tries extort bitcoins users malware called tries mine cryptocurrency known monero researchers warned number hackers launched attacks copying wannacry \n",
      "실제 요약 : behind wannacry being used in more cyber attacks \n",
      "예측 요약 :  microsoft hit cryptocurrency mining in wannacry ransomware\n",
      "\n",
      "\n",
      "원문 : urging us lower threshold talks north korea south korean president moon jae called north korean regime show willingness towards denuclearisation added countries sit together quickly us past said talks would possible north korea nuclear missile programmes \n",
      "실제 요약 : us should lower for korea talks korea prez \n",
      "예측 요약 :  korea to korea summit with korea\n",
      "\n",
      "\n",
      "원문 : test south africa australia cape town south africa needed runs win spectators umpire ian stood one leg duration minute commemorating nelson interestingly earlier test number batsman top scored australia second innings \n",
      "실제 요약 : on at south africa needed runs to win vs aus \n",
      "예측 요약 :  india beat australia to win runs against england in\n",
      "\n",
      "\n",
      "원문 : many nine crew members killed portion building tamil nadu state transport corporation branch collapsed friday morning crew members sleeping inside building constructed collapsed killing spot three crew members hospitalised sustaining injuries incident \n",
      "실제 요약 : killed as part of state transport building collapses in tn \n",
      "예측 요약 :  dead injured in explosion at delhi building\n",
      "\n",
      "\n",
      "원문 : world negative news around us introduced happiness studios platform positive stories line group tagline hello happiness launches instagram handle post real stories courage change enable progress happiness \n",
      "실제 요약 : introduces happiness platform of happy stories \n",
      "예측 요약 :  china plans to open road in china\n",
      "\n",
      "\n",
      "원문 : answering twitter user asked akshay kumar first time bought gold life akshay replied never bought gold earned medals akshay hosted session twitter friday answering questions part promotions upcoming film gold release august \n",
      "실제 요약 : never bought gold earned my medals akshay kumar \n",
      "예측 요약 :  jacqueline to star opposite akshay in akshay kumar film\n",
      "\n",
      "\n",
      "원문 : government friday said plans come banknotes matter examined consultation reserve bank india found suitable introduce note union minister arjun ram meghwal said earlier government said plans introduce notes \n",
      "실제 요약 : no plans to introduce and notes says govt \n",
      "예측 요약 :  govt to introduce tax on gst\n",
      "\n",
      "\n",
      "원문 : year old japanese woman died july days applications titles oldest person living oldest person living approved born region japan may years days old died new record holder yet confirmed \n",
      "실제 요약 : world oldest person aged dies days after record confirmed \n",
      "예측 요약 :  year old becomes oldest to become world oldest\n",
      "\n",
      "\n",
      "원문 : sixth mango festival lucknow displayed yogi mango named uttar pradesh cm yogi adityanath mango small round shaped mango colour saffron colour official said added mango come market next three four years \n",
      "실제 요약 : saffron coloured yogi displayed at festival in up \n",
      "예측 요약 :  yogi adityanath to be made in yogi\n",
      "\n",
      "\n",
      "원문 : japanese firm set carry claimed world first experiment test cancer using urine samples firm developed basic technology detect breast colon cancer urine samples two years ago begin testing samples see samples room temperature suitable analysis \n",
      "실제 요약 : japan to trial world first urine test to spot cancer \n",
      "예측 요약 :  world smallest tech cancer paper with accuracy\n",
      "\n",
      "\n",
      "원문 : makemytrip launched assured hotels provide consumers hand picked hotels choose assured hotels guarantee amazing stay experience awesome rooms great service consumers also benefit hotline resolve issue within minutes else get free stay \n",
      "실제 요약 : makemytrip launches assured hotels with \n",
      "예측 요약 :  uk to shut down to curb in uk\n",
      "\n",
      "\n"
     ]
    }
   ],
   "source": [
    "for i in range(50, 100):\n",
    "    print(\"원문 :\", seq2text(encoder_input_test[i]))\n",
    "    print(\"실제 요약 :\", seq2summary(decoder_input_test[i]))\n",
    "    print(\"예측 요약 :\", decode_sequence(encoder_input_test[i].reshape(1, text_max_len)))\n",
    "    print(\"\\n\")"
   ]
  },
  {
   "cell_type": "markdown",
   "id": "choice-devon",
   "metadata": {},
   "source": [
    "50개 정도 데이터의 실제 요약과 예측 요약을 비교해 본 결과, 대부분의 경우,   \n",
    "문맥이 맞지 않거나, 전체 내용을 포괄하지 못하는 일부의 내용을 가져오거나, 엉뚱한 내용요약을 하는 등 많이 미흡해보입니다.   \n",
    "\n",
    "[엉뚱한 내용요약 사례]  \n",
    "원문은 '뇌사 소년의 부모가 소년의 장기를 기증하기로 승인한 이후에 소년이 다시 깨어났다'는 기사인데, '심장병으로 소년이 죽었다'라는 엉뚱한 내용을 예측했습니다.   \n",
    "\n",
    "\n",
    "        실제 요약 : brain dead boy wakes up after parents approve donation   \n",
    "        예측 요약 :  year old boy dies after heart attack on\n",
    "\n",
    "다음으로 비교적 난이도가 낮은 추출적 요약을 진행해보겠습니다."
   ]
  },
  {
   "cell_type": "markdown",
   "id": "historical-drain",
   "metadata": {},
   "source": [
    "# 2. 추출적 요약\n",
    "* 동일한 데이터에 대해 Summa을 이용해서 추출적 요약을 해보겠습니다. \n",
    "* 추상적 요약은 추출적 요약과는 달리 문장의 표현력을 다양하게 가져갈 수 있지만, 추출적 요약에 비해서 난이도가 높은 반면,\n",
    "* 추출적 요약은 추상적 요약에 비해 난이도가 낮고 기존 문장에서 문장을 꺼내오는 것이므로 잘못된 요약이 나올 가능성이 낮습니다.  \n",
    "* Summa의 summarize는 문장 토큰화를 별도로 하지 않더라도 내부적으로 문장 토큰화를 수행하기 때문에 문장 구분이 되어 있지 않는 원문을 그래로 입력값으로 넣어줄 수 있습니다. "
   ]
  },
  {
   "cell_type": "code",
   "execution_count": 50,
   "id": "vulnerable-recorder",
   "metadata": {},
   "outputs": [
    {
     "name": "stdout",
     "output_type": "stream",
     "text": [
      "summa                         1.2.0\n",
      "\u001b[33mWARNING: You are using pip version 20.3.3; however, version 21.2.4 is available.\n",
      "You should consider upgrading via the '/opt/conda/bin/python3.7 -m pip install --upgrade pip' command.\u001b[0m\n"
     ]
    }
   ],
   "source": [
    "! pip list | grep summa"
   ]
  },
  {
   "cell_type": "code",
   "execution_count": 51,
   "id": "demanding-honor",
   "metadata": {},
   "outputs": [],
   "source": [
    "import requests\n",
    "from summa.summarizer import summarize"
   ]
  },
  {
   "cell_type": "code",
   "execution_count": 52,
   "id": "demanding-despite",
   "metadata": {
    "scrolled": true
   },
   "outputs": [
    {
     "data": {
      "text/html": [
       "<div>\n",
       "<style scoped>\n",
       "    .dataframe tbody tr th:only-of-type {\n",
       "        vertical-align: middle;\n",
       "    }\n",
       "\n",
       "    .dataframe tbody tr th {\n",
       "        vertical-align: top;\n",
       "    }\n",
       "\n",
       "    .dataframe thead th {\n",
       "        text-align: right;\n",
       "    }\n",
       "</style>\n",
       "<table border=\"1\" class=\"dataframe\">\n",
       "  <thead>\n",
       "    <tr style=\"text-align: right;\">\n",
       "      <th></th>\n",
       "      <th>headlines</th>\n",
       "      <th>text</th>\n",
       "      <th>news_summary</th>\n",
       "    </tr>\n",
       "  </thead>\n",
       "  <tbody>\n",
       "    <tr>\n",
       "      <th>0</th>\n",
       "      <td>upGrad learner switches to career in ML &amp; Al w...</td>\n",
       "      <td>Saurav Kant, an alumnus of upGrad and IIIT-B's...</td>\n",
       "      <td>upGrad's Online Power Learning has powered 3 l...</td>\n",
       "    </tr>\n",
       "    <tr>\n",
       "      <th>1</th>\n",
       "      <td>Delhi techie wins free food from Swiggy for on...</td>\n",
       "      <td>Kunal Shah's credit card bill payment platform...</td>\n",
       "      <td>Users get one CRED coin per rupee of bill paid...</td>\n",
       "    </tr>\n",
       "    <tr>\n",
       "      <th>2</th>\n",
       "      <td>New Zealand end Rohit Sharma-led India's 12-ma...</td>\n",
       "      <td>New Zealand defeated India by 8 wickets in the...</td>\n",
       "      <td>The match witnessed India getting all out for ...</td>\n",
       "    </tr>\n",
       "    <tr>\n",
       "      <th>3</th>\n",
       "      <td>Aegon life iTerm insurance plan helps customer...</td>\n",
       "      <td>With Aegon Life iTerm Insurance plan, customer...</td>\n",
       "      <td>Also, customers have options to insure against...</td>\n",
       "    </tr>\n",
       "    <tr>\n",
       "      <th>4</th>\n",
       "      <td>Have known Hirani for yrs, what if MeToo claim...</td>\n",
       "      <td>Speaking about the sexual harassment allegatio...</td>\n",
       "      <td>Speaking about the sexual harassment allegatio...</td>\n",
       "    </tr>\n",
       "  </tbody>\n",
       "</table>\n",
       "</div>"
      ],
      "text/plain": [
       "                                           headlines  \\\n",
       "0  upGrad learner switches to career in ML & Al w...   \n",
       "1  Delhi techie wins free food from Swiggy for on...   \n",
       "2  New Zealand end Rohit Sharma-led India's 12-ma...   \n",
       "3  Aegon life iTerm insurance plan helps customer...   \n",
       "4  Have known Hirani for yrs, what if MeToo claim...   \n",
       "\n",
       "                                                text  \\\n",
       "0  Saurav Kant, an alumnus of upGrad and IIIT-B's...   \n",
       "1  Kunal Shah's credit card bill payment platform...   \n",
       "2  New Zealand defeated India by 8 wickets in the...   \n",
       "3  With Aegon Life iTerm Insurance plan, customer...   \n",
       "4  Speaking about the sexual harassment allegatio...   \n",
       "\n",
       "                                        news_summary  \n",
       "0  upGrad's Online Power Learning has powered 3 l...  \n",
       "1  Users get one CRED coin per rupee of bill paid...  \n",
       "2  The match witnessed India getting all out for ...  \n",
       "3  Also, customers have options to insure against...  \n",
       "4  Speaking about the sexual harassment allegatio...  "
      ]
     },
     "execution_count": 52,
     "metadata": {},
     "output_type": "execute_result"
    }
   ],
   "source": [
    "import urllib.request\n",
    "urllib.request.urlretrieve(\"https://raw.githubusercontent.com/sunnysai12345/News_Summary/master/news_summary_more.csv\", filename=\"news_summary_more.csv\")\n",
    "data = pd.read_csv('news_summary_more.csv', encoding='iso-8859-1')\n",
    "data['news_summary'] = data['text'].apply(lambda x : summarize(x, ratio = 0.5))\n",
    "data.head()"
   ]
  },
  {
   "cell_type": "code",
   "execution_count": 53,
   "id": "southern-toner",
   "metadata": {},
   "outputs": [
    {
     "data": {
      "text/html": [
       "<div>\n",
       "<style scoped>\n",
       "    .dataframe tbody tr th:only-of-type {\n",
       "        vertical-align: middle;\n",
       "    }\n",
       "\n",
       "    .dataframe tbody tr th {\n",
       "        vertical-align: top;\n",
       "    }\n",
       "\n",
       "    .dataframe thead th {\n",
       "        text-align: right;\n",
       "    }\n",
       "</style>\n",
       "<table border=\"1\" class=\"dataframe\">\n",
       "  <thead>\n",
       "    <tr style=\"text-align: right;\">\n",
       "      <th></th>\n",
       "      <th>headlines</th>\n",
       "      <th>news_summary</th>\n",
       "    </tr>\n",
       "  </thead>\n",
       "  <tbody>\n",
       "    <tr>\n",
       "      <th>0</th>\n",
       "      <td>upGrad learner switches to career in ML &amp; Al with 90% salary hike</td>\n",
       "      <td>upGrad's Online Power Learning has powered 3 lakh+ careers.</td>\n",
       "    </tr>\n",
       "    <tr>\n",
       "      <th>1</th>\n",
       "      <td>Delhi techie wins free food from Swiggy for one year on CRED</td>\n",
       "      <td>Users get one CRED coin per rupee of bill paid, which can be used to avail rewards from brands like Ixigo, BookMyShow, UberEats, Cult.Fit and more.</td>\n",
       "    </tr>\n",
       "    <tr>\n",
       "      <th>2</th>\n",
       "      <td>New Zealand end Rohit Sharma-led India's 12-match winning streak</td>\n",
       "      <td>The match witnessed India getting all out for 92, their seventh lowest total in ODI cricket history.</td>\n",
       "    </tr>\n",
       "    <tr>\n",
       "      <th>3</th>\n",
       "      <td>Aegon life iTerm insurance plan helps customers save tax</td>\n",
       "      <td>Also, customers have options to insure against Critical Illnesses, Disability and Accidental Death Benefit Rider with a life cover up to the age of 80 years.</td>\n",
       "    </tr>\n",
       "    <tr>\n",
       "      <th>4</th>\n",
       "      <td>Have known Hirani for yrs, what if MeToo claims are not true: Sonam</td>\n",
       "      <td>Speaking about the sexual harassment allegations against Rajkumar Hirani, Sonam Kapoor said, \"I've known Hirani for many years...What if it's not true, the [#MeToo] movement will get derailed.\" \"In the #MeToo movement, I always believe a woman.</td>\n",
       "    </tr>\n",
       "    <tr>\n",
       "      <th>5</th>\n",
       "      <td>Rahat Fateh Ali Khan denies getting notice for smuggling currency</td>\n",
       "      <td>Pakistani singer Rahat Fateh Ali Khan has denied receiving any notice from the Enforcement Directorate over allegedly smuggling foreign currency out of India.</td>\n",
       "    </tr>\n",
       "    <tr>\n",
       "      <th>6</th>\n",
       "      <td>India get all out for 92, their lowest ODI total in New Zealand</td>\n",
       "      <td>India's previous lowest ODI total in New Zealand was 108.</td>\n",
       "    </tr>\n",
       "    <tr>\n",
       "      <th>7</th>\n",
       "      <td>Govt directs Alok Verma to join work 1 day before his retirement</td>\n",
       "      <td>Weeks after ex-CBI Director Alok Verma told the Department of Personnel and Training to consider him retired, the Home Ministry asked him to join work on the last day of his fixed tenure as Director on Thursday.</td>\n",
       "    </tr>\n",
       "    <tr>\n",
       "      <th>8</th>\n",
       "      <td>Called PM Modi 'sir' 10 times to satisfy his ego: Andhra CM</td>\n",
       "      <td>Andhra Pradesh CM N Chandrababu Naidu has said, \"When I met then US President Bill Clinton, I addressed him as Mr Clinton, not as 'sir'.</td>\n",
       "    </tr>\n",
       "    <tr>\n",
       "      <th>9</th>\n",
       "      <td>Cong wins Ramgarh bypoll in Rajasthan, takes total to 100 seats</td>\n",
       "      <td>Congress candidate Shafia Zubair won the Ramgarh Assembly seat in Rajasthan, by defeating BJP's Sukhwant Singh with a margin of 12,228 votes in the bypoll.</td>\n",
       "    </tr>\n",
       "  </tbody>\n",
       "</table>\n",
       "</div>"
      ],
      "text/plain": [
       "                                                             headlines  \\\n",
       "0    upGrad learner switches to career in ML & Al with 90% salary hike   \n",
       "1         Delhi techie wins free food from Swiggy for one year on CRED   \n",
       "2     New Zealand end Rohit Sharma-led India's 12-match winning streak   \n",
       "3             Aegon life iTerm insurance plan helps customers save tax   \n",
       "4  Have known Hirani for yrs, what if MeToo claims are not true: Sonam   \n",
       "5    Rahat Fateh Ali Khan denies getting notice for smuggling currency   \n",
       "6      India get all out for 92, their lowest ODI total in New Zealand   \n",
       "7     Govt directs Alok Verma to join work 1 day before his retirement   \n",
       "8          Called PM Modi 'sir' 10 times to satisfy his ego: Andhra CM   \n",
       "9      Cong wins Ramgarh bypoll in Rajasthan, takes total to 100 seats   \n",
       "\n",
       "                                                                                                                                                                                                                                           news_summary  \n",
       "0                                                                                                                                                                                           upGrad's Online Power Learning has powered 3 lakh+ careers.  \n",
       "1                                                                                                   Users get one CRED coin per rupee of bill paid, which can be used to avail rewards from brands like Ixigo, BookMyShow, UberEats, Cult.Fit and more.  \n",
       "2                                                                                                                                                  The match witnessed India getting all out for 92, their seventh lowest total in ODI cricket history.  \n",
       "3                                                                                         Also, customers have options to insure against Critical Illnesses, Disability and Accidental Death Benefit Rider with a life cover up to the age of 80 years.  \n",
       "4  Speaking about the sexual harassment allegations against Rajkumar Hirani, Sonam Kapoor said, \"I've known Hirani for many years...What if it's not true, the [#MeToo] movement will get derailed.\" \"In the #MeToo movement, I always believe a woman.  \n",
       "5                                                                                        Pakistani singer Rahat Fateh Ali Khan has denied receiving any notice from the Enforcement Directorate over allegedly smuggling foreign currency out of India.  \n",
       "6                                                                                                                                                                                             India's previous lowest ODI total in New Zealand was 108.  \n",
       "7                                   Weeks after ex-CBI Director Alok Verma told the Department of Personnel and Training to consider him retired, the Home Ministry asked him to join work on the last day of his fixed tenure as Director on Thursday.  \n",
       "8                                                                                                              Andhra Pradesh CM N Chandrababu Naidu has said, \"When I met then US President Bill Clinton, I addressed him as Mr Clinton, not as 'sir'.  \n",
       "9                                                                                           Congress candidate Shafia Zubair won the Ramgarh Assembly seat in Rajasthan, by defeating BJP's Sukhwant Singh with a margin of 12,228 votes in the bypoll.  "
      ]
     },
     "execution_count": 53,
     "metadata": {},
     "output_type": "execute_result"
    }
   ],
   "source": [
    "pd.set_option('display.max_colwidth', None)\n",
    "data[['headlines','news_summary']][:10]"
   ]
  },
  {
   "cell_type": "markdown",
   "id": "statistical-while",
   "metadata": {},
   "source": [
    "원문 안의 단어를 추출하여 문장을 생성했기 때문에, 대부분의 출력문장이 (학습이 미흡한)추상적 요약에 비해 맥락에서 벗어나지 않아보입니다.    \n",
    "그러나 새로운 문장을 생성할 수 있는 능력이 없기 때문에, 핵심문장을 센스있게 추상적 단어로 표현하지 못하고 단순한 사실의 나열이 되는 모습도 보입니다.    \n",
    "\n",
    "그럼에도 불구하고, 추상적 요약을 성공적으로 학습시킬만한 적절한 데이터와 시간과 같은 자원이 충분하지 않은 경우, 비용과 성능의 측면을 고려했을 때, 오히려 간단한 추출적 요약 기법이 낫다고 생각됩니다. \n",
    "\n",
    "추상적 요약 모델과 텍스트 요약 모델을 문법의 완성도, 핵심단어의 포함측면으로 비교평가해볼때, 텍스트요약의 성능이 낫다고 판단되기 때문입니다. \n",
    "\n",
    "추상적 요약 모델의 성능을 개선하는 방법으로는\n",
    "* seq2seq와 어텐션의 자체의 조합을 좀 더 좋게 수정하는 방법\n",
    "* 빔 서치(beam search)\n",
    "* 사전 훈련된 워드 임베딩(pre-trained word embedding)\n",
    "* 인코더 - 디코더 자체의 구조를 새로이 변경한 하는 트랜스포머(Transformer)\n",
    "\n",
    "와 같은 여러 개선 방안들이 존재합니다. "
   ]
  }
 ],
 "metadata": {
  "kernelspec": {
   "display_name": "Python 3",
   "language": "python",
   "name": "python3"
  },
  "language_info": {
   "codemirror_mode": {
    "name": "ipython",
    "version": 3
   },
   "file_extension": ".py",
   "mimetype": "text/x-python",
   "name": "python",
   "nbconvert_exporter": "python",
   "pygments_lexer": "ipython3",
   "version": "3.7.9"
  }
 },
 "nbformat": 4,
 "nbformat_minor": 5
}
