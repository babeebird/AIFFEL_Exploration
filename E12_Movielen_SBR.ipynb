{
 "cells": [
  {
   "cell_type": "markdown",
   "id": "infectious-basics",
   "metadata": {},
   "source": [
    "# LNS Exploration | 12. Movielens_SBR\n",
    "\n",
    "---\n",
    "\n",
    "**[Introduce]**\n",
    "\n",
    "\n",
    "* 전자상거래 플랫폼에서 자주 사용되는 Sassion Based Recommendation 기법을 활용해서, 영화추천 시스템을 만들어봅니다. \n",
    "* Session-Based Recommendation은 세션 데이터를 기반으로 유저가 다음에 클릭 또는 구매할 아이템을 예측하는 추천입니다.\n",
    "* Session이란 유저가 서비스를 이용하면서 발생하는 중요한 정보를 담은 데이터를 말하며, 서버 쪽에 저장됩니다. \n",
    "\n",
    "\n",
    "**[Data]**\n",
    "\n",
    "* 추천시스템의 MNIST, Movielens 데이터\n",
    "* 유저가 영화에 대해 평점을 매긴 데이터 중 MovieLens 1M Dataset 사용합니다.\n",
    "    \n",
    "These files contain 1,000,209 anonymous ratings of approximately 3,900 movies made by 6,040 MovieLens users who joined MovieLens in 2000.  \n",
    "\n",
    "* 우리가 사용할 ratings.dat 는 'UserId', 'ItemId', 'Rating', 'Time' 컬럼으로 구성됩니다.\n",
    "\n",
    "* 세션을 브라우저가 종료되기 전까지 유저의 행동을 담은 시퀀스 데이터와 같은 의미로 사용하겠습니다."
   ]
  },
  {
   "cell_type": "markdown",
   "id": "alike-female",
   "metadata": {},
   "source": [
    "# 1. Data Preprocess\n",
    "\n",
    "\n",
    "---\n",
    "\n",
    "```python\n",
    "\n",
    "SessionId : the total number of visits to your site — including both new and repeat visits  \n",
    "\n",
    "UserId : Users means the number of unique visitors to your site\n",
    "```\n",
    "\n",
    "\n",
    "\n",
    "\n",
    "많은 서비스 기업에서는 Collaborative filtering(CF) 알고리즘과, Content based(CB) 추천 방식을 사용합니다. 그러나 이 방식은 유저가 본 상품들의 순서를 고려하지 않으므로 global 취향은 잘 고려할 수 있지만, local 취향 즉, '현재 가장 관심을 갖는' 상품이 무엇인지는 잘 알 수 가 없습니다. 또한 순서를 고려하지 않기 때문에, 유저들의 구매 패턴을 알아낼 수 없는 문제가 있습니다. \n",
    "\n",
    "이때, Session Based Recommendation Model은 유저들이 선택했던 아이템의 순서를 고려해 학습합니다.\n",
    "\n",
    "---\n",
    "\n",
    "\n",
    "그런데 우리가 사용할 ratings.dat 에는 SessionId가 아닌, UserId가 제공되므로, SBR을 위해서 UserId를 어떻게 SessionId로 재해석할 지 고민해야 합니다. "
   ]
  },
  {
   "cell_type": "code",
   "execution_count": 1,
   "id": "governing-confidence",
   "metadata": {},
   "outputs": [
    {
     "name": "stdout",
     "output_type": "stream",
     "text": [
      "total 1893588\n",
      "-rwxr-xr-x 1 root root       3973 May 17 06:12 dataset-README.txt\n",
      "-rw-r--r-- 1 root root     171308 Jul 13 03:53 movies.dat\n",
      "-rw-r--r-- 1 root root   24594131 Jul 13 03:54 ratings.dat\n",
      "-rw-r--r-- 1 root root       5577 Jul 13 03:53 README\n",
      "-rw-r--r-- 1 root root     134368 Jul 13 03:53 users.dat\n",
      "-rwxr-xr-x 1 root root   55583744 May 17 06:12 yoochoose-buys.dat\n",
      "-rwxr-xr-x 1 root root 1486798186 May 17 06:15 yoochoose-clicks.dat\n",
      "-rwxr-xr-x 1 root root  371725851 May 17 06:13 yoochoose-test.dat\n",
      "ln: failed to create symbolic link '/aiffel/aiffel/yoochoose/data/dataset-README.txt': File exists\n",
      "ln: failed to create symbolic link '/aiffel/aiffel/yoochoose/data/movies.dat': File exists\n",
      "ln: failed to create symbolic link '/aiffel/aiffel/yoochoose/data/ratings.dat': File exists\n",
      "ln: failed to create symbolic link '/aiffel/aiffel/yoochoose/data/README': File exists\n",
      "ln: failed to create symbolic link '/aiffel/aiffel/yoochoose/data/users.dat': File exists\n",
      "ln: failed to create symbolic link '/aiffel/aiffel/yoochoose/data/yoochoose-buys.dat': File exists\n",
      "ln: failed to create symbolic link '/aiffel/aiffel/yoochoose/data/yoochoose-clicks.dat': File exists\n",
      "ln: failed to create symbolic link '/aiffel/aiffel/yoochoose/data/yoochoose-test.dat': File exists\n"
     ]
    }
   ],
   "source": [
    "#1) 데이터 확인\n",
    "! ls -l ~/data\n",
    "\n",
    "#2) 프로젝트 폴더 생성\n",
    "! mkdir -p ~/aiffel/yoochoose\n",
    "\n",
    "#3) 프로젝트 폴더로 데이터 폴더 링크 연결\n",
    "! ln -s ~/data/* ~/aiffel/yoochoose/data"
   ]
  },
  {
   "cell_type": "markdown",
   "id": "shared-transport",
   "metadata": {},
   "source": [
    "```python\n",
    "import os\n",
    "f = open(os.getenv('HOME')+'/aiffel/yoochoose/data/README','r')\n",
    "while True:\n",
    "    line = f.readline()\n",
    "    if not line: break\n",
    "    print(line)\n",
    "```"
   ]
  },
  {
   "cell_type": "markdown",
   "id": "armed-large",
   "metadata": {},
   "source": [
    "RATINGS FILE DESCRIPTION\n",
    "\n",
    "================================================================================\n",
    "\n",
    "\n",
    "\n",
    "All ratings are contained in the file \"ratings.dat\" and are in the\n",
    "\n",
    "following format:\n",
    "\n",
    "\n",
    "\n",
    "UserID::MovieID::Rating::Timestamp\n",
    "\n",
    "\n",
    "\n",
    "- UserIDs range between 1 and 6040 \n",
    "\n",
    "- MovieIDs range between 1 and 3952\n",
    "\n",
    "- Ratings are made on a 5-star scale (whole-star ratings only)\n",
    "\n",
    "- Timestamp is represented in seconds since the epoch as returned by time(2)\n",
    "\n",
    "- Each user has at least 20 ratings\n",
    "\n"
   ]
  },
  {
   "cell_type": "markdown",
   "id": "prostate-somewhere",
   "metadata": {},
   "source": [
    "### 라이브러리 및 패키지 불러오기"
   ]
  },
  {
   "cell_type": "code",
   "execution_count": 2,
   "id": "cubic-tanzania",
   "metadata": {},
   "outputs": [],
   "source": [
    "import datetime as dt\n",
    "from pathlib import Path\n",
    "import os\n",
    "\n",
    "import numpy as np\n",
    "import pandas as pd\n",
    "import warnings \n",
    "warnings.filterwarnings('ignore')"
   ]
  },
  {
   "cell_type": "code",
   "execution_count": 3,
   "id": "fresh-denver",
   "metadata": {},
   "outputs": [
    {
     "data": {
      "text/html": [
       "<div>\n",
       "<style scoped>\n",
       "    .dataframe tbody tr th:only-of-type {\n",
       "        vertical-align: middle;\n",
       "    }\n",
       "\n",
       "    .dataframe tbody tr th {\n",
       "        vertical-align: top;\n",
       "    }\n",
       "\n",
       "    .dataframe thead th {\n",
       "        text-align: right;\n",
       "    }\n",
       "</style>\n",
       "<table border=\"1\" class=\"dataframe\">\n",
       "  <thead>\n",
       "    <tr style=\"text-align: right;\">\n",
       "      <th></th>\n",
       "      <th>UserId</th>\n",
       "      <th>ItemId</th>\n",
       "      <th>Rating</th>\n",
       "      <th>Time</th>\n",
       "    </tr>\n",
       "  </thead>\n",
       "  <tbody>\n",
       "    <tr>\n",
       "      <th>31</th>\n",
       "      <td>1</td>\n",
       "      <td>3186</td>\n",
       "      <td>4</td>\n",
       "      <td>978300019</td>\n",
       "    </tr>\n",
       "    <tr>\n",
       "      <th>22</th>\n",
       "      <td>1</td>\n",
       "      <td>1270</td>\n",
       "      <td>5</td>\n",
       "      <td>978300055</td>\n",
       "    </tr>\n",
       "    <tr>\n",
       "      <th>27</th>\n",
       "      <td>1</td>\n",
       "      <td>1721</td>\n",
       "      <td>4</td>\n",
       "      <td>978300055</td>\n",
       "    </tr>\n",
       "    <tr>\n",
       "      <th>37</th>\n",
       "      <td>1</td>\n",
       "      <td>1022</td>\n",
       "      <td>5</td>\n",
       "      <td>978300055</td>\n",
       "    </tr>\n",
       "    <tr>\n",
       "      <th>24</th>\n",
       "      <td>1</td>\n",
       "      <td>2340</td>\n",
       "      <td>3</td>\n",
       "      <td>978300103</td>\n",
       "    </tr>\n",
       "    <tr>\n",
       "      <th>...</th>\n",
       "      <td>...</td>\n",
       "      <td>...</td>\n",
       "      <td>...</td>\n",
       "      <td>...</td>\n",
       "    </tr>\n",
       "    <tr>\n",
       "      <th>1000019</th>\n",
       "      <td>6040</td>\n",
       "      <td>2917</td>\n",
       "      <td>4</td>\n",
       "      <td>997454429</td>\n",
       "    </tr>\n",
       "    <tr>\n",
       "      <th>999988</th>\n",
       "      <td>6040</td>\n",
       "      <td>1921</td>\n",
       "      <td>4</td>\n",
       "      <td>997454464</td>\n",
       "    </tr>\n",
       "    <tr>\n",
       "      <th>1000172</th>\n",
       "      <td>6040</td>\n",
       "      <td>1784</td>\n",
       "      <td>3</td>\n",
       "      <td>997454464</td>\n",
       "    </tr>\n",
       "    <tr>\n",
       "      <th>1000167</th>\n",
       "      <td>6040</td>\n",
       "      <td>161</td>\n",
       "      <td>3</td>\n",
       "      <td>997454486</td>\n",
       "    </tr>\n",
       "    <tr>\n",
       "      <th>1000042</th>\n",
       "      <td>6040</td>\n",
       "      <td>1221</td>\n",
       "      <td>4</td>\n",
       "      <td>998315055</td>\n",
       "    </tr>\n",
       "  </tbody>\n",
       "</table>\n",
       "<p>1000209 rows × 4 columns</p>\n",
       "</div>"
      ],
      "text/plain": [
       "         UserId  ItemId  Rating       Time\n",
       "31            1    3186       4  978300019\n",
       "22            1    1270       5  978300055\n",
       "27            1    1721       4  978300055\n",
       "37            1    1022       5  978300055\n",
       "24            1    2340       3  978300103\n",
       "...         ...     ...     ...        ...\n",
       "1000019    6040    2917       4  997454429\n",
       "999988     6040    1921       4  997454464\n",
       "1000172    6040    1784       3  997454464\n",
       "1000167    6040     161       3  997454486\n",
       "1000042    6040    1221       4  998315055\n",
       "\n",
       "[1000209 rows x 4 columns]"
      ]
     },
     "execution_count": 3,
     "metadata": {},
     "output_type": "execute_result"
    }
   ],
   "source": [
    "data_path = Path(os.getenv('HOME')+'/aiffel/yoochoose/data/') \n",
    "train_path = data_path / 'ratings.dat'\n",
    "\n",
    "\n",
    "def load_data(data_path: Path, nrows=None):\n",
    "    data = pd.read_csv(data_path, sep='::', header=None, usecols=[0, 1, 2, 3], dtype={0: np.int32, 1: np.int32, 2: np.int32}, nrows=nrows)\n",
    "    data.columns = ['UserId', 'ItemId', 'Rating', 'Time']\n",
    "    return data\n",
    "\n",
    "\n",
    "data = load_data(train_path, None)\n",
    "data.sort_values(['UserId', 'Time'], inplace=True)  # data를 id와 시간 순서로 정렬해줍니다.\n",
    "data"
   ]
  },
  {
   "cell_type": "code",
   "execution_count": 4,
   "id": "instructional-modification",
   "metadata": {},
   "outputs": [
    {
     "data": {
      "text/plain": [
       "(6040, 3706)"
      ]
     },
     "execution_count": 4,
     "metadata": {},
     "output_type": "execute_result"
    }
   ],
   "source": [
    "data['UserId'].nunique(), data['ItemId'].nunique()"
   ]
  },
  {
   "cell_type": "markdown",
   "id": "confidential-constraint",
   "metadata": {},
   "source": [
    "```python\n",
    "* 명확한 1회 세션의 SessionId를 포함하지 않기 때문에 UserId 가 SessionId 역할을 해야 합니다. 어떻게 Session 단위로 해석해야 할까요?\n",
    "\n",
    "우선 groupby 메서드를 사용해서 각 유저가 시간당 몇회의 평가를 했는지 살펴보겠습니다. \n",
    "\n",
    "* Rating 정보를 어떻게 활용해야 할까요? \n",
    "\n",
    "rating은 유저가 영화에 대해 주는 별점으로 최저점1~ 최고점 5 의 값을 가집니다. \n",
    "직전에 봤던 영화에 1-2점의 평가를 한 경우엔 영화 추천에 의미가 없다고 판단하여 제거했습니다. 따라서 저희가 사용할 데이터는 3-5점의 평가를 받은 데이터입니다.\n",
    "\n",
    "* Time 항목에는 UTC time 가 포함되어, 1970 년 1월 1일부터 경과된 초단위 시간이 기재됩니다. \n",
    "\n",
    "datetime.datetime.fromtimestamp() 를 사용하여 년월일 단위로 표현합니다.\n",
    "```"
   ]
  },
  {
   "cell_type": "code",
   "execution_count": 5,
   "id": "allied-mixture",
   "metadata": {},
   "outputs": [],
   "source": [
    "#- UTC time을 datetime으로 변환\n",
    "\n",
    "import datetime\n",
    "\n",
    "data['Time'] = data['Time'].apply(lambda x : datetime.datetime.fromtimestamp(x))   "
   ]
  },
  {
   "cell_type": "code",
   "execution_count": 6,
   "id": "sexual-publication",
   "metadata": {
    "scrolled": true
   },
   "outputs": [
    {
     "data": {
      "text/html": [
       "<div>\n",
       "<style scoped>\n",
       "    .dataframe tbody tr th:only-of-type {\n",
       "        vertical-align: middle;\n",
       "    }\n",
       "\n",
       "    .dataframe tbody tr th {\n",
       "        vertical-align: top;\n",
       "    }\n",
       "\n",
       "    .dataframe thead th {\n",
       "        text-align: right;\n",
       "    }\n",
       "</style>\n",
       "<table border=\"1\" class=\"dataframe\">\n",
       "  <thead>\n",
       "    <tr style=\"text-align: right;\">\n",
       "      <th></th>\n",
       "      <th>UserId</th>\n",
       "      <th>ItemId</th>\n",
       "      <th>Rating</th>\n",
       "      <th>Time</th>\n",
       "    </tr>\n",
       "  </thead>\n",
       "  <tbody>\n",
       "    <tr>\n",
       "      <th>31</th>\n",
       "      <td>1</td>\n",
       "      <td>3186</td>\n",
       "      <td>4</td>\n",
       "      <td>2000-12-31 22:00:19</td>\n",
       "    </tr>\n",
       "    <tr>\n",
       "      <th>22</th>\n",
       "      <td>1</td>\n",
       "      <td>1270</td>\n",
       "      <td>5</td>\n",
       "      <td>2000-12-31 22:00:55</td>\n",
       "    </tr>\n",
       "    <tr>\n",
       "      <th>27</th>\n",
       "      <td>1</td>\n",
       "      <td>1721</td>\n",
       "      <td>4</td>\n",
       "      <td>2000-12-31 22:00:55</td>\n",
       "    </tr>\n",
       "    <tr>\n",
       "      <th>37</th>\n",
       "      <td>1</td>\n",
       "      <td>1022</td>\n",
       "      <td>5</td>\n",
       "      <td>2000-12-31 22:00:55</td>\n",
       "    </tr>\n",
       "    <tr>\n",
       "      <th>24</th>\n",
       "      <td>1</td>\n",
       "      <td>2340</td>\n",
       "      <td>3</td>\n",
       "      <td>2000-12-31 22:01:43</td>\n",
       "    </tr>\n",
       "  </tbody>\n",
       "</table>\n",
       "</div>"
      ],
      "text/plain": [
       "    UserId  ItemId  Rating                Time\n",
       "31       1    3186       4 2000-12-31 22:00:19\n",
       "22       1    1270       5 2000-12-31 22:00:55\n",
       "27       1    1721       4 2000-12-31 22:00:55\n",
       "37       1    1022       5 2000-12-31 22:00:55\n",
       "24       1    2340       3 2000-12-31 22:01:43"
      ]
     },
     "execution_count": 6,
     "metadata": {},
     "output_type": "execute_result"
    }
   ],
   "source": [
    "data.head()"
   ]
  },
  {
   "cell_type": "markdown",
   "id": "recorded-campus",
   "metadata": {},
   "source": [
    "### SessionId 만들기"
   ]
  },
  {
   "cell_type": "code",
   "execution_count": 7,
   "id": "dried-router",
   "metadata": {},
   "outputs": [],
   "source": [
    "temp_data = data.groupby(['UserId', 'Time'])['ItemId'].count()"
   ]
  },
  {
   "cell_type": "code",
   "execution_count": 8,
   "id": "dietary-intervention",
   "metadata": {},
   "outputs": [
    {
     "data": {
      "text/plain": [
       "UserId  Time               \n",
       "1       2000-12-31 22:00:19    1\n",
       "        2000-12-31 22:00:55    3\n",
       "        2000-12-31 22:01:43    1\n",
       "        2000-12-31 22:02:52    1\n",
       "        2000-12-31 22:04:35    1\n",
       "        2000-12-31 22:11:59    2\n",
       "        2000-12-31 22:12:40    3\n",
       "        2000-12-31 22:22:48    1\n",
       "        2000-12-31 22:23:18    1\n",
       "        2000-12-31 22:26:10    1\n",
       "        2000-12-31 22:26:30    1\n",
       "        2000-12-31 22:26:59    1\n",
       "        2000-12-31 22:28:33    1\n",
       "        2000-12-31 22:29:12    1\n",
       "        2000-12-31 22:29:13    2\n",
       "Name: ItemId, dtype: int64"
      ]
     },
     "execution_count": 8,
     "metadata": {},
     "output_type": "execute_result"
    }
   ],
   "source": [
    "temp_data.head(15)"
   ]
  },
  {
   "cell_type": "code",
   "execution_count": 9,
   "id": "typical-opening",
   "metadata": {},
   "outputs": [
    {
     "data": {
      "text/plain": [
       "(471163,)"
      ]
     },
     "execution_count": 9,
     "metadata": {},
     "output_type": "execute_result"
    }
   ],
   "source": [
    "temp_data.shape"
   ]
  },
  {
   "cell_type": "code",
   "execution_count": 10,
   "id": "valuable-interstate",
   "metadata": {},
   "outputs": [
    {
     "data": {
      "text/plain": [
       "count    471163.000000\n",
       "mean          2.122851\n",
       "std           1.546899\n",
       "min           1.000000\n",
       "25%           1.000000\n",
       "50%           2.000000\n",
       "75%           3.000000\n",
       "max          30.000000\n",
       "Name: ItemId, dtype: float64"
      ]
     },
     "execution_count": 10,
     "metadata": {},
     "output_type": "execute_result"
    }
   ],
   "source": [
    "temp_data.describe()"
   ]
  },
  {
   "cell_type": "markdown",
   "id": "handmade-choir",
   "metadata": {},
   "source": [
    "한 명의 사용자가 한 시각에 평균적으로 2회의 평가를 했으며, 75%의 사용자는 3회의 평가를 했기 때문에, 4회 이상의 평가는 이상치라고 판단하여 제거합니다. "
   ]
  },
  {
   "cell_type": "code",
   "execution_count": 11,
   "id": "convinced-consensus",
   "metadata": {},
   "outputs": [],
   "source": [
    "data = pd.merge(data, temp_data, how='inner', on=['UserId','Time'])"
   ]
  },
  {
   "cell_type": "code",
   "execution_count": 12,
   "id": "touched-delta",
   "metadata": {
    "scrolled": true
   },
   "outputs": [],
   "source": [
    "data = data.rename(columns={'ItemId_x':'ItemId'})\n",
    "data = data.rename(columns={'ItemId_y':'ItemId_Count'})"
   ]
  },
  {
   "cell_type": "code",
   "execution_count": 13,
   "id": "induced-indonesia",
   "metadata": {},
   "outputs": [],
   "source": [
    "data = data[data['ItemId_Count']< 4]"
   ]
  },
  {
   "cell_type": "code",
   "execution_count": 14,
   "id": "authorized-fluid",
   "metadata": {},
   "outputs": [
    {
     "data": {
      "text/html": [
       "<div>\n",
       "<style scoped>\n",
       "    .dataframe tbody tr th:only-of-type {\n",
       "        vertical-align: middle;\n",
       "    }\n",
       "\n",
       "    .dataframe tbody tr th {\n",
       "        vertical-align: top;\n",
       "    }\n",
       "\n",
       "    .dataframe thead th {\n",
       "        text-align: right;\n",
       "    }\n",
       "</style>\n",
       "<table border=\"1\" class=\"dataframe\">\n",
       "  <thead>\n",
       "    <tr style=\"text-align: right;\">\n",
       "      <th></th>\n",
       "      <th>UserId</th>\n",
       "      <th>ItemId</th>\n",
       "      <th>Rating</th>\n",
       "      <th>Time</th>\n",
       "      <th>ItemId_Count</th>\n",
       "    </tr>\n",
       "  </thead>\n",
       "  <tbody>\n",
       "    <tr>\n",
       "      <th>0</th>\n",
       "      <td>1</td>\n",
       "      <td>3186</td>\n",
       "      <td>4</td>\n",
       "      <td>2000-12-31 22:00:19</td>\n",
       "      <td>1</td>\n",
       "    </tr>\n",
       "    <tr>\n",
       "      <th>1</th>\n",
       "      <td>1</td>\n",
       "      <td>1270</td>\n",
       "      <td>5</td>\n",
       "      <td>2000-12-31 22:00:55</td>\n",
       "      <td>3</td>\n",
       "    </tr>\n",
       "    <tr>\n",
       "      <th>2</th>\n",
       "      <td>1</td>\n",
       "      <td>1721</td>\n",
       "      <td>4</td>\n",
       "      <td>2000-12-31 22:00:55</td>\n",
       "      <td>3</td>\n",
       "    </tr>\n",
       "    <tr>\n",
       "      <th>3</th>\n",
       "      <td>1</td>\n",
       "      <td>1022</td>\n",
       "      <td>5</td>\n",
       "      <td>2000-12-31 22:00:55</td>\n",
       "      <td>3</td>\n",
       "    </tr>\n",
       "    <tr>\n",
       "      <th>4</th>\n",
       "      <td>1</td>\n",
       "      <td>2340</td>\n",
       "      <td>3</td>\n",
       "      <td>2000-12-31 22:01:43</td>\n",
       "      <td>1</td>\n",
       "    </tr>\n",
       "    <tr>\n",
       "      <th>...</th>\n",
       "      <td>...</td>\n",
       "      <td>...</td>\n",
       "      <td>...</td>\n",
       "      <td>...</td>\n",
       "      <td>...</td>\n",
       "    </tr>\n",
       "    <tr>\n",
       "      <th>1000204</th>\n",
       "      <td>6040</td>\n",
       "      <td>2917</td>\n",
       "      <td>4</td>\n",
       "      <td>2001-08-10 14:40:29</td>\n",
       "      <td>1</td>\n",
       "    </tr>\n",
       "    <tr>\n",
       "      <th>1000205</th>\n",
       "      <td>6040</td>\n",
       "      <td>1921</td>\n",
       "      <td>4</td>\n",
       "      <td>2001-08-10 14:41:04</td>\n",
       "      <td>2</td>\n",
       "    </tr>\n",
       "    <tr>\n",
       "      <th>1000206</th>\n",
       "      <td>6040</td>\n",
       "      <td>1784</td>\n",
       "      <td>3</td>\n",
       "      <td>2001-08-10 14:41:04</td>\n",
       "      <td>2</td>\n",
       "    </tr>\n",
       "    <tr>\n",
       "      <th>1000207</th>\n",
       "      <td>6040</td>\n",
       "      <td>161</td>\n",
       "      <td>3</td>\n",
       "      <td>2001-08-10 14:41:26</td>\n",
       "      <td>1</td>\n",
       "    </tr>\n",
       "    <tr>\n",
       "      <th>1000208</th>\n",
       "      <td>6040</td>\n",
       "      <td>1221</td>\n",
       "      <td>4</td>\n",
       "      <td>2001-08-20 13:44:15</td>\n",
       "      <td>1</td>\n",
       "    </tr>\n",
       "  </tbody>\n",
       "</table>\n",
       "<p>635159 rows × 5 columns</p>\n",
       "</div>"
      ],
      "text/plain": [
       "         UserId  ItemId  Rating                Time  ItemId_Count\n",
       "0             1    3186       4 2000-12-31 22:00:19             1\n",
       "1             1    1270       5 2000-12-31 22:00:55             3\n",
       "2             1    1721       4 2000-12-31 22:00:55             3\n",
       "3             1    1022       5 2000-12-31 22:00:55             3\n",
       "4             1    2340       3 2000-12-31 22:01:43             1\n",
       "...         ...     ...     ...                 ...           ...\n",
       "1000204    6040    2917       4 2001-08-10 14:40:29             1\n",
       "1000205    6040    1921       4 2001-08-10 14:41:04             2\n",
       "1000206    6040    1784       3 2001-08-10 14:41:04             2\n",
       "1000207    6040     161       3 2001-08-10 14:41:26             1\n",
       "1000208    6040    1221       4 2001-08-20 13:44:15             1\n",
       "\n",
       "[635159 rows x 5 columns]"
      ]
     },
     "execution_count": 14,
     "metadata": {},
     "output_type": "execute_result"
    }
   ],
   "source": [
    "data.sort_values(['UserId','Time'])"
   ]
  },
  {
   "cell_type": "code",
   "execution_count": 15,
   "id": "purple-booking",
   "metadata": {
    "scrolled": false
   },
   "outputs": [
    {
     "data": {
      "text/html": [
       "<div>\n",
       "<style scoped>\n",
       "    .dataframe tbody tr th:only-of-type {\n",
       "        vertical-align: middle;\n",
       "    }\n",
       "\n",
       "    .dataframe tbody tr th {\n",
       "        vertical-align: top;\n",
       "    }\n",
       "\n",
       "    .dataframe thead th {\n",
       "        text-align: right;\n",
       "    }\n",
       "</style>\n",
       "<table border=\"1\" class=\"dataframe\">\n",
       "  <thead>\n",
       "    <tr style=\"text-align: right;\">\n",
       "      <th></th>\n",
       "      <th>UserId</th>\n",
       "      <th>ItemId</th>\n",
       "      <th>Rating</th>\n",
       "      <th>Time</th>\n",
       "      <th>ItemId_Count</th>\n",
       "      <th>SessionId</th>\n",
       "    </tr>\n",
       "  </thead>\n",
       "  <tbody>\n",
       "    <tr>\n",
       "      <th>0</th>\n",
       "      <td>1</td>\n",
       "      <td>3186</td>\n",
       "      <td>4</td>\n",
       "      <td>2000-12-31 22:00:19</td>\n",
       "      <td>1</td>\n",
       "      <td>1</td>\n",
       "    </tr>\n",
       "    <tr>\n",
       "      <th>1</th>\n",
       "      <td>1</td>\n",
       "      <td>1270</td>\n",
       "      <td>5</td>\n",
       "      <td>2000-12-31 22:00:55</td>\n",
       "      <td>3</td>\n",
       "      <td>1</td>\n",
       "    </tr>\n",
       "    <tr>\n",
       "      <th>2</th>\n",
       "      <td>1</td>\n",
       "      <td>1721</td>\n",
       "      <td>4</td>\n",
       "      <td>2000-12-31 22:00:55</td>\n",
       "      <td>3</td>\n",
       "      <td>1</td>\n",
       "    </tr>\n",
       "    <tr>\n",
       "      <th>3</th>\n",
       "      <td>1</td>\n",
       "      <td>1022</td>\n",
       "      <td>5</td>\n",
       "      <td>2000-12-31 22:00:55</td>\n",
       "      <td>3</td>\n",
       "      <td>1</td>\n",
       "    </tr>\n",
       "    <tr>\n",
       "      <th>4</th>\n",
       "      <td>1</td>\n",
       "      <td>2340</td>\n",
       "      <td>3</td>\n",
       "      <td>2000-12-31 22:01:43</td>\n",
       "      <td>1</td>\n",
       "      <td>1</td>\n",
       "    </tr>\n",
       "    <tr>\n",
       "      <th>...</th>\n",
       "      <td>...</td>\n",
       "      <td>...</td>\n",
       "      <td>...</td>\n",
       "      <td>...</td>\n",
       "      <td>...</td>\n",
       "      <td>...</td>\n",
       "    </tr>\n",
       "    <tr>\n",
       "      <th>1000204</th>\n",
       "      <td>6040</td>\n",
       "      <td>2917</td>\n",
       "      <td>4</td>\n",
       "      <td>2001-08-10 14:40:29</td>\n",
       "      <td>1</td>\n",
       "      <td>25026</td>\n",
       "    </tr>\n",
       "    <tr>\n",
       "      <th>1000205</th>\n",
       "      <td>6040</td>\n",
       "      <td>1921</td>\n",
       "      <td>4</td>\n",
       "      <td>2001-08-10 14:41:04</td>\n",
       "      <td>2</td>\n",
       "      <td>25026</td>\n",
       "    </tr>\n",
       "    <tr>\n",
       "      <th>1000206</th>\n",
       "      <td>6040</td>\n",
       "      <td>1784</td>\n",
       "      <td>3</td>\n",
       "      <td>2001-08-10 14:41:04</td>\n",
       "      <td>2</td>\n",
       "      <td>25026</td>\n",
       "    </tr>\n",
       "    <tr>\n",
       "      <th>1000207</th>\n",
       "      <td>6040</td>\n",
       "      <td>161</td>\n",
       "      <td>3</td>\n",
       "      <td>2001-08-10 14:41:26</td>\n",
       "      <td>1</td>\n",
       "      <td>25026</td>\n",
       "    </tr>\n",
       "    <tr>\n",
       "      <th>1000208</th>\n",
       "      <td>6040</td>\n",
       "      <td>1221</td>\n",
       "      <td>4</td>\n",
       "      <td>2001-08-20 13:44:15</td>\n",
       "      <td>1</td>\n",
       "      <td>25027</td>\n",
       "    </tr>\n",
       "  </tbody>\n",
       "</table>\n",
       "<p>635159 rows × 6 columns</p>\n",
       "</div>"
      ],
      "text/plain": [
       "         UserId  ItemId  Rating                Time  ItemId_Count  SessionId\n",
       "0             1    3186       4 2000-12-31 22:00:19             1          1\n",
       "1             1    1270       5 2000-12-31 22:00:55             3          1\n",
       "2             1    1721       4 2000-12-31 22:00:55             3          1\n",
       "3             1    1022       5 2000-12-31 22:00:55             3          1\n",
       "4             1    2340       3 2000-12-31 22:01:43             1          1\n",
       "...         ...     ...     ...                 ...           ...        ...\n",
       "1000204    6040    2917       4 2001-08-10 14:40:29             1      25026\n",
       "1000205    6040    1921       4 2001-08-10 14:41:04             2      25026\n",
       "1000206    6040    1784       3 2001-08-10 14:41:04             2      25026\n",
       "1000207    6040     161       3 2001-08-10 14:41:26             1      25026\n",
       "1000208    6040    1221       4 2001-08-20 13:44:15             1      25027\n",
       "\n",
       "[635159 rows x 6 columns]"
      ]
     },
     "execution_count": 15,
     "metadata": {},
     "output_type": "execute_result"
    }
   ],
   "source": [
    "cond1 = data['Time'] - data['Time'].shift(1) > datetime.timedelta(minutes = 30) \n",
    "cond2 = data['UserId'] != data['UserId'].shift(1) \n",
    "data['SessionId'] = (cond1|cond2).cumsum() \n",
    "data"
   ]
  },
  {
   "cell_type": "markdown",
   "id": "varying-withdrawal",
   "metadata": {},
   "source": [
    "총 2만 5000 여개의 SessionId가 형성되었습니다."
   ]
  },
  {
   "cell_type": "markdown",
   "id": "gentle-jesus",
   "metadata": {},
   "source": [
    "### 평점\n",
    "영화 추천에 유의미하다고 판단한 평점 3 이상만 남깁니다."
   ]
  },
  {
   "cell_type": "markdown",
   "id": "productive-norfolk",
   "metadata": {},
   "source": [
    "movielen.org 홈페이지에 들어가보니 별점만 체크하는 시스템이라 짧은 시간 안에 1~3개의 평점을 매기는 것을 이상치가 아닐 수 있지만,\n",
    "3개를 초과하는 데이터는 이상치로 판단했습니다."
   ]
  },
  {
   "cell_type": "code",
   "execution_count": 16,
   "id": "educated-guard",
   "metadata": {
    "scrolled": false
   },
   "outputs": [
    {
     "data": {
      "text/html": [
       "<div>\n",
       "<style scoped>\n",
       "    .dataframe tbody tr th:only-of-type {\n",
       "        vertical-align: middle;\n",
       "    }\n",
       "\n",
       "    .dataframe tbody tr th {\n",
       "        vertical-align: top;\n",
       "    }\n",
       "\n",
       "    .dataframe thead th {\n",
       "        text-align: right;\n",
       "    }\n",
       "</style>\n",
       "<table border=\"1\" class=\"dataframe\">\n",
       "  <thead>\n",
       "    <tr style=\"text-align: right;\">\n",
       "      <th></th>\n",
       "      <th>UserId</th>\n",
       "      <th>ItemId</th>\n",
       "      <th>Rating</th>\n",
       "      <th>Time</th>\n",
       "      <th>ItemId_Count</th>\n",
       "      <th>SessionId</th>\n",
       "    </tr>\n",
       "  </thead>\n",
       "  <tbody>\n",
       "    <tr>\n",
       "      <th>0</th>\n",
       "      <td>1</td>\n",
       "      <td>3186</td>\n",
       "      <td>4</td>\n",
       "      <td>2000-12-31 22:00:19</td>\n",
       "      <td>1</td>\n",
       "      <td>1</td>\n",
       "    </tr>\n",
       "    <tr>\n",
       "      <th>1</th>\n",
       "      <td>1</td>\n",
       "      <td>1270</td>\n",
       "      <td>5</td>\n",
       "      <td>2000-12-31 22:00:55</td>\n",
       "      <td>3</td>\n",
       "      <td>1</td>\n",
       "    </tr>\n",
       "    <tr>\n",
       "      <th>2</th>\n",
       "      <td>1</td>\n",
       "      <td>1721</td>\n",
       "      <td>4</td>\n",
       "      <td>2000-12-31 22:00:55</td>\n",
       "      <td>3</td>\n",
       "      <td>1</td>\n",
       "    </tr>\n",
       "    <tr>\n",
       "      <th>3</th>\n",
       "      <td>1</td>\n",
       "      <td>1022</td>\n",
       "      <td>5</td>\n",
       "      <td>2000-12-31 22:00:55</td>\n",
       "      <td>3</td>\n",
       "      <td>1</td>\n",
       "    </tr>\n",
       "    <tr>\n",
       "      <th>4</th>\n",
       "      <td>1</td>\n",
       "      <td>2340</td>\n",
       "      <td>3</td>\n",
       "      <td>2000-12-31 22:01:43</td>\n",
       "      <td>1</td>\n",
       "      <td>1</td>\n",
       "    </tr>\n",
       "    <tr>\n",
       "      <th>...</th>\n",
       "      <td>...</td>\n",
       "      <td>...</td>\n",
       "      <td>...</td>\n",
       "      <td>...</td>\n",
       "      <td>...</td>\n",
       "      <td>...</td>\n",
       "    </tr>\n",
       "    <tr>\n",
       "      <th>1000204</th>\n",
       "      <td>6040</td>\n",
       "      <td>2917</td>\n",
       "      <td>4</td>\n",
       "      <td>2001-08-10 14:40:29</td>\n",
       "      <td>1</td>\n",
       "      <td>25026</td>\n",
       "    </tr>\n",
       "    <tr>\n",
       "      <th>1000205</th>\n",
       "      <td>6040</td>\n",
       "      <td>1921</td>\n",
       "      <td>4</td>\n",
       "      <td>2001-08-10 14:41:04</td>\n",
       "      <td>2</td>\n",
       "      <td>25026</td>\n",
       "    </tr>\n",
       "    <tr>\n",
       "      <th>1000206</th>\n",
       "      <td>6040</td>\n",
       "      <td>1784</td>\n",
       "      <td>3</td>\n",
       "      <td>2001-08-10 14:41:04</td>\n",
       "      <td>2</td>\n",
       "      <td>25026</td>\n",
       "    </tr>\n",
       "    <tr>\n",
       "      <th>1000207</th>\n",
       "      <td>6040</td>\n",
       "      <td>161</td>\n",
       "      <td>3</td>\n",
       "      <td>2001-08-10 14:41:26</td>\n",
       "      <td>1</td>\n",
       "      <td>25026</td>\n",
       "    </tr>\n",
       "    <tr>\n",
       "      <th>1000208</th>\n",
       "      <td>6040</td>\n",
       "      <td>1221</td>\n",
       "      <td>4</td>\n",
       "      <td>2001-08-20 13:44:15</td>\n",
       "      <td>1</td>\n",
       "      <td>25027</td>\n",
       "    </tr>\n",
       "  </tbody>\n",
       "</table>\n",
       "<p>533158 rows × 6 columns</p>\n",
       "</div>"
      ],
      "text/plain": [
       "         UserId  ItemId  Rating                Time  ItemId_Count  SessionId\n",
       "0             1    3186       4 2000-12-31 22:00:19             1          1\n",
       "1             1    1270       5 2000-12-31 22:00:55             3          1\n",
       "2             1    1721       4 2000-12-31 22:00:55             3          1\n",
       "3             1    1022       5 2000-12-31 22:00:55             3          1\n",
       "4             1    2340       3 2000-12-31 22:01:43             1          1\n",
       "...         ...     ...     ...                 ...           ...        ...\n",
       "1000204    6040    2917       4 2001-08-10 14:40:29             1      25026\n",
       "1000205    6040    1921       4 2001-08-10 14:41:04             2      25026\n",
       "1000206    6040    1784       3 2001-08-10 14:41:04             2      25026\n",
       "1000207    6040     161       3 2001-08-10 14:41:26             1      25026\n",
       "1000208    6040    1221       4 2001-08-20 13:44:15             1      25027\n",
       "\n",
       "[533158 rows x 6 columns]"
      ]
     },
     "execution_count": 16,
     "metadata": {},
     "output_type": "execute_result"
    }
   ],
   "source": [
    "data = data[data['Rating']>= 3]\n",
    "data"
   ]
  },
  {
   "cell_type": "markdown",
   "id": "musical-portal",
   "metadata": {},
   "source": [
    "### Session Length"
   ]
  },
  {
   "cell_type": "code",
   "execution_count": 17,
   "id": "innovative-aircraft",
   "metadata": {},
   "outputs": [
    {
     "data": {
      "text/plain": [
       "SessionId\n",
       "1        40\n",
       "2         8\n",
       "3        95\n",
       "4        46\n",
       "5         7\n",
       "         ..\n",
       "25023     7\n",
       "25024    13\n",
       "25025     1\n",
       "25026    21\n",
       "25027     1\n",
       "Length: 23924, dtype: int64"
      ]
     },
     "execution_count": 17,
     "metadata": {},
     "output_type": "execute_result"
    }
   ],
   "source": [
    "#- Session Length\n",
    "session_length = data.groupby(data['SessionId']).size()\n",
    "session_length"
   ]
  },
  {
   "cell_type": "code",
   "execution_count": 18,
   "id": "controlling-petroleum",
   "metadata": {
    "scrolled": true
   },
   "outputs": [
    {
     "data": {
      "text/plain": [
       "(5.0, 22.28548737669286)"
      ]
     },
     "execution_count": 18,
     "metadata": {},
     "output_type": "execute_result"
    }
   ],
   "source": [
    "session_length.median(), session_length.mean()"
   ]
  },
  {
   "cell_type": "code",
   "execution_count": 19,
   "id": "affecting-differential",
   "metadata": {},
   "outputs": [
    {
     "data": {
      "text/plain": [
       "(1, 545)"
      ]
     },
     "execution_count": 19,
     "metadata": {},
     "output_type": "execute_result"
    }
   ],
   "source": [
    "session_length.min(), session_length.max()"
   ]
  },
  {
   "cell_type": "code",
   "execution_count": 20,
   "id": "polish-routine",
   "metadata": {
    "scrolled": true
   },
   "outputs": [
    {
     "data": {
      "text/plain": [
       "101.0"
      ]
     },
     "execution_count": 20,
     "metadata": {},
     "output_type": "execute_result"
    }
   ],
   "source": [
    "session_length.quantile(0.95)"
   ]
  },
  {
   "cell_type": "markdown",
   "id": "confidential-helicopter",
   "metadata": {},
   "source": [
    "session_length가 100 이상인 데이터는 지우도록 하겠습니다. "
   ]
  },
  {
   "cell_type": "code",
   "execution_count": 21,
   "id": "running-marsh",
   "metadata": {},
   "outputs": [
    {
     "data": {
      "text/html": [
       "<div>\n",
       "<style scoped>\n",
       "    .dataframe tbody tr th:only-of-type {\n",
       "        vertical-align: middle;\n",
       "    }\n",
       "\n",
       "    .dataframe tbody tr th {\n",
       "        vertical-align: top;\n",
       "    }\n",
       "\n",
       "    .dataframe thead th {\n",
       "        text-align: right;\n",
       "    }\n",
       "</style>\n",
       "<table border=\"1\" class=\"dataframe\">\n",
       "  <thead>\n",
       "    <tr style=\"text-align: right;\">\n",
       "      <th></th>\n",
       "      <th>UserId</th>\n",
       "      <th>ItemId</th>\n",
       "      <th>Rating</th>\n",
       "      <th>Time</th>\n",
       "      <th>ItemId_Count</th>\n",
       "      <th>SessionId</th>\n",
       "    </tr>\n",
       "  </thead>\n",
       "  <tbody>\n",
       "    <tr>\n",
       "      <th>610740</th>\n",
       "      <td>3705</td>\n",
       "      <td>3015</td>\n",
       "      <td>3</td>\n",
       "      <td>2000-08-14 19:14:15</td>\n",
       "      <td>3</td>\n",
       "      <td>15879</td>\n",
       "    </tr>\n",
       "    <tr>\n",
       "      <th>610741</th>\n",
       "      <td>3705</td>\n",
       "      <td>260</td>\n",
       "      <td>5</td>\n",
       "      <td>2000-08-14 19:14:15</td>\n",
       "      <td>3</td>\n",
       "      <td>15879</td>\n",
       "    </tr>\n",
       "    <tr>\n",
       "      <th>610742</th>\n",
       "      <td>3705</td>\n",
       "      <td>125</td>\n",
       "      <td>4</td>\n",
       "      <td>2000-08-14 19:14:15</td>\n",
       "      <td>3</td>\n",
       "      <td>15879</td>\n",
       "    </tr>\n",
       "    <tr>\n",
       "      <th>610743</th>\n",
       "      <td>3705</td>\n",
       "      <td>1617</td>\n",
       "      <td>4</td>\n",
       "      <td>2000-08-14 19:14:38</td>\n",
       "      <td>1</td>\n",
       "      <td>15879</td>\n",
       "    </tr>\n",
       "    <tr>\n",
       "      <th>610745</th>\n",
       "      <td>3705</td>\n",
       "      <td>1193</td>\n",
       "      <td>4</td>\n",
       "      <td>2000-08-14 19:15:04</td>\n",
       "      <td>3</td>\n",
       "      <td>15879</td>\n",
       "    </tr>\n",
       "    <tr>\n",
       "      <th>...</th>\n",
       "      <td>...</td>\n",
       "      <td>...</td>\n",
       "      <td>...</td>\n",
       "      <td>...</td>\n",
       "      <td>...</td>\n",
       "      <td>...</td>\n",
       "    </tr>\n",
       "    <tr>\n",
       "      <th>611522</th>\n",
       "      <td>3705</td>\n",
       "      <td>3067</td>\n",
       "      <td>4</td>\n",
       "      <td>2000-08-14 21:28:02</td>\n",
       "      <td>2</td>\n",
       "      <td>15879</td>\n",
       "    </tr>\n",
       "    <tr>\n",
       "      <th>611523</th>\n",
       "      <td>3705</td>\n",
       "      <td>363</td>\n",
       "      <td>4</td>\n",
       "      <td>2000-08-14 21:28:02</td>\n",
       "      <td>2</td>\n",
       "      <td>15879</td>\n",
       "    </tr>\n",
       "    <tr>\n",
       "      <th>611524</th>\n",
       "      <td>3705</td>\n",
       "      <td>2245</td>\n",
       "      <td>3</td>\n",
       "      <td>2000-08-14 21:28:26</td>\n",
       "      <td>1</td>\n",
       "      <td>15879</td>\n",
       "    </tr>\n",
       "    <tr>\n",
       "      <th>611525</th>\n",
       "      <td>3705</td>\n",
       "      <td>2919</td>\n",
       "      <td>4</td>\n",
       "      <td>2000-08-14 21:28:46</td>\n",
       "      <td>1</td>\n",
       "      <td>15879</td>\n",
       "    </tr>\n",
       "    <tr>\n",
       "      <th>611531</th>\n",
       "      <td>3705</td>\n",
       "      <td>2414</td>\n",
       "      <td>4</td>\n",
       "      <td>2000-08-14 21:29:33</td>\n",
       "      <td>1</td>\n",
       "      <td>15879</td>\n",
       "    </tr>\n",
       "  </tbody>\n",
       "</table>\n",
       "<p>545 rows × 6 columns</p>\n",
       "</div>"
      ],
      "text/plain": [
       "        UserId  ItemId  Rating                Time  ItemId_Count  SessionId\n",
       "610740    3705    3015       3 2000-08-14 19:14:15             3      15879\n",
       "610741    3705     260       5 2000-08-14 19:14:15             3      15879\n",
       "610742    3705     125       4 2000-08-14 19:14:15             3      15879\n",
       "610743    3705    1617       4 2000-08-14 19:14:38             1      15879\n",
       "610745    3705    1193       4 2000-08-14 19:15:04             3      15879\n",
       "...        ...     ...     ...                 ...           ...        ...\n",
       "611522    3705    3067       4 2000-08-14 21:28:02             2      15879\n",
       "611523    3705     363       4 2000-08-14 21:28:02             2      15879\n",
       "611524    3705    2245       3 2000-08-14 21:28:26             1      15879\n",
       "611525    3705    2919       4 2000-08-14 21:28:46             1      15879\n",
       "611531    3705    2414       4 2000-08-14 21:29:33             1      15879\n",
       "\n",
       "[545 rows x 6 columns]"
      ]
     },
     "execution_count": 21,
     "metadata": {},
     "output_type": "execute_result"
    }
   ],
   "source": [
    "long_session = session_length[session_length==545].index[0]\n",
    "data[data['SessionId']==long_session]"
   ]
  },
  {
   "cell_type": "code",
   "execution_count": 22,
   "id": "black-maryland",
   "metadata": {
    "scrolled": true
   },
   "outputs": [
    {
     "data": {
      "text/plain": [
       "1      6781\n",
       "2      2475\n",
       "3      1348\n",
       "4       909\n",
       "5       703\n",
       "       ... \n",
       "424       1\n",
       "432       2\n",
       "495       1\n",
       "521       1\n",
       "545       1\n",
       "Length: 315, dtype: int64"
      ]
     },
     "execution_count": 22,
     "metadata": {},
     "output_type": "execute_result"
    }
   ],
   "source": [
    "length_count = session_length.groupby(session_length).size()\n",
    "length_count"
   ]
  },
  {
   "cell_type": "code",
   "execution_count": 23,
   "id": "skilled-tournament",
   "metadata": {},
   "outputs": [
    {
     "data": {
      "text/plain": [
       "1      0.283439\n",
       "2      0.386892\n",
       "3      0.443237\n",
       "4      0.481232\n",
       "5      0.510617\n",
       "         ...   \n",
       "325    0.998830\n",
       "327    0.998871\n",
       "332    0.998913\n",
       "334    0.998955\n",
       "336    0.998997\n",
       "Length: 294, dtype: float64"
      ]
     },
     "execution_count": 23,
     "metadata": {},
     "output_type": "execute_result"
    }
   ],
   "source": [
    "length_percent_cumsum = length_count.cumsum() / length_count.sum()\n",
    "length_percent_cumsum_999 = length_percent_cumsum[length_percent_cumsum < 0.999]\n",
    "\n",
    "length_percent_cumsum_999"
   ]
  },
  {
   "cell_type": "code",
   "execution_count": 24,
   "id": "chinese-relaxation",
   "metadata": {},
   "outputs": [
    {
     "data": {
      "image/png": "[encoded data removed]",
      "text/plain": [
       "<Figure size 1440x720 with 1 Axes>"
      ]
     },
     "metadata": {
      "needs_background": "light"
     },
     "output_type": "display_data"
    }
   ],
   "source": [
    "import matplotlib.pyplot as plt\n",
    "import matplotlib.ticker as ticker\n",
    "plt.figure(figsize=(20,10))\n",
    "plt.bar(x=length_percent_cumsum_999.index,\n",
    "       height=length_percent_cumsum_999, color='green')\n",
    "plt.xticks(length_percent_cumsum_999.index)\n",
    "plt.yticks(np.arange(0, 1.01, 0.05))\n",
    "plt.title('Cumsum Percentage Until 0.999', size=20)\n",
    "\n",
    "ax = plt.gca()\n",
    "ax.axes.xaxis.set_visible(False)\n",
    "\n",
    "plt.show()"
   ]
  },
  {
   "cell_type": "code",
   "execution_count": 25,
   "id": "through-attraction",
   "metadata": {},
   "outputs": [],
   "source": [
    "session_length = session_length[session_length <= 100]"
   ]
  },
  {
   "cell_type": "code",
   "execution_count": 26,
   "id": "imposed-marine",
   "metadata": {},
   "outputs": [
    {
     "data": {
      "text/plain": [
       "Int64Index([    1,     2,     3,     4,     5,     6,     7,     8,    10,\n",
       "               11,\n",
       "            ...\n",
       "            25018, 25019, 25020, 25021, 25022, 25023, 25024, 25025, 25026,\n",
       "            25027],\n",
       "           dtype='int64', name='SessionId', length=22701)"
      ]
     },
     "execution_count": 26,
     "metadata": {},
     "output_type": "execute_result"
    }
   ],
   "source": [
    "session_length.index"
   ]
  },
  {
   "cell_type": "code",
   "execution_count": 27,
   "id": "expected-lease",
   "metadata": {},
   "outputs": [],
   "source": [
    "data = data[data['SessionId'].isin(session_length.index)]"
   ]
  },
  {
   "cell_type": "code",
   "execution_count": 28,
   "id": "incorrect-wheat",
   "metadata": {
    "scrolled": true
   },
   "outputs": [
    {
     "data": {
      "text/html": [
       "<div>\n",
       "<style scoped>\n",
       "    .dataframe tbody tr th:only-of-type {\n",
       "        vertical-align: middle;\n",
       "    }\n",
       "\n",
       "    .dataframe tbody tr th {\n",
       "        vertical-align: top;\n",
       "    }\n",
       "\n",
       "    .dataframe thead th {\n",
       "        text-align: right;\n",
       "    }\n",
       "</style>\n",
       "<table border=\"1\" class=\"dataframe\">\n",
       "  <thead>\n",
       "    <tr style=\"text-align: right;\">\n",
       "      <th></th>\n",
       "      <th>UserId</th>\n",
       "      <th>ItemId</th>\n",
       "      <th>Rating</th>\n",
       "      <th>Time</th>\n",
       "      <th>ItemId_Count</th>\n",
       "      <th>SessionId</th>\n",
       "    </tr>\n",
       "  </thead>\n",
       "  <tbody>\n",
       "    <tr>\n",
       "      <th>0</th>\n",
       "      <td>1</td>\n",
       "      <td>3186</td>\n",
       "      <td>4</td>\n",
       "      <td>2000-12-31 22:00:19</td>\n",
       "      <td>1</td>\n",
       "      <td>1</td>\n",
       "    </tr>\n",
       "    <tr>\n",
       "      <th>1</th>\n",
       "      <td>1</td>\n",
       "      <td>1270</td>\n",
       "      <td>5</td>\n",
       "      <td>2000-12-31 22:00:55</td>\n",
       "      <td>3</td>\n",
       "      <td>1</td>\n",
       "    </tr>\n",
       "    <tr>\n",
       "      <th>2</th>\n",
       "      <td>1</td>\n",
       "      <td>1721</td>\n",
       "      <td>4</td>\n",
       "      <td>2000-12-31 22:00:55</td>\n",
       "      <td>3</td>\n",
       "      <td>1</td>\n",
       "    </tr>\n",
       "    <tr>\n",
       "      <th>3</th>\n",
       "      <td>1</td>\n",
       "      <td>1022</td>\n",
       "      <td>5</td>\n",
       "      <td>2000-12-31 22:00:55</td>\n",
       "      <td>3</td>\n",
       "      <td>1</td>\n",
       "    </tr>\n",
       "    <tr>\n",
       "      <th>4</th>\n",
       "      <td>1</td>\n",
       "      <td>2340</td>\n",
       "      <td>3</td>\n",
       "      <td>2000-12-31 22:01:43</td>\n",
       "      <td>1</td>\n",
       "      <td>1</td>\n",
       "    </tr>\n",
       "    <tr>\n",
       "      <th>...</th>\n",
       "      <td>...</td>\n",
       "      <td>...</td>\n",
       "      <td>...</td>\n",
       "      <td>...</td>\n",
       "      <td>...</td>\n",
       "      <td>...</td>\n",
       "    </tr>\n",
       "    <tr>\n",
       "      <th>1000204</th>\n",
       "      <td>6040</td>\n",
       "      <td>2917</td>\n",
       "      <td>4</td>\n",
       "      <td>2001-08-10 14:40:29</td>\n",
       "      <td>1</td>\n",
       "      <td>25026</td>\n",
       "    </tr>\n",
       "    <tr>\n",
       "      <th>1000205</th>\n",
       "      <td>6040</td>\n",
       "      <td>1921</td>\n",
       "      <td>4</td>\n",
       "      <td>2001-08-10 14:41:04</td>\n",
       "      <td>2</td>\n",
       "      <td>25026</td>\n",
       "    </tr>\n",
       "    <tr>\n",
       "      <th>1000206</th>\n",
       "      <td>6040</td>\n",
       "      <td>1784</td>\n",
       "      <td>3</td>\n",
       "      <td>2001-08-10 14:41:04</td>\n",
       "      <td>2</td>\n",
       "      <td>25026</td>\n",
       "    </tr>\n",
       "    <tr>\n",
       "      <th>1000207</th>\n",
       "      <td>6040</td>\n",
       "      <td>161</td>\n",
       "      <td>3</td>\n",
       "      <td>2001-08-10 14:41:26</td>\n",
       "      <td>1</td>\n",
       "      <td>25026</td>\n",
       "    </tr>\n",
       "    <tr>\n",
       "      <th>1000208</th>\n",
       "      <td>6040</td>\n",
       "      <td>1221</td>\n",
       "      <td>4</td>\n",
       "      <td>2001-08-20 13:44:15</td>\n",
       "      <td>1</td>\n",
       "      <td>25027</td>\n",
       "    </tr>\n",
       "  </tbody>\n",
       "</table>\n",
       "<p>338664 rows × 6 columns</p>\n",
       "</div>"
      ],
      "text/plain": [
       "         UserId  ItemId  Rating                Time  ItemId_Count  SessionId\n",
       "0             1    3186       4 2000-12-31 22:00:19             1          1\n",
       "1             1    1270       5 2000-12-31 22:00:55             3          1\n",
       "2             1    1721       4 2000-12-31 22:00:55             3          1\n",
       "3             1    1022       5 2000-12-31 22:00:55             3          1\n",
       "4             1    2340       3 2000-12-31 22:01:43             1          1\n",
       "...         ...     ...     ...                 ...           ...        ...\n",
       "1000204    6040    2917       4 2001-08-10 14:40:29             1      25026\n",
       "1000205    6040    1921       4 2001-08-10 14:41:04             2      25026\n",
       "1000206    6040    1784       3 2001-08-10 14:41:04             2      25026\n",
       "1000207    6040     161       3 2001-08-10 14:41:26             1      25026\n",
       "1000208    6040    1221       4 2001-08-20 13:44:15             1      25027\n",
       "\n",
       "[338664 rows x 6 columns]"
      ]
     },
     "execution_count": 28,
     "metadata": {},
     "output_type": "execute_result"
    }
   ],
   "source": [
    "data"
   ]
  },
  {
   "cell_type": "markdown",
   "id": "proprietary-shape",
   "metadata": {},
   "source": [
    "### Session Time\n",
    "* 유저들의 취향과 선호도는 변화하기 마련이다. 때문에 추천시스템 구축 시 최근 트렌드를 학습하는 것이 중요하다. "
   ]
  },
  {
   "cell_type": "code",
   "execution_count": 29,
   "id": "underlying-vulnerability",
   "metadata": {
    "scrolled": true
   },
   "outputs": [
    {
     "name": "stdout",
     "output_type": "stream",
     "text": [
      "2000-04-25 23:05:32\n",
      "2003-02-28 17:49:50\n"
     ]
    }
   ],
   "source": [
    "oldest, latest = data['Time'].min(), data['Time'].max()\n",
    "print(oldest)\n",
    "print(latest)"
   ]
  },
  {
   "cell_type": "markdown",
   "id": "smooth-slovenia",
   "metadata": {},
   "source": [
    "3년치 데이터가 있습니다. 이 중 2년치의 데이터를 사용해보겠습니다!"
   ]
  },
  {
   "cell_type": "code",
   "execution_count": 30,
   "id": "dressed-entry",
   "metadata": {
    "scrolled": true
   },
   "outputs": [
    {
     "data": {
      "text/plain": [
       "pandas._libs.tslibs.timestamps.Timestamp"
      ]
     },
     "execution_count": 30,
     "metadata": {},
     "output_type": "execute_result"
    }
   ],
   "source": [
    "type(latest)"
   ]
  },
  {
   "cell_type": "code",
   "execution_count": 31,
   "id": "ordinary-intensity",
   "metadata": {},
   "outputs": [
    {
     "data": {
      "text/html": [
       "<div>\n",
       "<style scoped>\n",
       "    .dataframe tbody tr th:only-of-type {\n",
       "        vertical-align: middle;\n",
       "    }\n",
       "\n",
       "    .dataframe tbody tr th {\n",
       "        vertical-align: top;\n",
       "    }\n",
       "\n",
       "    .dataframe thead th {\n",
       "        text-align: right;\n",
       "    }\n",
       "</style>\n",
       "<table border=\"1\" class=\"dataframe\">\n",
       "  <thead>\n",
       "    <tr style=\"text-align: right;\">\n",
       "      <th></th>\n",
       "      <th>UserId</th>\n",
       "      <th>ItemId</th>\n",
       "      <th>Rating</th>\n",
       "      <th>Time</th>\n",
       "      <th>ItemId_Count</th>\n",
       "      <th>SessionId</th>\n",
       "    </tr>\n",
       "  </thead>\n",
       "  <tbody>\n",
       "    <tr>\n",
       "      <th>0</th>\n",
       "      <td>1</td>\n",
       "      <td>3186</td>\n",
       "      <td>4</td>\n",
       "      <td>2000-12-31 22:00:19</td>\n",
       "      <td>1</td>\n",
       "      <td>1</td>\n",
       "    </tr>\n",
       "    <tr>\n",
       "      <th>1</th>\n",
       "      <td>1</td>\n",
       "      <td>1270</td>\n",
       "      <td>5</td>\n",
       "      <td>2000-12-31 22:00:55</td>\n",
       "      <td>3</td>\n",
       "      <td>1</td>\n",
       "    </tr>\n",
       "    <tr>\n",
       "      <th>2</th>\n",
       "      <td>1</td>\n",
       "      <td>1721</td>\n",
       "      <td>4</td>\n",
       "      <td>2000-12-31 22:00:55</td>\n",
       "      <td>3</td>\n",
       "      <td>1</td>\n",
       "    </tr>\n",
       "    <tr>\n",
       "      <th>3</th>\n",
       "      <td>1</td>\n",
       "      <td>1022</td>\n",
       "      <td>5</td>\n",
       "      <td>2000-12-31 22:00:55</td>\n",
       "      <td>3</td>\n",
       "      <td>1</td>\n",
       "    </tr>\n",
       "    <tr>\n",
       "      <th>4</th>\n",
       "      <td>1</td>\n",
       "      <td>2340</td>\n",
       "      <td>3</td>\n",
       "      <td>2000-12-31 22:01:43</td>\n",
       "      <td>1</td>\n",
       "      <td>1</td>\n",
       "    </tr>\n",
       "    <tr>\n",
       "      <th>...</th>\n",
       "      <td>...</td>\n",
       "      <td>...</td>\n",
       "      <td>...</td>\n",
       "      <td>...</td>\n",
       "      <td>...</td>\n",
       "      <td>...</td>\n",
       "    </tr>\n",
       "    <tr>\n",
       "      <th>1000204</th>\n",
       "      <td>6040</td>\n",
       "      <td>2917</td>\n",
       "      <td>4</td>\n",
       "      <td>2001-08-10 14:40:29</td>\n",
       "      <td>1</td>\n",
       "      <td>25026</td>\n",
       "    </tr>\n",
       "    <tr>\n",
       "      <th>1000205</th>\n",
       "      <td>6040</td>\n",
       "      <td>1921</td>\n",
       "      <td>4</td>\n",
       "      <td>2001-08-10 14:41:04</td>\n",
       "      <td>2</td>\n",
       "      <td>25026</td>\n",
       "    </tr>\n",
       "    <tr>\n",
       "      <th>1000206</th>\n",
       "      <td>6040</td>\n",
       "      <td>1784</td>\n",
       "      <td>3</td>\n",
       "      <td>2001-08-10 14:41:04</td>\n",
       "      <td>2</td>\n",
       "      <td>25026</td>\n",
       "    </tr>\n",
       "    <tr>\n",
       "      <th>1000207</th>\n",
       "      <td>6040</td>\n",
       "      <td>161</td>\n",
       "      <td>3</td>\n",
       "      <td>2001-08-10 14:41:26</td>\n",
       "      <td>1</td>\n",
       "      <td>25026</td>\n",
       "    </tr>\n",
       "    <tr>\n",
       "      <th>1000208</th>\n",
       "      <td>6040</td>\n",
       "      <td>1221</td>\n",
       "      <td>4</td>\n",
       "      <td>2001-08-20 13:44:15</td>\n",
       "      <td>1</td>\n",
       "      <td>25027</td>\n",
       "    </tr>\n",
       "  </tbody>\n",
       "</table>\n",
       "<p>326683 rows × 6 columns</p>\n",
       "</div>"
      ],
      "text/plain": [
       "         UserId  ItemId  Rating                Time  ItemId_Count  SessionId\n",
       "0             1    3186       4 2000-12-31 22:00:19             1          1\n",
       "1             1    1270       5 2000-12-31 22:00:55             3          1\n",
       "2             1    1721       4 2000-12-31 22:00:55             3          1\n",
       "3             1    1022       5 2000-12-31 22:00:55             3          1\n",
       "4             1    2340       3 2000-12-31 22:01:43             1          1\n",
       "...         ...     ...     ...                 ...           ...        ...\n",
       "1000204    6040    2917       4 2001-08-10 14:40:29             1      25026\n",
       "1000205    6040    1921       4 2001-08-10 14:41:04             2      25026\n",
       "1000206    6040    1784       3 2001-08-10 14:41:04             2      25026\n",
       "1000207    6040     161       3 2001-08-10 14:41:26             1      25026\n",
       "1000208    6040    1221       4 2001-08-20 13:44:15             1      25027\n",
       "\n",
       "[326683 rows x 6 columns]"
      ]
     },
     "execution_count": 31,
     "metadata": {},
     "output_type": "execute_result"
    }
   ],
   "source": [
    "month_ago = latest - dt.timedelta(1020)\n",
    "data[data['Time'] > month_ago]"
   ]
  },
  {
   "cell_type": "markdown",
   "id": "crude-independence",
   "metadata": {},
   "source": [
    "### Data Cleansing\n",
    "* 우리의 목적은 유저가 최소 1개 이상 클릭했을 때 다음 클릭을 예측하는 것이므로, 길이가 1인 세션은 제거해주겠습니다. \n",
    "\n",
    "* 너무 적게 클릭된 아이템은 제거해주겠습니다. "
   ]
  },
  {
   "cell_type": "code",
   "execution_count": 32,
   "id": "wrapped-homeless",
   "metadata": {},
   "outputs": [],
   "source": [
    "#- short_session을 제거한 다음 unpopular item을 제거하면 다시 길이가 1인 session이 생길 수 있음 \n",
    "#- 이를 위해 반복문을 통해 지속적으로 제거함 \n",
    "\n",
    "def cleanse_recursive(data: pd.DataFrame, shortest, least_click) -> pd.DataFrame :\n",
    "    while True:\n",
    "        before_len = len(data)\n",
    "        data = cleanse_short_session(data, shortest)\n",
    "        data = cleanse_unpopular_item(data, least_click)\n",
    "        after_len = len(data)\n",
    "        if before_len == after_len:\n",
    "            break\n",
    "            \n",
    "    return data\n",
    "\n",
    "def cleanse_short_session(data: pd.DataFrame, shortest):\n",
    "    session_len = data.groupby('SessionId').size()\n",
    "    session_use = session_len[session_len >= shortest].index #- shortest 보다 빈도수가 큰 sessionId의 rows 불러오기\n",
    "    data = data[data['SessionId'].isin(session_use)] #- session use 에 해당되는 row만 data 데이터프레임에 저장\n",
    "    return data\n",
    "\n",
    "def cleanse_unpopular_item(data: pd.DataFrame, least_click):\n",
    "    item_popular = data.groupby('ItemId').size()\n",
    "    item_use = item_popular[item_popular >= least_click].index\n",
    "    data = data[data['ItemId'].isin(item_use)]\n",
    "    return data"
   ]
  },
  {
   "cell_type": "code",
   "execution_count": 33,
   "id": "british-andrews",
   "metadata": {
    "scrolled": true
   },
   "outputs": [
    {
     "data": {
      "text/html": [
       "<div>\n",
       "<style scoped>\n",
       "    .dataframe tbody tr th:only-of-type {\n",
       "        vertical-align: middle;\n",
       "    }\n",
       "\n",
       "    .dataframe tbody tr th {\n",
       "        vertical-align: top;\n",
       "    }\n",
       "\n",
       "    .dataframe thead th {\n",
       "        text-align: right;\n",
       "    }\n",
       "</style>\n",
       "<table border=\"1\" class=\"dataframe\">\n",
       "  <thead>\n",
       "    <tr style=\"text-align: right;\">\n",
       "      <th></th>\n",
       "      <th>UserId</th>\n",
       "      <th>ItemId</th>\n",
       "      <th>Rating</th>\n",
       "      <th>Time</th>\n",
       "      <th>ItemId_Count</th>\n",
       "      <th>SessionId</th>\n",
       "    </tr>\n",
       "  </thead>\n",
       "  <tbody>\n",
       "    <tr>\n",
       "      <th>0</th>\n",
       "      <td>1</td>\n",
       "      <td>3186</td>\n",
       "      <td>4</td>\n",
       "      <td>2000-12-31 22:00:19</td>\n",
       "      <td>1</td>\n",
       "      <td>1</td>\n",
       "    </tr>\n",
       "    <tr>\n",
       "      <th>1</th>\n",
       "      <td>1</td>\n",
       "      <td>1270</td>\n",
       "      <td>5</td>\n",
       "      <td>2000-12-31 22:00:55</td>\n",
       "      <td>3</td>\n",
       "      <td>1</td>\n",
       "    </tr>\n",
       "    <tr>\n",
       "      <th>2</th>\n",
       "      <td>1</td>\n",
       "      <td>1721</td>\n",
       "      <td>4</td>\n",
       "      <td>2000-12-31 22:00:55</td>\n",
       "      <td>3</td>\n",
       "      <td>1</td>\n",
       "    </tr>\n",
       "    <tr>\n",
       "      <th>3</th>\n",
       "      <td>1</td>\n",
       "      <td>1022</td>\n",
       "      <td>5</td>\n",
       "      <td>2000-12-31 22:00:55</td>\n",
       "      <td>3</td>\n",
       "      <td>1</td>\n",
       "    </tr>\n",
       "    <tr>\n",
       "      <th>4</th>\n",
       "      <td>1</td>\n",
       "      <td>2340</td>\n",
       "      <td>3</td>\n",
       "      <td>2000-12-31 22:01:43</td>\n",
       "      <td>1</td>\n",
       "      <td>1</td>\n",
       "    </tr>\n",
       "    <tr>\n",
       "      <th>...</th>\n",
       "      <td>...</td>\n",
       "      <td>...</td>\n",
       "      <td>...</td>\n",
       "      <td>...</td>\n",
       "      <td>...</td>\n",
       "      <td>...</td>\n",
       "    </tr>\n",
       "    <tr>\n",
       "      <th>1000203</th>\n",
       "      <td>6040</td>\n",
       "      <td>232</td>\n",
       "      <td>5</td>\n",
       "      <td>2001-08-10 14:39:58</td>\n",
       "      <td>1</td>\n",
       "      <td>25026</td>\n",
       "    </tr>\n",
       "    <tr>\n",
       "      <th>1000204</th>\n",
       "      <td>6040</td>\n",
       "      <td>2917</td>\n",
       "      <td>4</td>\n",
       "      <td>2001-08-10 14:40:29</td>\n",
       "      <td>1</td>\n",
       "      <td>25026</td>\n",
       "    </tr>\n",
       "    <tr>\n",
       "      <th>1000205</th>\n",
       "      <td>6040</td>\n",
       "      <td>1921</td>\n",
       "      <td>4</td>\n",
       "      <td>2001-08-10 14:41:04</td>\n",
       "      <td>2</td>\n",
       "      <td>25026</td>\n",
       "    </tr>\n",
       "    <tr>\n",
       "      <th>1000206</th>\n",
       "      <td>6040</td>\n",
       "      <td>1784</td>\n",
       "      <td>3</td>\n",
       "      <td>2001-08-10 14:41:04</td>\n",
       "      <td>2</td>\n",
       "      <td>25026</td>\n",
       "    </tr>\n",
       "    <tr>\n",
       "      <th>1000207</th>\n",
       "      <td>6040</td>\n",
       "      <td>161</td>\n",
       "      <td>3</td>\n",
       "      <td>2001-08-10 14:41:26</td>\n",
       "      <td>1</td>\n",
       "      <td>25026</td>\n",
       "    </tr>\n",
       "  </tbody>\n",
       "</table>\n",
       "<p>330778 rows × 6 columns</p>\n",
       "</div>"
      ],
      "text/plain": [
       "         UserId  ItemId  Rating                Time  ItemId_Count  SessionId\n",
       "0             1    3186       4 2000-12-31 22:00:19             1          1\n",
       "1             1    1270       5 2000-12-31 22:00:55             3          1\n",
       "2             1    1721       4 2000-12-31 22:00:55             3          1\n",
       "3             1    1022       5 2000-12-31 22:00:55             3          1\n",
       "4             1    2340       3 2000-12-31 22:01:43             1          1\n",
       "...         ...     ...     ...                 ...           ...        ...\n",
       "1000203    6040     232       5 2001-08-10 14:39:58             1      25026\n",
       "1000204    6040    2917       4 2001-08-10 14:40:29             1      25026\n",
       "1000205    6040    1921       4 2001-08-10 14:41:04             2      25026\n",
       "1000206    6040    1784       3 2001-08-10 14:41:04             2      25026\n",
       "1000207    6040     161       3 2001-08-10 14:41:26             1      25026\n",
       "\n",
       "[330778 rows x 6 columns]"
      ]
     },
     "execution_count": 33,
     "metadata": {},
     "output_type": "execute_result"
    }
   ],
   "source": [
    "data = cleanse_recursive(data, shortest=2, least_click=5)\n",
    "data"
   ]
  },
  {
   "cell_type": "code",
   "execution_count": 34,
   "id": "genetic-immunology",
   "metadata": {},
   "outputs": [],
   "source": [
    "data = data[['SessionId','ItemId','Time']]"
   ]
  },
  {
   "cell_type": "markdown",
   "id": "gothic-douglas",
   "metadata": {},
   "source": [
    "### Train/Valid/Test Split"
   ]
  },
  {
   "cell_type": "code",
   "execution_count": 35,
   "id": "polyphonic-accuracy",
   "metadata": {},
   "outputs": [],
   "source": [
    "def split_by_date(data: pd.DataFrame, n_days: int):\n",
    "    final_time = data['Time'].max() #- 마지막날 \n",
    "    \n",
    "    session_last_time = data.groupby('SessionId')['Time'].max() #- 세션 아이디별로 가장 마지막 접속 시간\n",
    "    #- 세션의 마지막 접속시간이 Timestamp('2014-09-29 02:59:59.430000+0000', tz='UTC')보다 이른 sessionId\n",
    "    session_in_train = session_last_time[session_last_time < final_time - dt.timedelta(n_days)].index\n",
    "    session_in_test = session_last_time[session_last_time >= final_time - dt.timedelta(n_days)].index\n",
    "    \n",
    "    before_date = data[data['SessionId'].isin(session_in_train)]\n",
    "    after_date = data[data['SessionId'].isin(session_in_test)]\n",
    "    after_date = after_date[after_date['ItemId'].isin(before_date['ItemId'])]\n",
    "    return before_date, after_date"
   ]
  },
  {
   "cell_type": "code",
   "execution_count": 36,
   "id": "pediatric-product",
   "metadata": {},
   "outputs": [
    {
     "name": "stdout",
     "output_type": "stream",
     "text": [
      "2003-02-28 17:49:50\n"
     ]
    }
   ],
   "source": [
    "final_time = data['Time'].max()\n",
    "print(final_time)"
   ]
  },
  {
   "cell_type": "code",
   "execution_count": 37,
   "id": "hungry-setup",
   "metadata": {},
   "outputs": [],
   "source": [
    "tr, test = split_by_date(data, n_days=60)\n",
    "tr, val = split_by_date(tr, n_days=60)"
   ]
  },
  {
   "cell_type": "code",
   "execution_count": 38,
   "id": "italian-strike",
   "metadata": {},
   "outputs": [
    {
     "name": "stdout",
     "output_type": "stream",
     "text": [
      "         SessionId  ItemId                Time\n",
      "0                1    3186 2000-12-31 22:00:19\n",
      "1                1    1270 2000-12-31 22:00:55\n",
      "2                1    1721 2000-12-31 22:00:55\n",
      "3                1    1022 2000-12-31 22:00:55\n",
      "4                1    2340 2000-12-31 22:01:43\n",
      "...            ...     ...                 ...\n",
      "1000203      25026     232 2001-08-10 14:39:58\n",
      "1000204      25026    2917 2001-08-10 14:40:29\n",
      "1000205      25026    1921 2001-08-10 14:41:04\n",
      "1000206      25026    1784 2001-08-10 14:41:04\n",
      "1000207      25026     161 2001-08-10 14:41:26\n",
      "\n",
      "[327376 rows x 3 columns]\n",
      "        SessionId  ItemId                Time\n",
      "8789          129    2997 2003-01-07 18:02:48\n",
      "8791          129    2369 2003-01-07 18:04:24\n",
      "8792          129    3408 2003-01-07 18:04:52\n",
      "8793          129    2712 2003-01-07 18:04:52\n",
      "8794          129    2716 2003-01-07 18:05:31\n",
      "...           ...     ...                 ...\n",
      "984904      24734    3893 2003-02-27 18:12:49\n",
      "984905      24734    3948 2003-02-27 18:13:57\n",
      "984906      24734    3578 2003-02-27 18:14:30\n",
      "984907      24734    3793 2003-02-27 18:15:10\n",
      "984909      24734    1262 2003-02-27 18:17:38\n",
      "\n",
      "[1728 rows x 3 columns]\n",
      "        SessionId  ItemId                Time\n",
      "5354           89    2269 2002-12-22 08:05:50\n",
      "5355           89    1701 2002-12-22 08:05:50\n",
      "5356           89    2694 2002-12-22 08:08:14\n",
      "5357           89    3786 2002-12-22 08:08:41\n",
      "5358           89    2369 2002-12-22 08:09:24\n",
      "...           ...     ...                 ...\n",
      "934078      23493    2390 2002-12-03 18:20:29\n",
      "934079      23493    1302 2002-12-03 18:21:00\n",
      "934081      23493    3704 2002-12-03 18:22:23\n",
      "964669      24237     543 2002-12-28 00:08:35\n",
      "964670      24237    1722 2002-12-28 00:11:11\n",
      "\n",
      "[1674 rows x 3 columns]\n"
     ]
    }
   ],
   "source": [
    "print(tr)\n",
    "print(test)\n",
    "print(val)"
   ]
  },
  {
   "cell_type": "code",
   "execution_count": 39,
   "id": "numeric-program",
   "metadata": {},
   "outputs": [],
   "source": [
    "def stats_info(data: pd.DataFrame, status: str):\n",
    "    print(f'* {status} Set Stats Info\\n'\n",
    "          f'\\t Events: {len(data)}\\n'\n",
    "          f'\\t Sessions: {data[\"SessionId\"].nunique()}\\n'\n",
    "          f'\\t Items: {data[\"ItemId\"].nunique()}\\n'\n",
    "          f'\\t First Time : {data[\"Time\"].min()}\\n'\n",
    "          f'\\t Last Time : {data[\"Time\"].max()}\\n')"
   ]
  },
  {
   "cell_type": "code",
   "execution_count": 40,
   "id": "engaging-alpha",
   "metadata": {},
   "outputs": [
    {
     "name": "stdout",
     "output_type": "stream",
     "text": [
      "* train Set Stats Info\n",
      "\t Events: 327376\n",
      "\t Sessions: 15493\n",
      "\t Items: 3040\n",
      "\t First Time : 2000-04-25 23:05:32\n",
      "\t Last Time : 2002-10-31 16:33:08\n",
      "\n",
      "* valid Set Stats Info\n",
      "\t Events: 1674\n",
      "\t Sessions: 182\n",
      "\t Items: 1001\n",
      "\t First Time : 2002-11-01 02:56:19\n",
      "\t Last Time : 2002-12-30 16:54:04\n",
      "\n",
      "* test Set Stats Info\n",
      "\t Events: 1728\n",
      "\t Sessions: 196\n",
      "\t Items: 1006\n",
      "\t First Time : 2002-12-30 19:06:03\n",
      "\t Last Time : 2003-02-28 17:49:50\n",
      "\n"
     ]
    }
   ],
   "source": [
    "stats_info(tr, 'train')\n",
    "stats_info(val, 'valid')\n",
    "stats_info(test, 'test')"
   ]
  },
  {
   "cell_type": "code",
   "execution_count": 41,
   "id": "broad-working",
   "metadata": {},
   "outputs": [],
   "source": [
    "#- train set 에 없는 아이템이 val, test기간에 생길 수 있으므로 train data를 기준으로 인덱싱함\n",
    "\n",
    "id2idx = {item_id : index for index, item_id in enumerate(tr['ItemId'].unique())}\n",
    "\n",
    "def indexing(df, id2idx):\n",
    "    df['item_idx'] = df['ItemId'].map(lambda x: id2idx.get(x,-1)) #- id2idx에 없는 아이템은 모르는 값(-1) 처리\n",
    "    return df\n",
    "\n",
    "tr = indexing(tr, id2idx)\n",
    "val = indexing(val, id2idx)\n",
    "test = indexing(test, id2idx)\n",
    "\n",
    "    \n"
   ]
  },
  {
   "cell_type": "markdown",
   "id": "insured-saying",
   "metadata": {},
   "source": [
    "### data pipeline 구축"
   ]
  },
  {
   "cell_type": "code",
   "execution_count": 42,
   "id": "minimal-twenty",
   "metadata": {},
   "outputs": [],
   "source": [
    "#- data pipeline 구축 \n",
    "\n",
    "save_path = data_path / 'processed_node'\n",
    "save_path.mkdir(parents=True, exist_ok=True)\n",
    "\n",
    "tr.to_pickle(save_path / 'train.pkl')\n",
    "val.to_pickle(save_path / 'valid.pkl')\n",
    "test.to_pickle(save_path / 'test.pkl')"
   ]
  },
  {
   "cell_type": "markdown",
   "id": "recreational-shakespeare",
   "metadata": {},
   "source": [
    "# 2. Modeling"
   ]
  },
  {
   "cell_type": "markdown",
   "id": "verbal-texture",
   "metadata": {},
   "source": [
    "### Session-Parallel Mini-Batch \n",
    "* Session-Parallel Mini-Batch의 개념에 따라, 학습 속도의 저하가 최소화될 수 있도록 구성합니다."
   ]
  },
  {
   "cell_type": "code",
   "execution_count": 43,
   "id": "spoken-sessions",
   "metadata": {},
   "outputs": [],
   "source": [
    "class SessionDataset:\n",
    "    \"\"\"Credit to yhs-968/pyGRU4REC.\"\"\"\n",
    "    \n",
    "    def __init__(self, data):\n",
    "        self.df = data\n",
    "        self.click_offsets = self.get_click_offsets()\n",
    "        self.session_idx = np.arange(self.df['SessionId'].nunique())\n",
    "    \n",
    "    def get_click_offsets(self):\n",
    "        \"\"\"\n",
    "        Return the indexes of the first click of each session IDs,\n",
    "        \"\"\"\n",
    "        offsets = np.zeros(self.df['SessionId'].nunique() + 1, dtype=np.int32)\n",
    "        offsets[1:] = self.df.groupby('SessionId').size().cumsum()\n",
    "        return offsets"
   ]
  },
  {
   "cell_type": "code",
   "execution_count": 44,
   "id": "fitted-motivation",
   "metadata": {},
   "outputs": [
    {
     "data": {
      "text/html": [
       "<div>\n",
       "<style scoped>\n",
       "    .dataframe tbody tr th:only-of-type {\n",
       "        vertical-align: middle;\n",
       "    }\n",
       "\n",
       "    .dataframe tbody tr th {\n",
       "        vertical-align: top;\n",
       "    }\n",
       "\n",
       "    .dataframe thead th {\n",
       "        text-align: right;\n",
       "    }\n",
       "</style>\n",
       "<table border=\"1\" class=\"dataframe\">\n",
       "  <thead>\n",
       "    <tr style=\"text-align: right;\">\n",
       "      <th></th>\n",
       "      <th>SessionId</th>\n",
       "      <th>ItemId</th>\n",
       "      <th>Time</th>\n",
       "      <th>item_idx</th>\n",
       "    </tr>\n",
       "  </thead>\n",
       "  <tbody>\n",
       "    <tr>\n",
       "      <th>0</th>\n",
       "      <td>1</td>\n",
       "      <td>3186</td>\n",
       "      <td>2000-12-31 22:00:19</td>\n",
       "      <td>0</td>\n",
       "    </tr>\n",
       "    <tr>\n",
       "      <th>1</th>\n",
       "      <td>1</td>\n",
       "      <td>1270</td>\n",
       "      <td>2000-12-31 22:00:55</td>\n",
       "      <td>1</td>\n",
       "    </tr>\n",
       "    <tr>\n",
       "      <th>2</th>\n",
       "      <td>1</td>\n",
       "      <td>1721</td>\n",
       "      <td>2000-12-31 22:00:55</td>\n",
       "      <td>2</td>\n",
       "    </tr>\n",
       "    <tr>\n",
       "      <th>3</th>\n",
       "      <td>1</td>\n",
       "      <td>1022</td>\n",
       "      <td>2000-12-31 22:00:55</td>\n",
       "      <td>3</td>\n",
       "    </tr>\n",
       "    <tr>\n",
       "      <th>4</th>\n",
       "      <td>1</td>\n",
       "      <td>2340</td>\n",
       "      <td>2000-12-31 22:01:43</td>\n",
       "      <td>4</td>\n",
       "    </tr>\n",
       "    <tr>\n",
       "      <th>5</th>\n",
       "      <td>1</td>\n",
       "      <td>1836</td>\n",
       "      <td>2000-12-31 22:02:52</td>\n",
       "      <td>5</td>\n",
       "    </tr>\n",
       "    <tr>\n",
       "      <th>6</th>\n",
       "      <td>1</td>\n",
       "      <td>3408</td>\n",
       "      <td>2000-12-31 22:04:35</td>\n",
       "      <td>6</td>\n",
       "    </tr>\n",
       "    <tr>\n",
       "      <th>7</th>\n",
       "      <td>1</td>\n",
       "      <td>2804</td>\n",
       "      <td>2000-12-31 22:11:59</td>\n",
       "      <td>7</td>\n",
       "    </tr>\n",
       "    <tr>\n",
       "      <th>8</th>\n",
       "      <td>1</td>\n",
       "      <td>1207</td>\n",
       "      <td>2000-12-31 22:11:59</td>\n",
       "      <td>8</td>\n",
       "    </tr>\n",
       "    <tr>\n",
       "      <th>9</th>\n",
       "      <td>1</td>\n",
       "      <td>1193</td>\n",
       "      <td>2000-12-31 22:12:40</td>\n",
       "      <td>9</td>\n",
       "    </tr>\n",
       "  </tbody>\n",
       "</table>\n",
       "</div>"
      ],
      "text/plain": [
       "   SessionId  ItemId                Time  item_idx\n",
       "0          1    3186 2000-12-31 22:00:19         0\n",
       "1          1    1270 2000-12-31 22:00:55         1\n",
       "2          1    1721 2000-12-31 22:00:55         2\n",
       "3          1    1022 2000-12-31 22:00:55         3\n",
       "4          1    2340 2000-12-31 22:01:43         4\n",
       "5          1    1836 2000-12-31 22:02:52         5\n",
       "6          1    3408 2000-12-31 22:04:35         6\n",
       "7          1    2804 2000-12-31 22:11:59         7\n",
       "8          1    1207 2000-12-31 22:11:59         8\n",
       "9          1    1193 2000-12-31 22:12:40         9"
      ]
     },
     "execution_count": 44,
     "metadata": {},
     "output_type": "execute_result"
    }
   ],
   "source": [
    "tr_dataset = SessionDataset(tr)\n",
    "tr_dataset.df.head(10)"
   ]
  },
  {
   "cell_type": "code",
   "execution_count": 45,
   "id": "multiple-wildlife",
   "metadata": {},
   "outputs": [
    {
     "data": {
      "text/plain": [
       "array([     0,     40,     48, ..., 327342, 327355, 327376], dtype=int32)"
      ]
     },
     "execution_count": 45,
     "metadata": {},
     "output_type": "execute_result"
    }
   ],
   "source": [
    "#- 각 세션이 시작된 인덱스\n",
    "\n",
    "tr_dataset.click_offsets"
   ]
  },
  {
   "cell_type": "code",
   "execution_count": 46,
   "id": "welcome-stationery",
   "metadata": {},
   "outputs": [
    {
     "data": {
      "text/plain": [
       "array([    0,     1,     2, ..., 15490, 15491, 15492])"
      ]
     },
     "execution_count": 46,
     "metadata": {},
     "output_type": "execute_result"
    }
   ],
   "source": [
    "#- 각 세션 인덱싱 \n",
    "\n",
    "tr_dataset.session_idx"
   ]
  },
  {
   "cell_type": "markdown",
   "id": "canadian-language",
   "metadata": {},
   "source": [
    "### SessionDataLoader"
   ]
  },
  {
   "cell_type": "code",
   "execution_count": 47,
   "id": "better-projector",
   "metadata": {},
   "outputs": [],
   "source": [
    "class SessionDataLoader:\n",
    "    \"\"\"Credit to yhs-968/pyGRU4REC.\"\"\"\n",
    "\n",
    "    def __init__(self, dataset: SessionDataset, batch_size=50):\n",
    "        self.dataset = dataset\n",
    "        self.batch_size = batch_size\n",
    "\n",
    "    def __iter__(self):\n",
    "        \"\"\" Returns the iterator for producing session-parallel training mini-batches.\n",
    "        Yields:\n",
    "            input (B,):  Item indices that will be encoded as one-hot vectors later.\n",
    "            target (B,): a Variable that stores the target item indices\n",
    "            masks: Numpy array indicating the positions of the sessions to be terminated\n",
    "        \"\"\"\n",
    "\n",
    "        start, end, mask, last_session, finished = self.initialize()  # initialize 메소드에서 확인해주세요.\n",
    "        \"\"\"\n",
    "        start : Index Where Session Start\n",
    "        end : Index Where Session End\n",
    "        mask : indicator for the sessions to be terminated\n",
    "        \"\"\"\n",
    "\n",
    "        while not finished:\n",
    "            min_len = (end - start).min() - 1  # Shortest Length Among Sessions\n",
    "            for i in range(min_len):\n",
    "                # Build inputs & targets\n",
    "                inp = self.dataset.df['item_idx'].values[start + i]\n",
    "                target = self.dataset.df['item_idx'].values[start + i + 1]\n",
    "                yield inp, target, mask\n",
    "\n",
    "            start, end, mask, last_session, finished = self.update_status(start, end, min_len, last_session, finished)\n",
    "\n",
    "    def initialize(self):\n",
    "        first_iters = np.arange(self.batch_size)    # 첫 배치에 사용할 세션 Index를 가져옵니다.\n",
    "        last_session = self.batch_size - 1    # 마지막으로 다루고 있는 세션 Index를 저장해둡니다.\n",
    "        start = self.dataset.click_offsets[self.dataset.session_idx[first_iters]]       # data 상에서 session이 시작된 위치를 가져옵니다.\n",
    "        end = self.dataset.click_offsets[self.dataset.session_idx[first_iters] + 1]  # session이 끝난 위치 바로 다음 위치를 가져옵니다.\n",
    "        mask = np.array([])   # session의 모든 아이템을 다 돌은 경우 mask에 추가해줄 것입니다.\n",
    "        finished = False         # data를 전부 돌았는지 기록하기 위한 변수입니다.\n",
    "        return start, end, mask, last_session, finished\n",
    "\n",
    "    def update_status(self, start: np.ndarray, end: np.ndarray, min_len: int, last_session: int, finished: bool):  \n",
    "        # 다음 배치 데이터를 생성하기 위해 상태를 update합니다.\n",
    "        \n",
    "        start += min_len   # __iter__에서 min_len 만큼 for문을 돌았으므로 start를 min_len 만큼 더해줍니다.\n",
    "        mask = np.arange(self.batch_size)[(end - start) == 1]  \n",
    "        # end는 다음 세션이 시작되는 위치인데 start와 한 칸 차이난다는 것은 session이 끝났다는 뜻입니다. mask에 기록해줍니다.\n",
    "\n",
    "        for i, idx in enumerate(mask, start=1):  # mask에 추가된 세션 개수만큼 새로운 세션을 돌것입니다.\n",
    "            new_session = last_session + i  \n",
    "            if new_session > self.dataset.session_idx[-1]:  # 만약 새로운 세션이 마지막 세션 index보다 크다면 모든 학습데이터를 돈 것입니다.\n",
    "                finished = True\n",
    "                break\n",
    "            # update the next starting/ending point\n",
    "            start[idx] = self.dataset.click_offsets[self.dataset.session_idx[new_session]]     # 종료된 세션 대신 새로운 세션의 시작점을 기록합니다.\n",
    "            end[idx] = self.dataset.click_offsets[self.dataset.session_idx[new_session] + 1]\n",
    "\n",
    "        last_session += len(mask)  # 마지막 세션의 위치를 기록해둡니다.\n",
    "        return start, end, mask, last_session, finished"
   ]
  },
  {
   "cell_type": "code",
   "execution_count": 48,
   "id": "measured-chemical",
   "metadata": {},
   "outputs": [
    {
     "data": {
      "text/html": [
       "<div>\n",
       "<style scoped>\n",
       "    .dataframe tbody tr th:only-of-type {\n",
       "        vertical-align: middle;\n",
       "    }\n",
       "\n",
       "    .dataframe tbody tr th {\n",
       "        vertical-align: top;\n",
       "    }\n",
       "\n",
       "    .dataframe thead th {\n",
       "        text-align: right;\n",
       "    }\n",
       "</style>\n",
       "<table border=\"1\" class=\"dataframe\">\n",
       "  <thead>\n",
       "    <tr style=\"text-align: right;\">\n",
       "      <th></th>\n",
       "      <th>SessionId</th>\n",
       "      <th>ItemId</th>\n",
       "      <th>Time</th>\n",
       "      <th>item_idx</th>\n",
       "    </tr>\n",
       "  </thead>\n",
       "  <tbody>\n",
       "    <tr>\n",
       "      <th>0</th>\n",
       "      <td>1</td>\n",
       "      <td>3186</td>\n",
       "      <td>2000-12-31 22:00:19</td>\n",
       "      <td>0</td>\n",
       "    </tr>\n",
       "    <tr>\n",
       "      <th>1</th>\n",
       "      <td>1</td>\n",
       "      <td>1270</td>\n",
       "      <td>2000-12-31 22:00:55</td>\n",
       "      <td>1</td>\n",
       "    </tr>\n",
       "    <tr>\n",
       "      <th>2</th>\n",
       "      <td>1</td>\n",
       "      <td>1721</td>\n",
       "      <td>2000-12-31 22:00:55</td>\n",
       "      <td>2</td>\n",
       "    </tr>\n",
       "    <tr>\n",
       "      <th>3</th>\n",
       "      <td>1</td>\n",
       "      <td>1022</td>\n",
       "      <td>2000-12-31 22:00:55</td>\n",
       "      <td>3</td>\n",
       "    </tr>\n",
       "    <tr>\n",
       "      <th>4</th>\n",
       "      <td>1</td>\n",
       "      <td>2340</td>\n",
       "      <td>2000-12-31 22:01:43</td>\n",
       "      <td>4</td>\n",
       "    </tr>\n",
       "    <tr>\n",
       "      <th>5</th>\n",
       "      <td>1</td>\n",
       "      <td>1836</td>\n",
       "      <td>2000-12-31 22:02:52</td>\n",
       "      <td>5</td>\n",
       "    </tr>\n",
       "    <tr>\n",
       "      <th>6</th>\n",
       "      <td>1</td>\n",
       "      <td>3408</td>\n",
       "      <td>2000-12-31 22:04:35</td>\n",
       "      <td>6</td>\n",
       "    </tr>\n",
       "    <tr>\n",
       "      <th>7</th>\n",
       "      <td>1</td>\n",
       "      <td>2804</td>\n",
       "      <td>2000-12-31 22:11:59</td>\n",
       "      <td>7</td>\n",
       "    </tr>\n",
       "    <tr>\n",
       "      <th>8</th>\n",
       "      <td>1</td>\n",
       "      <td>1207</td>\n",
       "      <td>2000-12-31 22:11:59</td>\n",
       "      <td>8</td>\n",
       "    </tr>\n",
       "    <tr>\n",
       "      <th>9</th>\n",
       "      <td>1</td>\n",
       "      <td>1193</td>\n",
       "      <td>2000-12-31 22:12:40</td>\n",
       "      <td>9</td>\n",
       "    </tr>\n",
       "    <tr>\n",
       "      <th>10</th>\n",
       "      <td>1</td>\n",
       "      <td>720</td>\n",
       "      <td>2000-12-31 22:12:40</td>\n",
       "      <td>10</td>\n",
       "    </tr>\n",
       "    <tr>\n",
       "      <th>11</th>\n",
       "      <td>1</td>\n",
       "      <td>260</td>\n",
       "      <td>2000-12-31 22:12:40</td>\n",
       "      <td>11</td>\n",
       "    </tr>\n",
       "    <tr>\n",
       "      <th>12</th>\n",
       "      <td>1</td>\n",
       "      <td>919</td>\n",
       "      <td>2000-12-31 22:22:48</td>\n",
       "      <td>12</td>\n",
       "    </tr>\n",
       "    <tr>\n",
       "      <th>13</th>\n",
       "      <td>1</td>\n",
       "      <td>608</td>\n",
       "      <td>2000-12-31 22:23:18</td>\n",
       "      <td>13</td>\n",
       "    </tr>\n",
       "    <tr>\n",
       "      <th>14</th>\n",
       "      <td>1</td>\n",
       "      <td>2692</td>\n",
       "      <td>2000-12-31 22:26:10</td>\n",
       "      <td>14</td>\n",
       "    </tr>\n",
       "  </tbody>\n",
       "</table>\n",
       "</div>"
      ],
      "text/plain": [
       "    SessionId  ItemId                Time  item_idx\n",
       "0           1    3186 2000-12-31 22:00:19         0\n",
       "1           1    1270 2000-12-31 22:00:55         1\n",
       "2           1    1721 2000-12-31 22:00:55         2\n",
       "3           1    1022 2000-12-31 22:00:55         3\n",
       "4           1    2340 2000-12-31 22:01:43         4\n",
       "5           1    1836 2000-12-31 22:02:52         5\n",
       "6           1    3408 2000-12-31 22:04:35         6\n",
       "7           1    2804 2000-12-31 22:11:59         7\n",
       "8           1    1207 2000-12-31 22:11:59         8\n",
       "9           1    1193 2000-12-31 22:12:40         9\n",
       "10          1     720 2000-12-31 22:12:40        10\n",
       "11          1     260 2000-12-31 22:12:40        11\n",
       "12          1     919 2000-12-31 22:22:48        12\n",
       "13          1     608 2000-12-31 22:23:18        13\n",
       "14          1    2692 2000-12-31 22:26:10        14"
      ]
     },
     "execution_count": 48,
     "metadata": {},
     "output_type": "execute_result"
    }
   ],
   "source": [
    "tr_data_loader = SessionDataLoader(tr_dataset, batch_size=4)\n",
    "tr_dataset.df.head(15)"
   ]
  },
  {
   "cell_type": "code",
   "execution_count": 49,
   "id": "generous-canadian",
   "metadata": {},
   "outputs": [],
   "source": [
    "iter_ex = iter(tr_data_loader)"
   ]
  },
  {
   "cell_type": "code",
   "execution_count": 50,
   "id": "light-fundamental",
   "metadata": {},
   "outputs": [
    {
     "name": "stdout",
     "output_type": "stream",
     "text": [
      "Model Input Item Idx are : [ 0 40 48 59]\n",
      "Label Item Idx are :       [ 1 41 49 57]\n",
      "Previous Masked Input Idx are []\n"
     ]
    }
   ],
   "source": [
    "inputs, labels, mask =  next(iter_ex)\n",
    "print(f'Model Input Item Idx are : {inputs}')\n",
    "print(f'Label Item Idx are : {\"\":5} {labels}')\n",
    "print(f'Previous Masked Input Idx are {mask}')"
   ]
  },
  {
   "cell_type": "markdown",
   "id": "nasty-filing",
   "metadata": {},
   "source": [
    "### Evaluation Metric\n",
    "* recall@k : recall 개념을 확장한 지표\n",
    "* MRR : 정답 아이템이 나온 순번의 역수 값"
   ]
  },
  {
   "cell_type": "code",
   "execution_count": 51,
   "id": "inside-acoustic",
   "metadata": {},
   "outputs": [],
   "source": [
    "def mrr_k(pred, truth: int, k: int):\n",
    "    indexing = np.where(pred[:k] == truth)[0]\n",
    "    if len(indexing) > 0:\n",
    "        return 1 / (indexing[0] + 1)\n",
    "    else:\n",
    "        return 0\n",
    "\n",
    "\n",
    "def recall_k(pred, truth: int, k: int) -> int:\n",
    "    answer = truth in pred[:k]\n",
    "    return int(answer)"
   ]
  },
  {
   "cell_type": "markdown",
   "id": "constant-precipitation",
   "metadata": {},
   "source": [
    "### Model"
   ]
  },
  {
   "cell_type": "code",
   "execution_count": 52,
   "id": "british-preserve",
   "metadata": {},
   "outputs": [],
   "source": [
    "import numpy as np\n",
    "import tensorflow as tf\n",
    "from tensorflow.keras.layers import Input, Dense, Dropout, GRU\n",
    "from tensorflow.keras.losses import categorical_crossentropy\n",
    "from tensorflow.keras.models import Model\n",
    "from tensorflow.keras.optimizers import Adam\n",
    "from tensorflow.keras.utils import to_categorical\n",
    "from tqdm import tqdm"
   ]
  },
  {
   "cell_type": "code",
   "execution_count": 53,
   "id": "agricultural-michigan",
   "metadata": {},
   "outputs": [],
   "source": [
    "def create_model(args):\n",
    "    inputs = Input(batch_shape=(args.batch_size, 1, args.num_items))\n",
    "    gru, _ = GRU(args.hsz, stateful=True, return_state=True, name='GRU')(inputs)\n",
    "    dropout = Dropout(args.drop_rate)(gru)\n",
    "    predictions = Dense(args.num_items, activation='softmax')(dropout)\n",
    "    model = Model(inputs=inputs, outputs=[predictions])\n",
    "    model.compile(loss=categorical_crossentropy, optimizer=Adam(args.lr), metrics=['accuracy'])\n",
    "    model.summary()\n",
    "    return model"
   ]
  },
  {
   "cell_type": "code",
   "execution_count": 54,
   "id": "finite-astronomy",
   "metadata": {},
   "outputs": [],
   "source": [
    "class Args:\n",
    "    def __init__(self, tr, val, test, batch_size, hsz, drop_rate, lr, epochs, k):\n",
    "        self.tr = tr\n",
    "        self.val = val\n",
    "        self.test = test\n",
    "        self.num_items = tr['ItemId'].nunique()\n",
    "        self.num_sessions = tr['SessionId'].nunique()\n",
    "        self.batch_size = batch_size\n",
    "        self.hsz = hsz\n",
    "        self.drop_rate = drop_rate\n",
    "        self.lr = lr\n",
    "        self.epochs = epochs\n",
    "        self.k = k\n",
    "\n",
    "args = Args(tr, val, test, batch_size=64, hsz=50, drop_rate=0.1, lr=0.001, epochs=7, k=20)"
   ]
  },
  {
   "cell_type": "code",
   "execution_count": 55,
   "id": "cross-brother",
   "metadata": {},
   "outputs": [
    {
     "name": "stdout",
     "output_type": "stream",
     "text": [
      "Model: \"model\"\n",
      "_________________________________________________________________\n",
      "Layer (type)                 Output Shape              Param #   \n",
      "=================================================================\n",
      "input_1 (InputLayer)         [(64, 1, 3040)]           0         \n",
      "_________________________________________________________________\n",
      "GRU (GRU)                    [(64, 50), (64, 50)]      463800    \n",
      "_________________________________________________________________\n",
      "dropout (Dropout)            (64, 50)                  0         \n",
      "_________________________________________________________________\n",
      "dense (Dense)                (64, 3040)                155040    \n",
      "=================================================================\n",
      "Total params: 618,840\n",
      "Trainable params: 618,840\n",
      "Non-trainable params: 0\n",
      "_________________________________________________________________\n"
     ]
    }
   ],
   "source": [
    "model = create_model(args)"
   ]
  },
  {
   "cell_type": "code",
   "execution_count": 56,
   "id": "senior-infrastructure",
   "metadata": {},
   "outputs": [],
   "source": [
    "# train 셋으로 학습하면서 valid 셋으로 검증합니다.\n",
    "def train_model(model, args):\n",
    "    train_dataset = SessionDataset(args.tr)\n",
    "    train_loader = SessionDataLoader(train_dataset, batch_size=args.batch_size)\n",
    "\n",
    "    for epoch in range(1, args.epochs + 1):\n",
    "        total_step = len(args.tr) - args.tr['SessionId'].nunique()\n",
    "        tr_loader = tqdm(train_loader, total=total_step // args.batch_size, desc='Train', mininterval=1)\n",
    "        for feat, target, mask in tr_loader:\n",
    "            reset_hidden_states(model, mask)  # 종료된 session은 hidden_state를 초기화합니다. 아래 메서드에서 확인해주세요.\n",
    "\n",
    "            input_ohe = to_categorical(feat, num_classes=args.num_items)\n",
    "            input_ohe = np.expand_dims(input_ohe, axis=1)\n",
    "            target_ohe = to_categorical(target, num_classes=args.num_items)\n",
    "\n",
    "            result = model.train_on_batch(input_ohe, target_ohe)\n",
    "            tr_loader.set_postfix(train_loss=result[0], accuracy = result[1])\n",
    "\n",
    "        val_recall, val_mrr = get_metrics(args.val, model, args, args.k)  # valid set에 대해 검증합니다.\n",
    "\n",
    "        print(f\"\\t - Recall@{args.k} epoch {epoch}: {val_recall:3f}\")\n",
    "        print(f\"\\t - MRR@{args.k}    epoch {epoch}: {val_mrr:3f}\\n\")\n",
    "\n",
    "\n",
    "def reset_hidden_states(model, mask):\n",
    "    gru_layer = model.get_layer(name='GRU')  # model에서 gru layer를 가져옵니다.\n",
    "    hidden_states = gru_layer.states[0].numpy()  # gru_layer의 parameter를 가져옵니다.\n",
    "    for elt in mask:  # mask된 인덱스 즉, 종료된 세션의 인덱스를 돌면서\n",
    "        hidden_states[elt, :] = 0  # parameter를 초기화 합니다.\n",
    "    gru_layer.reset_states(states=hidden_states)\n",
    "\n",
    "\n",
    "def get_metrics(data, model, args, k: int):  # valid셋과 test셋을 평가하는 코드입니다. \n",
    "                                             # train과 거의 같지만 mrr, recall을 구하는 라인이 있습니다.\n",
    "    dataset = SessionDataset(data)\n",
    "    loader = SessionDataLoader(dataset, batch_size=args.batch_size)\n",
    "    recall_list, mrr_list = [], []\n",
    "\n",
    "    total_step = len(data) - data['SessionId'].nunique()\n",
    "    for inputs, label, mask in tqdm(loader, total=total_step // args.batch_size, desc='Evaluation', mininterval=1):\n",
    "        reset_hidden_states(model, mask)\n",
    "        input_ohe = to_categorical(inputs, num_classes=args.num_items)\n",
    "        input_ohe = np.expand_dims(input_ohe, axis=1)\n",
    "\n",
    "        pred = model.predict(input_ohe, batch_size=args.batch_size)\n",
    "        pred_arg = tf.argsort(pred, direction='DESCENDING')  # softmax 값이 큰 순서대로 sorting 합니다.\n",
    "\n",
    "        length = len(inputs)\n",
    "        recall_list.extend([recall_k(pred_arg[i], label[i], k) for i in range(length)])\n",
    "        mrr_list.extend([mrr_k(pred_arg[i], label[i], k) for i in range(length)])\n",
    "\n",
    "    recall, mrr = np.mean(recall_list), np.mean(mrr_list)\n",
    "    return recall, mrr"
   ]
  },
  {
   "cell_type": "markdown",
   "id": "realistic-miniature",
   "metadata": {},
   "source": [
    "# 3. Train"
   ]
  },
  {
   "cell_type": "code",
   "execution_count": 57,
   "id": "responsible-revolution",
   "metadata": {},
   "outputs": [
    {
     "name": "stderr",
     "output_type": "stream",
     "text": [
      "Train: 100%|█████████▉| 4849/4873 [00:59<00:00, 81.14it/s, accuracy=0, train_loss=6.84]     \n",
      "Evaluation:  43%|████▎     | 10/23 [00:04<00:06,  2.15it/s]\n",
      "Train:   0%|          | 0/4873 [00:00<?, ?it/s, accuracy=0, train_loss=6.73]     "
     ]
    },
    {
     "name": "stdout",
     "output_type": "stream",
     "text": [
      "\t - Recall@20 epoch 1: 0.076563\n",
      "\t - MRR@20    epoch 1: 0.013657\n",
      "\n"
     ]
    },
    {
     "name": "stderr",
     "output_type": "stream",
     "text": [
      "Train: 100%|█████████▉| 4849/4873 [00:59<00:00, 81.62it/s, accuracy=0.0312, train_loss=6.28]\n",
      "Evaluation:  43%|████▎     | 10/23 [00:04<00:05,  2.38it/s]\n",
      "Train:   0%|          | 0/4873 [00:00<?, ?it/s, accuracy=0.0312, train_loss=6.29]"
     ]
    },
    {
     "name": "stdout",
     "output_type": "stream",
     "text": [
      "\t - Recall@20 epoch 2: 0.123438\n",
      "\t - MRR@20    epoch 2: 0.031058\n",
      "\n"
     ]
    },
    {
     "name": "stderr",
     "output_type": "stream",
     "text": [
      "Train: 100%|█████████▉| 4849/4873 [00:59<00:00, 81.69it/s, accuracy=0.0156, train_loss=6.18]\n",
      "Evaluation:  43%|████▎     | 10/23 [00:04<00:05,  2.43it/s]\n",
      "Train:   0%|          | 0/4873 [00:00<?, ?it/s, accuracy=0.0156, train_loss=6.12]"
     ]
    },
    {
     "name": "stdout",
     "output_type": "stream",
     "text": [
      "\t - Recall@20 epoch 3: 0.131250\n",
      "\t - MRR@20    epoch 3: 0.036219\n",
      "\n"
     ]
    },
    {
     "name": "stderr",
     "output_type": "stream",
     "text": [
      "Train: 100%|█████████▉| 4849/4873 [01:00<00:00, 80.68it/s, accuracy=0.0156, train_loss=6.13]\n",
      "Evaluation:  43%|████▎     | 10/23 [00:04<00:05,  2.42it/s]\n",
      "Train:   0%|          | 0/4873 [00:00<?, ?it/s, accuracy=0.0469, train_loss=5.97]"
     ]
    },
    {
     "name": "stdout",
     "output_type": "stream",
     "text": [
      "\t - Recall@20 epoch 4: 0.131250\n",
      "\t - MRR@20    epoch 4: 0.040372\n",
      "\n"
     ]
    },
    {
     "name": "stderr",
     "output_type": "stream",
     "text": [
      "Train: 100%|█████████▉| 4849/4873 [00:59<00:00, 81.24it/s, accuracy=0, train_loss=6.03]     \n",
      "Evaluation:  43%|████▎     | 10/23 [00:04<00:05,  2.44it/s]\n",
      "Train:   0%|          | 0/4873 [00:00<?, ?it/s, accuracy=0.0469, train_loss=5.71]"
     ]
    },
    {
     "name": "stdout",
     "output_type": "stream",
     "text": [
      "\t - Recall@20 epoch 5: 0.139063\n",
      "\t - MRR@20    epoch 5: 0.039843\n",
      "\n"
     ]
    },
    {
     "name": "stderr",
     "output_type": "stream",
     "text": [
      "Train: 100%|█████████▉| 4849/4873 [00:59<00:00, 81.69it/s, accuracy=0, train_loss=5.99]     \n",
      "Evaluation:  43%|████▎     | 10/23 [00:04<00:05,  2.43it/s]\n",
      "Train:   0%|          | 0/4873 [00:00<?, ?it/s, accuracy=0.0625, train_loss=5.66]"
     ]
    },
    {
     "name": "stdout",
     "output_type": "stream",
     "text": [
      "\t - Recall@20 epoch 6: 0.139063\n",
      "\t - MRR@20    epoch 6: 0.040497\n",
      "\n"
     ]
    },
    {
     "name": "stderr",
     "output_type": "stream",
     "text": [
      "Train: 100%|█████████▉| 4849/4873 [00:58<00:00, 82.19it/s, accuracy=0, train_loss=5.98]     \n",
      "Evaluation:  43%|████▎     | 10/23 [00:04<00:05,  2.46it/s]"
     ]
    },
    {
     "name": "stdout",
     "output_type": "stream",
     "text": [
      "\t - Recall@20 epoch 7: 0.140625\n",
      "\t - MRR@20    epoch 7: 0.040708\n",
      "\n"
     ]
    },
    {
     "name": "stderr",
     "output_type": "stream",
     "text": [
      "\n"
     ]
    }
   ],
   "source": [
    "train_model(model, args)"
   ]
  },
  {
   "cell_type": "markdown",
   "id": "cathedral-young",
   "metadata": {},
   "source": [
    "# 4. Test\n",
    "미리 구성한 테스트셋을 바탕으로 Recall, Mrr 확인해봅니다."
   ]
  },
  {
   "cell_type": "markdown",
   "id": "broken-entrance",
   "metadata": {},
   "source": [
    "```pythion\n",
    "\n",
    "<첫번째 시도>\n",
    "\n",
    "tr, test = split_by_date(data, n_days=200)\n",
    "tr, val = split_by_date(tr, n_days=200)\n",
    "\n",
    "args = Args(tr, val, test, batch_size=128, hsz=50, drop_rate=0.1, lr=0.001, epochs=7, k=20)\n",
    "\n",
    "- Recall@20 epoch 7: 0.121299\n",
    "- MRR@20    epoch 7: 0.029934\n",
    "\n",
    "\n",
    "\n",
    "<두번째 시도>\n",
    "\n",
    "tr, test = split_by_date(data, n_days=60)\n",
    "tr, val = split_by_date(tr, n_days=60)\n",
    "\n",
    "args = Args(tr, val, test, batch_size=64, hsz=50, drop_rate=0.1, lr=0.001, epochs=20, k=20)\n",
    "\n",
    "- Recall@20 epoch 20: 0.159091\n",
    "- MRR@20    epoch 20: 0.045211\n",
    "\n",
    "\n",
    "<세번째 시도>\n",
    "\n",
    "    * train Set Stats Info\n",
    "         Events: 327376\n",
    "         Sessions: 15493\n",
    "         Items: 3040\n",
    "         First Time : 2000-04-25 23:05:32\n",
    "         Last Time : 2002-10-31 16:33:08\n",
    "\n",
    "    * valid Set Stats Info\n",
    "         Events: 1674\n",
    "         Sessions: 182\n",
    "         Items: 1001\n",
    "         First Time : 2002-11-01 02:56:19\n",
    "         Last Time : 2002-12-30 16:54:04\n",
    "\n",
    "    * test Set Stats Info\n",
    "         Events: 1728\n",
    "         Sessions: 196\n",
    "         Items: 1006\n",
    "         First Time : 2002-12-30 19:06:03\n",
    "         Last Time : 2003-02-28 17:49:50\n",
    "\n",
    "args = Args(tr, val, test, batch_size=64, hsz=50, drop_rate=0.1, lr=0.001, epochs=7, k=20)\n",
    "\n",
    "- Recall@20 epoch 7: 0.140625\n",
    "- MRR@20    epoch 7: 0.040708\n",
    "\n",
    "```"
   ]
  }
 ],
 "metadata": {
  "kernelspec": {
   "display_name": "Python 3",
   "language": "python",
   "name": "python3"
  },
  "language_info": {
   "codemirror_mode": {
    "name": "ipython",
    "version": 3
   },
   "file_extension": ".py",
   "mimetype": "text/x-python",
   "name": "python",
   "nbconvert_exporter": "python",
   "pygments_lexer": "ipython3",
   "version": "3.7.9"
  }
 },
 "nbformat": 4,
 "nbformat_minor": 5
}
